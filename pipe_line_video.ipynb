{
 "cells": [
  {
   "cell_type": "code",
   "execution_count": null,
   "metadata": {},
   "outputs": [],
   "source": [
    "\n"
   ]
  },
  {
   "cell_type": "code",
   "execution_count": 3,
   "metadata": {},
   "outputs": [],
   "source": [
    "import cv2\n",
    "import os\n",
    "import pickle\n",
    "import numpy as np\n",
    "import matplotlib.image as mpimg\n",
    "import matplotlib.pyplot as plt \n",
    "\n",
    "\n",
    "# Define a class to receive the characteristics of each line detection\n",
    "class Line():\n",
    "    def __init__(self):\n",
    "        # was the line detected in the last iteration?\n",
    "        self.detected = False  \n",
    "        # x values of the last n fits of the line\n",
    "        self.recent_xfitted = [] \n",
    "        #average x values of the fitted line over the last n iterations\n",
    "        self.bestx = None     \n",
    "        #base\n",
    "        self.base = None\n",
    "        # real world parameters\n",
    "        self.rw_xfitted = []\n",
    "        #polynomial coefficients averaged over the last n iterations\n",
    "        self.best_fit = None  \n",
    "        #polynomial coefficients for the most recent fit\n",
    "        self.current_fit = [np.array([False])]  \n",
    "        #radius of curvature of the line in some units\n",
    "        self.radius_of_curvature = None \n",
    "        #distance in pixels of vehicle center from the line\n",
    "        self.line_base_pos = None \n",
    "        #difference in fit coefficients between last and new fits\n",
    "        self.diffs = np.array([0,0,0], dtype='float') \n",
    "        #x values for detected line pixels\n",
    "        self.allx = None  \n",
    "        #y values for detected line pixels\n",
    "        self.ally = None  "
   ]
  },
  {
   "cell_type": "code",
   "execution_count": 33,
   "metadata": {},
   "outputs": [],
   "source": [
    "# Creating objects for left and right lines\n",
    "left_line = Line()\n",
    "right_line = Line()\n",
    "\n",
    "# Reading the saved camera matrix and distortion coefficients\n",
    "cam_pickle = pickle.load( open( \"camera_parameters.pickle\", \"rb\") ) \n",
    "mtx = cam_pickle[0]\n",
    "dist = cam_pickle[1]\n",
    "\n",
    "# Reading perspective transformation\n",
    "M_pickle = pickle.load( open( \"p_transformation.pickle\", \"rb\") ) \n",
    "M = M_pickle[0]\n",
    "Minv = M_pickle[1]\n",
    "\n",
    "def extract_lanes (img, lightness_th = 210, hue_th = (15, 35), sobelx_th=(30, 100)): \n",
    "    \n",
    "    # Convert to HLS color space and separate the S and H channel \n",
    "    hls = cv2.cvtColor(img, cv2.COLOR_RGB2HLS)\n",
    "    l_channel = hls[:,:,1]\n",
    "    h_channel = hls[:,:,0]\n",
    "    s_channel = hls[:,:,2]\n",
    "    \n",
    "    # white color has a very high saturation\n",
    "    binary_l = np.zeros_like(l_channel)\n",
    "    binary_l[(l_channel >= lightness_th)] = 1\n",
    "    \n",
    "    # yellow color has a H between 20 and 30 \n",
    "    binary_h = np.zeros_like(h_channel)\n",
    "    binary_h[(h_channel <= hue_th[1]) & (h_channel >= hue_th[0])] = 1   #30-20\n",
    "           \n",
    "    # checking for gradient in x and y in the saturation channel  \n",
    "    sobel_x = cv2.Sobel(s_channel, cv2.CV_64F, 1, 0, 5) # x direction\n",
    "    sobel_y = cv2.Sobel(s_channel, cv2.CV_64F, 0, 1, 5) # y direction \n",
    "    \n",
    "    # scalating the gradients\n",
    "    abs_sobel_x = np.absolute(sobel_x)\n",
    "    scaled_sobel_x = np.uint8(255*abs_sobel_x/np.max(abs_sobel_x))   \n",
    "    abs_sobel_y = np.absolute(sobel_y)\n",
    "    scaled_sobel_y = np.uint8(255*abs_sobel_y/np.max(abs_sobel_y))\n",
    "    \n",
    "    # applying threshold in x direction \n",
    "    binary_x = np.zeros_like(scaled_sobel_x)\n",
    "    binary_x[(scaled_sobel_x > sobelx_th[0]) & (scaled_sobel_x < sobelx_th[1])] = 1\n",
    "        \n",
    "    # Combine the three binary thresholds\n",
    "    combined_binary = np.zeros_like(binary_l)\n",
    "    combined_binary[(binary_l == 1) | (binary_h == 1) | (binary_x ==1)] = 1\n",
    "       \n",
    "    return combined_binary\n",
    "\n",
    "\n",
    "def find_lane_pixels(binary_warped):\n",
    "    # Create an output image to draw on and visualize the result\n",
    "    out_img = np.dstack((binary_warped, binary_warped, binary_warped))\n",
    "    \n",
    "    #ask if any of the lines hasn't been detected to look for the base points again\n",
    "    if not (left_line.detected and right_line.detected):\n",
    "    # Take a histogram of the bottom half of the image\n",
    "        histogram = np.sum(binary_warped[binary_warped.shape[0]//3:,:], axis=0)        \n",
    "        # Find the peak of the left and right halves of the histogram\n",
    "        # These will be the starting point for the left and right lines\n",
    "        midpoint = np.int(histogram.shape[0]//2)\n",
    "        leftx_base = np.argmax(histogram[:midpoint])\n",
    "        rightx_base = np.argmax(histogram[midpoint:]) + midpoint\n",
    "            \n",
    "    else : \n",
    "        leftx_base = np.int(left_line.base) \n",
    "        rightx_base = np.int(right_line.base) \n",
    "        \n",
    "\n",
    "    if (leftx_base < 200.0 or leftx_base > 400.0 or rightx_base < 800 or rightx_base > 1170 ):\n",
    "            leftx_base = 300 \n",
    "            rightx_base = 1000 \n",
    "    # HYPERPARAMETERS\n",
    "    # Choose the number of sliding windows\n",
    "    nwindows = 9\n",
    "    # Set the width of the windows +/- margin\n",
    "    margin = 100\n",
    "    # Set minimum number of pixels found to recenter window\n",
    "    minpix = 50\n",
    "\n",
    "    # Set height of windows - based on nwindows above and image shape\n",
    "    window_height = np.int(binary_warped.shape[0]//nwindows)\n",
    "    # Identify the x and y positions of all nonzero pixels in the image\n",
    "    nonzero = binary_warped.nonzero()\n",
    "    nonzeroy = np.array(nonzero[0])\n",
    "    nonzerox = np.array(nonzero[1])\n",
    "    # Current positions to be updated later for each window in nwindows\n",
    "    leftx_current = leftx_base\n",
    "    rightx_current = rightx_base\n",
    "\n",
    "    # Create empty lists to receive left and right lane pixel indices\n",
    "    left_lane_inds = []\n",
    "    right_lane_inds = []\n",
    "\n",
    "    # Step through the windows one by one\n",
    "    for window in range(nwindows):\n",
    "        # Identify window boundaries in x and y (and right and left)\n",
    "        win_y_low = binary_warped.shape[0] - (window+1)*window_height\n",
    "        win_y_high = binary_warped.shape[0] - window*window_height\n",
    "        win_xleft_low = leftx_current - margin\n",
    "        win_xleft_high = leftx_current + margin\n",
    "        win_xright_low = rightx_current - margin\n",
    "        win_xright_high = rightx_current + margin\n",
    "        \n",
    "        # Draw the windows on the visualization image\n",
    "        cv2.rectangle(out_img,(win_xleft_low,win_y_low),\n",
    "        (win_xleft_high,win_y_high),(0,255,0), 2) \n",
    "        cv2.rectangle(out_img,(win_xright_low,win_y_low),\n",
    "        (win_xright_high,win_y_high),(0,255,0), 2) \n",
    "        \n",
    "        # Identify the nonzero pixels in x and y within the window #\n",
    "        good_left_inds = ((nonzeroy >= win_y_low) & (nonzeroy < win_y_high) & \n",
    "        (nonzerox >= win_xleft_low) &  (nonzerox < win_xleft_high)).nonzero()[0]\n",
    "        good_right_inds = ((nonzeroy >= win_y_low) & (nonzeroy < win_y_high) & \n",
    "        (nonzerox >= win_xright_low) &  (nonzerox < win_xright_high)).nonzero()[0]\n",
    "        \n",
    "        # Append these indices to the lists\n",
    "        left_lane_inds.append(good_left_inds)\n",
    "        right_lane_inds.append(good_right_inds)\n",
    "        \n",
    "        # If you found > minpix pixels, recenter next window on their mean position\n",
    "        if len(good_left_inds) > minpix:\n",
    "            leftx_current = np.int(np.mean(nonzerox[good_left_inds]))\n",
    "        if len(good_right_inds) > minpix:        \n",
    "            rightx_current = np.int(np.mean(nonzerox[good_right_inds]))\n",
    "\n",
    "    # Concatenate the arrays of indices (previously was a list of lists of pixels)\n",
    "    try:\n",
    "        left_lane_inds = np.concatenate(left_lane_inds)\n",
    "        right_lane_inds = np.concatenate(right_lane_inds)\n",
    "    except ValueError:\n",
    "        # Avoids an error if the above is not implemented fully\n",
    "        pass\n",
    "\n",
    "    # Extract left and right line pixel positions\n",
    "    leftx = nonzerox[left_lane_inds]\n",
    "    lefty = nonzeroy[left_lane_inds] \n",
    "    rightx = nonzerox[right_lane_inds]\n",
    "    righty = nonzeroy[right_lane_inds]\n",
    "    \n",
    "    print()\n",
    "\n",
    "    return leftx, lefty, rightx, righty, out_img\n",
    "\n",
    "\n",
    "def fit_polynomial(binary_warped):\n",
    "    \n",
    "    # Find our lane pixels first\n",
    "    leftx, lefty, rightx, righty, out_img = find_lane_pixels(binary_warped)\n",
    "\n",
    "    ym_per_pix = 35/700 # meters per pixel in y dimension\n",
    "    xm_per_pix = 3.7/660 # meters per pixel in x dimension\n",
    "    \n",
    "   \n",
    "    # Generate x and y values for plotting\n",
    "    ploty = np.linspace(0, binary_warped.shape[0]-1, binary_warped.shape[0] )\n",
    "    try:      \n",
    "        # Fit a second order polynomial to each using `np.polyfit`\n",
    "        left_fit = np.polyfit(lefty, leftx, 2)\n",
    "        right_fit = np.polyfit(righty, rightx, 2)       \n",
    "        left_fit_rw = np.polyfit(lefty*ym_per_pix, leftx*xm_per_pix, 2)\n",
    "        right_fit_rw = np.polyfit(righty*ym_per_pix, rightx*xm_per_pix, 2)   \n",
    "        left_fitx = left_fit[0]*ploty**2 + left_fit[1]*ploty + left_fit[2]\n",
    "        right_fitx = right_fit[0]*ploty**2 + right_fit[1]*ploty + right_fit[2]\n",
    "        left_line.detected = True\n",
    "        right_line.detected = True\n",
    "    except TypeError:\n",
    "        # Avoids an error if `left` and `right_fit` are still none or incorrect\n",
    "        print('The function failed to fit a line!')\n",
    "        # If there's an error, retrieve the information from a previously detected line\n",
    "        left_fitx = left_line.recent_xfitted\n",
    "        right_fitx = right_line.recent_xfitted\n",
    "        left_fit = left_line.fit\n",
    "        right_fit = right_line.fit       \n",
    "        left_fit_rw = left_line.rw_xfitted\n",
    "        right_fit_rw = right_line.rw_xfitted\n",
    "        left_line.detected = False\n",
    "        right_line.detected = False\n",
    "        \n",
    "    #saving x values of the last n fits of the line\n",
    "    left_line.allx =  left_fitx.copy() \n",
    "    right_line.ally = right_fitx.copy()\n",
    "    \n",
    "    # measuring the curvature\n",
    "    y_eval = np.max(ploty)*ym_per_pix\n",
    "    left_curverad = ((1 + (2*left_fit_rw[0]*y_eval+left_fit_rw[1])**2)**(3/2))/(2*left_fit_rw[0])  \n",
    "    right_curverad = ((1 + (2*right_fit_rw[0]*y_eval+right_fit_rw[1])**2)**(3/2))/(2*right_fit_rw[0])    \n",
    "    left_line.radius_of_curvature =  left_curverad \n",
    "    right_line.radius_of_curvature = right_curverad\n",
    "    \n",
    "    # measuring how centered the vehicle is \n",
    "    mploty = np.max(ploty)\n",
    "    left_x = left_fit[0]*mploty**2 + left_fit[1]*mploty + left_fit[2]\n",
    "    right_x = right_fit[0]*mploty**2 + right_fit[1]*mploty + right_fit[2]\n",
    "    deviation = (640 - (0.5 * left_x + 0.5 * right_x)) * xm_per_pix \n",
    "    \n",
    "    #saving distance in pixels of vehicle center from the line and checking for starting position in the image\n",
    "    left_line.line_base_pos =  (640 - left_x)  \n",
    "    right_line.line_base_pos = (right_x - 640)\n",
    "    \n",
    "    if (left_line.line_base_pos < 200.0 or left_line.line_base_pos > 500.0 ):\n",
    "        left_line.detected = False      \n",
    "        \n",
    "    if (right_line.line_base_pos < 200.0 or right_line.line_base_pos > 500.0 ):\n",
    "        right_line.detected = False  \n",
    "     \n",
    "    # good fit, I'm defining a good fit \n",
    "    if (left_line.detected and right_line.detected):\n",
    "        left_line.base = left_x\n",
    "        right_line.base = right_x\n",
    "        left_line.recent_xfitted = left_fitx.copy()\n",
    "        right_line.recent_xfitted = right_fitx.copy()\n",
    "        left_line.rw_xfitted = left_fit_rw.copy()\n",
    "        right_line.rw_xfitted = right_fit_rw.copy()\n",
    "        left_line.fit = left_fit.copy()\n",
    "        right_line.fit = right_fit.copy()\n",
    "                           \n",
    "    # Create an image to draw the lines on\n",
    "    warp_zero = np.zeros_like(binary_warped).astype(np.uint8)\n",
    "    color_warp = np.dstack((warp_zero, warp_zero, warp_zero))\n",
    "    \n",
    "    # Recast the x and y points into usable format for cv2.fillPoly()\n",
    "    pts_left = np.array([np.transpose(np.vstack([left_fitx, ploty]))])\n",
    "    pts_right = np.array([np.flipud(np.transpose(np.vstack([right_fitx, ploty])))])\n",
    "    pts = np.hstack((pts_left, pts_right))\n",
    "    \n",
    "    # Draw the lane onto the warped blank image\n",
    "    cv2.fillPoly(color_warp, np.int_([pts]), (0,255, 0))\n",
    "    \n",
    "    # Colors in the left and right lane regions\n",
    "    color_warp[lefty, leftx] = [255, 0, 0]\n",
    "    color_warp[righty, rightx] = [0, 0, 255]\n",
    "    \n",
    "    return color_warp, left_curverad, right_curverad, deviation\n",
    "    \n",
    "    \n",
    "def process_image(image) : \n",
    "        \n",
    "    #correcting distortion \n",
    "    dst = cv2.undistort(image, mtx, dist, None, mtx)\n",
    "\n",
    "    #extracting lines\n",
    "    lanes = extract_lanes(dst)\n",
    "    \n",
    "    #applying perspective transformation\n",
    "    bird_eye = cv2.warpPerspective(lanes, M,(image.shape[1], image.shape[0]), flags = cv2.INTER_LINEAR)   \n",
    "    \n",
    "    #obtaining the image with the lanes\n",
    "    color_warp, left_curverad, right_curverad, deviation = fit_polynomial(bird_eye)\n",
    "    \n",
    "    # Warp the blank back to original image space using inverse perspective matrix (Minv)\n",
    "    newwarp = cv2.warpPerspective(color_warp, Minv, (image.shape[1], image.shape[0])) \n",
    "    \n",
    "    # Combine the result with the original image\n",
    "    result = cv2.addWeighted(dst, 1, newwarp, 0.3, 0)\n",
    "    \n",
    "    # mean of the curvature\n",
    "    curvature = np.mean ([np.abs(left_curverad), np.abs(right_curverad)])\n",
    "    \n",
    "    # direction left/right\n",
    "    direction = ''\n",
    "    if deviation > 0 : \n",
    "        direction = 'left'\n",
    "    else :\n",
    "        direction = 'right'\n",
    "    \n",
    "    # printing on top of the image\n",
    "    cv2.putText(result,'Radius of Curvature = {:.1f}(m)'.format(curvature),(30,50), cv2.FONT_HERSHEY_SIMPLEX, 2,(255,255,255),2)\n",
    "    cv2.putText(result,'Vehicle is {:.3f} {} of the center'.format(deviation, direction),(30,100), cv2.FONT_HERSHEY_SIMPLEX, 2,(255,255,255),2)\n",
    "    \n",
    "    # saving the image\n",
    "    return result\n",
    "\n"
   ]
  },
  {
   "cell_type": "code",
   "execution_count": 36,
   "metadata": {},
   "outputs": [
    {
     "name": "stderr",
     "output_type": "stream",
     "text": [
      "                                                              \n",
      "\n",
      "\n",
      "\u001b[A\u001b[A\u001b[A                                                     \n",
      "\u001b[A                                                           \n",
      "\n",
      "t:  31%|███       | 151/485 [47:48<00:27, 12.37it/s, now=None]\n",
      "\n",
      "\n",
      "t:  31%|███       | 151/485 [32:18<00:26, 12.82it/s, now=None]\u001b[A\u001b[A\u001b[A\n",
      "t:  31%|███       | 151/485 [38:25<00:27, 12.00it/s, now=None]\u001b[A\n",
      "\n",
      "                                                              \u001b[A\u001b[A\n",
      "\n",
      "\n",
      "\u001b[A\u001b[A\u001b[A                                                     \n",
      "\u001b[A                                                           \n",
      "\n",
      "t:  31%|███       | 151/485 [47:48<00:27, 12.37it/s, now=None]\n",
      "\n",
      "\n",
      "t:  31%|███       | 151/485 [32:18<00:26, 12.82it/s, now=None]\u001b[A\u001b[A\u001b[A\n",
      "t:  31%|███       | 151/485 [38:25<00:27, 12.00it/s, now=None]\u001b[A\n",
      "\n",
      "t:  31%|███       | 151/485 [37:07<00:31, 10.46it/s, now=None]\u001b[A\u001b[A\n",
      "\n",
      "\n",
      "\n",
      "t:   0%|          | 0/1260 [00:00<?, ?it/s, now=None]\u001b[A\u001b[A\u001b[A\u001b[A"
     ]
    },
    {
     "name": "stdout",
     "output_type": "stream",
     "text": [
      "from memory 261 1052\n",
      "\n",
      "281.5769732990147 384.2553980972159\n",
      "all good\n",
      "Moviepy - Building video project_video_output.mp4.\n",
      "Moviepy - Writing video project_video_output.mp4\n",
      "\n",
      "from memory 358 1024\n",
      "\n",
      "271.76933441647725 384.2553980972159\n",
      "all good\n"
     ]
    },
    {
     "name": "stderr",
     "output_type": "stream",
     "text": [
      "\n",
      "\n",
      "\n",
      "\n",
      "t:   0%|          | 2/1260 [00:00<01:37, 12.84it/s, now=None]\u001b[A\u001b[A\u001b[A\u001b[A\n",
      "\n",
      "\n",
      "\n",
      "t:   0%|          | 3/1260 [00:00<02:01, 10.33it/s, now=None]\u001b[A\u001b[A\u001b[A\u001b[A\n",
      "\n",
      "\n",
      "\n",
      "t:   0%|          | 4/1260 [00:00<02:20,  8.93it/s, now=None]\u001b[A\u001b[A\u001b[A\u001b[A"
     ]
    },
    {
     "name": "stdout",
     "output_type": "stream",
     "text": [
      "from memory 368 1024\n",
      "\n",
      "266.4534309633791 381.00171642860846\n",
      "all good\n",
      "from memory 373 1021\n",
      "\n",
      "267.7151771797743 384.1814548783311\n",
      "all good\n"
     ]
    },
    {
     "name": "stderr",
     "output_type": "stream",
     "text": [
      "\n",
      "\n",
      "\n",
      "\n",
      "t:   0%|          | 5/1260 [00:00<02:19,  8.98it/s, now=None]\u001b[A\u001b[A\u001b[A\u001b[A"
     ]
    },
    {
     "name": "stdout",
     "output_type": "stream",
     "text": [
      "from memory 372 1024\n",
      "\n",
      "265.73797322219946 380.6346670788014\n",
      "all good\n",
      "from memory 374 1020\n",
      "\n",
      "265.23117886602574 381.34630330302195\n",
      "all good\n",
      "from memory 374 1021\n",
      "\n",
      "262.0929361203045 380.8282130831956\n",
      "all good\n"
     ]
    },
    {
     "name": "stderr",
     "output_type": "stream",
     "text": [
      "\n",
      "\n",
      "\n",
      "\n",
      "t:   1%|          | 7/1260 [00:00<02:08,  9.77it/s, now=None]\u001b[A\u001b[A\u001b[A\u001b[A\n",
      "\n",
      "\n",
      "\n",
      "t:   1%|          | 9/1260 [00:00<02:01, 10.33it/s, now=None]\u001b[A\u001b[A\u001b[A\u001b[A"
     ]
    },
    {
     "name": "stdout",
     "output_type": "stream",
     "text": [
      "from memory 377 1020\n",
      "\n",
      "260.9501814068068 380.44152847375017\n",
      "all good\n",
      "from memory 379 1020\n",
      "\n",
      "260.6180780497417 383.5420126491914\n",
      "all good\n",
      "from memory 379 1023\n",
      "\n",
      "259.9062531194212 384.16114183833247\n",
      "all good\n"
     ]
    },
    {
     "name": "stderr",
     "output_type": "stream",
     "text": [
      "\n",
      "\n",
      "\n",
      "\n",
      "t:   1%|          | 11/1260 [00:01<01:58, 10.58it/s, now=None]\u001b[A\u001b[A\u001b[A\u001b[A\n",
      "\n",
      "\n",
      "\n",
      "t:   1%|          | 13/1260 [00:01<01:53, 11.00it/s, now=None]\u001b[A\u001b[A\u001b[A\u001b[A"
     ]
    },
    {
     "name": "stdout",
     "output_type": "stream",
     "text": [
      "from memory 380 1024\n",
      "\n",
      "258.25977933748663 390.9786936440155\n",
      "all good\n",
      "from memory 381 1030\n",
      "\n",
      "258.1172285605725 389.50851042456156\n",
      "all good\n",
      "from memory 381 1029\n",
      "\n",
      "259.42078327740734 388.93268965643847\n",
      "all good\n"
     ]
    },
    {
     "name": "stderr",
     "output_type": "stream",
     "text": [
      "\n",
      "\n",
      "\n",
      "\n",
      "t:   1%|          | 15/1260 [00:01<01:51, 11.18it/s, now=None]\u001b[A\u001b[A\u001b[A\u001b[A"
     ]
    },
    {
     "name": "stdout",
     "output_type": "stream",
     "text": [
      "from memory 380 1028\n",
      "\n",
      "259.2316292825176 390.35277713596906\n",
      "all good\n",
      "from memory 380 1030\n",
      "\n",
      "257.92327929902933 385.0625621637273\n",
      "all good\n",
      "from memory 382 1025\n",
      "\n",
      "258.8975335182763 382.4233002524155\n",
      "all good\n"
     ]
    },
    {
     "name": "stderr",
     "output_type": "stream",
     "text": [
      "\n",
      "\n",
      "\n",
      "\n",
      "t:   1%|▏         | 17/1260 [00:01<01:49, 11.32it/s, now=None]\u001b[A\u001b[A\u001b[A\u001b[A\n",
      "\n",
      "\n",
      "\n",
      "t:   2%|▏         | 19/1260 [00:01<01:45, 11.75it/s, now=None]\u001b[A\u001b[A\u001b[A\u001b[A"
     ]
    },
    {
     "name": "stdout",
     "output_type": "stream",
     "text": [
      "from memory 381 1022\n",
      "\n",
      "260.4001569250605 378.8618345964335\n",
      "all good\n",
      "from memory 379 1018\n",
      "\n",
      "262.91826344715344 376.8271878558462\n",
      "all good\n",
      "from memory 377 1016\n",
      "\n",
      "264.8453617365356 375.1340652209867\n",
      "all good\n"
     ]
    },
    {
     "name": "stderr",
     "output_type": "stream",
     "text": [
      "\n",
      "\n",
      "\n",
      "\n",
      "t:   2%|▏         | 21/1260 [00:01<01:45, 11.78it/s, now=None]\u001b[A\u001b[A\u001b[A\u001b[A"
     ]
    },
    {
     "name": "stdout",
     "output_type": "stream",
     "text": [
      "from memory 375 1015\n",
      "\n",
      "265.8745043824611 374.93484599461203\n",
      "all good\n",
      "from memory 374 1014\n",
      "\n",
      "266.5255290477066 369.1892793190443\n",
      "all good\n",
      "from memory 373 1009\n",
      "\n",
      "267.99706307014816 396.6035205402202\n",
      "all good\n"
     ]
    },
    {
     "name": "stderr",
     "output_type": "stream",
     "text": [
      "\n",
      "\n",
      "\n",
      "\n",
      "t:   2%|▏         | 23/1260 [00:02<01:43, 11.91it/s, now=None]\u001b[A\u001b[A\u001b[A\u001b[A\n",
      "\n",
      "\n",
      "\n",
      "t:   2%|▏         | 25/1260 [00:02<01:41, 12.11it/s, now=None]\u001b[A\u001b[A\u001b[A\u001b[A"
     ]
    },
    {
     "name": "stdout",
     "output_type": "stream",
     "text": [
      "from memory 372 1036\n",
      "\n",
      "269.40710669253417 387.588849980918\n",
      "all good\n",
      "from memory 370 1027\n",
      "\n",
      "271.45115493936714 379.4676743538114\n",
      "all good\n",
      "from memory 368 1019\n",
      "\n",
      "274.14468851831515 369.2547498052627\n",
      "all good\n"
     ]
    },
    {
     "name": "stderr",
     "output_type": "stream",
     "text": [
      "\n",
      "\n",
      "\n",
      "\n",
      "t:   2%|▏         | 27/1260 [00:02<01:45, 11.70it/s, now=None]\u001b[A\u001b[A\u001b[A\u001b[A"
     ]
    },
    {
     "name": "stdout",
     "output_type": "stream",
     "text": [
      "from memory 365 1009\n",
      "\n",
      "276.1945629726106 366.4480630106784\n",
      "all good\n",
      "from memory 363 1006\n",
      "\n",
      "279.239043899295 380.82656742722054\n",
      "all good\n",
      "from memory 360 1020\n",
      "\n",
      "281.9931467613981 380.8230273582326\n",
      "all good\n"
     ]
    },
    {
     "name": "stderr",
     "output_type": "stream",
     "text": [
      "\n",
      "\n",
      "\n",
      "\n",
      "t:   2%|▏         | 29/1260 [00:02<01:45, 11.68it/s, now=None]\u001b[A\u001b[A\u001b[A\u001b[A\n",
      "\n",
      "\n",
      "\n",
      "t:   2%|▏         | 31/1260 [00:02<01:43, 11.90it/s, now=None]\u001b[A\u001b[A\u001b[A\u001b[A"
     ]
    },
    {
     "name": "stdout",
     "output_type": "stream",
     "text": [
      "from memory 358 1020\n",
      "\n",
      "284.1051689140513 376.02352576593955\n",
      "all good\n",
      "from memory 355 1016\n",
      "\n",
      "285.9168722205806 374.0486076322834\n",
      "all good\n",
      "from memory 354 1014\n",
      "\n",
      "288.532634331396 373.27140098712835\n",
      "all good\n"
     ]
    },
    {
     "name": "stderr",
     "output_type": "stream",
     "text": [
      "\n",
      "\n",
      "\n",
      "\n",
      "t:   3%|▎         | 33/1260 [00:02<01:41, 12.07it/s, now=None]\u001b[A\u001b[A\u001b[A\u001b[A"
     ]
    },
    {
     "name": "stdout",
     "output_type": "stream",
     "text": [
      "from memory 351 1013\n",
      "\n",
      "286.2587940203354 374.98899652139744\n",
      "all good\n",
      "from memory 353 1014\n",
      "\n",
      "285.19187320305923 372.3935524879993\n",
      "all good\n",
      "from memory 354 1012\n",
      "\n",
      "285.1486907876366 378.8190328675945\n",
      "all good\n"
     ]
    },
    {
     "name": "stderr",
     "output_type": "stream",
     "text": [
      "\n",
      "\n",
      "\n",
      "\n",
      "t:   3%|▎         | 35/1260 [00:03<01:43, 11.89it/s, now=None]\u001b[A\u001b[A\u001b[A\u001b[A\n",
      "\n",
      "\n",
      "\n",
      "t:   3%|▎         | 37/1260 [00:03<01:40, 12.18it/s, now=None]\u001b[A\u001b[A\u001b[A\u001b[A"
     ]
    },
    {
     "name": "stdout",
     "output_type": "stream",
     "text": [
      "from memory 354 1018\n",
      "\n",
      "284.22299301242606 370.7143014804111\n",
      "all good\n",
      "from memory 355 1010\n",
      "\n",
      "283.10917966723395 365.94876530565557\n",
      "all good\n",
      "from memory 356 1005\n",
      "\n",
      "279.3975522050598 371.18028514762636\n",
      "all good\n"
     ]
    },
    {
     "name": "stderr",
     "output_type": "stream",
     "text": [
      "\n",
      "\n",
      "\n",
      "\n",
      "t:   3%|▎         | 39/1260 [00:03<01:40, 12.10it/s, now=None]\u001b[A\u001b[A\u001b[A\u001b[A"
     ]
    },
    {
     "name": "stdout",
     "output_type": "stream",
     "text": [
      "from memory 360 1011\n",
      "\n",
      "279.2317029942952 425.42047035053065\n",
      "all good\n",
      "from memory 360 1065\n",
      "\n",
      "276.7929950354723 409.4233875731684\n",
      "all good\n",
      "from memory 363 1049\n",
      "\n",
      "275.76336873397076 383.63800849771815\n",
      "all good\n"
     ]
    },
    {
     "name": "stderr",
     "output_type": "stream",
     "text": [
      "\n",
      "\n",
      "\n",
      "\n",
      "t:   3%|▎         | 41/1260 [00:03<01:40, 12.18it/s, now=None]\u001b[A\u001b[A\u001b[A\u001b[A\n",
      "\n",
      "\n",
      "\n",
      "t:   3%|▎         | 43/1260 [00:03<01:39, 12.24it/s, now=None]\u001b[A\u001b[A\u001b[A\u001b[A"
     ]
    },
    {
     "name": "stdout",
     "output_type": "stream",
     "text": [
      "from memory 364 1023\n",
      "\n",
      "272.1695760283165 377.56933183979345\n",
      "all good\n",
      "from memory 367 1017\n",
      "\n",
      "272.3558441786231 382.10441716541766\n",
      "all good\n",
      "from memory 367 1022\n",
      "\n",
      "271.2507556542402 376.01736235747\n",
      "all good\n"
     ]
    },
    {
     "name": "stderr",
     "output_type": "stream",
     "text": [
      "\n",
      "\n",
      "\n",
      "\n",
      "t:   4%|▎         | 45/1260 [00:03<01:42, 11.86it/s, now=None]\u001b[A\u001b[A\u001b[A\u001b[A"
     ]
    },
    {
     "name": "stdout",
     "output_type": "stream",
     "text": [
      "from memory 368 1016\n",
      "\n",
      "270.04475576991865 372.9370500814093\n",
      "all good\n",
      "from memory 369 1012\n",
      "\n",
      "268.5125040794376 373.87379122185655\n",
      "all good\n",
      "from memory 371 1013\n",
      "\n",
      "266.8054790485762 373.8888602289768\n",
      "all good\n"
     ]
    },
    {
     "name": "stderr",
     "output_type": "stream",
     "text": [
      "\n",
      "\n",
      "\n",
      "\n",
      "t:   4%|▎         | 47/1260 [00:04<01:44, 11.56it/s, now=None]\u001b[A\u001b[A\u001b[A\u001b[A\n",
      "\n",
      "\n",
      "\n",
      "t:   4%|▍         | 49/1260 [00:04<01:44, 11.64it/s, now=None]\u001b[A\u001b[A\u001b[A\u001b[A"
     ]
    },
    {
     "name": "stdout",
     "output_type": "stream",
     "text": [
      "from memory 373 1013\n",
      "\n",
      "266.5014639399184 422.5445319821215\n",
      "all good\n",
      "from memory 373 1062\n",
      "\n",
      "265.4424525056083 429.89298736581213\n",
      "all good\n",
      "from memory 374 1069\n",
      "\n",
      "265.47709744447855 423.1316788016179\n",
      "all good\n"
     ]
    },
    {
     "name": "stderr",
     "output_type": "stream",
     "text": [
      "\n",
      "\n",
      "\n",
      "\n",
      "t:   4%|▍         | 51/1260 [00:04<01:46, 11.30it/s, now=None]\u001b[A\u001b[A\u001b[A\u001b[A"
     ]
    },
    {
     "name": "stdout",
     "output_type": "stream",
     "text": [
      "from memory 374 1063\n",
      "\n",
      "264.5677643550623 402.9938290352777\n",
      "all good\n",
      "from memory 375 1042\n",
      "\n",
      "263.6974998447809 387.380796477029\n",
      "all good\n",
      "from memory 376 1027\n",
      "\n",
      "263.5882501359898 429.7814456325252\n",
      "all good\n"
     ]
    },
    {
     "name": "stderr",
     "output_type": "stream",
     "text": [
      "\n",
      "\n",
      "\n",
      "\n",
      "t:   4%|▍         | 53/1260 [00:04<01:50, 10.90it/s, now=None]\u001b[A\u001b[A\u001b[A\u001b[A"
     ]
    },
    {
     "name": "stdout",
     "output_type": "stream",
     "text": [
      "from memory 376 1069\n",
      "\n",
      "264.6237035462186 414.77728053494525\n",
      "all good\n",
      "from memory 375 1054\n",
      "\n",
      "265.03228017571087 376.7816490607971\n",
      "all good\n",
      "from memory 374 1016\n",
      "\n",
      "265.11834767030905 372.35471730597294\n",
      "all good\n"
     ]
    },
    {
     "name": "stderr",
     "output_type": "stream",
     "text": [
      "\n",
      "\n",
      "\n",
      "\n",
      "t:   4%|▍         | 55/1260 [00:04<01:50, 10.89it/s, now=None]\u001b[A\u001b[A\u001b[A\u001b[A\n",
      "\n",
      "\n",
      "\n",
      "t:   5%|▍         | 57/1260 [00:04<01:48, 11.06it/s, now=None]\u001b[A\u001b[A\u001b[A\u001b[A"
     ]
    },
    {
     "name": "stdout",
     "output_type": "stream",
     "text": [
      "from memory 374 1012\n",
      "\n",
      "267.7982477001761 373.72859239387014\n",
      "all good\n",
      "from memory 372 1013\n",
      "\n",
      "269.63942070786493 370.8410443222174\n",
      "all good\n",
      "from memory 370 1010\n",
      "\n",
      "270.2834114037421 369.94402772625097\n",
      "all good\n"
     ]
    },
    {
     "name": "stderr",
     "output_type": "stream",
     "text": [
      "\n",
      "\n",
      "\n",
      "\n",
      "t:   5%|▍         | 59/1260 [00:05<01:50, 10.87it/s, now=None]\u001b[A\u001b[A\u001b[A\u001b[A"
     ]
    },
    {
     "name": "stdout",
     "output_type": "stream",
     "text": [
      "from memory 369 1009\n",
      "\n",
      "271.4274184864974 373.71239230207107\n",
      "all good\n",
      "from memory 368 1013\n",
      "\n",
      "271.88580979813776 378.29459512739993\n",
      "all good\n",
      "from memory 368 1018\n",
      "\n",
      "273.93114293591873 393.143882472541\n",
      "all good\n"
     ]
    },
    {
     "name": "stderr",
     "output_type": "stream",
     "text": [
      "\n",
      "\n",
      "\n",
      "\n",
      "t:   5%|▍         | 61/1260 [00:05<01:50, 10.85it/s, now=None]\u001b[A\u001b[A\u001b[A\u001b[A\n",
      "\n",
      "\n",
      "\n",
      "t:   5%|▌         | 63/1260 [00:05<01:50, 10.87it/s, now=None]\u001b[A\u001b[A\u001b[A\u001b[A"
     ]
    },
    {
     "name": "stdout",
     "output_type": "stream",
     "text": [
      "from memory 366 1033\n",
      "\n",
      "274.8407223307729 378.06419012812535\n",
      "all good\n",
      "from memory 365 1018\n",
      "\n",
      "276.96389085682483 365.27760823610913\n",
      "all good\n",
      "from memory 363 1005\n",
      "\n",
      "277.855144813519 356.0884523958315\n",
      "all good\n"
     ]
    },
    {
     "name": "stderr",
     "output_type": "stream",
     "text": [
      "\n",
      "\n",
      "\n",
      "\n",
      "t:   5%|▌         | 65/1260 [00:05<01:49, 10.95it/s, now=None]\u001b[A\u001b[A\u001b[A\u001b[A"
     ]
    },
    {
     "name": "stdout",
     "output_type": "stream",
     "text": [
      "from memory 362 996\n",
      "\n",
      "278.47838630397075 359.5309829273598\n",
      "all good\n",
      "from memory 361 999\n",
      "\n",
      "279.8953931554894 362.4062865241034\n",
      "all good\n",
      "from memory 360 1002\n",
      "\n",
      "280.39855863728235 360.6364883095391\n",
      "all good\n"
     ]
    },
    {
     "name": "stderr",
     "output_type": "stream",
     "text": [
      "\n",
      "\n",
      "\n",
      "\n",
      "t:   5%|▌         | 67/1260 [00:05<01:46, 11.17it/s, now=None]\u001b[A\u001b[A\u001b[A\u001b[A\n",
      "\n",
      "\n",
      "\n",
      "t:   5%|▌         | 69/1260 [00:06<01:49, 10.91it/s, now=None]\u001b[A\u001b[A\u001b[A\u001b[A"
     ]
    },
    {
     "name": "stdout",
     "output_type": "stream",
     "text": [
      "from memory 359 1000\n",
      "\n",
      "280.5587863964604 355.64374591514365\n",
      "all good\n",
      "from memory 359 995\n",
      "\n",
      "284.5817291974362 357.89696282194643\n",
      "all good\n",
      "from memory 355 997\n",
      "\n",
      "284.3629835685858 356.66555339601007\n",
      "all good\n"
     ]
    },
    {
     "name": "stderr",
     "output_type": "stream",
     "text": [
      "\n",
      "\n",
      "\n",
      "\n",
      "t:   6%|▌         | 71/1260 [00:06<01:47, 11.04it/s, now=None]\u001b[A\u001b[A\u001b[A\u001b[A\n",
      "\n",
      "\n",
      "\n",
      "t:   6%|▌         | 73/1260 [00:06<01:43, 11.45it/s, now=None]\u001b[A\u001b[A\u001b[A\u001b[A"
     ]
    },
    {
     "name": "stdout",
     "output_type": "stream",
     "text": [
      "from memory 355 996\n",
      "\n",
      "283.8532682636974 358.65540371493637\n",
      "all good\n",
      "from memory 356 998\n",
      "\n",
      "285.1625533855073 370.6093900559324\n",
      "all good\n",
      "from memory 354 1010\n",
      "\n",
      "285.6595882905719 355.69078522911286\n",
      "all good\n"
     ]
    },
    {
     "name": "stderr",
     "output_type": "stream",
     "text": [
      "\n",
      "\n",
      "\n",
      "\n",
      "t:   6%|▌         | 75/1260 [00:06<01:46, 11.17it/s, now=None]\u001b[A\u001b[A\u001b[A\u001b[A"
     ]
    },
    {
     "name": "stdout",
     "output_type": "stream",
     "text": [
      "from memory 354 995\n",
      "\n",
      "285.0793648397821 361.5977487001437\n",
      "all good\n",
      "from memory 354 1001\n",
      "\n",
      "284.8197126930671 352.3164214947924\n",
      "all good\n",
      "from memory 355 992\n",
      "\n"
     ]
    },
    {
     "name": "stderr",
     "output_type": "stream",
     "text": [
      "\n",
      "\n",
      "\n",
      "\n",
      "t:   6%|▌         | 77/1260 [00:06<01:49, 10.76it/s, now=None]\u001b[A\u001b[A\u001b[A\u001b[A"
     ]
    },
    {
     "name": "stdout",
     "output_type": "stream",
     "text": [
      "286.6281527699556 347.7654890648846\n",
      "all good\n",
      "from memory 353 987\n",
      "\n",
      "285.51130121039216 346.9171316555959\n",
      "all good\n",
      "from memory 354 986\n",
      "\n",
      "286.3006992610231 348.09865727750093\n",
      "all good\n"
     ]
    },
    {
     "name": "stderr",
     "output_type": "stream",
     "text": [
      "\n",
      "\n",
      "\n",
      "\n",
      "t:   6%|▋         | 79/1260 [00:07<01:52, 10.53it/s, now=None]\u001b[A\u001b[A\u001b[A\u001b[A\n",
      "\n",
      "\n",
      "\n",
      "t:   6%|▋         | 81/1260 [00:07<01:48, 10.88it/s, now=None]\u001b[A\u001b[A\u001b[A\u001b[A"
     ]
    },
    {
     "name": "stdout",
     "output_type": "stream",
     "text": [
      "from memory 353 988\n",
      "\n",
      "288.31010502606574 352.4087769002182\n",
      "all good\n",
      "from memory 351 992\n",
      "\n",
      "291.1816769323475 351.54861901345055\n",
      "all good\n",
      "from memory 348 991\n",
      "\n",
      "293.91126761466734 349.9534305919084\n",
      "all good\n"
     ]
    },
    {
     "name": "stderr",
     "output_type": "stream",
     "text": [
      "\n",
      "\n",
      "\n",
      "\n",
      "t:   7%|▋         | 83/1260 [00:07<01:46, 11.01it/s, now=None]\u001b[A\u001b[A\u001b[A\u001b[A"
     ]
    },
    {
     "name": "stdout",
     "output_type": "stream",
     "text": [
      "from memory 346 989\n",
      "\n",
      "297.85258815112275 348.4524497969951\n",
      "all good\n",
      "from memory 342 988\n",
      "\n",
      "300.4523086826309 348.47491822146674\n",
      "all good\n",
      "from memory 339 988\n",
      "\n",
      "302.0424344831871 348.57843212471903\n",
      "all good\n"
     ]
    },
    {
     "name": "stderr",
     "output_type": "stream",
     "text": [
      "\n",
      "\n",
      "\n",
      "\n",
      "t:   7%|▋         | 85/1260 [00:07<01:46, 11.04it/s, now=None]\u001b[A\u001b[A\u001b[A\u001b[A\n",
      "\n",
      "\n",
      "\n",
      "t:   7%|▋         | 87/1260 [00:07<01:42, 11.42it/s, now=None]\u001b[A\u001b[A\u001b[A\u001b[A"
     ]
    },
    {
     "name": "stdout",
     "output_type": "stream",
     "text": [
      "from memory 337 988\n",
      "\n",
      "307.10978744779055 348.6260576826369\n",
      "all good\n",
      "from memory 332 988\n",
      "\n",
      "308.17039843586383 359.5829946232417\n",
      "all good\n",
      "from memory 331 999\n",
      "\n",
      "308.05780642309514 362.2161665682031\n",
      "all good\n"
     ]
    },
    {
     "name": "stderr",
     "output_type": "stream",
     "text": [
      "\n",
      "\n",
      "\n",
      "\n",
      "t:   7%|▋         | 89/1260 [00:07<01:41, 11.56it/s, now=None]\u001b[A\u001b[A\u001b[A\u001b[A"
     ]
    },
    {
     "name": "stdout",
     "output_type": "stream",
     "text": [
      "from memory 331 1002\n",
      "\n",
      "307.8321945344826 354.3717529838783\n",
      "all good\n",
      "from memory 332 994\n",
      "\n",
      "309.6150886802475 349.20549114667483\n",
      "all good\n",
      "from memory 330 989\n",
      "\n",
      "310.05864532783653 351.1575832498131\n",
      "all good\n"
     ]
    },
    {
     "name": "stderr",
     "output_type": "stream",
     "text": [
      "\n",
      "\n",
      "\n",
      "\n",
      "t:   7%|▋         | 91/1260 [00:08<01:42, 11.40it/s, now=None]\u001b[A\u001b[A\u001b[A\u001b[A\n",
      "\n",
      "\n",
      "\n"
     ]
    },
    {
     "name": "stdout",
     "output_type": "stream",
     "text": [
      "from memory 329 991\n",
      "\n",
      "307.0995631748117 350.71855969780506\n",
      "all good\n",
      "from memory 332 990\n",
      "\n",
      "309.4798350456084 349.219966380993\n",
      "all good\n",
      "from memory 330 989\n",
      "\n",
      "307.0008485810123 345.8912667441808\n",
      "all good\n"
     ]
    },
    {
     "name": "stderr",
     "output_type": "stream",
     "text": [
      "t:   7%|▋         | 93/1260 [00:08<01:42, 11.35it/s, now=None]\u001b[A\u001b[A\u001b[A\u001b[A\n",
      "\n",
      "\n",
      "\n",
      "t:   8%|▊         | 95/1260 [00:08<01:40, 11.58it/s, now=None]\u001b[A\u001b[A\u001b[A\u001b[A"
     ]
    },
    {
     "name": "stdout",
     "output_type": "stream",
     "text": [
      "from memory 332 985\n",
      "\n",
      "308.50560181565174 344.39748008332003\n",
      "all good\n",
      "from memory 331 984\n",
      "\n",
      "306.57135748686244 344.43594954132357\n",
      "all good\n",
      "from memory 333 984\n",
      "\n",
      "304.2033874583758 342.95812549622656\n",
      "all good\n"
     ]
    },
    {
     "name": "stderr",
     "output_type": "stream",
     "text": [
      "\n",
      "\n",
      "\n",
      "\n",
      "t:   8%|▊         | 97/1260 [00:08<01:48, 10.72it/s, now=None]\u001b[A\u001b[A\u001b[A\u001b[A\n",
      "\n",
      "\n",
      "\n",
      "t:   8%|▊         | 99/1260 [00:08<01:44, 11.11it/s, now=None]\u001b[A\u001b[A\u001b[A\u001b[A"
     ]
    },
    {
     "name": "stdout",
     "output_type": "stream",
     "text": [
      "from memory 335 982\n",
      "\n",
      "303.3669440188495 315.5573137174259\n",
      "all good\n",
      "from memory 336 955\n",
      "\n",
      "298.75104646209076 335.7624207157512\n",
      "all good\n",
      "from memory 341 975\n",
      "\n",
      "300.54356592843436 340.6763532813926\n",
      "all good\n"
     ]
    },
    {
     "name": "stderr",
     "output_type": "stream",
     "text": [
      "\n",
      "\n",
      "\n",
      "\n",
      "t:   8%|▊         | 101/1260 [00:08<01:43, 11.23it/s, now=None]\u001b[A\u001b[A\u001b[A\u001b[A"
     ]
    },
    {
     "name": "stdout",
     "output_type": "stream",
     "text": [
      "from memory 339 980\n",
      "\n",
      "298.05888590712226 338.4393059214656\n",
      "all good\n",
      "from memory 341 978\n",
      "\n",
      "300.14160542600075 342.34535416681376\n",
      "all good\n",
      "from memory 339 982\n",
      "\n",
      "298.1870820844474 342.7582783892168\n",
      "all good\n"
     ]
    },
    {
     "name": "stderr",
     "output_type": "stream",
     "text": [
      "\n",
      "\n",
      "\n",
      "\n",
      "t:   8%|▊         | 103/1260 [00:09<01:42, 11.34it/s, now=None]\u001b[A\u001b[A\u001b[A\u001b[A\n",
      "\n",
      "\n",
      "\n",
      "t:   8%|▊         | 105/1260 [00:09<01:39, 11.56it/s, now=None]\u001b[A\u001b[A\u001b[A\u001b[A"
     ]
    },
    {
     "name": "stdout",
     "output_type": "stream",
     "text": [
      "from memory 341 982\n",
      "\n",
      "295.9512916874445 340.99748459776595\n",
      "all good\n",
      "from memory 344 980\n",
      "\n",
      "296.3445773623223 344.7356484809827\n",
      "all good\n",
      "from memory 343 984\n",
      "\n",
      "295.835434532494 342.6693937256348\n",
      "all good\n"
     ]
    },
    {
     "name": "stderr",
     "output_type": "stream",
     "text": [
      "\n",
      "\n",
      "\n",
      "\n",
      "t:   8%|▊         | 107/1260 [00:09<01:39, 11.54it/s, now=None]\u001b[A\u001b[A\u001b[A\u001b[A"
     ]
    },
    {
     "name": "stdout",
     "output_type": "stream",
     "text": [
      "from memory 344 982\n",
      "\n",
      "295.33252389174436 347.11161307123007\n",
      "all good\n",
      "from memory 344 987\n",
      "\n",
      "295.29462589780513 348.21917086079816\n",
      "all good\n",
      "from memory 344 988\n",
      "\n",
      "295.23248421168046 351.58424335142854\n",
      "all good\n"
     ]
    },
    {
     "name": "stderr",
     "output_type": "stream",
     "text": [
      "\n",
      "\n",
      "\n",
      "\n",
      "t:   9%|▊         | 109/1260 [00:09<01:41, 11.32it/s, now=None]\u001b[A\u001b[A\u001b[A\u001b[A\n",
      "\n",
      "\n",
      "\n",
      "t:   9%|▉         | 111/1260 [00:09<01:38, 11.63it/s, now=None]\u001b[A\u001b[A\u001b[A\u001b[A"
     ]
    },
    {
     "name": "stdout",
     "output_type": "stream",
     "text": [
      "from memory 344 991\n",
      "\n",
      "291.5068355236763 364.90065283913316\n",
      "all good\n",
      "from memory 348 1004\n",
      "\n",
      "294.4232637813608 435.4711933870544\n",
      "all good\n",
      "from memory 345 1075\n",
      "\n",
      "293.9064045941258 421.4268388451587\n",
      "all good\n"
     ]
    },
    {
     "name": "stderr",
     "output_type": "stream",
     "text": [
      "\n",
      "\n",
      "\n",
      "\n",
      "t:   9%|▉         | 113/1260 [00:09<01:39, 11.53it/s, now=None]\u001b[A\u001b[A\u001b[A\u001b[A"
     ]
    },
    {
     "name": "stdout",
     "output_type": "stream",
     "text": [
      "from memory 346 1061\n",
      "\n",
      "292.0966507974258 389.95696803002534\n",
      "all good\n",
      "from memory 347 1029\n",
      "\n",
      "291.8830230397381 372.44231909501696\n",
      "all good\n",
      "from memory 348 1012\n",
      "\n",
      "290.1982660002759 354.31557100822624\n",
      "all good\n"
     ]
    },
    {
     "name": "stderr",
     "output_type": "stream",
     "text": [
      "\n",
      "\n",
      "\n",
      "\n",
      "t:   9%|▉         | 115/1260 [00:10<01:41, 11.32it/s, now=None]\u001b[A\u001b[A\u001b[A\u001b[A\n",
      "\n",
      "\n",
      "\n",
      "t:   9%|▉         | 117/1260 [00:10<01:39, 11.50it/s, now=None]\u001b[A\u001b[A\u001b[A\u001b[A"
     ]
    },
    {
     "name": "stdout",
     "output_type": "stream",
     "text": [
      "from memory 349 994\n",
      "\n",
      "288.66761507700676 369.61339190955835\n",
      "all good\n",
      "from memory 351 1009\n",
      "\n",
      "288.3267909805111 354.7591646324771\n",
      "all good\n",
      "from memory 351 994\n",
      "\n",
      "285.8483524693794 353.8352257969657\n",
      "all good\n"
     ]
    },
    {
     "name": "stderr",
     "output_type": "stream",
     "text": [
      "\n",
      "\n",
      "\n",
      "\n",
      "t:   9%|▉         | 119/1260 [00:10<01:37, 11.66it/s, now=None]\u001b[A\u001b[A\u001b[A\u001b[A"
     ]
    },
    {
     "name": "stdout",
     "output_type": "stream",
     "text": [
      "from memory 354 993\n",
      "\n",
      "284.532438979417 355.21155181130825\n",
      "all good\n",
      "from memory 355 995\n",
      "\n",
      "284.55656169277347 355.43386139226527\n",
      "all good\n",
      "from memory 355 995\n",
      "\n",
      "282.74453513967137 356.98253255568875\n",
      "all good\n"
     ]
    },
    {
     "name": "stderr",
     "output_type": "stream",
     "text": [
      "\n",
      "\n",
      "\n",
      "\n",
      "t:  10%|▉         | 121/1260 [00:10<01:38, 11.58it/s, now=None]\u001b[A\u001b[A\u001b[A\u001b[A"
     ]
    },
    {
     "name": "stdout",
     "output_type": "stream",
     "text": [
      "from memory 357 996\n",
      "\n",
      "281.031086927267 357.33893049715994\n",
      "all good\n",
      "from memory 358 997\n",
      "\n",
      "280.993162521783 363.2167023992554\n",
      "all good\n",
      "from memory 359 1003\n",
      "\n",
      "279.6475605949406 364.0914698031427\n",
      "all good\n"
     ]
    },
    {
     "name": "stderr",
     "output_type": "stream",
     "text": [
      "\n",
      "\n",
      "\n",
      "\n",
      "t:  10%|▉         | 123/1260 [00:10<01:38, 11.56it/s, now=None]\u001b[A\u001b[A\u001b[A\u001b[A\n",
      "\n",
      "\n",
      "\n",
      "t:  10%|▉         | 125/1260 [00:11<01:40, 11.30it/s, now=None]\u001b[A\u001b[A\u001b[A\u001b[A"
     ]
    },
    {
     "name": "stdout",
     "output_type": "stream",
     "text": [
      "from memory 360 1004\n",
      "\n",
      "276.3284649446107 380.2785803105294\n",
      "all good\n",
      "from memory 363 1020\n",
      "\n",
      "274.82890022331986 363.2757044023043\n",
      "all good\n",
      "from memory 365 1003\n",
      "\n",
      "272.4299685548955 369.4637685818459\n",
      "all good\n"
     ]
    },
    {
     "name": "stderr",
     "output_type": "stream",
     "text": [
      "\n",
      "\n",
      "\n",
      "\n",
      "t:  10%|█         | 127/1260 [00:11<01:42, 11.04it/s, now=None]\u001b[A\u001b[A\u001b[A\u001b[A\n",
      "\n",
      "\n",
      "\n",
      "t:  10%|█         | 129/1260 [00:11<01:41, 11.13it/s, now=None]\u001b[A\u001b[A\u001b[A\u001b[A"
     ]
    },
    {
     "name": "stdout",
     "output_type": "stream",
     "text": [
      "from memory 367 1009\n",
      "\n",
      "272.33426730731225 365.958245325741\n",
      "all good\n",
      "from memory 367 1005\n",
      "\n",
      "270.6317831074272 366.2950997071073\n",
      "all good\n",
      "from memory 369 1006\n",
      "\n",
      "271.1857327926692 370.5100854734602\n",
      "all good\n"
     ]
    },
    {
     "name": "stderr",
     "output_type": "stream",
     "text": [
      "\n",
      "\n",
      "\n",
      "\n",
      "t:  10%|█         | 131/1260 [00:11<01:40, 11.18it/s, now=None]\u001b[A\u001b[A\u001b[A\u001b[A"
     ]
    },
    {
     "name": "stdout",
     "output_type": "stream",
     "text": [
      "from memory 368 1010\n",
      "\n",
      "268.76826845725367 370.87846582336124\n",
      "all good\n",
      "from memory 371 1010\n",
      "\n",
      "269.7005685774816 366.53264691520997\n",
      "all good\n",
      "from memory 370 1006\n",
      "\n",
      "269.52668001600955 367.3080879578165\n",
      "all good\n"
     ]
    },
    {
     "name": "stderr",
     "output_type": "stream",
     "text": [
      "\n",
      "\n",
      "\n",
      "\n",
      "t:  11%|█         | 133/1260 [00:11<01:40, 11.19it/s, now=None]\u001b[A\u001b[A\u001b[A\u001b[A\n",
      "\n",
      "\n",
      "\n"
     ]
    },
    {
     "name": "stdout",
     "output_type": "stream",
     "text": [
      "from memory 370 1007\n",
      "\n",
      "268.58658757889293 356.50573621999433\n",
      "all good\n",
      "from memory 371 996\n",
      "\n",
      "270.3574142526933 354.966368035232\n",
      "all good\n",
      "from memory 369 994\n",
      "\n",
      "268.32015302476805 378.9720218353003\n",
      "all good\n"
     ]
    },
    {
     "name": "stderr",
     "output_type": "stream",
     "text": [
      "t:  11%|█         | 135/1260 [00:11<01:39, 11.36it/s, now=None]\u001b[A\u001b[A\u001b[A\u001b[A\n",
      "\n",
      "\n",
      "\n",
      "t:  11%|█         | 137/1260 [00:12<01:36, 11.58it/s, now=None]\u001b[A\u001b[A\u001b[A\u001b[A"
     ]
    },
    {
     "name": "stdout",
     "output_type": "stream",
     "text": [
      "from memory 371 1018\n",
      "\n",
      "263.5972040960777 397.6225073599312\n",
      "all good\n",
      "from memory 376 1037\n",
      "\n",
      "262.3373570554428 372.81398446879496\n",
      "all good\n",
      "from memory 377 1012\n",
      "\n",
      "261.8996996316529 383.5924560686191\n",
      "all good\n"
     ]
    },
    {
     "name": "stderr",
     "output_type": "stream",
     "text": [
      "\n",
      "\n",
      "\n",
      "\n",
      "t:  11%|█         | 139/1260 [00:12<01:36, 11.67it/s, now=None]\u001b[A\u001b[A\u001b[A\u001b[A\n",
      "\n",
      "\n",
      "\n",
      "t:  11%|█         | 141/1260 [00:12<01:35, 11.74it/s, now=None]\u001b[A\u001b[A\u001b[A\u001b[A"
     ]
    },
    {
     "name": "stdout",
     "output_type": "stream",
     "text": [
      "from memory 378 1023\n",
      "\n",
      "261.5805503074164 372.1295916199829\n",
      "all good\n",
      "from memory 378 1012\n",
      "\n",
      "263.5247828076372 378.19127235728604\n",
      "all good\n",
      "from memory 376 1018\n",
      "\n",
      "265.2387639472788 394.30656980046297\n",
      "all good\n"
     ]
    },
    {
     "name": "stderr",
     "output_type": "stream",
     "text": [
      "\n",
      "\n",
      "\n",
      "\n",
      "t:  11%|█▏        | 143/1260 [00:12<01:33, 11.96it/s, now=None]\u001b[A\u001b[A\u001b[A\u001b[A"
     ]
    },
    {
     "name": "stdout",
     "output_type": "stream",
     "text": [
      "from memory 374 1034\n",
      "\n",
      "265.7148713846368 384.0651109808714\n",
      "all good\n",
      "from memory 374 1024\n",
      "\n",
      "268.19220708402713 377.99770632075047\n",
      "all good\n",
      "from memory 371 1017\n",
      "\n",
      "262.2672777495168 376.3018339815808\n",
      "all good\n"
     ]
    },
    {
     "name": "stderr",
     "output_type": "stream",
     "text": [
      "\n",
      "\n",
      "\n",
      "\n",
      "t:  12%|█▏        | 145/1260 [00:12<01:38, 11.28it/s, now=None]\u001b[A\u001b[A\u001b[A\u001b[A"
     ]
    },
    {
     "name": "stdout",
     "output_type": "stream",
     "text": [
      "from memory 377 1016\n",
      "\n",
      "265.8821937275473 373.7082895446881\n",
      "all good\n",
      "from memory 374 1013\n",
      "\n",
      "265.01676985519754 372.5606493537041\n",
      "all good\n",
      "from memory 374 1012\n",
      "\n"
     ]
    },
    {
     "name": "stderr",
     "output_type": "stream",
     "text": [
      "\n",
      "\n",
      "\n",
      "\n",
      "t:  12%|█▏        | 147/1260 [00:12<01:41, 10.98it/s, now=None]\u001b[A\u001b[A\u001b[A\u001b[A"
     ]
    },
    {
     "name": "stdout",
     "output_type": "stream",
     "text": [
      "264.7857471359855 384.14263296664103\n",
      "all good\n",
      "from memory 375 1024\n",
      "\n",
      "264.86659257136273 413.8143812344306\n",
      "all good\n",
      "from memory 375 1053\n",
      "\n",
      "267.4570974320692 387.4387488830621\n",
      "all good\n"
     ]
    },
    {
     "name": "stderr",
     "output_type": "stream",
     "text": [
      "\n",
      "\n",
      "\n",
      "\n",
      "t:  12%|█▏        | 149/1260 [00:13<01:43, 10.74it/s, now=None]\u001b[A\u001b[A\u001b[A\u001b[A\n",
      "\n",
      "\n",
      "\n",
      "t:  12%|█▏        | 151/1260 [00:13<01:44, 10.66it/s, now=None]\u001b[A\u001b[A\u001b[A\u001b[A"
     ]
    },
    {
     "name": "stdout",
     "output_type": "stream",
     "text": [
      "from memory 372 1027\n",
      "\n",
      "269.6885700399997 383.4570476545449\n",
      "all good\n",
      "from memory 370 1023\n",
      "\n",
      "269.46079613438417 377.89548211765464\n",
      "all good\n",
      "from memory 370 1017\n",
      "\n"
     ]
    },
    {
     "name": "stderr",
     "output_type": "stream",
     "text": [
      "\n",
      "\n",
      "\n",
      "\n",
      "t:  12%|█▏        | 153/1260 [00:13<01:46, 10.36it/s, now=None]\u001b[A\u001b[A\u001b[A\u001b[A"
     ]
    },
    {
     "name": "stdout",
     "output_type": "stream",
     "text": [
      "273.52899848342554 371.46511204881824\n",
      "all good\n",
      "from memory 366 1011\n",
      "\n",
      "274.55917589578655 374.8131599394244\n",
      "all good\n",
      "from memory 365 1014\n",
      "\n",
      "271.4077770673663 364.85206042519303\n",
      "all good\n"
     ]
    },
    {
     "name": "stderr",
     "output_type": "stream",
     "text": [
      "\n",
      "\n",
      "\n",
      "\n",
      "t:  12%|█▏        | 155/1260 [00:13<01:44, 10.57it/s, now=None]\u001b[A\u001b[A\u001b[A\u001b[A"
     ]
    },
    {
     "name": "stdout",
     "output_type": "stream",
     "text": [
      "from memory 368 1004\n",
      "\n",
      "273.1451907605659 365.8256618243216\n",
      "all good\n",
      "from memory 366 1005\n",
      "\n",
      "278.84970097531516 368.53020181778516\n",
      "all good\n",
      "from memory 361 1008\n",
      "\n",
      "278.7556366849501 368.5827390549621\n",
      "all good\n"
     ]
    },
    {
     "name": "stderr",
     "output_type": "stream",
     "text": [
      "\n",
      "\n",
      "\n",
      "\n",
      "t:  12%|█▏        | 157/1260 [00:13<01:43, 10.71it/s, now=None]\u001b[A\u001b[A\u001b[A\u001b[A\n",
      "\n",
      "\n",
      "\n",
      "t:  13%|█▎        | 159/1260 [00:14<01:40, 10.91it/s, now=None]\u001b[A\u001b[A\u001b[A\u001b[A"
     ]
    },
    {
     "name": "stdout",
     "output_type": "stream",
     "text": [
      "from memory 361 1008\n",
      "\n",
      "280.63273053613136 368.0501769788584\n",
      "all good\n",
      "from memory 359 1008\n",
      "\n",
      "279.7951242775361 364.70073763935284\n",
      "all good\n",
      "from memory 360 1004\n",
      "\n",
      "280.9558871897139 368.57722467682106\n",
      "all good\n"
     ]
    },
    {
     "name": "stderr",
     "output_type": "stream",
     "text": [
      "\n",
      "\n",
      "\n",
      "\n",
      "t:  13%|█▎        | 161/1260 [00:14<01:39, 11.04it/s, now=None]\u001b[A\u001b[A\u001b[A\u001b[A\n",
      "\n",
      "\n",
      "\n",
      "t:  13%|█▎        | 163/1260 [00:14<01:35, 11.52it/s, now=None]\u001b[A\u001b[A\u001b[A\u001b[A"
     ]
    },
    {
     "name": "stdout",
     "output_type": "stream",
     "text": [
      "from memory 359 1008\n",
      "\n",
      "281.1377208881818 379.19140693266127\n",
      "all good\n",
      "from memory 358 1019\n",
      "\n",
      "279.7395294550248 492.1980516229469\n",
      "all good\n",
      "from memory 360 1132\n",
      "\n",
      "The function failed to fit a line!\n",
      "279.7395294550248 492.1980516229469\n"
     ]
    },
    {
     "name": "stderr",
     "output_type": "stream",
     "text": [
      "\n",
      "\n",
      "\n",
      "\n",
      "t:  13%|█▎        | 165/1260 [00:14<01:33, 11.72it/s, now=None]\u001b[A\u001b[A\u001b[A\u001b[A"
     ]
    },
    {
     "name": "stdout",
     "output_type": "stream",
     "text": [
      "\n",
      "282.92783723249 400.0948769220531\n",
      "all good\n",
      "from memory 357 1040\n",
      "\n",
      "282.787475766576 378.585281634746\n",
      "all good\n",
      "from memory 357 1018\n",
      "\n",
      "283.03867531602896 366.76200657168965\n",
      "all good\n"
     ]
    },
    {
     "name": "stderr",
     "output_type": "stream",
     "text": [
      "\n",
      "\n",
      "\n",
      "\n",
      "t:  13%|█▎        | 167/1260 [00:14<01:34, 11.60it/s, now=None]\u001b[A\u001b[A\u001b[A\u001b[A"
     ]
    },
    {
     "name": "stdout",
     "output_type": "stream",
     "text": [
      "from memory 356 1006\n",
      "\n",
      "283.2677981447713 363.75491136411495\n",
      "all good\n",
      "from memory 356 1003\n",
      "\n",
      "284.8784927562908 365.2182424294788\n",
      "all good\n",
      "from memory 355 1005\n",
      "\n"
     ]
    },
    {
     "name": "stderr",
     "output_type": "stream",
     "text": [
      "\n",
      "\n",
      "\n",
      "\n",
      "t:  13%|█▎        | 169/1260 [00:14<01:35, 11.44it/s, now=None]\u001b[A\u001b[A\u001b[A\u001b[A\n",
      "\n",
      "\n",
      "\n",
      "t:  14%|█▎        | 171/1260 [00:15<01:36, 11.28it/s, now=None]\u001b[A\u001b[A\u001b[A\u001b[A"
     ]
    },
    {
     "name": "stdout",
     "output_type": "stream",
     "text": [
      "285.07190391313105 363.8570272223619\n",
      "all good\n",
      "from memory 354 1003\n",
      "\n",
      "288.1064828444555 365.71980945990913\n",
      "all good\n",
      "from memory 351 1005\n",
      "\n",
      "288.998142730206 365.10072830286447\n",
      "all good\n"
     ]
    },
    {
     "name": "stderr",
     "output_type": "stream",
     "text": [
      "\n",
      "\n",
      "\n",
      "\n",
      "t:  14%|█▎        | 173/1260 [00:15<01:34, 11.48it/s, now=None]\u001b[A\u001b[A\u001b[A\u001b[A"
     ]
    },
    {
     "name": "stdout",
     "output_type": "stream",
     "text": [
      "from memory 351 1005\n",
      "\n",
      "289.83647285372166 375.12274216856076\n",
      "all good\n",
      "from memory 350 1015\n",
      "\n",
      "289.8334738627932 406.87209130571046\n",
      "all good\n",
      "from memory 350 1046\n",
      "\n",
      "290.4333754429106 382.07530084701625\n",
      "all good\n"
     ]
    },
    {
     "name": "stderr",
     "output_type": "stream",
     "text": [
      "\n",
      "\n",
      "\n",
      "\n",
      "t:  14%|█▍        | 175/1260 [00:15<01:34, 11.42it/s, now=None]\u001b[A\u001b[A\u001b[A\u001b[A"
     ]
    },
    {
     "name": "stdout",
     "output_type": "stream",
     "text": [
      "from memory 349 1022\n",
      "\n",
      "292.9016570507603 360.43976749414674\n",
      "all good\n",
      "from memory 347 1000\n",
      "\n",
      "293.2449798744572 355.46152484371316\n",
      "all good\n",
      "from memory 346 995\n",
      "\n"
     ]
    },
    {
     "name": "stderr",
     "output_type": "stream",
     "text": [
      "\n",
      "\n",
      "\n",
      "\n",
      "t:  14%|█▍        | 177/1260 [00:15<01:36, 11.24it/s, now=None]\u001b[A\u001b[A\u001b[A\u001b[A\n",
      "\n",
      "\n",
      "\n",
      "t:  14%|█▍        | 179/1260 [00:15<01:35, 11.27it/s, now=None]\u001b[A\u001b[A\u001b[A\u001b[A"
     ]
    },
    {
     "name": "stdout",
     "output_type": "stream",
     "text": [
      "294.9448989259421 356.99934746667464\n",
      "all good\n",
      "from memory 345 996\n",
      "\n",
      "295.734599859937 351.9977175808501\n",
      "all good\n",
      "from memory 344 991\n",
      "\n",
      "296.95359260109 361.44838748301254\n",
      "all good\n"
     ]
    },
    {
     "name": "stderr",
     "output_type": "stream",
     "text": [
      "\n",
      "\n",
      "\n",
      "\n",
      "t:  14%|█▍        | 181/1260 [00:16<01:39, 10.88it/s, now=None]\u001b[A\u001b[A\u001b[A\u001b[A"
     ]
    },
    {
     "name": "stdout",
     "output_type": "stream",
     "text": [
      "from memory 343 1001\n",
      "\n",
      "300.34372325553113 355.13446858763996\n",
      "all good\n",
      "from memory 339 995\n",
      "\n",
      "302.63480799268876 358.1084091319216\n",
      "all good\n",
      "from memory 337 998\n",
      "\n"
     ]
    },
    {
     "name": "stderr",
     "output_type": "stream",
     "text": [
      "\n",
      "\n",
      "\n",
      "\n",
      "t:  15%|█▍        | 183/1260 [00:16<01:40, 10.67it/s, now=None]\u001b[A\u001b[A\u001b[A\u001b[A"
     ]
    },
    {
     "name": "stdout",
     "output_type": "stream",
     "text": [
      "301.6638005944302 358.364703370351\n",
      "all good\n",
      "from memory 338 998\n",
      "\n",
      "302.34346147580055 359.1456935540057\n",
      "all good\n",
      "from memory 337 999\n"
     ]
    },
    {
     "name": "stderr",
     "output_type": "stream",
     "text": [
      "\n",
      "\n",
      "\n",
      "\n",
      "t:  15%|█▍        | 185/1260 [00:16<01:44, 10.31it/s, now=None]\u001b[A\u001b[A\u001b[A\u001b[A"
     ]
    },
    {
     "name": "stdout",
     "output_type": "stream",
     "text": [
      "\n",
      "302.60351956339065 360.8500149071235\n",
      "all good\n",
      "from memory 337 1000\n",
      "\n",
      "302.6568094696044 357.99026492985763\n",
      "all good\n",
      "from memory 337 997\n",
      "\n",
      "299.5074566691719 347.58661393378225\n",
      "all good\n"
     ]
    },
    {
     "name": "stderr",
     "output_type": "stream",
     "text": [
      "\n",
      "\n",
      "\n",
      "\n",
      "t:  15%|█▍        | 187/1260 [00:16<01:42, 10.46it/s, now=None]\u001b[A\u001b[A\u001b[A\u001b[A\n",
      "\n",
      "\n",
      "\n",
      "t:  15%|█▌        | 189/1260 [00:16<01:37, 10.94it/s, now=None]\u001b[A\u001b[A\u001b[A\u001b[A"
     ]
    },
    {
     "name": "stdout",
     "output_type": "stream",
     "text": [
      "from memory 340 987\n",
      "\n",
      "295.4987518334331 385.82197595309776\n",
      "all good\n",
      "from memory 344 1025\n",
      "\n",
      "295.38722401498376 372.34150880385494\n",
      "all good\n",
      "from memory 344 1012\n",
      "\n",
      "294.98249081235315 362.6429034992326\n",
      "all good\n"
     ]
    },
    {
     "name": "stderr",
     "output_type": "stream",
     "text": [
      "\n",
      "\n",
      "\n",
      "\n",
      "t:  15%|█▌        | 191/1260 [00:17<01:37, 10.93it/s, now=None]\u001b[A\u001b[A\u001b[A\u001b[A"
     ]
    },
    {
     "name": "stdout",
     "output_type": "stream",
     "text": [
      "from memory 345 1002\n",
      "\n",
      "293.87709063893067 367.0619983424599\n",
      "all good\n",
      "from memory 346 1007\n",
      "\n",
      "291.7403855049859 362.8490990809487\n",
      "all good\n",
      "from memory 348 1002\n"
     ]
    },
    {
     "name": "stderr",
     "output_type": "stream",
     "text": [
      "\n",
      "\n",
      "\n",
      "\n",
      "t:  15%|█▌        | 193/1260 [00:17<01:41, 10.55it/s, now=None]\u001b[A\u001b[A\u001b[A\u001b[A"
     ]
    },
    {
     "name": "stdout",
     "output_type": "stream",
     "text": [
      "\n",
      "290.66423370151676 364.10996223666484\n",
      "all good\n",
      "from memory 349 1004\n",
      "\n",
      "287.0758785112537 362.9263861246179\n",
      "all good\n"
     ]
    },
    {
     "name": "stderr",
     "output_type": "stream",
     "text": [
      "\n",
      "\n",
      "\n",
      "\n",
      "t:  15%|█▌        | 195/1260 [00:17<01:47,  9.87it/s, now=None]\u001b[A\u001b[A\u001b[A\u001b[A"
     ]
    },
    {
     "name": "stdout",
     "output_type": "stream",
     "text": [
      "from memory 352 1002\n",
      "\n",
      "285.76445283336113 363.88318017813015\n",
      "all good\n",
      "from memory 354 1003\n",
      "\n",
      "281.6944990566011 363.26460766833486\n",
      "all good\n"
     ]
    },
    {
     "name": "stderr",
     "output_type": "stream",
     "text": [
      "\n",
      "\n",
      "\n",
      "\n",
      "t:  16%|█▌        | 197/1260 [00:17<01:51,  9.51it/s, now=None]\u001b[A\u001b[A\u001b[A\u001b[A"
     ]
    },
    {
     "name": "stdout",
     "output_type": "stream",
     "text": [
      "from memory 358 1003\n",
      "\n",
      "281.806481776419 367.2815671504063\n",
      "all good\n",
      "from memory 358 1007\n",
      "\n",
      "282.2028116736001 409.9988828407718\n",
      "all good\n"
     ]
    },
    {
     "name": "stderr",
     "output_type": "stream",
     "text": [
      "\n",
      "\n",
      "\n",
      "\n",
      "t:  16%|█▌        | 198/1260 [00:17<01:53,  9.38it/s, now=None]\u001b[A\u001b[A\u001b[A\u001b[A\n",
      "\n",
      "\n",
      "\n",
      "t:  16%|█▌        | 199/1260 [00:17<01:54,  9.27it/s, now=None]\u001b[A\u001b[A\u001b[A\u001b[A"
     ]
    },
    {
     "name": "stdout",
     "output_type": "stream",
     "text": [
      "from memory 357 1049\n",
      "\n",
      "280.0077259770027 414.37159479084926\n",
      "all good\n",
      "from memory 359 1054\n",
      "\n",
      "281.770775787638 396.8028670733697\n",
      "all good\n"
     ]
    },
    {
     "name": "stderr",
     "output_type": "stream",
     "text": [
      "\n",
      "\n",
      "\n",
      "\n",
      "t:  16%|█▌        | 200/1260 [00:18<02:04,  8.48it/s, now=None]\u001b[A\u001b[A\u001b[A\u001b[A\n",
      "\n",
      "\n",
      "\n",
      "t:  16%|█▌        | 201/1260 [00:18<02:01,  8.72it/s, now=None]\u001b[A\u001b[A\u001b[A\u001b[A"
     ]
    },
    {
     "name": "stdout",
     "output_type": "stream",
     "text": [
      "from memory 358 1036\n",
      "\n",
      "281.8573879525618 377.01115788861944\n",
      "all good\n",
      "from memory 358 1017\n",
      "\n",
      "287.60020951406165 366.25582302245175\n",
      "all good\n"
     ]
    },
    {
     "name": "stderr",
     "output_type": "stream",
     "text": [
      "\n",
      "\n",
      "\n",
      "\n",
      "t:  16%|█▌        | 202/1260 [00:18<02:03,  8.58it/s, now=None]\u001b[A\u001b[A\u001b[A\u001b[A\n",
      "\n",
      "\n",
      "\n",
      "t:  16%|█▌        | 203/1260 [00:18<02:00,  8.75it/s, now=None]\u001b[A\u001b[A\u001b[A\u001b[A"
     ]
    },
    {
     "name": "stdout",
     "output_type": "stream",
     "text": [
      "from memory 352 1006\n",
      "\n",
      "287.6448085700772 411.87096304877764\n",
      "all good\n",
      "from memory 352 1051\n",
      "\n",
      "292.00815731080957 377.6776605656805\n",
      "all good\n"
     ]
    },
    {
     "name": "stderr",
     "output_type": "stream",
     "text": [
      "\n",
      "\n",
      "\n",
      "\n",
      "t:  16%|█▌        | 204/1260 [00:18<02:05,  8.42it/s, now=None]\u001b[A\u001b[A\u001b[A\u001b[A\n",
      "\n",
      "\n",
      "\n",
      "t:  16%|█▋        | 206/1260 [00:18<01:53,  9.27it/s, now=None]\u001b[A\u001b[A\u001b[A\u001b[A"
     ]
    },
    {
     "name": "stdout",
     "output_type": "stream",
     "text": [
      "from memory 347 1017\n",
      "\n",
      "293.11766448890666 377.9804602334068\n",
      "all good\n",
      "from memory 346 1017\n",
      "\n",
      "296.35129429494935 370.26319205973914\n",
      "all good\n",
      "from memory 343 1010\n",
      "\n",
      "295.88010681135745 369.1440880428223\n",
      "all good\n"
     ]
    },
    {
     "name": "stderr",
     "output_type": "stream",
     "text": [
      "\n",
      "\n",
      "\n",
      "\n",
      "t:  17%|█▋        | 208/1260 [00:18<01:46,  9.87it/s, now=None]\u001b[A\u001b[A\u001b[A\u001b[A"
     ]
    },
    {
     "name": "stdout",
     "output_type": "stream",
     "text": [
      "from memory 344 1009\n",
      "\n",
      "295.69821497115083 365.72595330586046\n",
      "all good\n",
      "from memory 344 1005\n",
      "\n",
      "295.6387482710794 362.3765935463855\n",
      "all good\n",
      "from memory 344 1002\n",
      "\n",
      "294.5931773847332 353.4846050051849\n",
      "all good\n"
     ]
    },
    {
     "name": "stderr",
     "output_type": "stream",
     "text": [
      "\n",
      "\n",
      "\n",
      "\n",
      "t:  17%|█▋        | 210/1260 [00:19<01:41, 10.33it/s, now=None]\u001b[A\u001b[A\u001b[A\u001b[A\n",
      "\n",
      "\n",
      "\n"
     ]
    },
    {
     "name": "stdout",
     "output_type": "stream",
     "text": [
      "from memory 345 993\n",
      "\n",
      "292.5784362140305 382.768263913115\n",
      "all good\n",
      "from memory 347 1022\n",
      "\n",
      "291.90213467050364 378.42973623652506\n",
      "all good\n",
      "from memory 348 1018\n",
      "\n",
      "293.9396582180282 376.9154243294979\n",
      "all good\n"
     ]
    },
    {
     "name": "stderr",
     "output_type": "stream",
     "text": [
      "t:  17%|█▋        | 212/1260 [00:19<01:38, 10.68it/s, now=None]\u001b[A\u001b[A\u001b[A\u001b[A\n",
      "\n",
      "\n",
      "\n",
      "t:  17%|█▋        | 214/1260 [00:19<01:33, 11.15it/s, now=None]\u001b[A\u001b[A\u001b[A\u001b[A"
     ]
    },
    {
     "name": "stdout",
     "output_type": "stream",
     "text": [
      "from memory 346 1016\n",
      "\n",
      "291.54588902927776 404.3193104776756\n",
      "all good\n",
      "from memory 348 1044\n",
      "\n",
      "291.5341158959355 407.94901492493864\n",
      "all good\n",
      "from memory 348 1047\n",
      "\n",
      "292.38641829164135 371.45141005036135\n",
      "all good\n"
     ]
    },
    {
     "name": "stderr",
     "output_type": "stream",
     "text": [
      "\n",
      "\n",
      "\n",
      "\n",
      "t:  17%|█▋        | 216/1260 [00:19<01:32, 11.29it/s, now=None]\u001b[A\u001b[A\u001b[A\u001b[A"
     ]
    },
    {
     "name": "stdout",
     "output_type": "stream",
     "text": [
      "from memory 347 1011\n",
      "\n",
      "292.0727548862295 371.3705671549517\n",
      "all good\n",
      "from memory 347 1011\n",
      "\n",
      "293.7788859114425 366.2398189665482\n",
      "all good\n",
      "from memory 346 1006\n",
      "\n",
      "292.85588933099297 360.3743815262304\n",
      "all good\n"
     ]
    },
    {
     "name": "stderr",
     "output_type": "stream",
     "text": [
      "\n",
      "\n",
      "\n",
      "\n",
      "t:  17%|█▋        | 218/1260 [00:19<01:31, 11.40it/s, now=None]\u001b[A\u001b[A\u001b[A\u001b[A\n",
      "\n",
      "\n",
      "\n",
      "t:  17%|█▋        | 220/1260 [00:19<01:31, 11.41it/s, now=None]\u001b[A\u001b[A\u001b[A\u001b[A"
     ]
    },
    {
     "name": "stdout",
     "output_type": "stream",
     "text": [
      "from memory 347 1000\n",
      "\n",
      "293.21325711663076 361.2572728543563\n",
      "all good\n",
      "from memory 346 1001\n",
      "\n",
      "293.13340796776515 358.6888357770638\n",
      "all good\n",
      "from memory 346 998\n",
      "\n",
      "292.9304913997921 355.5249549931135\n",
      "all good\n"
     ]
    },
    {
     "name": "stderr",
     "output_type": "stream",
     "text": [
      "\n",
      "\n",
      "\n",
      "\n",
      "t:  18%|█▊        | 222/1260 [00:20<01:30, 11.42it/s, now=None]\u001b[A\u001b[A\u001b[A\u001b[A"
     ]
    },
    {
     "name": "stdout",
     "output_type": "stream",
     "text": [
      "from memory 347 995\n",
      "\n",
      "291.3937207429162 369.49699981233834\n",
      "all good\n",
      "from memory 348 1009\n",
      "\n",
      "291.297078149405 357.2457851099956\n",
      "all good\n",
      "from memory 348 997\n",
      "\n"
     ]
    },
    {
     "name": "stderr",
     "output_type": "stream",
     "text": [
      "\n",
      "\n",
      "\n",
      "\n",
      "t:  18%|█▊        | 224/1260 [00:20<01:32, 11.21it/s, now=None]\u001b[A\u001b[A\u001b[A\u001b[A\n",
      "\n",
      "\n",
      "\n",
      "t:  18%|█▊        | 226/1260 [00:20<01:30, 11.36it/s, now=None]\u001b[A\u001b[A\u001b[A\u001b[A"
     ]
    },
    {
     "name": "stdout",
     "output_type": "stream",
     "text": [
      "290.91267995615556 355.05709066880536\n",
      "all good\n",
      "from memory 349 995\n",
      "\n",
      "287.66464895268894 358.0917032018657\n",
      "all good\n",
      "from memory 352 998\n",
      "\n",
      "289.46366226468797 407.54454296741187\n",
      "all good\n"
     ]
    },
    {
     "name": "stderr",
     "output_type": "stream",
     "text": [
      "\n",
      "\n",
      "\n",
      "\n",
      "t:  18%|█▊        | 228/1260 [00:20<01:34, 10.88it/s, now=None]\u001b[A\u001b[A\u001b[A\u001b[A"
     ]
    },
    {
     "name": "stdout",
     "output_type": "stream",
     "text": [
      "from memory 350 1047\n",
      "\n",
      "290.80607471821605 356.3346790300052\n",
      "all good\n",
      "from memory 349 996\n",
      "\n",
      "292.2734925783155 356.02407078549913\n",
      "all good\n",
      "from memory 347 996\n",
      "\n"
     ]
    },
    {
     "name": "stderr",
     "output_type": "stream",
     "text": [
      "\n",
      "\n",
      "\n",
      "\n",
      "t:  18%|█▊        | 230/1260 [00:20<01:36, 10.69it/s, now=None]\u001b[A\u001b[A\u001b[A\u001b[A"
     ]
    },
    {
     "name": "stdout",
     "output_type": "stream",
     "text": [
      "294.23917561161494 350.95312152604686\n",
      "all good\n",
      "from memory 345 990\n",
      "\n",
      "293.91567797671007 347.17738921736793\n",
      "all good\n",
      "from memory 346 987\n",
      "\n",
      "297.49485933966366 351.3001457447224\n",
      "all good\n"
     ]
    },
    {
     "name": "stderr",
     "output_type": "stream",
     "text": [
      "\n",
      "\n",
      "\n",
      "\n",
      "t:  18%|█▊        | 232/1260 [00:20<01:35, 10.77it/s, now=None]\u001b[A\u001b[A\u001b[A\u001b[A"
     ]
    },
    {
     "name": "stdout",
     "output_type": "stream",
     "text": [
      "from memory 342 991\n",
      "\n",
      "299.72385094562026 350.6351847345775\n",
      "all good\n",
      "from memory 340 990\n",
      "\n",
      "301.31716443773223 354.9428584480846\n",
      "all good\n",
      "from memory 338 994\n",
      "\n",
      "302.3443723716297 400.8869679556892\n",
      "all good\n"
     ]
    },
    {
     "name": "stderr",
     "output_type": "stream",
     "text": [
      "\n",
      "\n",
      "\n",
      "\n",
      "t:  19%|█▊        | 234/1260 [00:21<01:33, 11.02it/s, now=None]\u001b[A\u001b[A\u001b[A\u001b[A\n",
      "\n",
      "\n",
      "\n",
      "t:  19%|█▊        | 236/1260 [00:21<01:33, 10.96it/s, now=None]\u001b[A\u001b[A\u001b[A\u001b[A"
     ]
    },
    {
     "name": "stdout",
     "output_type": "stream",
     "text": [
      "from memory 337 1040\n",
      "\n",
      "304.39843909963275 396.16291645483125\n",
      "all good\n",
      "from memory 335 1036\n",
      "\n",
      "307.3322434139213 356.61561139063633\n",
      "all good\n",
      "from memory 332 996\n",
      "\n",
      "308.3415039198289 343.8723788365389\n",
      "all good\n"
     ]
    },
    {
     "name": "stderr",
     "output_type": "stream",
     "text": [
      "\n",
      "\n",
      "\n",
      "\n",
      "t:  19%|█▉        | 238/1260 [00:21<01:33, 10.88it/s, now=None]\u001b[A\u001b[A\u001b[A\u001b[A"
     ]
    },
    {
     "name": "stdout",
     "output_type": "stream",
     "text": [
      "from memory 331 983\n",
      "\n",
      "310.16986414303466 359.5757906866563\n",
      "all good\n",
      "from memory 329 999\n",
      "\n",
      "311.56370592971643 346.6139331662597\n",
      "all good\n",
      "from memory 328 986\n",
      "\n",
      "313.0087542490528 362.7119356965991\n",
      "all good\n"
     ]
    },
    {
     "name": "stderr",
     "output_type": "stream",
     "text": [
      "\n",
      "\n",
      "\n",
      "\n",
      "t:  19%|█▉        | 240/1260 [00:21<01:32, 11.00it/s, now=None]\u001b[A\u001b[A\u001b[A\u001b[A\n",
      "\n",
      "\n",
      "\n",
      "t:  19%|█▉        | 242/1260 [00:21<01:31, 11.09it/s, now=None]\u001b[A\u001b[A\u001b[A\u001b[A"
     ]
    },
    {
     "name": "stdout",
     "output_type": "stream",
     "text": [
      "from memory 326 1002\n",
      "\n",
      "313.7153124103541 338.78227370865284\n",
      "all good\n",
      "from memory 326 978\n",
      "\n",
      "316.75949373347913 333.376376697861\n",
      "all good\n",
      "from memory 323 973\n",
      "\n",
      "319.1707441499175 335.9665780296335\n",
      "all good\n"
     ]
    },
    {
     "name": "stderr",
     "output_type": "stream",
     "text": [
      "\n",
      "\n",
      "\n",
      "\n",
      "t:  19%|█▉        | 244/1260 [00:22<01:31, 11.09it/s, now=None]\u001b[A\u001b[A\u001b[A\u001b[A\n",
      "\n",
      "\n",
      "\n",
      "t:  20%|█▉        | 246/1260 [00:22<01:30, 11.21it/s, now=None]\u001b[A\u001b[A\u001b[A\u001b[A"
     ]
    },
    {
     "name": "stdout",
     "output_type": "stream",
     "text": [
      "from memory 320 975\n",
      "\n",
      "319.0713885933843 333.18931603407896\n",
      "all good\n",
      "from memory 320 973\n",
      "\n",
      "318.4618312669415 332.0526081796436\n",
      "all good\n",
      "from memory 321 972\n",
      "\n",
      "319.2966874481043 330.5826262477001\n",
      "all good\n"
     ]
    },
    {
     "name": "stderr",
     "output_type": "stream",
     "text": [
      "\n",
      "\n",
      "\n",
      "\n",
      "t:  20%|█▉        | 248/1260 [00:22<01:28, 11.41it/s, now=None]\u001b[A\u001b[A\u001b[A\u001b[A"
     ]
    },
    {
     "name": "stdout",
     "output_type": "stream",
     "text": [
      "from memory 320 970\n",
      "\n",
      "318.6228398605064 345.609224691937\n",
      "all good\n",
      "from memory 321 985\n",
      "\n",
      "319.59279192938504 343.39607811496705\n",
      "all good\n",
      "from memory 320 983\n",
      "\n",
      "319.60045378735214 329.6803643107154\n",
      "all good\n"
     ]
    },
    {
     "name": "stderr",
     "output_type": "stream",
     "text": [
      "\n",
      "\n",
      "\n",
      "\n",
      "t:  20%|█▉        | 250/1260 [00:22<01:30, 11.20it/s, now=None]\u001b[A\u001b[A\u001b[A\u001b[A"
     ]
    },
    {
     "name": "stdout",
     "output_type": "stream",
     "text": [
      "from memory 320 969\n",
      "\n",
      "320.5623158493389 322.01483941331526\n",
      "all good\n",
      "from memory 319 962\n",
      "\n",
      "317.40167698656336 321.71143340961316\n",
      "all good\n",
      "from memory 322 961\n",
      "\n",
      "319.2710674325032 325.15921059853144\n",
      "all good\n"
     ]
    },
    {
     "name": "stderr",
     "output_type": "stream",
     "text": [
      "\n",
      "\n",
      "\n",
      "\n",
      "t:  20%|██        | 252/1260 [00:22<01:30, 11.10it/s, now=None]\u001b[A\u001b[A\u001b[A\u001b[A\n",
      "\n",
      "\n",
      "\n",
      "t:  20%|██        | 254/1260 [00:22<01:34, 10.68it/s, now=None]\u001b[A\u001b[A\u001b[A\u001b[A"
     ]
    },
    {
     "name": "stdout",
     "output_type": "stream",
     "text": [
      "from memory 320 965\n",
      "\n",
      "319.87977119302934 329.8622821333047\n",
      "all good\n",
      "from memory 320 969\n",
      "\n",
      "320.30092940885635 330.6338030691335\n",
      "all good\n",
      "from memory 319 970\n",
      "\n",
      "319.14194580950357 330.6373467779024\n",
      "all good\n"
     ]
    },
    {
     "name": "stderr",
     "output_type": "stream",
     "text": [
      "\n",
      "\n",
      "\n",
      "\n",
      "t:  20%|██        | 256/1260 [00:23<01:35, 10.47it/s, now=None]\u001b[A\u001b[A\u001b[A\u001b[A\n",
      "\n",
      "\n",
      "\n",
      "t:  20%|██        | 258/1260 [00:23<01:32, 10.84it/s, now=None]\u001b[A\u001b[A\u001b[A\u001b[A"
     ]
    },
    {
     "name": "stdout",
     "output_type": "stream",
     "text": [
      "from memory 320 970\n",
      "\n",
      "319.5130137593137 330.9990307491082\n",
      "all good\n",
      "from memory 320 970\n",
      "\n",
      "317.13566350444046 329.8493941657325\n",
      "all good\n",
      "from memory 322 969\n",
      "\n",
      "316.65613789349356 305.81728570490475\n",
      "all good\n"
     ]
    },
    {
     "name": "stderr",
     "output_type": "stream",
     "text": [
      "\n",
      "\n",
      "\n",
      "\n",
      "t:  21%|██        | 260/1260 [00:23<01:31, 10.90it/s, now=None]\u001b[A\u001b[A\u001b[A\u001b[A"
     ]
    },
    {
     "name": "stdout",
     "output_type": "stream",
     "text": [
      "from memory 323 945\n",
      "\n",
      "316.25552302320636 318.7527269634711\n",
      "all good\n",
      "from memory 323 958\n",
      "\n",
      "315.5805047056315 352.7722452502401\n",
      "all good\n",
      "from memory 324 992\n",
      "\n",
      "316.72393939137305 345.4016841186394\n",
      "all good\n"
     ]
    },
    {
     "name": "stderr",
     "output_type": "stream",
     "text": [
      "\n",
      "\n",
      "\n",
      "\n",
      "t:  21%|██        | 262/1260 [00:23<01:30, 11.05it/s, now=None]\u001b[A\u001b[A\u001b[A\u001b[A"
     ]
    },
    {
     "name": "stdout",
     "output_type": "stream",
     "text": [
      "from memory 323 985\n",
      "\n",
      "315.99767939383764 328.1684369744273\n",
      "all good\n",
      "from memory 324 968\n",
      "\n",
      "315.0465487500469 326.8358703844467\n",
      "all good\n",
      "from memory 324 966\n",
      "\n",
      "316.28197570431314 331.8082067072123\n",
      "all good\n"
     ]
    },
    {
     "name": "stderr",
     "output_type": "stream",
     "text": [
      "\n",
      "\n",
      "\n",
      "\n",
      "t:  21%|██        | 264/1260 [00:23<01:29, 11.07it/s, now=None]\u001b[A\u001b[A\u001b[A\u001b[A\n",
      "\n",
      "\n",
      "\n",
      "t:  21%|██        | 266/1260 [00:24<01:30, 10.94it/s, now=None]\u001b[A\u001b[A\u001b[A\u001b[A"
     ]
    },
    {
     "name": "stdout",
     "output_type": "stream",
     "text": [
      "from memory 323 971\n",
      "\n",
      "317.8105104247297 332.5090056723526\n",
      "all good\n",
      "from memory 322 972\n",
      "\n",
      "316.54144742955526 333.39057615872787\n",
      "all good\n",
      "from memory 323 973\n",
      "\n",
      "318.2069021422732 338.8219158781143\n",
      "all good\n"
     ]
    },
    {
     "name": "stderr",
     "output_type": "stream",
     "text": [
      "\n",
      "\n",
      "\n",
      "\n",
      "t:  21%|██▏       | 268/1260 [00:24<01:31, 10.90it/s, now=None]\u001b[A\u001b[A\u001b[A\u001b[A\n",
      "\n",
      "\n",
      "\n",
      "t:  21%|██▏       | 270/1260 [00:24<01:27, 11.35it/s, now=None]\u001b[A\u001b[A\u001b[A\u001b[A"
     ]
    },
    {
     "name": "stdout",
     "output_type": "stream",
     "text": [
      "from memory 321 978\n",
      "\n",
      "319.1256387266171 347.4026008224206\n",
      "all good\n",
      "from memory 320 987\n",
      "\n",
      "319.27566465827374 351.0971539941103\n",
      "all good\n",
      "from memory 320 991\n",
      "\n",
      "319.9833754180918 349.31081042513904\n",
      "all good\n"
     ]
    },
    {
     "name": "stderr",
     "output_type": "stream",
     "text": [
      "\n",
      "\n",
      "\n",
      "\n",
      "t:  22%|██▏       | 272/1260 [00:24<01:27, 11.26it/s, now=None]\u001b[A\u001b[A\u001b[A\u001b[A"
     ]
    },
    {
     "name": "stdout",
     "output_type": "stream",
     "text": [
      "from memory 320 989\n",
      "\n",
      "316.93101485667387 424.6971197066223\n",
      "all good\n",
      "from memory 323 1064\n",
      "\n",
      "317.90564173204746 339.78502436245253\n",
      "all good\n",
      "from memory 322 979\n",
      "\n",
      "313.73134901301603 340.83990975520044\n",
      "all good\n"
     ]
    },
    {
     "name": "stderr",
     "output_type": "stream",
     "text": [
      "\n",
      "\n",
      "\n",
      "\n",
      "t:  22%|██▏       | 274/1260 [00:24<01:30, 10.93it/s, now=None]\u001b[A\u001b[A\u001b[A\u001b[A"
     ]
    },
    {
     "name": "stdout",
     "output_type": "stream",
     "text": [
      "from memory 326 980\n",
      "\n",
      "313.4087991379306 340.3047268524199\n",
      "all good\n",
      "from memory 326 980\n",
      "\n",
      "312.09140561553204 335.0646292828642\n",
      "all good\n",
      "from memory 327 975\n"
     ]
    },
    {
     "name": "stderr",
     "output_type": "stream",
     "text": [
      "\n",
      "\n",
      "\n",
      "\n",
      "t:  22%|██▏       | 276/1260 [00:24<01:32, 10.68it/s, now=None]\u001b[A\u001b[A\u001b[A\u001b[A\n",
      "\n",
      "\n",
      "\n",
      "t:  22%|██▏       | 278/1260 [00:25<01:30, 10.82it/s, now=None]\u001b[A\u001b[A\u001b[A\u001b[A"
     ]
    },
    {
     "name": "stdout",
     "output_type": "stream",
     "text": [
      "\n",
      "311.6272939304247 339.89692656418583\n",
      "all good\n",
      "from memory 328 979\n",
      "\n",
      "310.79537930345316 343.37701898671446\n",
      "all good\n",
      "from memory 329 983\n",
      "\n",
      "309.5953095390248 343.6715402039347\n",
      "all good\n"
     ]
    },
    {
     "name": "stderr",
     "output_type": "stream",
     "text": [
      "\n",
      "\n",
      "\n",
      "\n",
      "t:  22%|██▏       | 280/1260 [00:25<01:30, 10.78it/s, now=None]\u001b[A\u001b[A\u001b[A\u001b[A"
     ]
    },
    {
     "name": "stdout",
     "output_type": "stream",
     "text": [
      "from memory 330 983\n",
      "\n",
      "308.643567268073 344.70924097045076\n",
      "all good\n",
      "from memory 331 984\n",
      "\n",
      "305.1257934085973 341.5771199380947\n",
      "all good\n",
      "from memory 334 981\n",
      "\n",
      "303.24196829277747 341.4413265444539\n",
      "all good\n"
     ]
    },
    {
     "name": "stderr",
     "output_type": "stream",
     "text": [
      "\n",
      "\n",
      "\n",
      "\n",
      "t:  22%|██▏       | 282/1260 [00:25<01:28, 11.02it/s, now=None]\u001b[A\u001b[A\u001b[A\u001b[A"
     ]
    },
    {
     "name": "stdout",
     "output_type": "stream",
     "text": [
      "from memory 336 981\n",
      "\n",
      "302.78127876346275 349.3260815105997\n",
      "all good\n",
      "from memory 337 989\n",
      "\n",
      "302.903313893068 352.00157626672114\n",
      "all good\n",
      "from memory 337 992\n"
     ]
    },
    {
     "name": "stderr",
     "output_type": "stream",
     "text": [
      "\n",
      "\n",
      "\n",
      "\n",
      "t:  23%|██▎       | 284/1260 [00:25<01:30, 10.84it/s, now=None]\u001b[A\u001b[A\u001b[A\u001b[A\n",
      "\n",
      "\n",
      "\n"
     ]
    },
    {
     "name": "stdout",
     "output_type": "stream",
     "text": [
      "\n",
      "301.88429901038245 349.2583449001488\n",
      "all good\n",
      "from memory 338 989\n",
      "\n",
      "297.7536807920196 347.2044860240894\n",
      "all good\n",
      "from memory 342 987\n",
      "\n",
      "296.26392508746926 338.61438551331776\n",
      "all good\n"
     ]
    },
    {
     "name": "stderr",
     "output_type": "stream",
     "text": [
      "t:  23%|██▎       | 286/1260 [00:25<01:29, 10.87it/s, now=None]\u001b[A\u001b[A\u001b[A\u001b[A\n",
      "\n",
      "\n",
      "\n",
      "t:  23%|██▎       | 288/1260 [00:26<01:29, 10.87it/s, now=None]\u001b[A\u001b[A\u001b[A\u001b[A"
     ]
    },
    {
     "name": "stdout",
     "output_type": "stream",
     "text": [
      "from memory 343 978\n",
      "\n",
      "299.08972769624745 344.46404941128094\n",
      "all good\n",
      "from memory 340 984\n",
      "\n",
      "297.4701862797323 346.6649696195367\n",
      "all good\n",
      "from memory 342 986\n",
      "\n",
      "296.7631841158181 352.37168433336456\n",
      "all good\n"
     ]
    },
    {
     "name": "stderr",
     "output_type": "stream",
     "text": [
      "\n",
      "\n",
      "\n",
      "\n",
      "t:  23%|██▎       | 290/1260 [00:26<01:29, 10.86it/s, now=None]\u001b[A\u001b[A\u001b[A\u001b[A\n",
      "\n",
      "\n",
      "\n",
      "t:  23%|██▎       | 292/1260 [00:26<01:26, 11.22it/s, now=None]\u001b[A\u001b[A\u001b[A\u001b[A"
     ]
    },
    {
     "name": "stdout",
     "output_type": "stream",
     "text": [
      "from memory 343 992\n",
      "\n",
      "297.13975968476757 350.9307880599571\n",
      "all good\n",
      "from memory 342 990\n",
      "\n",
      "297.77955823477646 355.1881228161908\n",
      "all good\n",
      "from memory 342 995\n",
      "\n",
      "294.9379107360204 363.31888735693474\n",
      "all good\n"
     ]
    },
    {
     "name": "stderr",
     "output_type": "stream",
     "text": [
      "\n",
      "\n",
      "\n",
      "\n",
      "t:  23%|██▎       | 294/1260 [00:26<01:25, 11.33it/s, now=None]\u001b[A\u001b[A\u001b[A\u001b[A"
     ]
    },
    {
     "name": "stdout",
     "output_type": "stream",
     "text": [
      "from memory 345 1003\n",
      "\n",
      "293.88901330244687 368.8051613684113\n",
      "all good\n",
      "from memory 346 1008\n",
      "\n",
      "295.0025723435008 350.91799377013353\n",
      "all good\n",
      "from memory 344 990\n"
     ]
    },
    {
     "name": "stderr",
     "output_type": "stream",
     "text": [
      "\n",
      "\n",
      "\n",
      "\n",
      "t:  23%|██▎       | 296/1260 [00:26<01:28, 10.95it/s, now=None]\u001b[A\u001b[A\u001b[A\u001b[A"
     ]
    },
    {
     "name": "stdout",
     "output_type": "stream",
     "text": [
      "\n",
      "293.43308265470193 352.70358671858355\n",
      "all good\n",
      "from memory 346 992\n",
      "\n",
      "293.1158822178598 356.32627787002\n",
      "all good\n",
      "from memory 346 996\n",
      "\n",
      "294.1959494437676 356.93350575820705\n",
      "all good\n"
     ]
    },
    {
     "name": "stderr",
     "output_type": "stream",
     "text": [
      "\n",
      "\n",
      "\n",
      "\n",
      "t:  24%|██▎       | 298/1260 [00:26<01:30, 10.67it/s, now=None]\u001b[A\u001b[A\u001b[A\u001b[A\n",
      "\n",
      "\n",
      "\n",
      "t:  24%|██▍       | 300/1260 [00:27<01:26, 11.10it/s, now=None]\u001b[A\u001b[A\u001b[A\u001b[A"
     ]
    },
    {
     "name": "stdout",
     "output_type": "stream",
     "text": [
      "from memory 345 996\n",
      "\n",
      "294.5156388424935 355.68435593622735\n",
      "all good\n",
      "from memory 345 995\n",
      "\n",
      "291.8605467381574 357.3764010671239\n",
      "all good\n",
      "from memory 348 997\n",
      "\n",
      "292.45933214053605 375.08724839473814\n",
      "all good\n"
     ]
    },
    {
     "name": "stderr",
     "output_type": "stream",
     "text": [
      "\n",
      "\n",
      "\n",
      "\n",
      "t:  24%|██▍       | 302/1260 [00:27<01:26, 11.11it/s, now=None]\u001b[A\u001b[A\u001b[A\u001b[A"
     ]
    },
    {
     "name": "stdout",
     "output_type": "stream",
     "text": [
      "from memory 347 1015\n",
      "\n",
      "294.4330692837201 359.94124704193064\n",
      "all good\n",
      "from memory 345 999\n",
      "\n",
      "291.0953164713969 358.97473152730527\n",
      "all good\n",
      "from memory 348 998\n",
      "\n",
      "292.9533286424369 360.61841667077556\n",
      "all good\n"
     ]
    },
    {
     "name": "stderr",
     "output_type": "stream",
     "text": [
      "\n",
      "\n",
      "\n",
      "\n",
      "t:  24%|██▍       | 304/1260 [00:27<01:25, 11.18it/s, now=None]\u001b[A\u001b[A\u001b[A\u001b[A\n",
      "\n",
      "\n",
      "\n",
      "t:  24%|██▍       | 306/1260 [00:27<01:22, 11.53it/s, now=None]\u001b[A\u001b[A\u001b[A\u001b[A"
     ]
    },
    {
     "name": "stdout",
     "output_type": "stream",
     "text": [
      "from memory 347 1000\n",
      "\n",
      "294.9397462793944 361.0048659627014\n",
      "all good\n",
      "from memory 345 1001\n",
      "\n",
      "295.80440737396646 359.5033146449747\n",
      "all good\n",
      "from memory 344 999\n",
      "\n",
      "295.4245118288247 369.5637788810285\n",
      "all good\n"
     ]
    },
    {
     "name": "stderr",
     "output_type": "stream",
     "text": [
      "\n",
      "\n",
      "\n",
      "\n",
      "t:  24%|██▍       | 308/1260 [00:27<01:24, 11.20it/s, now=None]\u001b[A\u001b[A\u001b[A\u001b[A"
     ]
    },
    {
     "name": "stdout",
     "output_type": "stream",
     "text": [
      "from memory 344 1009\n",
      "\n",
      "296.4353022861559 373.1088830844268\n",
      "all good\n",
      "from memory 343 1013\n",
      "\n",
      "297.1975320284746 376.9273675430054\n",
      "all good\n",
      "from memory 342 1016\n",
      "\n"
     ]
    },
    {
     "name": "stderr",
     "output_type": "stream",
     "text": [
      "\n",
      "\n",
      "\n",
      "\n",
      "t:  25%|██▍       | 310/1260 [00:28<01:29, 10.58it/s, now=None]\u001b[A\u001b[A\u001b[A\u001b[A"
     ]
    },
    {
     "name": "stdout",
     "output_type": "stream",
     "text": [
      "293.2307600178124 370.0238625930008\n",
      "all good\n",
      "from memory 346 1010\n",
      "\n",
      "289.39137478548304 369.47437134022493\n",
      "all good\n",
      "from memory 350 1009\n",
      "\n",
      "284.83419071136 383.6260924181611\n",
      "all good\n"
     ]
    },
    {
     "name": "stderr",
     "output_type": "stream",
     "text": [
      "\n",
      "\n",
      "\n",
      "\n",
      "t:  25%|██▍       | 312/1260 [00:28<01:30, 10.46it/s, now=None]\u001b[A\u001b[A\u001b[A\u001b[A\n",
      "\n",
      "\n",
      "\n",
      "t:  25%|██▍       | 314/1260 [00:28<01:27, 10.78it/s, now=None]\u001b[A\u001b[A\u001b[A\u001b[A"
     ]
    },
    {
     "name": "stdout",
     "output_type": "stream",
     "text": [
      "from memory 355 1023\n",
      "\n",
      "284.4753540704406 385.6185285570791\n",
      "all good\n",
      "from memory 355 1025\n",
      "\n",
      "288.2340052329493 371.49118902263956\n",
      "all good\n",
      "from memory 351 1011\n",
      "\n",
      "285.8694941226389 362.5217934072374\n",
      "all good\n"
     ]
    },
    {
     "name": "stderr",
     "output_type": "stream",
     "text": [
      "\n",
      "\n",
      "\n",
      "\n",
      "t:  25%|██▌       | 316/1260 [00:28<01:28, 10.73it/s, now=None]\u001b[A\u001b[A\u001b[A\u001b[A"
     ]
    },
    {
     "name": "stdout",
     "output_type": "stream",
     "text": [
      "from memory 354 1002\n",
      "\n",
      "283.33182356152236 364.7487829425962\n",
      "all good\n",
      "from memory 356 1004\n",
      "\n",
      "281.86946222465804 366.28002070140667\n",
      "all good\n",
      "from memory 358 1006\n",
      "\n",
      "285.66961100393104 364.5296110593514\n",
      "all good\n"
     ]
    },
    {
     "name": "stderr",
     "output_type": "stream",
     "text": [
      "\n",
      "\n",
      "\n",
      "\n",
      "t:  25%|██▌       | 318/1260 [00:28<01:27, 10.81it/s, now=None]\u001b[A\u001b[A\u001b[A\u001b[A"
     ]
    },
    {
     "name": "stdout",
     "output_type": "stream",
     "text": [
      "from memory 354 1004\n",
      "\n",
      "283.8081700183042 334.2771250850062\n",
      "all good\n",
      "from memory 356 974\n",
      "\n",
      "285.36886184593595 322.66279962236536\n",
      "all good\n",
      "from memory 354 962\n",
      "\n",
      "282.9053415849804 340.88148432624496\n",
      "all good\n"
     ]
    },
    {
     "name": "stderr",
     "output_type": "stream",
     "text": [
      "\n",
      "\n",
      "\n",
      "\n",
      "t:  25%|██▌       | 320/1260 [00:28<01:26, 10.92it/s, now=None]\u001b[A\u001b[A\u001b[A\u001b[A\n",
      "\n",
      "\n",
      "\n",
      "t:  26%|██▌       | 322/1260 [00:29<01:22, 11.32it/s, now=None]\u001b[A\u001b[A\u001b[A\u001b[A"
     ]
    },
    {
     "name": "stdout",
     "output_type": "stream",
     "text": [
      "from memory 357 980\n",
      "\n",
      "284.55553901108584 335.1972906715878\n",
      "all good\n",
      "from memory 355 975\n",
      "\n",
      "281.208359961372 349.68517045224223\n",
      "all good\n",
      "from memory 358 989\n",
      "\n",
      "282.061594150686 349.39089709716814\n",
      "all good\n"
     ]
    },
    {
     "name": "stderr",
     "output_type": "stream",
     "text": [
      "\n",
      "\n",
      "\n",
      "\n",
      "t:  26%|██▌       | 324/1260 [00:29<01:23, 11.28it/s, now=None]\u001b[A\u001b[A\u001b[A\u001b[A\n",
      "\n",
      "\n",
      "\n",
      "t:  26%|██▌       | 326/1260 [00:29<01:20, 11.60it/s, now=None]\u001b[A\u001b[A\u001b[A\u001b[A"
     ]
    },
    {
     "name": "stdout",
     "output_type": "stream",
     "text": [
      "from memory 357 989\n",
      "\n",
      "281.58825074193226 347.3947632603731\n",
      "all good\n",
      "from memory 358 987\n",
      "\n",
      "284.576880403605 355.1571275771737\n",
      "all good\n",
      "from memory 355 995\n",
      "\n",
      "285.9962020800145 354.061744226271\n",
      "all good\n"
     ]
    },
    {
     "name": "stderr",
     "output_type": "stream",
     "text": [
      "\n",
      "\n",
      "\n",
      "\n",
      "t:  26%|██▌       | 328/1260 [00:29<01:20, 11.59it/s, now=None]\u001b[A\u001b[A\u001b[A\u001b[A"
     ]
    },
    {
     "name": "stdout",
     "output_type": "stream",
     "text": [
      "from memory 354 994\n",
      "\n",
      "287.77133220276755 354.2622717846705\n",
      "all good\n",
      "from memory 352 994\n",
      "\n",
      "288.5907711118842 355.68957324231405\n",
      "all good\n",
      "from memory 351 995\n",
      "\n",
      "291.6232801531138 357.6226803928698\n",
      "all good\n"
     ]
    },
    {
     "name": "stderr",
     "output_type": "stream",
     "text": [
      "\n",
      "\n",
      "\n",
      "\n",
      "t:  26%|██▌       | 330/1260 [00:29<01:22, 11.31it/s, now=None]\u001b[A\u001b[A\u001b[A\u001b[A"
     ]
    },
    {
     "name": "stdout",
     "output_type": "stream",
     "text": [
      "from memory 348 997\n",
      "\n",
      "292.7712101732702 369.65721294379114\n",
      "all good\n",
      "from memory 347 1009\n",
      "\n",
      "286.5890025054399 397.33089802393624\n",
      "all good\n",
      "from memory 353 1037\n"
     ]
    },
    {
     "name": "stderr",
     "output_type": "stream",
     "text": [
      "\n",
      "\n",
      "\n",
      "\n",
      "t:  26%|██▋       | 332/1260 [00:30<01:25, 10.84it/s, now=None]\u001b[A\u001b[A\u001b[A\u001b[A"
     ]
    },
    {
     "name": "stdout",
     "output_type": "stream",
     "text": [
      "\n",
      "287.4692525892546 375.01589559737863\n",
      "all good\n",
      "from memory 352 1015\n",
      "\n",
      "284.82109954881184 370.9102280732724\n",
      "all good\n",
      "from memory 355 1010\n",
      "\n"
     ]
    },
    {
     "name": "stderr",
     "output_type": "stream",
     "text": [
      "\n",
      "\n",
      "\n",
      "\n",
      "t:  27%|██▋       | 334/1260 [00:30<01:26, 10.68it/s, now=None]\u001b[A\u001b[A\u001b[A\u001b[A"
     ]
    },
    {
     "name": "stdout",
     "output_type": "stream",
     "text": [
      "284.18124154165776 361.7744239504899\n",
      "all good\n",
      "from memory 355 1001\n",
      "\n",
      "285.66168245163703 367.4875445020117\n",
      "all good\n",
      "from memory 354 1007\n",
      "\n",
      "287.8461738205562 365.74608680949007\n",
      "all good\n"
     ]
    },
    {
     "name": "stderr",
     "output_type": "stream",
     "text": [
      "\n",
      "\n",
      "\n",
      "\n",
      "t:  27%|██▋       | 336/1260 [00:30<01:27, 10.54it/s, now=None]\u001b[A\u001b[A\u001b[A\u001b[A\n",
      "\n",
      "\n",
      "\n",
      "t:  27%|██▋       | 338/1260 [00:30<01:26, 10.63it/s, now=None]\u001b[A\u001b[A\u001b[A\u001b[A"
     ]
    },
    {
     "name": "stdout",
     "output_type": "stream",
     "text": [
      "from memory 352 1005\n",
      "\n",
      "286.82711622837303 366.89630739353777\n",
      "all good\n",
      "from memory 353 1006\n",
      "\n",
      "287.3069943626313 365.3852002828901\n",
      "all good\n",
      "from memory 352 1005\n",
      "\n",
      "286.4151820404035 364.1713198432427\n",
      "all good\n"
     ]
    },
    {
     "name": "stderr",
     "output_type": "stream",
     "text": [
      "\n",
      "\n",
      "\n",
      "\n",
      "t:  27%|██▋       | 340/1260 [00:30<01:25, 10.75it/s, now=None]\u001b[A\u001b[A\u001b[A\u001b[A\n",
      "\n",
      "\n",
      "\n",
      "t:  27%|██▋       | 342/1260 [00:30<01:23, 11.04it/s, now=None]\u001b[A\u001b[A\u001b[A\u001b[A"
     ]
    },
    {
     "name": "stdout",
     "output_type": "stream",
     "text": [
      "from memory 353 1004\n",
      "\n",
      "286.9670479210835 362.822089380859\n",
      "all good\n",
      "from memory 353 1002\n",
      "\n",
      "291.29885894557003 361.4074105366633\n",
      "all good\n",
      "from memory 348 1001\n",
      "\n",
      "282.2239514477932 363.99276632338524\n",
      "all good\n"
     ]
    },
    {
     "name": "stderr",
     "output_type": "stream",
     "text": [
      "\n",
      "\n",
      "\n",
      "\n",
      "t:  27%|██▋       | 344/1260 [00:31<01:20, 11.35it/s, now=None]\u001b[A\u001b[A\u001b[A\u001b[A"
     ]
    },
    {
     "name": "stdout",
     "output_type": "stream",
     "text": [
      "from memory 357 1003\n",
      "\n",
      "283.8564579916724 355.7351098792035\n",
      "all good\n",
      "from memory 356 995\n",
      "\n",
      "283.43681330992337 357.37490262351923\n",
      "all good\n",
      "from memory 356 997\n",
      "\n",
      "286.0078522397633 358.694711923995\n",
      "all good\n"
     ]
    },
    {
     "name": "stderr",
     "output_type": "stream",
     "text": [
      "\n",
      "\n",
      "\n",
      "\n",
      "t:  27%|██▋       | 346/1260 [00:31<01:20, 11.39it/s, now=None]\u001b[A\u001b[A\u001b[A\u001b[A"
     ]
    },
    {
     "name": "stdout",
     "output_type": "stream",
     "text": [
      "from memory 353 998\n",
      "\n",
      "284.3035550954681 358.8236581020791\n",
      "all good\n",
      "from memory 355 998\n",
      "\n",
      "285.3443885150739 360.33266881675604\n",
      "all good\n"
     ]
    },
    {
     "name": "stderr",
     "output_type": "stream",
     "text": [
      "\n",
      "\n",
      "\n",
      "\n",
      "t:  28%|██▊       | 348/1260 [00:31<01:22, 11.00it/s, now=None]\u001b[A\u001b[A\u001b[A\u001b[A"
     ]
    },
    {
     "name": "stdout",
     "output_type": "stream",
     "text": [
      "from memory 354 1000\n",
      "\n",
      "285.61300285655994 364.1202647906665\n",
      "all good\n",
      "from memory 354 1004\n",
      "\n",
      "286.18437263805066 359.9974575366691\n",
      "all good\n",
      "from memory 353 999\n",
      "\n",
      "288.22727566018597 360.40133464280484\n",
      "all good\n"
     ]
    },
    {
     "name": "stderr",
     "output_type": "stream",
     "text": [
      "\n",
      "\n",
      "\n",
      "\n",
      "t:  28%|██▊       | 350/1260 [00:31<01:22, 11.06it/s, now=None]\u001b[A\u001b[A\u001b[A\u001b[A\n",
      "\n",
      "\n",
      "\n",
      "t:  28%|██▊       | 352/1260 [00:31<01:22, 10.98it/s, now=None]\u001b[A\u001b[A\u001b[A\u001b[A"
     ]
    },
    {
     "name": "stdout",
     "output_type": "stream",
     "text": [
      "from memory 351 1000\n",
      "\n",
      "286.1873607112568 360.7553899084785\n",
      "all good\n",
      "from memory 353 1000\n",
      "\n",
      "289.11716934118596 359.87722001982866\n",
      "all good\n",
      "from memory 350 999\n",
      "\n"
     ]
    },
    {
     "name": "stderr",
     "output_type": "stream",
     "text": [
      "\n",
      "\n",
      "\n",
      "\n",
      "t:  28%|██▊       | 354/1260 [00:32<01:24, 10.75it/s, now=None]\u001b[A\u001b[A\u001b[A\u001b[A"
     ]
    },
    {
     "name": "stdout",
     "output_type": "stream",
     "text": [
      "285.0978014446151 358.7554406844455\n",
      "all good\n",
      "from memory 354 998\n",
      "\n",
      "287.732962377717 359.0714210429047\n",
      "all good\n",
      "from memory 352 999\n",
      "\n",
      "288.9932384979784 359.5693616325559\n",
      "all good\n"
     ]
    },
    {
     "name": "stderr",
     "output_type": "stream",
     "text": [
      "\n",
      "\n",
      "\n",
      "\n",
      "t:  28%|██▊       | 356/1260 [00:32<01:23, 10.79it/s, now=None]\u001b[A\u001b[A\u001b[A\u001b[A\n",
      "\n",
      "\n",
      "\n",
      "t:  28%|██▊       | 358/1260 [00:32<01:20, 11.23it/s, now=None]\u001b[A\u001b[A\u001b[A\u001b[A"
     ]
    },
    {
     "name": "stdout",
     "output_type": "stream",
     "text": [
      "from memory 351 999\n",
      "\n",
      "288.4972987129281 365.4304280289589\n",
      "all good\n",
      "from memory 351 1005\n",
      "\n",
      "289.2640112833844 363.00272523541446\n",
      "all good\n",
      "from memory 350 1003\n",
      "\n",
      "286.2751925520021 361.62906800142116\n",
      "all good\n"
     ]
    },
    {
     "name": "stderr",
     "output_type": "stream",
     "text": [
      "\n",
      "\n",
      "\n",
      "\n",
      "t:  29%|██▊       | 360/1260 [00:32<01:22, 10.96it/s, now=None]\u001b[A\u001b[A\u001b[A\u001b[A"
     ]
    },
    {
     "name": "stdout",
     "output_type": "stream",
     "text": [
      "from memory 353 1001\n",
      "\n",
      "282.6006004186354 361.70659822336506\n",
      "all good\n",
      "from memory 357 1001\n",
      "\n",
      "280.9808189357695 358.8390928803551\n",
      "all good\n",
      "from memory 359 998\n",
      "\n",
      "277.5388447058134 362.0500746252477\n",
      "all good\n"
     ]
    },
    {
     "name": "stderr",
     "output_type": "stream",
     "text": [
      "\n",
      "\n",
      "\n",
      "\n",
      "t:  29%|██▊       | 362/1260 [00:32<01:21, 10.99it/s, now=None]\u001b[A\u001b[A\u001b[A\u001b[A"
     ]
    },
    {
     "name": "stdout",
     "output_type": "stream",
     "text": [
      "from memory 362 1002\n",
      "\n",
      "271.4626246191559 360.79767012272725\n",
      "all good\n",
      "from memory 368 1000\n",
      "\n",
      "266.22216726588414 364.17632333493293\n",
      "all good\n",
      "from memory 373 1004\n"
     ]
    },
    {
     "name": "stderr",
     "output_type": "stream",
     "text": [
      "\n",
      "\n",
      "\n",
      "\n",
      "t:  29%|██▉       | 364/1260 [00:32<01:22, 10.87it/s, now=None]\u001b[A\u001b[A\u001b[A\u001b[A\n",
      "\n",
      "\n",
      "\n",
      "t:  29%|██▉       | 366/1260 [00:33<01:22, 10.89it/s, now=None]\u001b[A\u001b[A\u001b[A\u001b[A"
     ]
    },
    {
     "name": "stdout",
     "output_type": "stream",
     "text": [
      "\n",
      "266.9887575700971 359.9117370425689\n",
      "all good\n",
      "from memory 373 999\n",
      "\n",
      "268.148896160083 360.0355705658666\n",
      "all good\n",
      "from memory 371 1000\n",
      "\n",
      "271.94238837169473 367.7689794016037\n",
      "all good\n"
     ]
    },
    {
     "name": "stderr",
     "output_type": "stream",
     "text": [
      "\n",
      "\n",
      "\n",
      "\n",
      "t:  29%|██▉       | 368/1260 [00:33<01:21, 10.90it/s, now=None]\u001b[A\u001b[A\u001b[A\u001b[A"
     ]
    },
    {
     "name": "stdout",
     "output_type": "stream",
     "text": [
      "from memory 368 1007\n",
      "\n",
      "274.85224775534516 367.4637243755485\n",
      "all good\n",
      "from memory 365 1007\n",
      "\n",
      "277.4279466624788 363.8257391440419\n",
      "all good\n",
      "from memory 362 1003\n",
      "\n",
      "277.1747144763127 367.5761080689923\n",
      "all good\n"
     ]
    },
    {
     "name": "stderr",
     "output_type": "stream",
     "text": [
      "\n",
      "\n",
      "\n",
      "\n",
      "t:  29%|██▉       | 370/1260 [00:33<01:20, 11.06it/s, now=None]\u001b[A\u001b[A\u001b[A\u001b[A\n",
      "\n",
      "\n",
      "\n",
      "t:  30%|██▉       | 372/1260 [00:33<01:18, 11.36it/s, now=None]\u001b[A\u001b[A\u001b[A\u001b[A"
     ]
    },
    {
     "name": "stdout",
     "output_type": "stream",
     "text": [
      "from memory 362 1007\n",
      "\n",
      "279.2542005890772 369.5231248092505\n",
      "all good\n",
      "from memory 360 1009\n",
      "\n",
      "282.7161975753769 369.3146676612057\n",
      "all good\n",
      "from memory 357 1009\n",
      "\n",
      "281.86631470270254 360.45834880868904\n",
      "all good\n"
     ]
    },
    {
     "name": "stderr",
     "output_type": "stream",
     "text": [
      "\n",
      "\n",
      "\n",
      "\n",
      "t:  30%|██▉       | 374/1260 [00:33<01:18, 11.26it/s, now=None]\u001b[A\u001b[A\u001b[A\u001b[A"
     ]
    },
    {
     "name": "stdout",
     "output_type": "stream",
     "text": [
      "from memory 358 1000\n",
      "\n",
      "286.80634742760793 360.11600345532884\n",
      "all good\n",
      "from memory 353 1000\n",
      "\n",
      "288.71517401431765 361.6669952824119\n",
      "all good\n",
      "from memory 351 1001\n",
      "\n",
      "292.2470342728657 358.84927676647646\n",
      "all good\n"
     ]
    },
    {
     "name": "stderr",
     "output_type": "stream",
     "text": [
      "\n",
      "\n",
      "\n",
      "\n",
      "t:  30%|██▉       | 376/1260 [00:34<01:18, 11.29it/s, now=None]\u001b[A\u001b[A\u001b[A\u001b[A\n",
      "\n",
      "\n",
      "\n",
      "t:  30%|███       | 378/1260 [00:34<01:15, 11.64it/s, now=None]\u001b[A\u001b[A\u001b[A\u001b[A"
     ]
    },
    {
     "name": "stdout",
     "output_type": "stream",
     "text": [
      "from memory 347 998\n",
      "\n",
      "294.7364032812858 358.63957871651223\n",
      "all good\n",
      "from memory 345 998\n",
      "\n",
      "293.6134658235334 357.61738612544093\n",
      "all good\n",
      "from memory 346 997\n",
      "\n",
      "295.1110907062883 365.7099810322269\n",
      "all good\n"
     ]
    },
    {
     "name": "stderr",
     "output_type": "stream",
     "text": [
      "\n",
      "\n",
      "\n",
      "\n",
      "t:  30%|███       | 380/1260 [00:34<01:18, 11.27it/s, now=None]\u001b[A\u001b[A\u001b[A\u001b[A"
     ]
    },
    {
     "name": "stdout",
     "output_type": "stream",
     "text": [
      "from memory 344 1005\n",
      "\n",
      "296.5222010007881 369.0669701446294\n",
      "all good\n",
      "from memory 343 1009\n",
      "\n",
      "296.5320352803232 363.32688174684836\n",
      "all good\n",
      "from memory 343 1003\n",
      "\n"
     ]
    },
    {
     "name": "stderr",
     "output_type": "stream",
     "text": [
      "\n",
      "\n",
      "\n",
      "\n",
      "t:  30%|███       | 382/1260 [00:34<01:20, 10.97it/s, now=None]\u001b[A\u001b[A\u001b[A\u001b[A"
     ]
    },
    {
     "name": "stdout",
     "output_type": "stream",
     "text": [
      "295.20921485515083 363.67371341735304\n",
      "all good\n",
      "from memory 344 1003\n",
      "\n",
      "296.36070864646337 364.5925023638024\n",
      "all good\n",
      "from memory 343 1004\n",
      "\n",
      "294.7053282760677 361.9450556418195\n",
      "all good\n"
     ]
    },
    {
     "name": "stderr",
     "output_type": "stream",
     "text": [
      "\n",
      "\n",
      "\n",
      "\n",
      "t:  30%|███       | 384/1260 [00:34<01:21, 10.73it/s, now=None]\u001b[A\u001b[A\u001b[A\u001b[A\n",
      "\n",
      "\n",
      "\n",
      "t:  31%|███       | 386/1260 [00:34<01:18, 11.15it/s, now=None]\u001b[A\u001b[A\u001b[A\u001b[A"
     ]
    },
    {
     "name": "stdout",
     "output_type": "stream",
     "text": [
      "from memory 345 1001\n",
      "\n",
      "294.903190096201 363.24180790685716\n",
      "all good\n",
      "from memory 345 1003\n",
      "\n",
      "289.3838132254975 361.2201303683796\n",
      "all good\n",
      "from memory 350 1001\n",
      "\n",
      "287.9806268759402 359.80407262045765\n",
      "all good\n"
     ]
    },
    {
     "name": "stderr",
     "output_type": "stream",
     "text": [
      "\n",
      "\n",
      "\n",
      "\n",
      "t:  31%|███       | 388/1260 [00:35<01:17, 11.32it/s, now=None]\u001b[A\u001b[A\u001b[A\u001b[A"
     ]
    },
    {
     "name": "stdout",
     "output_type": "stream",
     "text": [
      "from memory 352 999\n",
      "\n",
      "289.84797931861596 359.139405344651\n",
      "all good\n",
      "from memory 350 999\n",
      "\n",
      "286.2885711977864 361.2128039173267\n",
      "all good\n",
      "from memory 353 1001\n",
      "\n",
      "289.2923859376034 362.45196807067805\n",
      "all good\n"
     ]
    },
    {
     "name": "stderr",
     "output_type": "stream",
     "text": [
      "\n",
      "\n",
      "\n",
      "\n",
      "t:  31%|███       | 390/1260 [00:35<01:17, 11.20it/s, now=None]\u001b[A\u001b[A\u001b[A\u001b[A"
     ]
    },
    {
     "name": "stdout",
     "output_type": "stream",
     "text": [
      "from memory 350 1002\n",
      "\n",
      "288.5056667589167 362.8046068318479\n",
      "all good\n",
      "from memory 351 1002\n",
      "\n",
      "288.1046641905063 361.31489727875646\n",
      "all good\n",
      "from memory 351 1001\n",
      "\n",
      "290.5210428104496 363.18350450631544\n",
      "all good\n"
     ]
    },
    {
     "name": "stderr",
     "output_type": "stream",
     "text": [
      "\n",
      "\n",
      "\n",
      "\n",
      "t:  31%|███       | 392/1260 [00:35<01:18, 11.10it/s, now=None]\u001b[A\u001b[A\u001b[A\u001b[A\n",
      "\n",
      "\n",
      "\n",
      "t:  31%|███▏      | 394/1260 [00:35<01:21, 10.69it/s, now=None]\u001b[A\u001b[A\u001b[A\u001b[A"
     ]
    },
    {
     "name": "stdout",
     "output_type": "stream",
     "text": [
      "from memory 349 1003\n",
      "\n",
      "289.710423635674 365.4095004161338\n",
      "all good\n",
      "from memory 350 1005\n",
      "\n",
      "288.82155083166913 360.6686016728454\n",
      "all good\n",
      "from memory 351 1000\n",
      "\n",
      "287.28200081611186 360.0352458586125\n",
      "all good\n"
     ]
    },
    {
     "name": "stderr",
     "output_type": "stream",
     "text": [
      "\n",
      "\n",
      "\n",
      "\n",
      "t:  31%|███▏      | 396/1260 [00:36<01:52,  7.71it/s, now=None]\u001b[A\u001b[A\u001b[A\u001b[A\n",
      "\n",
      "\n",
      "\n",
      "t:  32%|███▏      | 397/1260 [00:36<01:45,  8.16it/s, now=None]\u001b[A\u001b[A\u001b[A\u001b[A"
     ]
    },
    {
     "name": "stdout",
     "output_type": "stream",
     "text": [
      "from memory 352 1000\n",
      "\n",
      "287.2000917875345 359.3537070865958\n",
      "all good\n",
      "from memory 352 999\n",
      "\n",
      "287.2800198867266 356.7741185719523\n",
      "all good\n"
     ]
    },
    {
     "name": "stderr",
     "output_type": "stream",
     "text": [
      "\n",
      "\n",
      "\n",
      "\n",
      "t:  32%|███▏      | 398/1260 [00:36<01:44,  8.26it/s, now=None]\u001b[A\u001b[A\u001b[A\u001b[A\n",
      "\n",
      "\n",
      "\n",
      "t:  32%|███▏      | 399/1260 [00:36<01:44,  8.25it/s, now=None]\u001b[A\u001b[A\u001b[A\u001b[A"
     ]
    },
    {
     "name": "stdout",
     "output_type": "stream",
     "text": [
      "from memory 352 996\n",
      "\n",
      "289.2890409047952 357.68259830774286\n",
      "all good\n",
      "from memory 350 997\n",
      "\n",
      "289.1814489822453 357.29887748812166\n",
      "all good\n"
     ]
    },
    {
     "name": "stderr",
     "output_type": "stream",
     "text": [
      "\n",
      "\n",
      "\n",
      "\n",
      "t:  32%|███▏      | 400/1260 [00:36<01:44,  8.24it/s, now=None]\u001b[A\u001b[A\u001b[A\u001b[A\n",
      "\n",
      "\n",
      "\n",
      "t:  32%|███▏      | 401/1260 [00:36<01:50,  7.78it/s, now=None]\u001b[A\u001b[A\u001b[A\u001b[A"
     ]
    },
    {
     "name": "stdout",
     "output_type": "stream",
     "text": [
      "from memory 350 997\n",
      "\n",
      "292.63963937518236 357.3709529326195\n",
      "all good\n",
      "from memory 347 997\n",
      "\n",
      "290.8798456207122 356.4121101934784\n",
      "all good\n"
     ]
    },
    {
     "name": "stderr",
     "output_type": "stream",
     "text": [
      "\n",
      "\n",
      "\n",
      "\n",
      "t:  32%|███▏      | 403/1260 [00:36<01:43,  8.28it/s, now=None]\u001b[A\u001b[A\u001b[A\u001b[A"
     ]
    },
    {
     "name": "stdout",
     "output_type": "stream",
     "text": [
      "from memory 349 996\n",
      "\n",
      "292.0392756886611 359.5804043858167\n",
      "all good\n",
      "from memory 347 999\n",
      "\n",
      "291.93812785827544 366.9005766949323\n",
      "all good\n"
     ]
    },
    {
     "name": "stderr",
     "output_type": "stream",
     "text": [
      "\n",
      "\n",
      "\n",
      "\n",
      "t:  32%|███▏      | 404/1260 [00:37<01:38,  8.72it/s, now=None]\u001b[A\u001b[A\u001b[A\u001b[A\n",
      "\n",
      "\n",
      "\n",
      "t:  32%|███▏      | 405/1260 [00:37<01:34,  9.04it/s, now=None]\u001b[A\u001b[A\u001b[A\u001b[A"
     ]
    },
    {
     "name": "stdout",
     "output_type": "stream",
     "text": [
      "from memory 348 1006\n",
      "\n",
      "291.4574639658251 354.67300940713653\n",
      "all good\n",
      "from memory 348 994\n",
      "\n",
      "290.0812506022804 350.71659396062114\n",
      "all good\n"
     ]
    },
    {
     "name": "stderr",
     "output_type": "stream",
     "text": [
      "\n",
      "\n",
      "\n",
      "\n",
      "t:  32%|███▏      | 406/1260 [00:37<01:39,  8.56it/s, now=None]\u001b[A\u001b[A\u001b[A\u001b[A"
     ]
    },
    {
     "name": "stdout",
     "output_type": "stream",
     "text": [
      "from memory 349 990\n",
      "\n",
      "288.7777360464844 347.4997388775213\n",
      "all good\n"
     ]
    },
    {
     "name": "stderr",
     "output_type": "stream",
     "text": [
      "\n",
      "\n",
      "\n",
      "\n",
      "t:  32%|███▏      | 407/1260 [00:37<02:13,  6.37it/s, now=None]\u001b[A\u001b[A\u001b[A\u001b[A"
     ]
    },
    {
     "name": "stdout",
     "output_type": "stream",
     "text": [
      "from memory 351 987\n",
      "\n",
      "289.5084338835894 345.5706702279325\n",
      "all good\n",
      "from memory 350 985\n",
      "\n"
     ]
    },
    {
     "name": "stderr",
     "output_type": "stream",
     "text": [
      "\n",
      "\n",
      "\n",
      "\n",
      "t:  32%|███▏      | 408/1260 [00:37<02:16,  6.25it/s, now=None]\u001b[A\u001b[A\u001b[A\u001b[A\n",
      "\n",
      "\n",
      "\n",
      "t:  32%|███▏      | 409/1260 [00:37<02:10,  6.52it/s, now=None]\u001b[A\u001b[A\u001b[A\u001b[A"
     ]
    },
    {
     "name": "stdout",
     "output_type": "stream",
     "text": [
      "295.2464632761786 348.00426180355555\n",
      "all good\n",
      "from memory 344 988\n",
      "\n",
      "294.5483315620038 348.06776147503433\n",
      "all good\n"
     ]
    },
    {
     "name": "stderr",
     "output_type": "stream",
     "text": [
      "\n",
      "\n",
      "\n",
      "\n",
      "t:  33%|███▎      | 410/1260 [00:37<02:06,  6.73it/s, now=None]\u001b[A\u001b[A\u001b[A\u001b[A\n",
      "\n",
      "\n",
      "\n",
      "t:  33%|███▎      | 411/1260 [00:38<01:55,  7.32it/s, now=None]\u001b[A\u001b[A\u001b[A\u001b[A"
     ]
    },
    {
     "name": "stdout",
     "output_type": "stream",
     "text": [
      "from memory 345 988\n",
      "\n",
      "296.11914853449207 347.95837899939\n",
      "all good\n",
      "from memory 343 987\n",
      "\n",
      "295.61377966569273 346.9782667151494\n",
      "all good\n"
     ]
    },
    {
     "name": "stderr",
     "output_type": "stream",
     "text": [
      "\n",
      "\n",
      "\n",
      "\n",
      "t:  33%|███▎      | 412/1260 [00:38<01:48,  7.80it/s, now=None]\u001b[A\u001b[A\u001b[A\u001b[A"
     ]
    },
    {
     "name": "stdout",
     "output_type": "stream",
     "text": [
      "from memory 344 986\n",
      "\n",
      "299.84902455292274 346.67080230205875\n",
      "all good\n",
      "from memory 340 986\n",
      "\n",
      "299.2171748372675 357.45373784988715\n",
      "all good\n",
      "from memory 340 997\n",
      "\n"
     ]
    },
    {
     "name": "stderr",
     "output_type": "stream",
     "text": [
      "\n",
      "\n",
      "\n",
      "\n",
      "t:  33%|███▎      | 414/1260 [00:38<01:37,  8.65it/s, now=None]\u001b[A\u001b[A\u001b[A\u001b[A\n",
      "\n",
      "\n",
      "\n",
      "t:  33%|███▎      | 415/1260 [00:38<01:38,  8.56it/s, now=None]\u001b[A\u001b[A\u001b[A\u001b[A"
     ]
    },
    {
     "name": "stdout",
     "output_type": "stream",
     "text": [
      "299.77573560402067 399.7088606101338\n",
      "all good\n",
      "from memory 340 1039\n",
      "\n",
      "300.7206981578367 451.21604127402725\n",
      "all good\n",
      "from memory 339 1091\n",
      "\n"
     ]
    },
    {
     "name": "stderr",
     "output_type": "stream",
     "text": [
      "\n",
      "\n",
      "\n",
      "\n",
      "t:  33%|███▎      | 417/1260 [00:38<01:32,  9.08it/s, now=None]\u001b[A\u001b[A\u001b[A\u001b[A"
     ]
    },
    {
     "name": "stdout",
     "output_type": "stream",
     "text": [
      "304.86865151856097 320.38178687520576\n",
      "all good\n",
      "from memory 335 960\n",
      "\n",
      "308.0312251764239 341.3105400981202\n",
      "all good\n",
      "from memory 331 981\n",
      "\n"
     ]
    },
    {
     "name": "stderr",
     "output_type": "stream",
     "text": [
      "\n",
      "\n",
      "\n",
      "\n",
      "t:  33%|███▎      | 418/1260 [00:38<01:32,  9.09it/s, now=None]\u001b[A\u001b[A\u001b[A\u001b[A"
     ]
    },
    {
     "name": "stdout",
     "output_type": "stream",
     "text": [
      "308.81011211120796 333.8703626074097\n",
      "all good\n",
      "from memory 331 973\n",
      "\n",
      "306.13001662454985 341.6358186024669\n",
      "all good\n",
      "from memory 333 981\n",
      "\n",
      "306.01161609591946 342.61813263107683\n",
      "all good\n"
     ]
    },
    {
     "name": "stderr",
     "output_type": "stream",
     "text": [
      "\n",
      "\n",
      "\n",
      "\n",
      "t:  33%|███▎      | 420/1260 [00:38<01:29,  9.42it/s, now=None]\u001b[A\u001b[A\u001b[A\u001b[A\n",
      "\n",
      "\n",
      "\n",
      "t:  33%|███▎      | 421/1260 [00:39<01:33,  9.01it/s, now=None]\u001b[A\u001b[A\u001b[A\u001b[A"
     ]
    },
    {
     "name": "stdout",
     "output_type": "stream",
     "text": [
      "from memory 333 982\n",
      "\n",
      "304.4399189867884 342.603389959423\n",
      "all good\n",
      "from memory 335 982\n",
      "\n",
      "303.32205040897406 341.4081139181843\n",
      "all good\n",
      "from memory 336 981\n",
      "\n",
      "304.0230584484271 339.901155168595\n",
      "all good\n"
     ]
    },
    {
     "name": "stderr",
     "output_type": "stream",
     "text": [
      "\n",
      "\n",
      "\n",
      "\n",
      "t:  34%|███▎      | 423/1260 [00:39<01:28,  9.49it/s, now=None]\u001b[A\u001b[A\u001b[A\u001b[A\n",
      "\n",
      "\n",
      "\n",
      "t:  34%|███▎      | 424/1260 [00:39<01:30,  9.21it/s, now=None]\u001b[A\u001b[A\u001b[A\u001b[A\n",
      "\n",
      "\n",
      "\n",
      "t:  34%|███▍      | 426/1260 [00:39<01:23,  9.96it/s, now=None]\u001b[A\u001b[A\u001b[A\u001b[A"
     ]
    },
    {
     "name": "stdout",
     "output_type": "stream",
     "text": [
      "from memory 335 979\n",
      "\n",
      "306.76534228877097 338.9986090002218\n",
      "all good\n",
      "from memory 333 978\n",
      "\n",
      "303.1238604888362 337.8091103836115\n",
      "all good\n",
      "from memory 336 977\n",
      "\n",
      "305.9583613777317 337.99457969677576\n",
      "all good\n"
     ]
    },
    {
     "name": "stderr",
     "output_type": "stream",
     "text": [
      "\n",
      "\n",
      "\n",
      "\n",
      "t:  34%|███▍      | 428/1260 [00:39<01:21, 10.18it/s, now=None]\u001b[A\u001b[A\u001b[A\u001b[A"
     ]
    },
    {
     "name": "stdout",
     "output_type": "stream",
     "text": [
      "from memory 334 977\n",
      "\n",
      "304.870508753948 349.6141747399304\n",
      "all good\n",
      "from memory 335 989\n",
      "\n",
      "309.5380379102805 336.2172450899013\n",
      "all good\n",
      "from memory 330 976\n",
      "\n",
      "306.48934094838154 335.18108387916527\n",
      "all good\n"
     ]
    },
    {
     "name": "stderr",
     "output_type": "stream",
     "text": [
      "\n",
      "\n",
      "\n",
      "\n",
      "t:  34%|███▍      | 430/1260 [00:39<01:19, 10.49it/s, now=None]\u001b[A\u001b[A\u001b[A\u001b[A"
     ]
    },
    {
     "name": "stdout",
     "output_type": "stream",
     "text": [
      "from memory 333 975\n",
      "\n",
      "303.8180474943862 333.23152326152365\n",
      "all good\n",
      "from memory 336 973\n",
      "\n",
      "306.9223044422462 331.13735763072043\n",
      "all good\n",
      "from memory 333 971\n",
      "\n"
     ]
    },
    {
     "name": "stderr",
     "output_type": "stream",
     "text": [
      "\n",
      "\n",
      "\n",
      "\n",
      "t:  34%|███▍      | 432/1260 [00:40<01:17, 10.67it/s, now=None]\u001b[A\u001b[A\u001b[A\u001b[A\n",
      "\n",
      "\n",
      "\n",
      "t:  34%|███▍      | 434/1260 [00:40<01:15, 10.87it/s, now=None]\u001b[A\u001b[A\u001b[A\u001b[A"
     ]
    },
    {
     "name": "stdout",
     "output_type": "stream",
     "text": [
      "308.05139897979103 334.62479199161305\n",
      "all good\n",
      "from memory 331 974\n",
      "\n",
      "313.5159340446709 333.17581662480666\n",
      "all good\n",
      "from memory 326 973\n",
      "\n",
      "312.1486220762279 332.7345710669264\n",
      "all good\n"
     ]
    },
    {
     "name": "stderr",
     "output_type": "stream",
     "text": [
      "\n",
      "\n",
      "\n",
      "\n",
      "t:  35%|███▍      | 436/1260 [00:40<01:16, 10.71it/s, now=None]\u001b[A\u001b[A\u001b[A\u001b[A"
     ]
    },
    {
     "name": "stdout",
     "output_type": "stream",
     "text": [
      "from memory 327 972\n",
      "\n",
      "311.04759831247145 332.3632308730989\n",
      "all good\n",
      "from memory 328 972\n",
      "\n",
      "313.32151699710784 331.78745362616064\n",
      "all good\n",
      "from memory 326 971\n",
      "\n",
      "312.51215394473195 330.6946502422792\n",
      "all good\n"
     ]
    },
    {
     "name": "stderr",
     "output_type": "stream",
     "text": [
      "\n",
      "\n",
      "\n",
      "\n",
      "t:  35%|███▍      | 438/1260 [00:40<01:16, 10.75it/s, now=None]\u001b[A\u001b[A\u001b[A\u001b[A"
     ]
    },
    {
     "name": "stdout",
     "output_type": "stream",
     "text": [
      "from memory 327 970\n",
      "\n",
      "310.41485663961214 325.8346967356457\n",
      "all good\n",
      "from memory 329 965\n",
      "\n",
      "313.2435864736359 346.56209382982286\n",
      "all good\n",
      "from memory 326 986\n"
     ]
    },
    {
     "name": "stderr",
     "output_type": "stream",
     "text": [
      "\n",
      "\n",
      "\n",
      "\n",
      "t:  35%|███▍      | 440/1260 [00:40<01:17, 10.59it/s, now=None]\u001b[A\u001b[A\u001b[A\u001b[A"
     ]
    },
    {
     "name": "stdout",
     "output_type": "stream",
     "text": [
      "\n",
      "311.7188648519042 351.31135190302825\n",
      "all good\n",
      "from memory 328 991\n",
      "\n",
      "312.48410790511 327.5235440937656\n",
      "all good\n",
      "from memory 327 967\n",
      "\n",
      "310.6060047214779 328.854710387292\n",
      "all good\n"
     ]
    },
    {
     "name": "stderr",
     "output_type": "stream",
     "text": [
      "\n",
      "\n",
      "\n",
      "\n",
      "t:  35%|███▌      | 442/1260 [00:41<01:16, 10.68it/s, now=None]\u001b[A\u001b[A\u001b[A\u001b[A\n",
      "\n",
      "\n",
      "\n",
      "t:  35%|███▌      | 444/1260 [00:41<01:16, 10.67it/s, now=None]\u001b[A\u001b[A\u001b[A\u001b[A"
     ]
    },
    {
     "name": "stdout",
     "output_type": "stream",
     "text": [
      "from memory 329 968\n",
      "\n",
      "310.69925295553963 327.4178768826695\n",
      "all good\n",
      "from memory 329 967\n",
      "\n",
      "319.09538158460464 328.4173713392976\n",
      "all good\n",
      "from memory 320 968\n",
      "\n",
      "321.1936357614682 330.1846936456601\n",
      "all good\n"
     ]
    },
    {
     "name": "stderr",
     "output_type": "stream",
     "text": [
      "\n",
      "\n",
      "\n",
      "\n",
      "t:  35%|███▌      | 446/1260 [00:41<01:15, 10.75it/s, now=None]\u001b[A\u001b[A\u001b[A\u001b[A\n",
      "\n",
      "\n",
      "\n",
      "t:  36%|███▌      | 448/1260 [00:41<01:13, 11.11it/s, now=None]\u001b[A\u001b[A\u001b[A\u001b[A"
     ]
    },
    {
     "name": "stdout",
     "output_type": "stream",
     "text": [
      "from memory 318 970\n",
      "\n",
      "324.7743390308764 328.4209892287713\n",
      "all good\n",
      "from memory 315 968\n",
      "\n",
      "325.7878869923668 328.3784923985936\n",
      "all good\n",
      "from memory 314 968\n",
      "\n",
      "324.0390123231751 326.9964003412373\n",
      "all good\n"
     ]
    },
    {
     "name": "stderr",
     "output_type": "stream",
     "text": [
      "\n",
      "\n",
      "\n",
      "\n",
      "t:  36%|███▌      | 450/1260 [00:41<01:11, 11.41it/s, now=None]\u001b[A\u001b[A\u001b[A\u001b[A"
     ]
    },
    {
     "name": "stdout",
     "output_type": "stream",
     "text": [
      "from memory 315 966\n",
      "\n",
      "323.84572969315167 327.9555300231707\n",
      "all good\n",
      "from memory 316 967\n",
      "\n",
      "324.71607387685975 326.60368733719383\n",
      "all good\n",
      "from memory 315 966\n",
      "\n",
      "327.568383614594 331.1324046526686\n",
      "all good\n"
     ]
    },
    {
     "name": "stderr",
     "output_type": "stream",
     "text": [
      "\n",
      "\n",
      "\n",
      "\n",
      "t:  36%|███▌      | 452/1260 [00:41<01:12, 11.14it/s, now=None]\u001b[A\u001b[A\u001b[A\u001b[A"
     ]
    },
    {
     "name": "stdout",
     "output_type": "stream",
     "text": [
      "from memory 312 971\n",
      "\n",
      "329.7442656976544 327.98341478053237\n",
      "all good\n",
      "from memory 310 967\n",
      "\n",
      "329.0248165750045 329.605496260887\n",
      "all good\n",
      "from memory 310 969\n",
      "\n",
      "334.3570156371063 331.022757945089\n",
      "all good\n"
     ]
    },
    {
     "name": "stderr",
     "output_type": "stream",
     "text": [
      "\n",
      "\n",
      "\n",
      "\n",
      "t:  36%|███▌      | 454/1260 [00:42<01:12, 11.07it/s, now=None]\u001b[A\u001b[A\u001b[A\u001b[A\n",
      "\n",
      "\n",
      "\n",
      "t:  36%|███▌      | 456/1260 [00:42<01:13, 10.90it/s, now=None]\u001b[A\u001b[A\u001b[A\u001b[A"
     ]
    },
    {
     "name": "stdout",
     "output_type": "stream",
     "text": [
      "from memory 305 971\n",
      "\n",
      "326.7058871122483 328.7038763849587\n",
      "all good\n",
      "from memory 313 968\n",
      "\n",
      "321.0491646281176 326.48603649018446\n",
      "all good\n",
      "from memory 318 966\n",
      "\n",
      "326.9858641729881 330.31064463004793\n",
      "all good\n"
     ]
    },
    {
     "name": "stderr",
     "output_type": "stream",
     "text": [
      "\n",
      "\n",
      "\n",
      "\n",
      "t:  36%|███▋      | 458/1260 [00:42<01:14, 10.75it/s, now=None]\u001b[A\u001b[A\u001b[A\u001b[A\n",
      "\n",
      "\n",
      "\n",
      "t:  37%|███▋      | 460/1260 [00:42<01:12, 11.07it/s, now=None]"
     ]
    },
    {
     "name": "stdout",
     "output_type": "stream",
     "text": [
      "from memory 313 970\n",
      "\n",
      "326.8328710455369 329.99222920448665\n",
      "all good\n",
      "from memory 313 969\n",
      "\n",
      "334.3923792472211 330.3905969263453\n",
      "all good\n",
      "from memory 305 970\n",
      "\n",
      "326.758521861306 329.82136371694935\n",
      "all good\n"
     ]
    },
    {
     "name": "stderr",
     "output_type": "stream",
     "text": [
      "\u001b[A\u001b[A\u001b[A\u001b[A\n",
      "\n",
      "\n",
      "\n",
      "t:  37%|███▋      | 462/1260 [00:42<01:11, 11.14it/s, now=None]\u001b[A\u001b[A\u001b[A\u001b[A"
     ]
    },
    {
     "name": "stdout",
     "output_type": "stream",
     "text": [
      "from memory 313 969\n",
      "\n",
      "328.6644092392477 332.6961514037523\n",
      "all good\n",
      "from memory 311 972\n",
      "\n",
      "329.1746282986994 339.1976250171746\n",
      "all good\n",
      "from memory 310 979\n",
      "\n",
      "327.30537398390965 342.3239018217913\n",
      "all good\n"
     ]
    },
    {
     "name": "stderr",
     "output_type": "stream",
     "text": [
      "\n",
      "\n",
      "\n",
      "\n",
      "t:  37%|███▋      | 464/1260 [00:43<01:15, 10.59it/s, now=None]\u001b[A\u001b[A\u001b[A\u001b[A"
     ]
    },
    {
     "name": "stdout",
     "output_type": "stream",
     "text": [
      "from memory 312 982\n",
      "\n",
      "325.0208257228104 360.1055956913841\n",
      "all good\n",
      "from memory 314 1000\n",
      "\n",
      "320.729523475062 349.49453099277616\n",
      "all good\n",
      "from memory 319 989\n",
      "\n",
      "317.68995777386374 354.5500662414702\n",
      "all good\n"
     ]
    },
    {
     "name": "stderr",
     "output_type": "stream",
     "text": [
      "\n",
      "\n",
      "\n",
      "\n",
      "t:  37%|███▋      | 466/1260 [00:43<01:13, 10.73it/s, now=None]\u001b[A\u001b[A\u001b[A\u001b[A\n",
      "\n",
      "\n",
      "\n",
      "t:  37%|███▋      | 468/1260 [00:43<01:13, 10.83it/s, now=None]\u001b[A\u001b[A\u001b[A\u001b[A"
     ]
    },
    {
     "name": "stdout",
     "output_type": "stream",
     "text": [
      "from memory 322 994\n",
      "\n",
      "316.3529173154424 352.41030342557667\n",
      "all good\n",
      "from memory 323 992\n",
      "\n",
      "316.6133989118324 335.1132308943663\n",
      "all good\n",
      "from memory 323 975\n",
      "\n",
      "314.89938169496656 333.88492515709925\n",
      "all good\n"
     ]
    },
    {
     "name": "stderr",
     "output_type": "stream",
     "text": [
      "\n",
      "\n",
      "\n",
      "\n",
      "t:  37%|███▋      | 470/1260 [00:43<01:12, 10.87it/s, now=None]\u001b[A\u001b[A\u001b[A\u001b[A\n",
      "\n",
      "\n",
      "\n",
      "t:  37%|███▋      | 472/1260 [00:43<01:10, 11.15it/s, now=None]"
     ]
    },
    {
     "name": "stdout",
     "output_type": "stream",
     "text": [
      "from memory 325 973\n",
      "\n",
      "316.0222496041986 331.98553786673256\n",
      "all good\n",
      "from memory 323 971\n",
      "\n",
      "318.6389908858999 331.1404338277283\n",
      "all good\n",
      "from memory 321 971\n",
      "\n",
      "311.1640587849918 330.1554958996543\n",
      "all good\n"
     ]
    },
    {
     "name": "stderr",
     "output_type": "stream",
     "text": [
      "\u001b[A\u001b[A\u001b[A\u001b[A\n",
      "\n",
      "\n",
      "\n",
      "t:  38%|███▊      | 474/1260 [00:43<01:11, 10.98it/s, now=None]\u001b[A\u001b[A\u001b[A\u001b[A"
     ]
    },
    {
     "name": "stdout",
     "output_type": "stream",
     "text": [
      "from memory 328 970\n",
      "\n",
      "309.0091296031302 329.2960219672294\n",
      "all good\n",
      "from memory 330 969\n",
      "\n",
      "308.9104566407995 320.65805995737196\n",
      "all good\n",
      "from memory 331 960\n",
      "\n",
      "309.9172004297369 321.58595775974857\n",
      "all good\n"
     ]
    },
    {
     "name": "stderr",
     "output_type": "stream",
     "text": [
      "\n",
      "\n",
      "\n",
      "\n",
      "t:  38%|███▊      | 476/1260 [00:44<01:11, 10.91it/s, now=None]\u001b[A\u001b[A\u001b[A\u001b[A\n",
      "\n",
      "\n",
      "\n",
      "t:  38%|███▊      | 478/1260 [00:44<01:10, 11.07it/s, now=None]\u001b[A\u001b[A\u001b[A\u001b[A"
     ]
    },
    {
     "name": "stdout",
     "output_type": "stream",
     "text": [
      "from memory 330 961\n",
      "\n",
      "308.8554801747957 328.08618786863315\n",
      "all good\n",
      "from memory 331 968\n",
      "\n",
      "309.00438319917066 325.84300483757454\n",
      "all good\n",
      "from memory 330 965\n",
      "\n",
      "310.0775513388223 330.04917254763745\n",
      "all good\n"
     ]
    },
    {
     "name": "stderr",
     "output_type": "stream",
     "text": [
      "\n",
      "\n",
      "\n",
      "\n",
      "t:  38%|███▊      | 480/1260 [00:44<01:09, 11.24it/s, now=None]\u001b[A\u001b[A\u001b[A\u001b[A"
     ]
    },
    {
     "name": "stdout",
     "output_type": "stream",
     "text": [
      "from memory 329 970\n",
      "\n",
      "312.50352120091895 329.04560370530817\n",
      "all good\n",
      "from memory 327 969\n",
      "\n",
      "312.48572677659524 328.51439140202524\n",
      "all good\n",
      "from memory 327 968\n",
      "\n",
      "314.53329401760686 330.89518493250876\n",
      "all good\n"
     ]
    },
    {
     "name": "stderr",
     "output_type": "stream",
     "text": [
      "\n",
      "\n",
      "\n",
      "\n",
      "t:  38%|███▊      | 482/1260 [00:44<01:09, 11.21it/s, now=None]\u001b[A\u001b[A\u001b[A\u001b[A"
     ]
    },
    {
     "name": "stdout",
     "output_type": "stream",
     "text": [
      "from memory 325 970\n",
      "\n",
      "311.2288332689212 330.0179019612343\n",
      "all good\n",
      "from memory 328 970\n",
      "\n",
      "316.21438037471773 331.28249117853863\n",
      "all good\n",
      "from memory 323 971\n",
      "\n"
     ]
    },
    {
     "name": "stderr",
     "output_type": "stream",
     "text": [
      "\n",
      "\n",
      "\n",
      "\n",
      "t:  38%|███▊      | 484/1260 [00:44<01:09, 11.17it/s, now=None]\u001b[A\u001b[A\u001b[A\u001b[A"
     ]
    },
    {
     "name": "stdout",
     "output_type": "stream",
     "text": [
      "318.27502021166123 332.517334483842\n",
      "all good\n",
      "from memory 321 972\n",
      "\n",
      "316.4101183749488 332.4813132125845\n",
      "all good\n",
      "from memory 323 972\n",
      "\n",
      "316.9419672534284 333.7824323327228\n",
      "all good\n"
     ]
    },
    {
     "name": "stderr",
     "output_type": "stream",
     "text": [
      "\n",
      "\n",
      "\n",
      "\n",
      "t:  39%|███▊      | 486/1260 [00:45<01:11, 10.81it/s, now=None]\u001b[A\u001b[A\u001b[A\u001b[A\n",
      "\n",
      "\n",
      "\n",
      "t:  39%|███▊      | 488/1260 [00:45<01:11, 10.86it/s, now=None]\u001b[A\u001b[A\u001b[A\u001b[A"
     ]
    },
    {
     "name": "stdout",
     "output_type": "stream",
     "text": [
      "from memory 323 973\n",
      "\n",
      "315.8975614040082 339.21314917712505\n",
      "all good\n",
      "from memory 324 979\n",
      "\n",
      "316.9102335179664 338.5686918755847\n",
      "all good\n",
      "from memory 323 978\n",
      "\n",
      "318.42774510135257 311.4074291742493\n",
      "all good\n"
     ]
    },
    {
     "name": "stderr",
     "output_type": "stream",
     "text": [
      "\n",
      "\n",
      "\n",
      "\n",
      "t:  39%|███▉      | 490/1260 [00:45<01:13, 10.45it/s, now=None]\u001b[A\u001b[A\u001b[A\u001b[A\n",
      "\n",
      "\n",
      "\n",
      "t:  39%|███▉      | 492/1260 [00:45<01:10, 10.83it/s, now=None]\u001b[A\u001b[A\u001b[A\u001b[A"
     ]
    },
    {
     "name": "stdout",
     "output_type": "stream",
     "text": [
      "from memory 321 951\n",
      "\n",
      "316.6137693294325 329.79146994323764\n",
      "all good\n",
      "from memory 323 969\n",
      "\n",
      "318.54617597983645 335.215180246381\n",
      "all good\n",
      "from memory 321 975\n",
      "\n",
      "318.59278844787644 347.55569769989927\n",
      "all good\n"
     ]
    },
    {
     "name": "stderr",
     "output_type": "stream",
     "text": [
      "\n",
      "\n",
      "\n",
      "\n",
      "t:  39%|███▉      | 494/1260 [00:45<01:11, 10.75it/s, now=None]\u001b[A\u001b[A\u001b[A\u001b[A"
     ]
    },
    {
     "name": "stdout",
     "output_type": "stream",
     "text": [
      "from memory 321 987\n",
      "\n",
      "321.63179563376684 345.2668108827522\n",
      "all good\n",
      "from memory 318 985\n",
      "\n",
      "316.62887092116455 341.0442512727866\n",
      "all good\n",
      "from memory 323 981\n",
      "\n"
     ]
    },
    {
     "name": "stderr",
     "output_type": "stream",
     "text": [
      "\n",
      "\n",
      "\n",
      "\n",
      "t:  39%|███▉      | 496/1260 [00:45<01:14, 10.30it/s, now=None]\u001b[A\u001b[A\u001b[A\u001b[A"
     ]
    },
    {
     "name": "stdout",
     "output_type": "stream",
     "text": [
      "316.1410610936691 341.71772872511383\n",
      "all good\n",
      "from memory 323 981\n",
      "\n",
      "317.1519664681028 338.55370991518976\n",
      "all good\n",
      "from memory 322 978\n"
     ]
    },
    {
     "name": "stderr",
     "output_type": "stream",
     "text": [
      "\n",
      "\n",
      "\n",
      "\n",
      "t:  40%|███▉      | 498/1260 [00:46<01:15, 10.10it/s, now=None]\u001b[A\u001b[A\u001b[A\u001b[A"
     ]
    },
    {
     "name": "stdout",
     "output_type": "stream",
     "text": [
      "\n",
      "319.99621829341805 336.933627801768\n",
      "all good\n",
      "from memory 320 976\n",
      "\n",
      "320.54644987057407 398.3414429669608\n",
      "all good\n",
      "from memory 319 1038\n",
      "\n"
     ]
    },
    {
     "name": "stderr",
     "output_type": "stream",
     "text": [
      "\n",
      "\n",
      "\n",
      "\n",
      "t:  40%|███▉      | 500/1260 [00:46<01:14, 10.21it/s, now=None]\u001b[A\u001b[A\u001b[A\u001b[A"
     ]
    },
    {
     "name": "stdout",
     "output_type": "stream",
     "text": [
      "317.69517918912396 336.56687899367\n",
      "all good\n",
      "from memory 322 976\n",
      "\n",
      "314.63661374918547 345.4117081762249\n",
      "all good\n",
      "from memory 325 985\n",
      "\n",
      "319.122108452053 342.7414591969474\n",
      "all good\n"
     ]
    },
    {
     "name": "stderr",
     "output_type": "stream",
     "text": [
      "\n",
      "\n",
      "\n",
      "\n",
      "t:  40%|███▉      | 502/1260 [00:46<01:14, 10.24it/s, now=None]\u001b[A\u001b[A\u001b[A\u001b[A"
     ]
    },
    {
     "name": "stdout",
     "output_type": "stream",
     "text": [
      "from memory 320 982\n",
      "\n",
      "317.1151326539631 353.1525696167371\n",
      "all good\n",
      "from memory 322 993\n",
      "\n",
      "320.9541182762358 349.8019381054869\n",
      "all good\n",
      "from memory 319 989\n",
      "\n"
     ]
    },
    {
     "name": "stderr",
     "output_type": "stream",
     "text": [
      "\n",
      "\n",
      "\n",
      "\n",
      "t:  40%|████      | 504/1260 [00:46<01:11, 10.51it/s, now=None]\u001b[A\u001b[A\u001b[A\u001b[A"
     ]
    },
    {
     "name": "stdout",
     "output_type": "stream",
     "text": [
      "317.9848212965483 347.83026942424897\n",
      "all good\n",
      "from memory 322 987\n",
      "\n",
      "318.3157022587066 346.94028759601485\n",
      "all good\n",
      "from memory 321 986\n",
      "\n"
     ]
    },
    {
     "name": "stderr",
     "output_type": "stream",
     "text": [
      "\n",
      "\n",
      "\n",
      "\n",
      "t:  40%|████      | 506/1260 [00:46<01:13, 10.26it/s, now=None]\u001b[A\u001b[A\u001b[A\u001b[A"
     ]
    },
    {
     "name": "stdout",
     "output_type": "stream",
     "text": [
      "320.13749665604035 347.78941781020774\n",
      "all good\n",
      "from memory 319 987\n",
      "\n",
      "321.3645415930578 346.7516539968067\n",
      "all good\n",
      "from memory 318 986\n",
      "\n",
      "321.45120482789076 347.5057758428585\n",
      "all good\n"
     ]
    },
    {
     "name": "stderr",
     "output_type": "stream",
     "text": [
      "\n",
      "\n",
      "\n",
      "\n",
      "t:  40%|████      | 508/1260 [00:47<01:13, 10.21it/s, now=None]\u001b[A\u001b[A\u001b[A\u001b[A\n",
      "\n",
      "\n",
      "\n",
      "t:  40%|████      | 510/1260 [00:47<01:12, 10.34it/s, now=None]\u001b[A\u001b[A\u001b[A\u001b[A"
     ]
    },
    {
     "name": "stdout",
     "output_type": "stream",
     "text": [
      "from memory 318 987\n",
      "\n",
      "323.73887228468453 346.45877545865596\n",
      "all good\n",
      "from memory 316 986\n",
      "\n",
      "321.2298279631377 358.9399072990841\n",
      "all good\n",
      "from memory 318 998\n",
      "\n",
      "319.25094151550786 357.09488510836013\n",
      "all good\n"
     ]
    },
    {
     "name": "stderr",
     "output_type": "stream",
     "text": [
      "\n",
      "\n",
      "\n",
      "\n",
      "t:  41%|████      | 512/1260 [00:47<01:11, 10.49it/s, now=None]\u001b[A\u001b[A\u001b[A\u001b[A"
     ]
    },
    {
     "name": "stdout",
     "output_type": "stream",
     "text": [
      "from memory 320 997\n",
      "\n",
      "325.0226150349919 376.4250742664117\n",
      "all good\n",
      "from memory 314 1016\n",
      "\n",
      "323.5479288809262 353.1076766728829\n",
      "all good\n",
      "from memory 316 993\n",
      "\n",
      "317.16068098272626 341.9863743892224\n",
      "all good\n"
     ]
    },
    {
     "name": "stderr",
     "output_type": "stream",
     "text": [
      "\n",
      "\n",
      "\n",
      "\n",
      "t:  41%|████      | 514/1260 [00:47<01:09, 10.78it/s, now=None]\u001b[A\u001b[A\u001b[A\u001b[A\n",
      "\n",
      "\n",
      "\n",
      "t:  41%|████      | 516/1260 [00:47<01:07, 11.04it/s, now=None]\u001b[A\u001b[A\u001b[A\u001b[A"
     ]
    },
    {
     "name": "stdout",
     "output_type": "stream",
     "text": [
      "from memory 322 981\n",
      "\n",
      "316.24657963137656 338.8968519982826\n",
      "all good\n",
      "from memory 323 978\n",
      "\n",
      "312.66275744057316 339.38773716634034\n",
      "all good\n",
      "from memory 327 979\n",
      "\n"
     ]
    },
    {
     "name": "stderr",
     "output_type": "stream",
     "text": [
      "\n",
      "\n",
      "\n",
      "\n",
      "t:  41%|████      | 518/1260 [00:48<01:09, 10.74it/s, now=None]\u001b[A\u001b[A\u001b[A\u001b[A"
     ]
    },
    {
     "name": "stdout",
     "output_type": "stream",
     "text": [
      "314.10870090261255 340.5131689802189\n",
      "all good\n",
      "from memory 325 980\n",
      "\n",
      "313.0666448316122 339.31779326246306\n",
      "all good\n",
      "from memory 326 979\n",
      "\n",
      "314.9794890107783 337.8542924071181\n",
      "all good\n"
     ]
    },
    {
     "name": "stderr",
     "output_type": "stream",
     "text": [
      "\n",
      "\n",
      "\n",
      "\n",
      "t:  41%|████▏     | 520/1260 [00:48<01:09, 10.72it/s, now=None]\u001b[A\u001b[A\u001b[A\u001b[A"
     ]
    },
    {
     "name": "stdout",
     "output_type": "stream",
     "text": [
      "from memory 325 977\n",
      "\n",
      "319.33898762748396 339.79834649004033\n",
      "all good\n",
      "from memory 320 979\n",
      "\n",
      "318.65247737909135 340.11140957909765\n",
      "all good\n",
      "from memory 321 980\n",
      "\n",
      "317.9307179146577 342.0531422721949\n",
      "all good\n"
     ]
    },
    {
     "name": "stderr",
     "output_type": "stream",
     "text": [
      "\n",
      "\n",
      "\n",
      "\n",
      "t:  41%|████▏     | 522/1260 [00:48<01:08, 10.74it/s, now=None]\u001b[A\u001b[A\u001b[A\u001b[A\n",
      "\n",
      "\n",
      "\n",
      "t:  42%|████▏     | 524/1260 [00:48<01:07, 10.85it/s, now=None]\u001b[A\u001b[A\u001b[A\u001b[A"
     ]
    },
    {
     "name": "stdout",
     "output_type": "stream",
     "text": [
      "from memory 322 982\n",
      "\n",
      "317.2290975295687 340.32663537980204\n",
      "all good\n",
      "from memory 322 980\n",
      "\n",
      "320.3354843026928 341.8386810422186\n",
      "all good\n",
      "from memory 319 981\n",
      "\n",
      "322.9363848041707 340.5875252045454\n",
      "all good\n"
     ]
    },
    {
     "name": "stderr",
     "output_type": "stream",
     "text": [
      "\n",
      "\n",
      "\n",
      "\n",
      "t:  42%|████▏     | 526/1260 [00:48<01:07, 10.92it/s, now=None]\u001b[A\u001b[A\u001b[A\u001b[A"
     ]
    },
    {
     "name": "stdout",
     "output_type": "stream",
     "text": [
      "from memory 317 980\n",
      "\n",
      "308.3512353316104 337.2222614370879\n",
      "all good\n",
      "from memory 331 977\n",
      "\n",
      "313.76040855669635 340.8591479762332\n",
      "all good\n",
      "from memory 326 980\n"
     ]
    },
    {
     "name": "stderr",
     "output_type": "stream",
     "text": [
      "\n",
      "\n",
      "\n",
      "\n",
      "t:  42%|████▏     | 528/1260 [00:48<01:07, 10.81it/s, now=None]\u001b[A\u001b[A\u001b[A\u001b[A"
     ]
    },
    {
     "name": "stdout",
     "output_type": "stream",
     "text": [
      "\n",
      "324.549670009927 339.2122588874287\n",
      "all good\n",
      "from memory 315 979\n",
      "\n",
      "330.17662751404475 336.2977001403216\n",
      "all good\n"
     ]
    },
    {
     "name": "stderr",
     "output_type": "stream",
     "text": [
      "\n",
      "\n",
      "\n",
      "\n",
      "t:  42%|████▏     | 530/1260 [00:49<01:10, 10.39it/s, now=None]\u001b[A\u001b[A\u001b[A\u001b[A"
     ]
    },
    {
     "name": "stdout",
     "output_type": "stream",
     "text": [
      "from memory 309 976\n",
      "\n",
      "331.0887536272844 338.7117020425562\n",
      "all good\n",
      "from memory 308 978\n",
      "\n",
      "323.77575196353797 338.31935274338537\n",
      "all good\n"
     ]
    },
    {
     "name": "stderr",
     "output_type": "stream",
     "text": [
      "\n",
      "\n",
      "\n",
      "\n",
      "t:  42%|████▏     | 532/1260 [00:49<01:12,  9.99it/s, now=None]\u001b[A\u001b[A\u001b[A\u001b[A"
     ]
    },
    {
     "name": "stdout",
     "output_type": "stream",
     "text": [
      "from memory 316 978\n",
      "\n",
      "328.6619413308798 339.87180197881935\n",
      "all good\n",
      "from memory 311 979\n",
      "\n",
      "317.59282189845874 336.0040293742146\n",
      "all good\n",
      "from memory 322 976\n",
      "\n",
      "307.44639988264487 341.5390981503539\n",
      "all good\n"
     ]
    },
    {
     "name": "stderr",
     "output_type": "stream",
     "text": [
      "\n",
      "\n",
      "\n",
      "\n",
      "t:  42%|████▏     | 534/1260 [00:49<01:10, 10.34it/s, now=None]\u001b[A\u001b[A\u001b[A\u001b[A\n",
      "\n",
      "\n",
      "\n",
      "t:  43%|████▎     | 536/1260 [00:49<01:08, 10.55it/s, now=None]\u001b[A\u001b[A\u001b[A\u001b[A"
     ]
    },
    {
     "name": "stdout",
     "output_type": "stream",
     "text": [
      "from memory 332 981\n",
      "\n",
      "316.059878724355 343.03748019343834\n",
      "all good\n",
      "from memory 323 983\n",
      "\n",
      "323.0361834705337 353.17223446327944\n",
      "all good\n",
      "from memory 316 993\n",
      "\n",
      "313.72285514641567 326.7302052402208\n",
      "all good\n"
     ]
    },
    {
     "name": "stderr",
     "output_type": "stream",
     "text": [
      "\n",
      "\n",
      "\n",
      "\n",
      "t:  43%|████▎     | 538/1260 [00:49<01:10, 10.20it/s, now=None]\u001b[A\u001b[A\u001b[A\u001b[A"
     ]
    },
    {
     "name": "stdout",
     "output_type": "stream",
     "text": [
      "from memory 326 966\n",
      "\n",
      "304.542567593069 366.89707936869286\n",
      "all good\n",
      "from memory 335 1006\n",
      "\n",
      "300.9236778699974 372.0463476953573\n",
      "all good\n",
      "from memory 339 1012\n",
      "\n"
     ]
    },
    {
     "name": "stderr",
     "output_type": "stream",
     "text": [
      "\n",
      "\n",
      "\n",
      "\n",
      "t:  43%|████▎     | 540/1260 [00:50<01:09, 10.35it/s, now=None]\u001b[A\u001b[A\u001b[A\u001b[A"
     ]
    },
    {
     "name": "stdout",
     "output_type": "stream",
     "text": [
      "298.287144782939 390.84768934324075\n",
      "all good\n",
      "from memory 341 1030\n",
      "\n",
      "301.66437678671895 376.1235148197468\n",
      "all good\n",
      "from memory 338 1016\n",
      "\n",
      "287.68532270974737 350.2433174805335\n",
      "all good\n"
     ]
    },
    {
     "name": "stderr",
     "output_type": "stream",
     "text": [
      "\n",
      "\n",
      "\n",
      "\n",
      "t:  43%|████▎     | 542/1260 [00:50<01:09, 10.37it/s, now=None]\u001b[A\u001b[A\u001b[A\u001b[A\n",
      "\n",
      "\n",
      "\n",
      "t:  43%|████▎     | 544/1260 [00:50<01:10, 10.23it/s, now=None]\u001b[A\u001b[A\u001b[A\u001b[A"
     ]
    },
    {
     "name": "stdout",
     "output_type": "stream",
     "text": [
      "from memory 352 990\n",
      "\n",
      "289.8848084283549 342.32633174148043\n",
      "all good\n",
      "from memory 350 982\n",
      "\n",
      "292.96494457273843 339.7318833771619\n",
      "all good\n"
     ]
    },
    {
     "name": "stderr",
     "output_type": "stream",
     "text": [
      "\n",
      "\n",
      "\n",
      "\n",
      "t:  43%|████▎     | 546/1260 [00:50<01:12,  9.80it/s, now=None]\u001b[A\u001b[A\u001b[A\u001b[A"
     ]
    },
    {
     "name": "stdout",
     "output_type": "stream",
     "text": [
      "from memory 347 979\n",
      "\n",
      "297.45497052649347 336.78776618662425\n",
      "all good\n",
      "from memory 342 976\n",
      "\n",
      "300.36255232577224 327.7209175963027\n",
      "all good\n",
      "from memory 339 967\n"
     ]
    },
    {
     "name": "stderr",
     "output_type": "stream",
     "text": [
      "\n",
      "\n",
      "\n",
      "\n",
      "t:  43%|████▎     | 547/1260 [00:50<01:12,  9.85it/s, now=None]\u001b[A\u001b[A\u001b[A\u001b[A\n",
      "\n",
      "\n",
      "\n",
      "t:  43%|████▎     | 548/1260 [00:51<01:16,  9.33it/s, now=None]\u001b[A\u001b[A\u001b[A\u001b[A"
     ]
    },
    {
     "name": "stdout",
     "output_type": "stream",
     "text": [
      "\n",
      "284.092162646074 329.6271751915973\n",
      "all good\n",
      "from memory 355 969\n",
      "\n",
      "285.33315601965916 339.1229364914824\n",
      "all good\n"
     ]
    },
    {
     "name": "stderr",
     "output_type": "stream",
     "text": [
      "\n",
      "\n",
      "\n",
      "\n",
      "t:  44%|████▎     | 549/1260 [00:51<01:14,  9.51it/s, now=None]\u001b[A\u001b[A\u001b[A\u001b[A\n",
      "\n",
      "\n",
      "\n",
      "t:  44%|████▎     | 550/1260 [00:51<01:14,  9.55it/s, now=None]\u001b[A\u001b[A\u001b[A\u001b[A"
     ]
    },
    {
     "name": "stdout",
     "output_type": "stream",
     "text": [
      "from memory 354 979\n",
      "\n",
      "297.07052318374804 339.96206284124776\n",
      "all good\n",
      "from memory 342 979\n",
      "\n",
      "300.16191791540894 331.98371651707043\n",
      "all good\n"
     ]
    },
    {
     "name": "stderr",
     "output_type": "stream",
     "text": [
      "\n",
      "\n",
      "\n",
      "\n",
      "t:  44%|████▎     | 551/1260 [00:51<01:16,  9.30it/s, now=None]\u001b[A\u001b[A\u001b[A\u001b[A\n",
      "\n",
      "\n",
      "\n",
      "t:  44%|████▍     | 552/1260 [00:51<01:14,  9.46it/s, now=None]\u001b[A\u001b[A\u001b[A\u001b[A"
     ]
    },
    {
     "name": "stdout",
     "output_type": "stream",
     "text": [
      "from memory 339 971\n",
      "\n",
      "301.0517578308921 335.09477323913563\n",
      "all good\n",
      "from memory 338 975\n",
      "\n",
      "301.32375352350476 378.8756871061204\n",
      "all good\n"
     ]
    },
    {
     "name": "stderr",
     "output_type": "stream",
     "text": [
      "\n",
      "\n",
      "\n",
      "\n",
      "t:  44%|████▍     | 553/1260 [00:51<01:14,  9.47it/s, now=None]\u001b[A\u001b[A\u001b[A\u001b[A\n",
      "\n",
      "\n",
      "\n",
      "t:  44%|████▍     | 554/1260 [00:51<01:17,  9.15it/s, now=None]\u001b[A\u001b[A\u001b[A\u001b[A"
     ]
    },
    {
     "name": "stdout",
     "output_type": "stream",
     "text": [
      "from memory 338 1018\n",
      "\n",
      "306.5602252941737 387.62754105644717\n",
      "all good\n",
      "from memory 333 1027\n",
      "\n",
      "306.7546930807896 407.37339077444767\n",
      "all good\n"
     ]
    },
    {
     "name": "stderr",
     "output_type": "stream",
     "text": [
      "\n",
      "\n",
      "\n",
      "\n",
      "t:  44%|████▍     | 555/1260 [00:51<01:20,  8.73it/s, now=None]\u001b[A\u001b[A\u001b[A\u001b[A"
     ]
    },
    {
     "name": "stdout",
     "output_type": "stream",
     "text": [
      "from memory 333 1047\n",
      "\n",
      "325.30870179808335 438.79677677348377\n",
      "all good\n",
      "from memory 314 1078\n",
      "\n",
      "333.95560738971545 469.7291416249632\n",
      "all good\n"
     ]
    },
    {
     "name": "stderr",
     "output_type": "stream",
     "text": [
      "\n",
      "\n",
      "\n",
      "\n",
      "t:  44%|████▍     | 557/1260 [00:51<01:17,  9.02it/s, now=None]\u001b[A\u001b[A\u001b[A\u001b[A\n",
      "\n",
      "\n",
      "\n",
      "t:  44%|████▍     | 558/1260 [00:52<01:16,  9.15it/s, now=None]\u001b[A\u001b[A\u001b[A\u001b[A"
     ]
    },
    {
     "name": "stdout",
     "output_type": "stream",
     "text": [
      "from memory 306 1109\n",
      "\n",
      "349.173649802074 518.5985359622032\n",
      "right _false detection\n",
      "\n",
      "334.94192672994734 384.41453360596984\n",
      "all good\n",
      "from memory 305 1024\n"
     ]
    },
    {
     "name": "stderr",
     "output_type": "stream",
     "text": [
      "\n",
      "\n",
      "\n",
      "\n",
      "t:  44%|████▍     | 559/1260 [00:52<01:14,  9.35it/s, now=None]\u001b[A\u001b[A\u001b[A\u001b[A\n",
      "\n",
      "\n",
      "\n",
      "t:  44%|████▍     | 560/1260 [00:52<01:15,  9.27it/s, now=None]\u001b[A\u001b[A\u001b[A\u001b[A"
     ]
    },
    {
     "name": "stdout",
     "output_type": "stream",
     "text": [
      "\n",
      "346.85931203044095 447.98327830290555\n",
      "all good\n",
      "from memory 293 1087\n",
      "\n",
      "354.7002218294338 434.1975554387143\n",
      "all good\n"
     ]
    },
    {
     "name": "stderr",
     "output_type": "stream",
     "text": [
      "\n",
      "\n",
      "\n",
      "\n",
      "t:  45%|████▍     | 561/1260 [00:52<01:18,  8.91it/s, now=None]\u001b[A\u001b[A\u001b[A\u001b[A\n",
      "\n",
      "\n",
      "\n",
      "t:  45%|████▍     | 562/1260 [00:52<01:22,  8.50it/s, now=None]\u001b[A\u001b[A\u001b[A\u001b[A"
     ]
    },
    {
     "name": "stdout",
     "output_type": "stream",
     "text": [
      "from memory 285 1074\n",
      "\n",
      "355.5994921891255 414.7564454868834\n",
      "all good\n",
      "from memory 284 1054\n",
      "\n",
      "350.0830660624916 408.9905665912156\n",
      "all good\n"
     ]
    },
    {
     "name": "stderr",
     "output_type": "stream",
     "text": [
      "\n",
      "\n",
      "\n",
      "\n",
      "t:  45%|████▍     | 563/1260 [00:52<01:18,  8.84it/s, now=None]\u001b[A\u001b[A\u001b[A\u001b[A\n",
      "\n",
      "\n",
      "\n",
      "t:  45%|████▍     | 564/1260 [00:52<01:17,  9.01it/s, now=None]\u001b[A\u001b[A\u001b[A\u001b[A"
     ]
    },
    {
     "name": "stdout",
     "output_type": "stream",
     "text": [
      "from memory 289 1048\n",
      "\n",
      "337.9924705203576 402.82757427205297\n",
      "all good\n",
      "from memory 302 1042\n",
      "\n",
      "332.06624386252474 393.06920124413136\n",
      "all good\n"
     ]
    },
    {
     "name": "stderr",
     "output_type": "stream",
     "text": [
      "\n",
      "\n",
      "\n",
      "\n",
      "t:  45%|████▍     | 565/1260 [00:52<01:17,  8.92it/s, now=None]\u001b[A\u001b[A\u001b[A\u001b[A\n",
      "\n",
      "\n",
      "\n",
      "t:  45%|████▍     | 566/1260 [00:53<01:20,  8.57it/s, now=None]\u001b[A\u001b[A\u001b[A\u001b[A"
     ]
    },
    {
     "name": "stdout",
     "output_type": "stream",
     "text": [
      "from memory 307 1033\n",
      "\n",
      "314.8249377089563 380.9325730352883\n",
      "all good\n",
      "from memory 325 1020\n",
      "\n",
      "301.34357873214105 372.23540115934225\n",
      "all good\n"
     ]
    },
    {
     "name": "stderr",
     "output_type": "stream",
     "text": [
      "\n",
      "\n",
      "\n",
      "\n",
      "t:  45%|████▌     | 567/1260 [00:53<01:17,  8.95it/s, now=None]\u001b[A\u001b[A\u001b[A\u001b[A"
     ]
    },
    {
     "name": "stdout",
     "output_type": "stream",
     "text": [
      "from memory 338 1012\n",
      "\n",
      "296.4746475025795 384.49362826205515\n",
      "all good\n",
      "from memory 343 1024\n",
      "\n",
      "300.8989713745111 399.751621872118\n",
      "all good\n",
      "from memory 339 1039\n"
     ]
    },
    {
     "name": "stderr",
     "output_type": "stream",
     "text": [
      "\n",
      "\n",
      "\n",
      "\n",
      "t:  45%|████▌     | 569/1260 [00:53<01:13,  9.46it/s, now=None]\u001b[A\u001b[A\u001b[A\u001b[A\n",
      "\n",
      "\n",
      "\n"
     ]
    },
    {
     "name": "stdout",
     "output_type": "stream",
     "text": [
      "\n",
      "289.55240594495115 449.5236365593023\n",
      "all good\n",
      "from memory 350 1089\n",
      "\n",
      "278.90914947193687 419.81664733133744\n",
      "all good\n",
      "from memory 361 1059\n",
      "\n",
      "267.75202915398137 380.12755501950153\n",
      "all good\n"
     ]
    },
    {
     "name": "stderr",
     "output_type": "stream",
     "text": [
      "t:  45%|████▌     | 571/1260 [00:53<01:09,  9.90it/s, now=None]\u001b[A\u001b[A\u001b[A\u001b[A\n",
      "\n",
      "\n",
      "\n",
      "t:  45%|████▌     | 573/1260 [00:53<01:06, 10.36it/s, now=None]\u001b[A\u001b[A\u001b[A\u001b[A"
     ]
    },
    {
     "name": "stdout",
     "output_type": "stream",
     "text": [
      "from memory 372 1020\n",
      "\n",
      "312.99418305746366 344.4672876834045\n",
      "all good\n",
      "from memory 327 984\n",
      "\n",
      "317.7752014298803 350.8666369803658\n",
      "all good\n",
      "from memory 322 990\n",
      "\n",
      "316.514106121052 354.0923317540903\n",
      "all good\n"
     ]
    },
    {
     "name": "stderr",
     "output_type": "stream",
     "text": [
      "\n",
      "\n",
      "\n",
      "\n",
      "t:  46%|████▌     | 575/1260 [00:53<01:04, 10.56it/s, now=None]\u001b[A\u001b[A\u001b[A\u001b[A"
     ]
    },
    {
     "name": "stdout",
     "output_type": "stream",
     "text": [
      "from memory 323 994\n",
      "\n",
      "313.40876040610976 362.8642252299045\n",
      "all good\n",
      "from memory 326 1002\n",
      "\n",
      "314.774184471582 358.67149466509306\n",
      "all good\n",
      "from memory 325 998\n",
      "\n",
      "303.987072178106 360.45324436292606\n",
      "all good\n"
     ]
    },
    {
     "name": "stderr",
     "output_type": "stream",
     "text": [
      "\n",
      "\n",
      "\n",
      "\n",
      "t:  46%|████▌     | 577/1260 [00:54<01:03, 10.72it/s, now=None]\u001b[A\u001b[A\u001b[A\u001b[A\n",
      "\n",
      "\n",
      "\n",
      "t:  46%|████▌     | 579/1260 [00:54<01:01, 11.12it/s, now=None]\u001b[A\u001b[A\u001b[A\u001b[A"
     ]
    },
    {
     "name": "stdout",
     "output_type": "stream",
     "text": [
      "from memory 336 1000\n",
      "\n",
      "311.9509018601492 354.85718062305864\n",
      "all good\n",
      "from memory 328 994\n",
      "\n",
      "312.60542898310564 361.8533873926183\n",
      "all good\n",
      "from memory 327 1001\n",
      "\n",
      "326.5398759272699 350.7719240353067\n",
      "all good\n"
     ]
    },
    {
     "name": "stderr",
     "output_type": "stream",
     "text": [
      "\n",
      "\n",
      "\n",
      "\n",
      "t:  46%|████▌     | 581/1260 [00:54<00:59, 11.32it/s, now=None]\u001b[A\u001b[A\u001b[A\u001b[A\n",
      "\n",
      "\n",
      "\n",
      "t:  46%|████▋     | 583/1260 [00:54<00:58, 11.55it/s, now=None]\u001b[A\u001b[A\u001b[A\u001b[A"
     ]
    },
    {
     "name": "stdout",
     "output_type": "stream",
     "text": [
      "from memory 313 990\n",
      "\n",
      "316.38128828275575 372.4427661657968\n",
      "all good\n",
      "from memory 323 1012\n",
      "\n",
      "311.49956484176664 372.5456293807106\n",
      "all good\n",
      "from memory 328 1012\n",
      "\n",
      "308.14600835810955 356.7080327995649\n",
      "all good\n"
     ]
    },
    {
     "name": "stderr",
     "output_type": "stream",
     "text": [
      "\n",
      "\n",
      "\n",
      "\n",
      "t:  46%|████▋     | 585/1260 [00:54<00:56, 11.87it/s, now=None]\u001b[A\u001b[A\u001b[A\u001b[A"
     ]
    },
    {
     "name": "stdout",
     "output_type": "stream",
     "text": [
      "from memory 331 996\n",
      "\n",
      "311.64925724499363 364.579662790762\n",
      "all good\n",
      "from memory 328 1004\n",
      "\n",
      "303.58086132521646 365.86697644012236\n",
      "all good\n",
      "from memory 336 1005\n",
      "\n",
      "302.79835517781584 361.4309677132875\n",
      "all good\n"
     ]
    },
    {
     "name": "stderr",
     "output_type": "stream",
     "text": [
      "\n",
      "\n",
      "\n",
      "\n",
      "t:  47%|████▋     | 587/1260 [00:54<00:57, 11.67it/s, now=None]\u001b[A\u001b[A\u001b[A\u001b[A"
     ]
    },
    {
     "name": "stdout",
     "output_type": "stream",
     "text": [
      "from memory 337 1001\n",
      "\n",
      "303.4178523549854 357.8628041211459\n",
      "all good\n",
      "from memory 336 997\n",
      "\n",
      "307.27002674176794 357.4771825579319\n",
      "all good\n",
      "from memory 332 997\n",
      "\n",
      "304.235154971937 356.4674123701793\n",
      "all good\n"
     ]
    },
    {
     "name": "stderr",
     "output_type": "stream",
     "text": [
      "\n",
      "\n",
      "\n",
      "\n",
      "t:  47%|████▋     | 589/1260 [00:55<00:58, 11.50it/s, now=None]\u001b[A\u001b[A\u001b[A\u001b[A\n",
      "\n",
      "\n",
      "\n",
      "t:  47%|████▋     | 591/1260 [00:55<00:58, 11.50it/s, now=None]\u001b[A\u001b[A\u001b[A\u001b[A"
     ]
    },
    {
     "name": "stdout",
     "output_type": "stream",
     "text": [
      "from memory 335 996\n",
      "\n",
      "304.5152526494819 366.5835635296131\n",
      "all good\n",
      "from memory 335 1006\n",
      "\n",
      "310.15000657793826 362.81403141383566\n",
      "all good\n",
      "from memory 329 1002\n",
      "\n",
      "313.1004218895602 411.88606437822637\n",
      "all good\n"
     ]
    },
    {
     "name": "stderr",
     "output_type": "stream",
     "text": [
      "\n",
      "\n",
      "\n",
      "\n",
      "t:  47%|████▋     | 593/1260 [00:55<00:57, 11.52it/s, now=None]\u001b[A\u001b[A\u001b[A\u001b[A\n",
      "\n",
      "\n",
      "\n",
      "t:  47%|████▋     | 595/1260 [00:55<00:56, 11.83it/s, now=None]\u001b[A\u001b[A\u001b[A\u001b[A"
     ]
    },
    {
     "name": "stdout",
     "output_type": "stream",
     "text": [
      "from memory 326 1051\n",
      "\n",
      "306.2158546570731 403.44574939273434\n",
      "all good\n",
      "from memory 333 1043\n",
      "\n",
      "318.255369879493 378.448022104707\n",
      "all good\n",
      "from memory 321 1018\n",
      "\n",
      "320.6593379618673 365.1842288206801\n",
      "all good\n"
     ]
    },
    {
     "name": "stderr",
     "output_type": "stream",
     "text": [
      "\n",
      "\n",
      "\n",
      "\n",
      "t:  47%|████▋     | 597/1260 [00:55<00:58, 11.38it/s, now=None]\u001b[A\u001b[A\u001b[A\u001b[A"
     ]
    },
    {
     "name": "stdout",
     "output_type": "stream",
     "text": [
      "from memory 319 1005\n",
      "\n",
      "314.47049497157406 358.3968270193152\n",
      "all good\n",
      "from memory 325 998\n",
      "\n",
      "320.3613511635851 349.35540830505465\n",
      "all good\n",
      "from memory 319 989\n",
      "\n",
      "319.443352097371 349.4724675851983\n",
      "all good\n"
     ]
    },
    {
     "name": "stderr",
     "output_type": "stream",
     "text": [
      "\n",
      "\n",
      "\n",
      "\n",
      "t:  48%|████▊     | 599/1260 [00:55<01:01, 10.73it/s, now=None]\u001b[A\u001b[A\u001b[A\u001b[A"
     ]
    },
    {
     "name": "stdout",
     "output_type": "stream",
     "text": [
      "from memory 320 989\n",
      "\n",
      "320.35364969937564 347.4662566312818\n",
      "all good\n",
      "from memory 319 987\n",
      "\n",
      "318.4387875331853 347.4237060256727\n",
      "all good\n",
      "from memory 321 987\n"
     ]
    },
    {
     "name": "stderr",
     "output_type": "stream",
     "text": [
      "\n",
      "\n",
      "\n",
      "\n",
      "t:  48%|████▊     | 601/1260 [00:56<01:01, 10.69it/s, now=None]\u001b[A\u001b[A\u001b[A\u001b[A"
     ]
    },
    {
     "name": "stdout",
     "output_type": "stream",
     "text": [
      "\n",
      "318.10474722272716 334.4112041236849\n",
      "all good\n",
      "from memory 321 974\n",
      "\n",
      "324.9689867151322 282.43095626801164\n",
      "all good\n",
      "from memory 315 922\n",
      "\n"
     ]
    },
    {
     "name": "stderr",
     "output_type": "stream",
     "text": [
      "\n",
      "\n",
      "\n",
      "\n",
      "t:  48%|████▊     | 603/1260 [00:56<01:02, 10.56it/s, now=None]\u001b[A\u001b[A\u001b[A\u001b[A\n",
      "\n",
      "\n",
      "\n",
      "t:  48%|████▊     | 605/1260 [00:56<01:01, 10.63it/s, now=None]\u001b[A\u001b[A\u001b[A\u001b[A"
     ]
    },
    {
     "name": "stdout",
     "output_type": "stream",
     "text": [
      "319.9907414519109 361.79502782839995\n",
      "all good\n",
      "from memory 320 1001\n",
      "\n",
      "312.3450304863826 396.1966746356552\n",
      "all good\n",
      "from memory 327 1036\n",
      "\n",
      "311.50100828483977 373.8867888935007\n",
      "all good\n"
     ]
    },
    {
     "name": "stderr",
     "output_type": "stream",
     "text": [
      "\n",
      "\n",
      "\n",
      "\n",
      "t:  48%|████▊     | 607/1260 [00:56<01:01, 10.63it/s, now=None]\u001b[A\u001b[A\u001b[A\u001b[A"
     ]
    },
    {
     "name": "stdout",
     "output_type": "stream",
     "text": [
      "from memory 328 1013\n",
      "\n",
      "320.0468033857032 369.40574801294827\n",
      "all good\n",
      "from memory 319 1009\n",
      "\n",
      "326.7807060622233 393.9874933726385\n",
      "all good\n",
      "from memory 313 1033\n",
      "\n",
      "325.6850772682043 361.3461030349388\n",
      "all good\n"
     ]
    },
    {
     "name": "stderr",
     "output_type": "stream",
     "text": [
      "\n",
      "\n",
      "\n",
      "\n",
      "t:  48%|████▊     | 609/1260 [00:56<01:01, 10.63it/s, now=None]\u001b[A\u001b[A\u001b[A\u001b[A"
     ]
    },
    {
     "name": "stdout",
     "output_type": "stream",
     "text": [
      "from memory 314 1001\n",
      "\n",
      "326.32560578508287 352.9674451320798\n",
      "all good\n",
      "from memory 313 992\n",
      "\n",
      "333.1786237159008 346.5552164796244\n",
      "all good\n",
      "from memory 306 986\n",
      "\n"
     ]
    },
    {
     "name": "stderr",
     "output_type": "stream",
     "text": [
      "\n",
      "\n",
      "\n",
      "\n",
      "t:  48%|████▊     | 611/1260 [00:57<01:01, 10.57it/s, now=None]\u001b[A\u001b[A\u001b[A\u001b[A\n",
      "\n",
      "\n",
      "\n",
      "t:  49%|████▊     | 613/1260 [00:57<00:59, 10.78it/s, now=None]\u001b[A\u001b[A\u001b[A\u001b[A"
     ]
    },
    {
     "name": "stdout",
     "output_type": "stream",
     "text": [
      "331.319397934255 347.0430157991442\n",
      "all good\n",
      "from memory 308 987\n",
      "\n",
      "337.4879615607965 343.4032840688145\n",
      "all good\n",
      "from memory 302 983\n",
      "\n",
      "335.01376569117804 337.82893118702145\n",
      "all good\n"
     ]
    },
    {
     "name": "stderr",
     "output_type": "stream",
     "text": [
      "\n",
      "\n",
      "\n",
      "\n",
      "t:  49%|████▉     | 615/1260 [00:57<00:59, 10.77it/s, now=None]\u001b[A\u001b[A\u001b[A\u001b[A"
     ]
    },
    {
     "name": "stdout",
     "output_type": "stream",
     "text": [
      "from memory 304 977\n",
      "\n",
      "333.9122000819042 358.9015901789835\n",
      "all good\n",
      "from memory 306 998\n",
      "\n",
      "339.94303890287 333.0553627332815\n",
      "all good\n",
      "from memory 300 973\n",
      "\n",
      "339.1072889069434 329.1503785615831\n",
      "all good\n"
     ]
    },
    {
     "name": "stderr",
     "output_type": "stream",
     "text": [
      "\n",
      "\n",
      "\n",
      "\n",
      "t:  49%|████▉     | 617/1260 [00:57<00:58, 10.93it/s, now=None]\u001b[A\u001b[A\u001b[A\u001b[A\n",
      "\n",
      "\n",
      "\n",
      "t:  49%|████▉     | 619/1260 [00:57<00:56, 11.28it/s, now=None]\u001b[A\u001b[A\u001b[A\u001b[A"
     ]
    },
    {
     "name": "stdout",
     "output_type": "stream",
     "text": [
      "from memory 300 969\n",
      "\n",
      "332.6680446453712 340.45066797988466\n",
      "all good\n",
      "from memory 307 980\n",
      "\n",
      "336.6789332401465 303.17963063881587\n",
      "all good\n",
      "from memory 303 943\n",
      "\n",
      "337.9268297887276 317.4575584084422\n",
      "all good\n"
     ]
    },
    {
     "name": "stderr",
     "output_type": "stream",
     "text": [
      "\n",
      "\n",
      "\n",
      "\n",
      "t:  49%|████▉     | 621/1260 [00:57<00:58, 10.98it/s, now=None]\u001b[A\u001b[A\u001b[A\u001b[A"
     ]
    },
    {
     "name": "stdout",
     "output_type": "stream",
     "text": [
      "from memory 302 957\n",
      "\n",
      "351.7623720101167 306.69123714360114\n",
      "all good\n",
      "from memory 288 946\n",
      "\n",
      "356.0139435416529 306.2557862902221\n",
      "all good\n",
      "from memory 283 946\n"
     ]
    },
    {
     "name": "stderr",
     "output_type": "stream",
     "text": [
      "\n",
      "\n",
      "\n",
      "\n",
      "t:  49%|████▉     | 623/1260 [00:58<00:57, 11.15it/s, now=None]\u001b[A\u001b[A\u001b[A\u001b[A"
     ]
    },
    {
     "name": "stdout",
     "output_type": "stream",
     "text": [
      "\n",
      "357.4777490893503 304.7903306914777\n",
      "all good\n",
      "from memory 282 944\n",
      "\n",
      "352.5841877834525 308.66293013379914\n",
      "all good\n",
      "from memory 287 948\n",
      "\n",
      "366.1785335239145 311.99382159383345\n",
      "all good\n"
     ]
    },
    {
     "name": "stderr",
     "output_type": "stream",
     "text": [
      "\n",
      "\n",
      "\n",
      "\n",
      "t:  50%|████▉     | 625/1260 [00:58<00:56, 11.28it/s, now=None]\u001b[A\u001b[A\u001b[A\u001b[A"
     ]
    },
    {
     "name": "stdout",
     "output_type": "stream",
     "text": [
      "from memory 273 951\n",
      "\n",
      "342.5004053072472 313.16251753953725\n",
      "all good\n",
      "from memory 297 953\n",
      "\n",
      "339.8920534677557 311.81621183278185\n",
      "all good\n",
      "from memory 300 951\n"
     ]
    },
    {
     "name": "stderr",
     "output_type": "stream",
     "text": [
      "\n",
      "\n",
      "\n",
      "\n",
      "t:  50%|████▉     | 627/1260 [00:58<00:57, 11.00it/s, now=None]\u001b[A\u001b[A\u001b[A\u001b[A"
     ]
    },
    {
     "name": "stdout",
     "output_type": "stream",
     "text": [
      "\n",
      "341.62380283507343 313.70508235640955\n",
      "all good\n",
      "from memory 298 953\n",
      "\n",
      "343.12734994179175 314.91894349010295\n",
      "all good\n",
      "from memory 296 954\n",
      "\n"
     ]
    },
    {
     "name": "stderr",
     "output_type": "stream",
     "text": [
      "\n",
      "\n",
      "\n",
      "\n",
      "t:  50%|████▉     | 629/1260 [00:58<00:58, 10.70it/s, now=None]\u001b[A\u001b[A\u001b[A\u001b[A\n",
      "\n",
      "\n",
      "\n",
      "t:  50%|█████     | 631/1260 [00:58<00:58, 10.84it/s, now=None]\u001b[A\u001b[A\u001b[A\u001b[A"
     ]
    },
    {
     "name": "stdout",
     "output_type": "stream",
     "text": [
      "335.96062211965216 314.984121700028\n",
      "all good\n",
      "from memory 304 954\n",
      "\n",
      "337.14597373798324 337.5577301644139\n",
      "all good\n",
      "from memory 302 977\n",
      "\n",
      "347.93943101378727 340.609074372559\n",
      "all good\n"
     ]
    },
    {
     "name": "stderr",
     "output_type": "stream",
     "text": [
      "\n",
      "\n",
      "\n",
      "\n",
      "t:  50%|█████     | 633/1260 [00:59<00:59, 10.56it/s, now=None]\u001b[A\u001b[A\u001b[A\u001b[A"
     ]
    },
    {
     "name": "stdout",
     "output_type": "stream",
     "text": [
      "from memory 292 980\n",
      "\n",
      "345.8881538684309 338.00728498794956\n",
      "all good\n",
      "from memory 294 978\n",
      "\n",
      "349.57781355046154 338.92197003550655\n",
      "all good\n",
      "from memory 290 978\n",
      "\n",
      "347.8940410588397 338.03646595578914\n",
      "all good\n"
     ]
    },
    {
     "name": "stderr",
     "output_type": "stream",
     "text": [
      "\n",
      "\n",
      "\n",
      "\n",
      "t:  50%|█████     | 635/1260 [00:59<00:57, 10.83it/s, now=None]\u001b[A\u001b[A\u001b[A\u001b[A\n",
      "\n",
      "\n",
      "\n",
      "t:  51%|█████     | 637/1260 [00:59<00:55, 11.25it/s, now=None]\u001b[A\u001b[A\u001b[A\u001b[A"
     ]
    },
    {
     "name": "stdout",
     "output_type": "stream",
     "text": [
      "from memory 292 978\n",
      "\n",
      "348.2914950538866 335.92810612235166\n",
      "all good\n",
      "from memory 291 975\n",
      "\n",
      "342.7923540898747 333.13819541028624\n",
      "all good\n",
      "from memory 297 973\n",
      "\n",
      "329.5593820819603 330.27144642644646\n",
      "all good\n"
     ]
    },
    {
     "name": "stderr",
     "output_type": "stream",
     "text": [
      "\n",
      "\n",
      "\n",
      "\n",
      "t:  51%|█████     | 639/1260 [00:59<00:56, 11.02it/s, now=None]\u001b[A\u001b[A\u001b[A\u001b[A"
     ]
    },
    {
     "name": "stdout",
     "output_type": "stream",
     "text": [
      "from memory 310 970\n",
      "\n",
      "324.93651484697875 328.5279279316803\n",
      "all good\n",
      "from memory 315 968\n",
      "\n",
      "324.10678759252755 330.30479232995935\n",
      "all good\n",
      "from memory 315 970\n",
      "\n",
      "320.7096770300368 333.0571563079732\n",
      "all good\n"
     ]
    },
    {
     "name": "stderr",
     "output_type": "stream",
     "text": [
      "\n",
      "\n",
      "\n",
      "\n",
      "t:  51%|█████     | 641/1260 [00:59<00:56, 10.93it/s, now=None]\u001b[A\u001b[A\u001b[A\u001b[A"
     ]
    },
    {
     "name": "stdout",
     "output_type": "stream",
     "text": [
      "from memory 319 973\n",
      "\n",
      "323.3613770788271 336.97000302808146\n",
      "all good\n",
      "from memory 316 976\n",
      "\n",
      "328.68284919466646 340.65134007904453\n",
      "all good\n",
      "from memory 311 980\n",
      "\n",
      "330.6057062268708 353.33121948723306\n",
      "all good\n"
     ]
    },
    {
     "name": "stderr",
     "output_type": "stream",
     "text": [
      "\n",
      "\n",
      "\n",
      "\n",
      "t:  51%|█████     | 643/1260 [00:59<00:55, 11.07it/s, now=None]\u001b[A\u001b[A\u001b[A\u001b[A\n",
      "\n",
      "\n",
      "\n",
      "t:  51%|█████     | 645/1260 [01:00<00:55, 11.01it/s, now=None]\u001b[A\u001b[A\u001b[A\u001b[A"
     ]
    },
    {
     "name": "stdout",
     "output_type": "stream",
     "text": [
      "from memory 309 993\n",
      "\n",
      "324.11858325026384 339.53458175876824\n",
      "all good\n",
      "from memory 315 979\n",
      "\n",
      "323.85577337522204 342.82623872064414\n",
      "all good\n",
      "from memory 316 982\n",
      "\n",
      "316.7963067450507 344.8040846636236\n",
      "all good\n"
     ]
    },
    {
     "name": "stderr",
     "output_type": "stream",
     "text": [
      "\n",
      "\n",
      "\n",
      "\n",
      "t:  51%|█████▏    | 647/1260 [01:00<00:56, 10.94it/s, now=None]\u001b[A\u001b[A\u001b[A\u001b[A\n",
      "\n",
      "\n",
      "\n",
      "t:  52%|█████▏    | 649/1260 [01:00<00:54, 11.24it/s, now=None]\u001b[A\u001b[A\u001b[A\u001b[A"
     ]
    },
    {
     "name": "stdout",
     "output_type": "stream",
     "text": [
      "from memory 323 984\n",
      "\n",
      "313.3966000013935 344.5574979138148\n",
      "all good\n",
      "from memory 326 984\n",
      "\n",
      "308.0066323539194 344.5495842040176\n",
      "all good\n",
      "from memory 331 984\n",
      "\n",
      "304.4983214091645 344.82804108658695\n",
      "all good\n"
     ]
    },
    {
     "name": "stderr",
     "output_type": "stream",
     "text": [
      "\n",
      "\n",
      "\n",
      "\n",
      "t:  52%|█████▏    | 651/1260 [01:00<00:52, 11.52it/s, now=None]\u001b[A\u001b[A\u001b[A\u001b[A"
     ]
    },
    {
     "name": "stdout",
     "output_type": "stream",
     "text": [
      "from memory 335 984\n",
      "\n",
      "302.68955284677475 343.3292157245937\n",
      "all good\n",
      "from memory 337 983\n",
      "\n",
      "304.52389092314945 343.84015779585025\n",
      "all good\n",
      "from memory 335 983\n",
      "\n",
      "300.59074061252585 344.0627907622047\n",
      "all good\n"
     ]
    },
    {
     "name": "stderr",
     "output_type": "stream",
     "text": [
      "\n",
      "\n",
      "\n",
      "\n",
      "t:  52%|█████▏    | 653/1260 [01:00<00:55, 10.88it/s, now=None]\u001b[A\u001b[A\u001b[A\u001b[A"
     ]
    },
    {
     "name": "stdout",
     "output_type": "stream",
     "text": [
      "from memory 339 984\n",
      "\n",
      "299.16783511170087 343.69713839452277\n",
      "all good\n",
      "from memory 340 983\n",
      "\n",
      "298.0608483368607 343.2003242766675\n",
      "all good\n",
      "from memory 341 983\n",
      "\n",
      "294.5361454832656 343.5724001602398\n",
      "all good\n"
     ]
    },
    {
     "name": "stderr",
     "output_type": "stream",
     "text": [
      "\n",
      "\n",
      "\n",
      "\n",
      "t:  52%|█████▏    | 655/1260 [01:01<00:55, 10.89it/s, now=None]\u001b[A\u001b[A\u001b[A\u001b[A\n",
      "\n",
      "\n",
      "\n",
      "t:  52%|█████▏    | 657/1260 [01:01<00:55, 10.86it/s, now=None]\u001b[A\u001b[A\u001b[A\u001b[A"
     ]
    },
    {
     "name": "stdout",
     "output_type": "stream",
     "text": [
      "from memory 345 983\n",
      "\n",
      "290.4730692063314 342.2350610939475\n",
      "all good\n",
      "from memory 349 982\n",
      "\n",
      "290.0454295246818 336.93113838083843\n",
      "all good\n",
      "from memory 349 976\n",
      "\n",
      "290.5066594438413 336.34870206545907\n",
      "all good\n"
     ]
    },
    {
     "name": "stderr",
     "output_type": "stream",
     "text": [
      "\n",
      "\n",
      "\n",
      "\n",
      "t:  52%|█████▏    | 659/1260 [01:01<00:54, 11.02it/s, now=None]\u001b[A\u001b[A\u001b[A\u001b[A\n",
      "\n",
      "\n",
      "\n",
      "t:  52%|█████▏    | 661/1260 [01:01<00:52, 11.36it/s, now=None]\u001b[A\u001b[A\u001b[A\u001b[A"
     ]
    },
    {
     "name": "stdout",
     "output_type": "stream",
     "text": [
      "from memory 349 976\n",
      "\n",
      "288.120799577231 338.77813636470705\n",
      "all good\n",
      "from memory 351 978\n",
      "\n",
      "291.43994729977896 338.610456477972\n",
      "all good\n",
      "from memory 348 978\n",
      "\n",
      "292.39551015813197 339.81046786037405\n",
      "all good\n"
     ]
    },
    {
     "name": "stderr",
     "output_type": "stream",
     "text": [
      "\n",
      "\n",
      "\n",
      "\n",
      "t:  53%|█████▎    | 663/1260 [01:01<00:52, 11.28it/s, now=None]\u001b[A\u001b[A\u001b[A\u001b[A"
     ]
    },
    {
     "name": "stdout",
     "output_type": "stream",
     "text": [
      "from memory 347 979\n",
      "\n",
      "296.728453039251 340.1766893291099\n",
      "all good\n",
      "from memory 343 980\n",
      "\n",
      "301.9404040576302 343.1775690339824\n",
      "all good\n",
      "from memory 338 983\n",
      "\n",
      "300.66449473270785 344.1043092922048\n",
      "all good\n"
     ]
    },
    {
     "name": "stderr",
     "output_type": "stream",
     "text": [
      "\n",
      "\n",
      "\n",
      "\n",
      "t:  53%|█████▎    | 665/1260 [01:01<00:54, 10.87it/s, now=None]\u001b[A\u001b[A\u001b[A\u001b[A\n",
      "\n",
      "\n",
      "\n",
      "t:  53%|█████▎    | 667/1260 [01:02<00:52, 11.25it/s, now=None]\u001b[A\u001b[A\u001b[A\u001b[A"
     ]
    },
    {
     "name": "stdout",
     "output_type": "stream",
     "text": [
      "from memory 339 984\n",
      "\n",
      "307.79398635812277 345.5795155159203\n",
      "all good\n",
      "from memory 332 985\n",
      "\n",
      "295.2628783946309 346.4774437101637\n",
      "all good\n",
      "from memory 344 986\n",
      "\n",
      "296.787116887273 348.1272595102257\n",
      "all good\n"
     ]
    },
    {
     "name": "stderr",
     "output_type": "stream",
     "text": [
      "\n",
      "\n",
      "\n",
      "\n",
      "t:  53%|█████▎    | 669/1260 [01:02<00:52, 11.25it/s, now=None]\u001b[A\u001b[A\u001b[A\u001b[A"
     ]
    },
    {
     "name": "stdout",
     "output_type": "stream",
     "text": [
      "from memory 343 988\n",
      "\n",
      "298.93700240924295 352.9432185655455\n",
      "all good\n",
      "from memory 341 992\n",
      "\n",
      "298.50596787301447 352.1906183211486\n",
      "all good\n",
      "from memory 341 992\n",
      "\n",
      "296.2912542450804 358.0622095574629\n",
      "all good\n"
     ]
    },
    {
     "name": "stderr",
     "output_type": "stream",
     "text": [
      "\n",
      "\n",
      "\n",
      "\n",
      "t:  53%|█████▎    | 671/1260 [01:02<00:54, 10.80it/s, now=None]\u001b[A\u001b[A\u001b[A\u001b[A"
     ]
    },
    {
     "name": "stdout",
     "output_type": "stream",
     "text": [
      "from memory 343 998\n",
      "\n",
      "298.21739031641755 358.13009430474153\n",
      "all good\n",
      "from memory 341 998\n",
      "\n",
      "301.8037744930681 356.6141471780413\n",
      "all good\n",
      "from memory 338 996\n",
      "\n",
      "297.04534354646296 353.50273606179223\n",
      "all good\n"
     ]
    },
    {
     "name": "stderr",
     "output_type": "stream",
     "text": [
      "\n",
      "\n",
      "\n",
      "\n",
      "t:  53%|█████▎    | 673/1260 [01:02<00:53, 10.90it/s, now=None]\u001b[A\u001b[A\u001b[A\u001b[A\n",
      "\n",
      "\n",
      "\n",
      "t:  54%|█████▎    | 675/1260 [01:02<00:52, 11.18it/s, now=None]\u001b[A\u001b[A\u001b[A\u001b[A"
     ]
    },
    {
     "name": "stdout",
     "output_type": "stream",
     "text": [
      "from memory 342 993\n",
      "\n",
      "296.66807445920085 353.50664526753144\n",
      "all good\n",
      "from memory 343 993\n",
      "\n",
      "294.05079095385383 353.3532804257586\n",
      "all good\n",
      "from memory 345 993\n",
      "\n",
      "290.5124837743538 352.60538341486085\n",
      "all good\n"
     ]
    },
    {
     "name": "stderr",
     "output_type": "stream",
     "text": [
      "\n",
      "\n",
      "\n",
      "\n",
      "t:  54%|█████▎    | 677/1260 [01:03<00:53, 10.92it/s, now=None]\u001b[A\u001b[A\u001b[A\u001b[A\n",
      "\n",
      "\n",
      "\n",
      "t:  54%|█████▍    | 679/1260 [01:03<00:52, 11.15it/s, now=None]\u001b[A\u001b[A\u001b[A\u001b[A"
     ]
    },
    {
     "name": "stdout",
     "output_type": "stream",
     "text": [
      "from memory 349 992\n",
      "\n",
      "292.4696490316002 352.2563583315716\n",
      "all good\n",
      "from memory 347 992\n",
      "\n",
      "287.65353000443616 353.2282011436622\n",
      "all good\n",
      "from memory 352 993\n",
      "\n",
      "283.07261123949525 353.9484027656896\n",
      "all good\n"
     ]
    },
    {
     "name": "stderr",
     "output_type": "stream",
     "text": [
      "\n",
      "\n",
      "\n",
      "\n",
      "t:  54%|█████▍    | 681/1260 [01:03<00:52, 10.98it/s, now=None]\u001b[A\u001b[A\u001b[A\u001b[A"
     ]
    },
    {
     "name": "stdout",
     "output_type": "stream",
     "text": [
      "from memory 356 993\n",
      "\n",
      "284.690255685021 359.8809585559802\n",
      "all good\n",
      "from memory 355 999\n",
      "\n",
      "289.34026381582305 355.2681063194548\n",
      "all good\n",
      "from memory 350 995\n",
      "\n",
      "288.98060174816476 358.8658285511991\n",
      "all good\n"
     ]
    },
    {
     "name": "stderr",
     "output_type": "stream",
     "text": [
      "\n",
      "\n",
      "\n",
      "\n",
      "t:  54%|█████▍    | 683/1260 [01:03<00:52, 11.09it/s, now=None]\u001b[A\u001b[A\u001b[A\u001b[A"
     ]
    },
    {
     "name": "stdout",
     "output_type": "stream",
     "text": [
      "from memory 351 998\n",
      "\n",
      "288.43763917421217 342.2632020875227\n",
      "all good\n",
      "from memory 351 982\n",
      "\n",
      "287.82748312432085 348.03289891380996\n",
      "all good\n",
      "from memory 352 988\n",
      "\n"
     ]
    },
    {
     "name": "stderr",
     "output_type": "stream",
     "text": [
      "\n",
      "\n",
      "\n",
      "\n",
      "t:  54%|█████▍    | 685/1260 [01:03<00:51, 11.07it/s, now=None]\u001b[A\u001b[A\u001b[A\u001b[A"
     ]
    },
    {
     "name": "stdout",
     "output_type": "stream",
     "text": [
      "284.5030115784715 349.97573829167914\n",
      "all good\n",
      "from memory 355 989\n",
      "\n",
      "281.83885008356845 353.03609897383603\n",
      "all good\n",
      "from memory 358 993\n",
      "\n"
     ]
    },
    {
     "name": "stderr",
     "output_type": "stream",
     "text": [
      "\n",
      "\n",
      "\n",
      "\n",
      "t:  55%|█████▍    | 687/1260 [01:03<00:53, 10.69it/s, now=None]\u001b[A\u001b[A\u001b[A\u001b[A"
     ]
    },
    {
     "name": "stdout",
     "output_type": "stream",
     "text": [
      "278.8413316913769 352.06633687139265\n",
      "all good\n",
      "from memory 361 992\n",
      "\n",
      "281.8161819505561 352.2423686666283\n",
      "all good\n",
      "from memory 358 992\n",
      "\n",
      "285.8992847648143 352.66988563614484\n",
      "all good\n"
     ]
    },
    {
     "name": "stderr",
     "output_type": "stream",
     "text": [
      "\n",
      "\n",
      "\n",
      "\n",
      "t:  55%|█████▍    | 689/1260 [01:04<00:54, 10.48it/s, now=None]\u001b[A\u001b[A\u001b[A\u001b[A\n",
      "\n",
      "\n",
      "\n",
      "t:  55%|█████▍    | 691/1260 [01:04<00:52, 10.94it/s, now=None]\u001b[A\u001b[A\u001b[A\u001b[A"
     ]
    },
    {
     "name": "stdout",
     "output_type": "stream",
     "text": [
      "from memory 354 992\n",
      "\n",
      "282.7563592796653 354.0071364284486\n",
      "all good\n",
      "from memory 357 994\n",
      "\n",
      "285.7029916207644 353.5333639659808\n",
      "all good\n",
      "from memory 354 993\n",
      "\n",
      "278.5851024753408 353.17136481339514\n",
      "all good\n"
     ]
    },
    {
     "name": "stderr",
     "output_type": "stream",
     "text": [
      "\n",
      "\n",
      "\n",
      "\n",
      "t:  55%|█████▌    | 693/1260 [01:04<00:52, 10.75it/s, now=None]\u001b[A\u001b[A\u001b[A\u001b[A\n",
      "\n",
      "\n",
      "\n",
      "t:  55%|█████▌    | 695/1260 [01:04<00:50, 11.22it/s, now=None]\u001b[A\u001b[A\u001b[A\u001b[A"
     ]
    },
    {
     "name": "stdout",
     "output_type": "stream",
     "text": [
      "from memory 361 993\n",
      "\n",
      "282.64428524714924 359.72291247293765\n",
      "all good\n",
      "from memory 357 999\n",
      "\n",
      "282.27919483425393 357.2056150114961\n",
      "all good\n",
      "from memory 357 997\n",
      "\n",
      "284.8842128864926 355.65487794371415\n",
      "all good\n"
     ]
    },
    {
     "name": "stderr",
     "output_type": "stream",
     "text": [
      "\n",
      "\n",
      "\n",
      "\n",
      "t:  55%|█████▌    | 697/1260 [01:04<00:48, 11.57it/s, now=None]\u001b[A\u001b[A\u001b[A\u001b[A"
     ]
    },
    {
     "name": "stdout",
     "output_type": "stream",
     "text": [
      "from memory 355 995\n",
      "\n",
      "284.62854047359934 354.073292159675\n",
      "all good\n",
      "from memory 355 994\n",
      "\n",
      "283.18776448624385 356.6448535516397\n",
      "all good\n",
      "from memory 356 996\n",
      "\n",
      "283.96287919253814 355.2705222146269\n",
      "all good\n"
     ]
    },
    {
     "name": "stderr",
     "output_type": "stream",
     "text": [
      "\n",
      "\n",
      "\n",
      "\n",
      "t:  55%|█████▌    | 699/1260 [01:05<00:50, 11.20it/s, now=None]\u001b[A\u001b[A\u001b[A\u001b[A\n",
      "\n",
      "\n",
      "\n",
      "t:  56%|█████▌    | 701/1260 [01:05<00:48, 11.48it/s, now=None]\u001b[A\u001b[A\u001b[A\u001b[A"
     ]
    },
    {
     "name": "stdout",
     "output_type": "stream",
     "text": [
      "from memory 356 995\n",
      "\n",
      "283.0214833531895 352.3628396305104\n",
      "all good\n",
      "from memory 356 992\n",
      "\n",
      "282.073952589907 350.566906824253\n",
      "all good\n",
      "from memory 357 990\n",
      "\n",
      "285.0394193536757 349.8617764470581\n",
      "all good\n"
     ]
    },
    {
     "name": "stderr",
     "output_type": "stream",
     "text": [
      "\n",
      "\n",
      "\n",
      "\n",
      "t:  56%|█████▌    | 703/1260 [01:05<00:50, 11.08it/s, now=None]\u001b[A\u001b[A\u001b[A\u001b[A"
     ]
    },
    {
     "name": "stdout",
     "output_type": "stream",
     "text": [
      "from memory 354 989\n",
      "\n",
      "285.34879325503823 348.8102819839064\n",
      "all good\n",
      "from memory 354 988\n",
      "\n",
      "283.93744348345257 349.304778339869\n",
      "all good\n",
      "from memory 356 989\n",
      "\n"
     ]
    },
    {
     "name": "stderr",
     "output_type": "stream",
     "text": [
      "\n",
      "\n",
      "\n",
      "\n",
      "t:  56%|█████▌    | 705/1260 [01:05<00:49, 11.28it/s, now=None]\u001b[A\u001b[A\u001b[A\u001b[A"
     ]
    },
    {
     "name": "stdout",
     "output_type": "stream",
     "text": [
      "286.4136386861099 351.72115155177926\n",
      "all good\n",
      "from memory 353 991\n",
      "\n",
      "287.634608345534 360.30259401400565\n",
      "all good\n",
      "from memory 352 1000\n"
     ]
    },
    {
     "name": "stderr",
     "output_type": "stream",
     "text": [
      "\n",
      "\n",
      "\n",
      "\n",
      "t:  56%|█████▌    | 707/1260 [01:05<00:55,  9.88it/s, now=None]\u001b[A\u001b[A\u001b[A\u001b[A"
     ]
    },
    {
     "name": "stdout",
     "output_type": "stream",
     "text": [
      "\n",
      "287.31775067673914 354.38336097766296\n",
      "all good\n",
      "from memory 352 994\n",
      "\n",
      "286.48520106487945 350.7207239827309\n",
      "all good\n"
     ]
    },
    {
     "name": "stderr",
     "output_type": "stream",
     "text": [
      "\n",
      "\n",
      "\n",
      "\n",
      "t:  56%|█████▋    | 709/1260 [01:06<00:55,  9.91it/s, now=None]\u001b[A\u001b[A\u001b[A\u001b[A"
     ]
    },
    {
     "name": "stdout",
     "output_type": "stream",
     "text": [
      "from memory 353 990\n",
      "\n",
      "288.300967926265 349.36286226036657\n",
      "all good\n",
      "from memory 351 989\n",
      "\n",
      "285.9519360991658 352.9225099524675\n",
      "all good\n",
      "from memory 354 992\n"
     ]
    },
    {
     "name": "stderr",
     "output_type": "stream",
     "text": [
      "\n",
      "\n",
      "\n",
      "\n",
      "t:  56%|█████▋    | 711/1260 [01:06<00:55,  9.87it/s, now=None]\u001b[A\u001b[A\u001b[A\u001b[A"
     ]
    },
    {
     "name": "stdout",
     "output_type": "stream",
     "text": [
      "\n",
      "287.7095965701381 351.9222943072606\n",
      "all good\n",
      "from memory 352 991\n",
      "\n",
      "286.88697532814234 351.20739357883554\n",
      "all good\n",
      "from memory 353 991\n"
     ]
    },
    {
     "name": "stderr",
     "output_type": "stream",
     "text": [
      "\n",
      "\n",
      "\n",
      "\n",
      "t:  57%|█████▋    | 713/1260 [01:06<00:55,  9.90it/s, now=None]\u001b[A\u001b[A\u001b[A\u001b[A"
     ]
    },
    {
     "name": "stdout",
     "output_type": "stream",
     "text": [
      "\n",
      "288.9863720545627 348.0254234946199\n",
      "all good\n",
      "from memory 351 988\n",
      "\n",
      "291.6280339000532 347.6490530664056\n",
      "all good\n",
      "from memory 348 987\n",
      "\n",
      "292.9618949642172 346.41454429928365\n",
      "all good\n"
     ]
    },
    {
     "name": "stderr",
     "output_type": "stream",
     "text": [
      "\n",
      "\n",
      "\n",
      "\n",
      "t:  57%|█████▋    | 715/1260 [01:06<00:55,  9.83it/s, now=None]\u001b[A\u001b[A\u001b[A\u001b[A\n",
      "\n",
      "\n",
      "\n",
      "t:  57%|█████▋    | 716/1260 [01:06<00:55,  9.72it/s, now=None]\u001b[A\u001b[A\u001b[A\u001b[A"
     ]
    },
    {
     "name": "stdout",
     "output_type": "stream",
     "text": [
      "from memory 347 986\n",
      "\n",
      "290.5918601193669 345.4484591396325\n",
      "all good\n",
      "from memory 349 985\n",
      "\n",
      "292.9652405500707 345.37595157330986\n",
      "all good\n"
     ]
    },
    {
     "name": "stderr",
     "output_type": "stream",
     "text": [
      "\n",
      "\n",
      "\n",
      "\n",
      "t:  57%|█████▋    | 717/1260 [01:06<00:55,  9.71it/s, now=None]\u001b[A\u001b[A\u001b[A\u001b[A\n",
      "\n",
      "\n",
      "\n",
      "t:  57%|█████▋    | 718/1260 [01:06<01:01,  8.78it/s, now=None]\u001b[A\u001b[A\u001b[A\u001b[A"
     ]
    },
    {
     "name": "stdout",
     "output_type": "stream",
     "text": [
      "from memory 347 985\n",
      "\n",
      "288.51347798400644 347.9591457290826\n",
      "all good\n",
      "from memory 351 987\n",
      "\n",
      "276.9196592831418 354.0171423618408\n",
      "all good\n"
     ]
    },
    {
     "name": "stderr",
     "output_type": "stream",
     "text": [
      "\n",
      "\n",
      "\n",
      "\n",
      "t:  57%|█████▋    | 719/1260 [01:07<01:01,  8.81it/s, now=None]\u001b[A\u001b[A\u001b[A\u001b[A\n",
      "\n",
      "\n",
      "\n",
      "t:  57%|█████▋    | 720/1260 [01:07<01:01,  8.83it/s, now=None]\u001b[A\u001b[A\u001b[A\u001b[A"
     ]
    },
    {
     "name": "stdout",
     "output_type": "stream",
     "text": [
      "from memory 363 994\n",
      "\n",
      "281.1382124078292 351.7059087973431\n",
      "all good\n",
      "from memory 358 991\n",
      "\n",
      "285.4686680108383 351.6886254102965\n",
      "all good\n",
      "from memory 354 991\n"
     ]
    },
    {
     "name": "stderr",
     "output_type": "stream",
     "text": [
      "\n",
      "\n",
      "\n",
      "\n",
      "t:  57%|█████▋    | 722/1260 [01:07<00:56,  9.48it/s, now=None]\u001b[A\u001b[A\u001b[A\u001b[A"
     ]
    },
    {
     "name": "stdout",
     "output_type": "stream",
     "text": [
      "\n",
      "286.50277833336474 350.32977196006084\n",
      "all good\n",
      "from memory 353 990\n",
      "\n",
      "293.2928489265987 351.7109809442518\n",
      "all good\n",
      "from memory 346 991\n",
      "\n",
      "294.13130972294505 350.8399446883798\n",
      "all good\n"
     ]
    },
    {
     "name": "stderr",
     "output_type": "stream",
     "text": [
      "\n",
      "\n",
      "\n",
      "\n",
      "t:  57%|█████▋    | 723/1260 [01:07<00:56,  9.54it/s, now=None]\u001b[A\u001b[A\u001b[A\u001b[A\n",
      "\n",
      "\n",
      "\n",
      "t:  57%|█████▋    | 724/1260 [01:07<00:56,  9.48it/s, now=None]\u001b[A\u001b[A\u001b[A\u001b[A\n",
      "\n",
      "\n",
      "\n",
      "t:  58%|█████▊    | 725/1260 [01:07<01:04,  8.30it/s, now=None]\u001b[A\u001b[A\u001b[A\u001b[A"
     ]
    },
    {
     "name": "stdout",
     "output_type": "stream",
     "text": [
      "from memory 345 990\n",
      "\n",
      "290.4525352018667 352.9413323975757\n",
      "all good\n",
      "from memory 349 992\n",
      "\n",
      "287.80341698290556 352.3148017148985\n",
      "all good\n"
     ]
    },
    {
     "name": "stderr",
     "output_type": "stream",
     "text": [
      "\n",
      "\n",
      "\n",
      "\n",
      "t:  58%|█████▊    | 726/1260 [01:07<01:02,  8.59it/s, now=None]\u001b[A\u001b[A\u001b[A\u001b[A\n",
      "\n",
      "\n",
      "\n",
      "t:  58%|█████▊    | 727/1260 [01:07<01:02,  8.59it/s, now=None]\u001b[A\u001b[A\u001b[A\u001b[A"
     ]
    },
    {
     "name": "stdout",
     "output_type": "stream",
     "text": [
      "from memory 352 992\n",
      "\n",
      "290.8763961229607 352.99644630525677\n",
      "all good\n",
      "from memory 349 992\n",
      "\n",
      "282.9214083454641 352.4635448751951\n",
      "all good\n"
     ]
    },
    {
     "name": "stderr",
     "output_type": "stream",
     "text": [
      "\n",
      "\n",
      "\n",
      "\n",
      "t:  58%|█████▊    | 729/1260 [01:08<00:56,  9.36it/s, now=None]\u001b[A\u001b[A\u001b[A\u001b[A"
     ]
    },
    {
     "name": "stdout",
     "output_type": "stream",
     "text": [
      "from memory 357 992\n",
      "\n",
      "289.84441785722584 352.9027486031008\n",
      "all good\n",
      "from memory 350 992\n",
      "\n",
      "287.1570378217358 346.5150097090118\n",
      "all good\n",
      "from memory 352 986\n",
      "\n",
      "286.3408194234309 355.8250869016633\n",
      "all good\n"
     ]
    },
    {
     "name": "stderr",
     "output_type": "stream",
     "text": [
      "\n",
      "\n",
      "\n",
      "\n",
      "t:  58%|█████▊    | 731/1260 [01:08<00:54,  9.74it/s, now=None]\u001b[A\u001b[A\u001b[A\u001b[A"
     ]
    },
    {
     "name": "stdout",
     "output_type": "stream",
     "text": [
      "from memory 353 995\n",
      "\n",
      "283.92919241945765 357.4475488458363\n",
      "all good\n",
      "from memory 356 997\n",
      "\n",
      "277.3334197141919 361.6774210600812\n",
      "all good\n",
      "from memory 362 1001\n",
      "\n",
      "275.935414818086 370.02551128382333\n",
      "all good\n"
     ]
    },
    {
     "name": "stderr",
     "output_type": "stream",
     "text": [
      "\n",
      "\n",
      "\n",
      "\n",
      "t:  58%|█████▊    | 733/1260 [01:08<00:51, 10.15it/s, now=None]\u001b[A\u001b[A\u001b[A\u001b[A\n",
      "\n",
      "\n",
      "\n",
      "t:  58%|█████▊    | 735/1260 [01:08<00:50, 10.50it/s, now=None]\u001b[A\u001b[A\u001b[A\u001b[A"
     ]
    },
    {
     "name": "stdout",
     "output_type": "stream",
     "text": [
      "from memory 364 1010\n",
      "\n",
      "276.4014048536054 370.2412622043313\n",
      "all good\n",
      "from memory 363 1010\n",
      "\n",
      "275.856100905739 367.2808853855745\n",
      "all good\n",
      "from memory 364 1007\n",
      "\n",
      "275.08535382020307 362.29211399652866\n",
      "all good\n"
     ]
    },
    {
     "name": "stderr",
     "output_type": "stream",
     "text": [
      "\n",
      "\n",
      "\n",
      "\n",
      "t:  58%|█████▊    | 737/1260 [01:08<00:49, 10.64it/s, now=None]\u001b[A\u001b[A\u001b[A\u001b[A"
     ]
    },
    {
     "name": "stdout",
     "output_type": "stream",
     "text": [
      "from memory 364 1002\n",
      "\n",
      "280.20565843692015 361.05673890329217\n",
      "all good\n",
      "from memory 359 1001\n",
      "\n",
      "283.2509811793583 359.3066137734195\n",
      "all good\n",
      "from memory 356 999\n",
      "\n"
     ]
    },
    {
     "name": "stderr",
     "output_type": "stream",
     "text": [
      "\n",
      "\n",
      "\n",
      "\n",
      "t:  59%|█████▊    | 739/1260 [01:09<00:49, 10.63it/s, now=None]\u001b[A\u001b[A\u001b[A\u001b[A\n",
      "\n",
      "\n",
      "\n",
      "t:  59%|█████▉    | 741/1260 [01:09<00:48, 10.68it/s, now=None]\u001b[A\u001b[A\u001b[A\u001b[A"
     ]
    },
    {
     "name": "stdout",
     "output_type": "stream",
     "text": [
      "272.76959853213236 359.31348564743894\n",
      "all good\n",
      "from memory 367 999\n",
      "\n",
      "277.8752105536655 360.88636763227055\n",
      "all good\n",
      "from memory 362 1000\n",
      "\n",
      "277.42684316068096 372.13829278501555\n",
      "all good\n"
     ]
    },
    {
     "name": "stderr",
     "output_type": "stream",
     "text": [
      "\n",
      "\n",
      "\n",
      "\n",
      "t:  59%|█████▉    | 743/1260 [01:09<00:47, 10.97it/s, now=None]\u001b[A\u001b[A\u001b[A\u001b[A"
     ]
    },
    {
     "name": "stdout",
     "output_type": "stream",
     "text": [
      "from memory 362 1012\n",
      "\n",
      "277.0033314239985 367.27311337084416\n",
      "all good\n",
      "from memory 362 1007\n",
      "\n",
      "276.1838988273694 366.44092170380077\n",
      "all good\n",
      "from memory 363 1006\n",
      "\n",
      "273.92080160097566 363.83704671605096\n",
      "all good\n"
     ]
    },
    {
     "name": "stderr",
     "output_type": "stream",
     "text": [
      "\n",
      "\n",
      "\n",
      "\n",
      "t:  59%|█████▉    | 745/1260 [01:09<00:46, 11.12it/s, now=None]\u001b[A\u001b[A\u001b[A\u001b[A"
     ]
    },
    {
     "name": "stdout",
     "output_type": "stream",
     "text": [
      "from memory 366 1003\n",
      "\n",
      "272.5464425843851 364.6885919382704\n",
      "all good\n",
      "from memory 367 1004\n",
      "\n",
      "273.34579122158704 367.8970989810848\n",
      "all good\n",
      "from memory 366 1007\n"
     ]
    },
    {
     "name": "stderr",
     "output_type": "stream",
     "text": [
      "\n",
      "\n",
      "\n",
      "\n",
      "t:  59%|█████▉    | 747/1260 [01:09<00:46, 10.99it/s, now=None]\u001b[A\u001b[A\u001b[A\u001b[A"
     ]
    },
    {
     "name": "stdout",
     "output_type": "stream",
     "text": [
      "\n",
      "268.2636877257835 366.9310078735408\n",
      "all good\n",
      "from memory 371 1006\n",
      "\n",
      "266.95010597255657 368.018292380654\n",
      "all good\n",
      "from memory 373 1008\n",
      "\n",
      "263.9601556036621 368.5168448745404\n",
      "all good\n"
     ]
    },
    {
     "name": "stderr",
     "output_type": "stream",
     "text": [
      "\n",
      "\n",
      "\n",
      "\n",
      "t:  59%|█████▉    | 749/1260 [01:09<00:47, 10.69it/s, now=None]\u001b[A\u001b[A\u001b[A\u001b[A\n",
      "\n",
      "\n",
      "\n",
      "t:  60%|█████▉    | 751/1260 [01:10<00:47, 10.79it/s, now=None]\u001b[A\u001b[A\u001b[A\u001b[A"
     ]
    },
    {
     "name": "stdout",
     "output_type": "stream",
     "text": [
      "from memory 376 1008\n",
      "\n",
      "261.09547550900663 366.9812284920804\n",
      "all good\n",
      "from memory 378 1006\n",
      "\n",
      "262.72997321048973 368.82810783571847\n",
      "all good\n",
      "from memory 377 1008\n",
      "\n",
      "269.7810248194577 367.50903425540866\n",
      "all good\n"
     ]
    },
    {
     "name": "stderr",
     "output_type": "stream",
     "text": [
      "\n",
      "\n",
      "\n",
      "\n",
      "t:  60%|█████▉    | 753/1260 [01:10<00:46, 10.82it/s, now=None]\u001b[A\u001b[A\u001b[A\u001b[A"
     ]
    },
    {
     "name": "stdout",
     "output_type": "stream",
     "text": [
      "from memory 370 1007\n",
      "\n",
      "270.3117020163701 370.13422460544757\n",
      "all good\n",
      "from memory 369 1010\n",
      "\n",
      "266.13425371743426 379.4368943664947\n",
      "all good\n",
      "from memory 373 1019\n",
      "\n",
      "261.5526900293169 376.7356919889809\n",
      "all good\n"
     ]
    },
    {
     "name": "stderr",
     "output_type": "stream",
     "text": [
      "\n",
      "\n",
      "\n",
      "\n",
      "t:  60%|█████▉    | 755/1260 [01:10<00:46, 10.96it/s, now=None]\u001b[A\u001b[A\u001b[A\u001b[A\n",
      "\n",
      "\n",
      "\n",
      "t:  60%|██████    | 757/1260 [01:10<00:45, 10.99it/s, now=None]\u001b[A\u001b[A\u001b[A\u001b[A"
     ]
    },
    {
     "name": "stdout",
     "output_type": "stream",
     "text": [
      "from memory 378 1016\n",
      "\n",
      "252.54555290905205 379.4431001365841\n",
      "all good\n",
      "from memory 387 1019\n",
      "\n",
      "256.67511839279524 379.1558799433875\n",
      "all good\n",
      "from memory 383 1019\n",
      "\n",
      "251.1736742216478 379.66848178339274\n",
      "all good\n"
     ]
    },
    {
     "name": "stderr",
     "output_type": "stream",
     "text": [
      "\n",
      "\n",
      "\n",
      "\n",
      "t:  60%|██████    | 759/1260 [01:10<00:45, 10.94it/s, now=None]\u001b[A\u001b[A\u001b[A\u001b[A"
     ]
    },
    {
     "name": "stdout",
     "output_type": "stream",
     "text": [
      "from memory 388 1019\n",
      "\n",
      "247.64201814879976 379.9866658230866\n",
      "all good\n",
      "from memory 392 1019\n",
      "\n",
      "245.98697129277014 377.93764322261484\n",
      "all good\n"
     ]
    },
    {
     "name": "stderr",
     "output_type": "stream",
     "text": [
      "\n",
      "\n",
      "\n",
      "\n",
      "t:  60%|██████    | 761/1260 [01:11<00:47, 10.59it/s, now=None]\u001b[A\u001b[A\u001b[A\u001b[A"
     ]
    },
    {
     "name": "stdout",
     "output_type": "stream",
     "text": [
      "from memory 394 1017\n",
      "\n",
      "242.5392946722659 377.9450780856099\n",
      "all good\n",
      "from memory 397 1017\n",
      "\n",
      "243.6048001854806 377.965004364783\n",
      "all good\n",
      "from memory 396 1017\n",
      "\n",
      "245.95049671718954 380.30076109812524\n",
      "all good\n"
     ]
    },
    {
     "name": "stderr",
     "output_type": "stream",
     "text": [
      "\n",
      "\n",
      "\n",
      "\n",
      "t:  61%|██████    | 763/1260 [01:11<00:46, 10.71it/s, now=None]\u001b[A\u001b[A\u001b[A\u001b[A\n",
      "\n",
      "\n",
      "\n",
      "t:  61%|██████    | 765/1260 [01:11<00:44, 11.04it/s, now=None]\u001b[A\u001b[A\u001b[A\u001b[A"
     ]
    },
    {
     "name": "stdout",
     "output_type": "stream",
     "text": [
      "from memory 394 1020\n",
      "\n",
      "244.77417193821947 380.6680859439524\n",
      "all good\n",
      "from memory 395 1020\n",
      "\n",
      "243.7699652114099 384.04153949236525\n",
      "all good\n",
      "from memory 396 1024\n",
      "\n",
      "244.64304515363807 383.84230097898967\n",
      "all good\n"
     ]
    },
    {
     "name": "stderr",
     "output_type": "stream",
     "text": [
      "\n",
      "\n",
      "\n",
      "\n",
      "t:  61%|██████    | 767/1260 [01:11<00:44, 11.06it/s, now=None]\u001b[A\u001b[A\u001b[A\u001b[A\n",
      "\n",
      "\n",
      "\n",
      "t:  61%|██████    | 769/1260 [01:11<00:43, 11.33it/s, now=None]"
     ]
    },
    {
     "name": "stdout",
     "output_type": "stream",
     "text": [
      "from memory 395 1023\n",
      "\n",
      "244.57591951070015 393.2991988988165\n",
      "all good\n",
      "from memory 395 1033\n",
      "\n",
      "243.88318623753173 396.60941068426246\n",
      "all good\n",
      "from memory 396 1036\n",
      "\n",
      "243.29598981216805 386.91834325709624\n",
      "all good\n"
     ]
    },
    {
     "name": "stderr",
     "output_type": "stream",
     "text": [
      "\u001b[A\u001b[A\u001b[A\u001b[A\n",
      "\n",
      "\n",
      "\n",
      "t:  61%|██████    | 771/1260 [01:11<00:43, 11.24it/s, now=None]\u001b[A\u001b[A\u001b[A\u001b[A"
     ]
    },
    {
     "name": "stdout",
     "output_type": "stream",
     "text": [
      "from memory 396 1026\n",
      "\n",
      "240.09992453860502 391.05991603509756\n",
      "all good\n",
      "from memory 399 1031\n",
      "\n",
      "236.00435494178566 393.69670067260745\n",
      "all good\n",
      "from memory 403 1033\n",
      "\n",
      "245.45229814801496 392.79929758384446\n",
      "all good\n"
     ]
    },
    {
     "name": "stderr",
     "output_type": "stream",
     "text": [
      "\n",
      "\n",
      "\n",
      "\n",
      "t:  61%|██████▏   | 773/1260 [01:12<00:43, 11.12it/s, now=None]\u001b[A\u001b[A\u001b[A\u001b[A"
     ]
    },
    {
     "name": "stdout",
     "output_type": "stream",
     "text": [
      "from memory 394 1032\n",
      "\n",
      "239.00815267816176 393.59455605148173\n",
      "all good\n",
      "from memory 400 1033\n",
      "\n",
      "244.2705346643288 393.2254165212387\n",
      "all good\n",
      "from memory 395 1033\n"
     ]
    },
    {
     "name": "stderr",
     "output_type": "stream",
     "text": [
      "\n",
      "\n",
      "\n",
      "\n",
      "t:  62%|██████▏   | 775/1260 [01:12<00:45, 10.70it/s, now=None]\u001b[A\u001b[A\u001b[A\u001b[A\n",
      "\n",
      "\n",
      "\n",
      "t:  62%|██████▏   | 777/1260 [01:12<00:44, 10.83it/s, now=None]\u001b[A\u001b[A\u001b[A\u001b[A"
     ]
    },
    {
     "name": "stdout",
     "output_type": "stream",
     "text": [
      "\n",
      "247.47805977813982 394.23223160205566\n",
      "all good\n",
      "from memory 392 1034\n",
      "\n",
      "250.10372187938685 396.0917775823077\n",
      "all good\n",
      "from memory 389 1036\n",
      "\n",
      "246.14066500094083 400.89803595327885\n",
      "all good\n"
     ]
    },
    {
     "name": "stderr",
     "output_type": "stream",
     "text": [
      "\n",
      "\n",
      "\n",
      "\n",
      "t:  62%|██████▏   | 779/1260 [01:12<00:43, 11.11it/s, now=None]\u001b[A\u001b[A\u001b[A\u001b[A"
     ]
    },
    {
     "name": "stdout",
     "output_type": "stream",
     "text": [
      "from memory 393 1040\n",
      "\n",
      "247.7882774156925 405.81707222356135\n",
      "all good\n",
      "from memory 392 1045\n",
      "\n",
      "247.72682623926494 405.66503666569406\n",
      "all good\n",
      "from memory 392 1045\n",
      "\n",
      "247.19729398682136 406.92794203811536\n",
      "all good\n"
     ]
    },
    {
     "name": "stderr",
     "output_type": "stream",
     "text": [
      "\n",
      "\n",
      "\n",
      "\n",
      "t:  62%|██████▏   | 781/1260 [01:12<00:43, 11.09it/s, now=None]\u001b[A\u001b[A\u001b[A\u001b[A"
     ]
    },
    {
     "name": "stdout",
     "output_type": "stream",
     "text": [
      "from memory 392 1046\n",
      "\n",
      "248.408049991481 408.80726331793926\n",
      "all good\n",
      "from memory 391 1048\n",
      "\n",
      "254.75087927847613 402.2077557965904\n",
      "all good\n",
      "from memory 385 1042\n"
     ]
    },
    {
     "name": "stderr",
     "output_type": "stream",
     "text": [
      "\n",
      "\n",
      "\n",
      "\n",
      "t:  62%|██████▏   | 783/1260 [01:13<00:43, 10.87it/s, now=None]\u001b[A\u001b[A\u001b[A\u001b[A\n",
      "\n",
      "\n",
      "\n",
      "t:  62%|██████▏   | 785/1260 [01:13<00:43, 11.03it/s, now=None]\u001b[A\u001b[A\u001b[A\u001b[A"
     ]
    },
    {
     "name": "stdout",
     "output_type": "stream",
     "text": [
      "\n",
      "250.69222954577288 402.730563584387\n",
      "all good\n",
      "from memory 389 1042\n",
      "\n",
      "254.9800793474032 400.7490375968141\n",
      "all good\n",
      "from memory 385 1040\n",
      "\n",
      "258.9928712198279 400.2338093187054\n",
      "all good\n"
     ]
    },
    {
     "name": "stderr",
     "output_type": "stream",
     "text": [
      "\n",
      "\n",
      "\n",
      "\n",
      "t:  62%|██████▏   | 787/1260 [01:13<00:42, 11.04it/s, now=None]\u001b[A\u001b[A\u001b[A\u001b[A"
     ]
    },
    {
     "name": "stdout",
     "output_type": "stream",
     "text": [
      "from memory 381 1040\n",
      "\n",
      "248.66070521824014 400.0217713412619\n",
      "all good\n",
      "from memory 391 1040\n",
      "\n",
      "244.25472620417838 399.6974773294487\n",
      "all good\n",
      "from memory 395 1039\n",
      "\n",
      "247.226947050859 399.1789434417044\n",
      "all good\n"
     ]
    },
    {
     "name": "stderr",
     "output_type": "stream",
     "text": [
      "\n",
      "\n",
      "\n",
      "\n",
      "t:  63%|██████▎   | 789/1260 [01:13<00:42, 10.96it/s, now=None]\u001b[A\u001b[A\u001b[A\u001b[A"
     ]
    },
    {
     "name": "stdout",
     "output_type": "stream",
     "text": [
      "from memory 392 1039\n",
      "\n",
      "248.23043798727736 401.6026732218006\n",
      "all good\n",
      "from memory 391 1041\n",
      "\n",
      "253.93046310370107 396.8190225246144\n",
      "all good\n",
      "from memory 386 1036\n",
      "\n",
      "255.57508923722418 394.5981176652824\n",
      "all good\n"
     ]
    },
    {
     "name": "stderr",
     "output_type": "stream",
     "text": [
      "\n",
      "\n",
      "\n",
      "\n",
      "t:  63%|██████▎   | 791/1260 [01:13<00:42, 11.07it/s, now=None]\u001b[A\u001b[A\u001b[A\u001b[A\n",
      "\n",
      "\n",
      "\n",
      "t:  63%|██████▎   | 793/1260 [01:13<00:44, 10.53it/s, now=None]\u001b[A\u001b[A\u001b[A\u001b[A"
     ]
    },
    {
     "name": "stdout",
     "output_type": "stream",
     "text": [
      "from memory 384 1034\n",
      "\n",
      "250.75576699895333 396.3779099332535\n",
      "all good\n",
      "from memory 389 1036\n",
      "\n",
      "247.14630460560318 394.7544427537259\n",
      "all good\n",
      "from memory 392 1034\n",
      "\n"
     ]
    },
    {
     "name": "stderr",
     "output_type": "stream",
     "text": [
      "\n",
      "\n",
      "\n",
      "\n",
      "t:  63%|██████▎   | 795/1260 [01:14<00:43, 10.70it/s, now=None]\u001b[A\u001b[A\u001b[A\u001b[A"
     ]
    },
    {
     "name": "stdout",
     "output_type": "stream",
     "text": [
      "245.27843826341655 394.15218198869934\n",
      "all good\n",
      "from memory 394 1034\n",
      "\n",
      "247.8361129707107 394.5730945974567\n",
      "all good\n",
      "from memory 392 1034\n",
      "\n",
      "242.2428828641846 391.5543778035467\n",
      "all good\n"
     ]
    },
    {
     "name": "stderr",
     "output_type": "stream",
     "text": [
      "\n",
      "\n",
      "\n",
      "\n",
      "t:  63%|██████▎   | 797/1260 [01:14<00:43, 10.61it/s, now=None]\u001b[A\u001b[A\u001b[A\u001b[A\n",
      "\n",
      "\n",
      "\n",
      "t:  63%|██████▎   | 799/1260 [01:14<00:41, 11.01it/s, now=None]\u001b[A\u001b[A\u001b[A\u001b[A"
     ]
    },
    {
     "name": "stdout",
     "output_type": "stream",
     "text": [
      "from memory 397 1031\n",
      "\n",
      "237.72857358306715 388.3907486206849\n",
      "all good\n",
      "from memory 402 1028\n",
      "\n",
      "243.1026697020663 387.7170420410164\n",
      "all good\n",
      "from memory 396 1027\n",
      "\n",
      "243.99069502790252 384.9047103685375\n",
      "all good\n"
     ]
    },
    {
     "name": "stderr",
     "output_type": "stream",
     "text": [
      "\n",
      "\n",
      "\n",
      "\n",
      "t:  64%|██████▎   | 801/1260 [01:14<00:42, 10.89it/s, now=None]\u001b[A\u001b[A\u001b[A\u001b[A"
     ]
    },
    {
     "name": "stdout",
     "output_type": "stream",
     "text": [
      "from memory 396 1024\n",
      "\n",
      "245.7535986560581 384.722541976857\n",
      "all good\n",
      "from memory 394 1024\n",
      "\n",
      "241.13700103827938 386.9095273465923\n",
      "all good\n",
      "from memory 398 1026\n",
      "\n",
      "240.17168792746247 390.4440358580025\n",
      "all good\n"
     ]
    },
    {
     "name": "stderr",
     "output_type": "stream",
     "text": [
      "\n",
      "\n",
      "\n",
      "\n",
      "t:  64%|██████▎   | 803/1260 [01:14<00:43, 10.41it/s, now=None]\u001b[A\u001b[A\u001b[A\u001b[A"
     ]
    },
    {
     "name": "stdout",
     "output_type": "stream",
     "text": [
      "from memory 399 1030\n",
      "\n",
      "250.27980731642225 398.8509897476115\n",
      "all good\n",
      "from memory 389 1038\n",
      "\n",
      "252.41649970418314 397.4930059478463\n",
      "all good\n",
      "from memory 387 1037\n",
      "\n",
      "243.33036006321169 391.8379111656534\n",
      "all good\n"
     ]
    },
    {
     "name": "stderr",
     "output_type": "stream",
     "text": [
      "\n",
      "\n",
      "\n",
      "\n",
      "t:  64%|██████▍   | 805/1260 [01:15<00:42, 10.67it/s, now=None]\u001b[A\u001b[A\u001b[A\u001b[A\n",
      "\n",
      "\n",
      "\n",
      "t:  64%|██████▍   | 807/1260 [01:15<00:41, 10.85it/s, now=None]\u001b[A\u001b[A\u001b[A\u001b[A"
     ]
    },
    {
     "name": "stdout",
     "output_type": "stream",
     "text": [
      "from memory 396 1031\n",
      "\n",
      "241.60747603118318 391.5680588660266\n",
      "all good\n",
      "from memory 398 1031\n",
      "\n",
      "239.74582958334503 386.3621623096733\n",
      "all good\n",
      "from memory 400 1026\n",
      "\n",
      "238.7265220213951 385.58279267957187\n",
      "all good\n"
     ]
    },
    {
     "name": "stderr",
     "output_type": "stream",
     "text": [
      "\n",
      "\n",
      "\n",
      "\n",
      "t:  64%|██████▍   | 809/1260 [01:15<00:41, 10.87it/s, now=None]\u001b[A\u001b[A\u001b[A\u001b[A\n",
      "\n",
      "\n",
      "\n",
      "t:  64%|██████▍   | 811/1260 [01:15<00:39, 11.24it/s, now=None]\u001b[A\u001b[A\u001b[A\u001b[A"
     ]
    },
    {
     "name": "stdout",
     "output_type": "stream",
     "text": [
      "from memory 401 1025\n",
      "\n",
      "236.96146703760542 387.5750293206702\n",
      "all good\n",
      "from memory 403 1027\n",
      "\n",
      "244.95903748595424 388.0326262549818\n",
      "all good\n",
      "from memory 395 1028\n",
      "\n",
      "238.3375809547656 388.8872288643813\n",
      "all good\n"
     ]
    },
    {
     "name": "stderr",
     "output_type": "stream",
     "text": [
      "\n",
      "\n",
      "\n",
      "\n",
      "t:  65%|██████▍   | 813/1260 [01:15<00:38, 11.48it/s, now=None]\u001b[A\u001b[A\u001b[A\u001b[A"
     ]
    },
    {
     "name": "stdout",
     "output_type": "stream",
     "text": [
      "from memory 401 1028\n",
      "\n",
      "244.93716031893234 398.05278395477603\n",
      "all good\n",
      "from memory 395 1038\n",
      "\n",
      "248.5829209225326 405.5505933013692\n",
      "all good\n",
      "from memory 391 1045\n",
      "\n",
      "252.2947635778117 403.8336724400849\n",
      "all good\n"
     ]
    },
    {
     "name": "stderr",
     "output_type": "stream",
     "text": [
      "\n",
      "\n",
      "\n",
      "\n",
      "t:  65%|██████▍   | 815/1260 [01:15<00:40, 11.09it/s, now=None]\u001b[A\u001b[A\u001b[A\u001b[A"
     ]
    },
    {
     "name": "stdout",
     "output_type": "stream",
     "text": [
      "from memory 387 1043\n",
      "\n",
      "250.86883463263177 411.5675850260934\n",
      "all good\n",
      "from memory 389 1051\n",
      "\n",
      "258.91741804110893 407.3299253929399\n",
      "all good\n",
      "from memory 381 1047\n"
     ]
    },
    {
     "name": "stderr",
     "output_type": "stream",
     "text": [
      "\n",
      "\n",
      "\n",
      "\n",
      "t:  65%|██████▍   | 817/1260 [01:16<00:40, 10.81it/s, now=None]\u001b[A\u001b[A\u001b[A\u001b[A\n",
      "\n",
      "\n",
      "\n",
      "t:  65%|██████▌   | 819/1260 [01:16<00:40, 10.88it/s, now=None]"
     ]
    },
    {
     "name": "stdout",
     "output_type": "stream",
     "text": [
      "\n",
      "258.8337085568677 403.9871919631821\n",
      "all good\n",
      "from memory 381 1043\n",
      "\n",
      "257.73809623207984 396.43263686766363\n",
      "all good\n",
      "from memory 382 1036\n",
      "\n",
      "256.26774216430465 389.63968883532334\n",
      "all good\n"
     ]
    },
    {
     "name": "stderr",
     "output_type": "stream",
     "text": [
      "\u001b[A\u001b[A\u001b[A\u001b[A\n",
      "\n",
      "\n",
      "\n",
      "t:  65%|██████▌   | 821/1260 [01:16<00:39, 11.19it/s, now=None]\u001b[A\u001b[A\u001b[A\u001b[A"
     ]
    },
    {
     "name": "stdout",
     "output_type": "stream",
     "text": [
      "from memory 383 1029\n",
      "\n",
      "259.7529305622163 396.4695354528021\n",
      "all good\n",
      "from memory 380 1036\n",
      "\n",
      "265.02132712415283 389.13974016140105\n",
      "all good\n",
      "from memory 374 1029\n",
      "\n",
      "264.6185237899666 383.6298115286836\n",
      "all good\n"
     ]
    },
    {
     "name": "stderr",
     "output_type": "stream",
     "text": [
      "\n",
      "\n",
      "\n",
      "\n",
      "t:  65%|██████▌   | 823/1260 [01:16<00:40, 10.85it/s, now=None]\u001b[A\u001b[A\u001b[A\u001b[A"
     ]
    },
    {
     "name": "stdout",
     "output_type": "stream",
     "text": [
      "from memory 375 1023\n",
      "\n",
      "269.8891857630613 383.1501375827004\n",
      "all good\n",
      "from memory 370 1023\n",
      "\n",
      "275.3741774675362 391.9668375506287\n",
      "all good\n",
      "from memory 364 1031\n",
      "\n"
     ]
    },
    {
     "name": "stderr",
     "output_type": "stream",
     "text": [
      "\n",
      "\n",
      "\n",
      "\n",
      "t:  65%|██████▌   | 825/1260 [01:16<00:41, 10.59it/s, now=None]\u001b[A\u001b[A\u001b[A\u001b[A"
     ]
    },
    {
     "name": "stdout",
     "output_type": "stream",
     "text": [
      "272.7437484233883 377.40811157261953\n",
      "all good\n",
      "from memory 367 1017\n",
      "\n",
      "278.22085031217273 372.7223485372674\n",
      "all good\n",
      "from memory 361 1012\n",
      "\n",
      "276.6344830144467 364.12131527019153\n",
      "all good\n"
     ]
    },
    {
     "name": "stderr",
     "output_type": "stream",
     "text": [
      "\n",
      "\n",
      "\n",
      "\n",
      "t:  66%|██████▌   | 827/1260 [01:17<00:40, 10.66it/s, now=None]\u001b[A\u001b[A\u001b[A\u001b[A\n",
      "\n",
      "\n",
      "\n",
      "t:  66%|██████▌   | 829/1260 [01:17<00:40, 10.55it/s, now=None]\u001b[A\u001b[A\u001b[A\u001b[A"
     ]
    },
    {
     "name": "stdout",
     "output_type": "stream",
     "text": [
      "from memory 363 1004\n",
      "\n",
      "275.33073215439424 364.61878308442977\n",
      "all good\n",
      "from memory 364 1004\n",
      "\n",
      "280.30763237086796 363.4530113815904\n",
      "all good\n",
      "from memory 359 1003\n"
     ]
    },
    {
     "name": "stderr",
     "output_type": "stream",
     "text": [
      "\n",
      "\n",
      "\n",
      "\n",
      "t:  66%|██████▌   | 831/1260 [01:17<00:41, 10.36it/s, now=None]\u001b[A\u001b[A\u001b[A\u001b[A"
     ]
    },
    {
     "name": "stdout",
     "output_type": "stream",
     "text": [
      "\n",
      "276.74846553290604 363.2925850678296\n",
      "all good\n",
      "from memory 363 1003\n",
      "\n",
      "278.2098251452352 359.625322464138\n",
      "all good\n",
      "from memory 361 999\n"
     ]
    },
    {
     "name": "stderr",
     "output_type": "stream",
     "text": [
      "\n",
      "\n",
      "\n",
      "\n",
      "t:  66%|██████▌   | 833/1260 [01:17<00:42, 10.07it/s, now=None]\u001b[A\u001b[A\u001b[A\u001b[A"
     ]
    },
    {
     "name": "stdout",
     "output_type": "stream",
     "text": [
      "\n",
      "274.3127942679988 358.4832716796717\n",
      "all good\n",
      "from memory 365 998\n",
      "\n",
      "270.2971087489739 356.87093277380154\n",
      "all good\n",
      "from memory 369 996\n",
      "\n",
      "271.0083137905319 355.47918433518225\n",
      "all good\n"
     ]
    },
    {
     "name": "stderr",
     "output_type": "stream",
     "text": [
      "\n",
      "\n",
      "\n",
      "\n",
      "t:  66%|██████▋   | 835/1260 [01:17<00:41, 10.27it/s, now=None]\u001b[A\u001b[A\u001b[A\u001b[A"
     ]
    },
    {
     "name": "stdout",
     "output_type": "stream",
     "text": [
      "from memory 368 995\n",
      "\n",
      "271.107657534684 355.3124912308783\n",
      "all good\n",
      "from memory 368 995\n",
      "\n",
      "272.9298572273466 358.9361696141475\n",
      "all good\n"
     ]
    },
    {
     "name": "stderr",
     "output_type": "stream",
     "text": [
      "\n",
      "\n",
      "\n",
      "\n",
      "t:  66%|██████▋   | 837/1260 [01:18<00:41, 10.19it/s, now=None]\u001b[A\u001b[A\u001b[A\u001b[A"
     ]
    },
    {
     "name": "stdout",
     "output_type": "stream",
     "text": [
      "from memory 367 998\n",
      "\n",
      "278.8977001974231 362.53354919145545\n",
      "all good\n",
      "from memory 361 1002\n",
      "\n",
      "283.9878328278476 364.1144763724226\n",
      "all good\n"
     ]
    },
    {
     "name": "stderr",
     "output_type": "stream",
     "text": [
      "\n",
      "\n",
      "\n",
      "\n",
      "t:  67%|██████▋   | 839/1260 [01:18<00:41, 10.08it/s, now=None]\u001b[A\u001b[A\u001b[A\u001b[A"
     ]
    },
    {
     "name": "stdout",
     "output_type": "stream",
     "text": [
      "from memory 356 1004\n",
      "\n",
      "282.71374251808425 348.07775730830326\n",
      "all good\n",
      "from memory 357 988\n",
      "\n",
      "283.82780370312435 347.5500619932567\n",
      "all good\n",
      "from memory 356 987\n",
      "\n",
      "287.1385973312848 344.6286550405589\n",
      "all good\n"
     ]
    },
    {
     "name": "stderr",
     "output_type": "stream",
     "text": [
      "\n",
      "\n",
      "\n",
      "\n",
      "t:  67%|██████▋   | 841/1260 [01:18<00:40, 10.32it/s, now=None]\u001b[A\u001b[A\u001b[A\u001b[A\n",
      "\n",
      "\n",
      "\n",
      "t:  67%|██████▋   | 843/1260 [01:18<00:40, 10.36it/s, now=None]\u001b[A\u001b[A\u001b[A\u001b[A"
     ]
    },
    {
     "name": "stdout",
     "output_type": "stream",
     "text": [
      "from memory 352 984\n",
      "\n",
      "290.56803632242554 349.017876365167\n",
      "all good\n",
      "from memory 349 989\n",
      "\n",
      "292.27991173028977 347.16502117094205\n",
      "all good\n",
      "from memory 347 987\n",
      "\n",
      "295.0516736685794 346.0921470541823\n",
      "all good\n"
     ]
    },
    {
     "name": "stderr",
     "output_type": "stream",
     "text": [
      "\n",
      "\n",
      "\n",
      "\n",
      "t:  67%|██████▋   | 845/1260 [01:18<00:40, 10.28it/s, now=None]\u001b[A\u001b[A\u001b[A\u001b[A"
     ]
    },
    {
     "name": "stdout",
     "output_type": "stream",
     "text": [
      "from memory 344 986\n",
      "\n",
      "295.67020582365024 346.72487195879717\n",
      "all good\n",
      "from memory 344 986\n",
      "\n",
      "303.5951155659701 344.55191885026375\n",
      "all good\n",
      "from memory 336 984\n"
     ]
    },
    {
     "name": "stderr",
     "output_type": "stream",
     "text": [
      "\n",
      "\n",
      "\n",
      "\n",
      "t:  67%|██████▋   | 847/1260 [01:19<00:40, 10.28it/s, now=None]\u001b[A\u001b[A\u001b[A\u001b[A\n",
      "\n",
      "\n",
      "\n",
      "t:  67%|██████▋   | 849/1260 [01:19<00:38, 10.60it/s, now=None]\u001b[A\u001b[A\u001b[A\u001b[A"
     ]
    },
    {
     "name": "stdout",
     "output_type": "stream",
     "text": [
      "\n",
      "306.3252823486961 342.6355984669235\n",
      "all good\n",
      "from memory 333 982\n",
      "\n",
      "311.52424177178875 349.22994771386425\n",
      "all good\n",
      "from memory 328 989\n",
      "\n",
      "317.76866944079245 350.6187349641011\n",
      "all good\n"
     ]
    },
    {
     "name": "stderr",
     "output_type": "stream",
     "text": [
      "\n",
      "\n",
      "\n",
      "\n",
      "t:  68%|██████▊   | 851/1260 [01:19<00:37, 11.02it/s, now=None]\u001b[A\u001b[A\u001b[A\u001b[A"
     ]
    },
    {
     "name": "stdout",
     "output_type": "stream",
     "text": [
      "from memory 322 990\n",
      "\n",
      "319.30790868533876 348.07539406141825\n",
      "all good\n",
      "from memory 320 988\n",
      "\n",
      "318.58277510736605 343.15134615073373\n",
      "all good\n",
      "from memory 321 983\n",
      "\n",
      "317.9493671670894 346.36406508151435\n",
      "all good\n"
     ]
    },
    {
     "name": "stderr",
     "output_type": "stream",
     "text": [
      "\n",
      "\n",
      "\n",
      "\n",
      "t:  68%|██████▊   | 853/1260 [01:19<00:36, 11.04it/s, now=None]\u001b[A\u001b[A\u001b[A\u001b[A"
     ]
    },
    {
     "name": "stdout",
     "output_type": "stream",
     "text": [
      "from memory 322 986\n",
      "\n",
      "316.8122612114178 345.35721281499843\n",
      "all good\n",
      "from memory 323 985\n",
      "\n",
      "313.721592542793 341.4819537602973\n",
      "all good\n",
      "from memory 326 981\n",
      "\n"
     ]
    },
    {
     "name": "stderr",
     "output_type": "stream",
     "text": [
      "\n",
      "\n",
      "\n",
      "\n",
      "t:  68%|██████▊   | 855/1260 [01:19<00:36, 11.08it/s, now=None]\u001b[A\u001b[A\u001b[A\u001b[A"
     ]
    },
    {
     "name": "stdout",
     "output_type": "stream",
     "text": [
      "316.5585486318185 344.456426708364\n",
      "all good\n",
      "from memory 323 984\n",
      "\n",
      "314.29779328795973 344.8093246249816\n",
      "all good\n",
      "from memory 325 984\n",
      "\n",
      "323.2007731699498 343.89426323005557\n",
      "all good\n"
     ]
    },
    {
     "name": "stderr",
     "output_type": "stream",
     "text": [
      "\n",
      "\n",
      "\n",
      "\n",
      "t:  68%|██████▊   | 857/1260 [01:19<00:37, 10.75it/s, now=None]\u001b[A\u001b[A\u001b[A\u001b[A\n",
      "\n",
      "\n",
      "\n",
      "t:  68%|██████▊   | 859/1260 [01:20<00:36, 10.96it/s, now=None]\u001b[A\u001b[A\u001b[A\u001b[A"
     ]
    },
    {
     "name": "stdout",
     "output_type": "stream",
     "text": [
      "from memory 316 983\n",
      "\n",
      "315.915150812353 345.1753149243135\n",
      "all good\n",
      "from memory 324 985\n",
      "\n",
      "316.49411611528507 345.59550293072743\n",
      "all good\n"
     ]
    },
    {
     "name": "stderr",
     "output_type": "stream",
     "text": [
      "\n",
      "\n",
      "\n",
      "\n",
      "t:  68%|██████▊   | 861/1260 [01:20<00:38, 10.47it/s, now=None]\u001b[A\u001b[A\u001b[A\u001b[A"
     ]
    },
    {
     "name": "stdout",
     "output_type": "stream",
     "text": [
      "from memory 323 985\n",
      "\n",
      "317.51343221594135 359.35563009910015\n",
      "all good\n",
      "from memory 322 999\n",
      "\n",
      "322.5130176483974 354.83753302422997\n",
      "all good\n",
      "from memory 317 994\n",
      "\n",
      "319.5820536059204 345.49290993032366\n",
      "all good\n"
     ]
    },
    {
     "name": "stderr",
     "output_type": "stream",
     "text": [
      "\n",
      "\n",
      "\n",
      "\n",
      "t:  68%|██████▊   | 863/1260 [01:20<00:36, 10.73it/s, now=None]\u001b[A\u001b[A\u001b[A\u001b[A"
     ]
    },
    {
     "name": "stdout",
     "output_type": "stream",
     "text": [
      "from memory 320 985\n",
      "\n",
      "319.72976050289765 347.71125311311516\n",
      "all good\n",
      "from memory 320 987\n",
      "\n",
      "314.0138143389518 344.4490574502024\n",
      "all good\n",
      "from memory 325 984\n",
      "\n",
      "315.8139918682787 344.2711435620905\n",
      "all good\n"
     ]
    },
    {
     "name": "stderr",
     "output_type": "stream",
     "text": [
      "\n",
      "\n",
      "\n",
      "\n",
      "t:  69%|██████▊   | 865/1260 [01:20<00:36, 10.87it/s, now=None]\u001b[A\u001b[A\u001b[A\u001b[A\n",
      "\n",
      "\n",
      "\n",
      "t:  69%|██████▉   | 867/1260 [01:20<00:38, 10.26it/s, now=None]\u001b[A\u001b[A\u001b[A\u001b[A"
     ]
    },
    {
     "name": "stdout",
     "output_type": "stream",
     "text": [
      "from memory 324 984\n",
      "\n",
      "310.9320890051115 345.0432082303871\n",
      "all good\n",
      "from memory 329 985\n",
      "\n",
      "307.54121886977623 346.61647913708975\n",
      "all good\n",
      "from memory 332 986\n",
      "\n",
      "310.46102185903567 345.4184236841792\n",
      "all good\n"
     ]
    },
    {
     "name": "stderr",
     "output_type": "stream",
     "text": [
      "\n",
      "\n",
      "\n",
      "\n",
      "t:  69%|██████▉   | 869/1260 [01:21<00:37, 10.44it/s, now=None]\u001b[A\u001b[A\u001b[A\u001b[A\n",
      "\n",
      "\n",
      "\n",
      "t:  69%|██████▉   | 871/1260 [01:21<00:35, 10.83it/s, now=None]\u001b[A\u001b[A\u001b[A\u001b[A"
     ]
    },
    {
     "name": "stdout",
     "output_type": "stream",
     "text": [
      "from memory 329 985\n",
      "\n",
      "311.184777510205 344.32138245230215\n",
      "all good\n",
      "from memory 328 984\n",
      "\n",
      "311.25664683808543 343.55655787317755\n",
      "all good\n",
      "from memory 328 983\n",
      "\n",
      "317.0981720779244 341.1380093856799\n",
      "all good\n"
     ]
    },
    {
     "name": "stderr",
     "output_type": "stream",
     "text": [
      "\n",
      "\n",
      "\n",
      "\n",
      "t:  69%|██████▉   | 873/1260 [01:21<00:34, 11.14it/s, now=None]\u001b[A\u001b[A\u001b[A\u001b[A"
     ]
    },
    {
     "name": "stdout",
     "output_type": "stream",
     "text": [
      "from memory 322 981\n",
      "\n",
      "310.241787003704 341.5668234008174\n",
      "all good\n",
      "from memory 329 981\n",
      "\n",
      "311.65875663267656 346.246128592917\n",
      "all good\n",
      "from memory 328 986\n",
      "\n",
      "302.68451212969444 345.8065264648651\n",
      "all good\n"
     ]
    },
    {
     "name": "stderr",
     "output_type": "stream",
     "text": [
      "\n",
      "\n",
      "\n",
      "\n",
      "t:  69%|██████▉   | 875/1260 [01:21<00:35, 10.75it/s, now=None]\u001b[A\u001b[A\u001b[A\u001b[A"
     ]
    },
    {
     "name": "stdout",
     "output_type": "stream",
     "text": [
      "from memory 337 985\n",
      "\n",
      "317.96294006624476 347.22304432583553\n",
      "all good\n",
      "from memory 322 987\n",
      "\n",
      "311.0121137266759 343.47658262792606\n",
      "all good\n",
      "from memory 328 983\n",
      "\n",
      "313.0915065147184 336.22604409773385\n",
      "all good\n"
     ]
    },
    {
     "name": "stderr",
     "output_type": "stream",
     "text": [
      "\n",
      "\n",
      "\n",
      "\n",
      "t:  70%|██████▉   | 877/1260 [01:21<00:35, 10.90it/s, now=None]\u001b[A\u001b[A\u001b[A\u001b[A\n",
      "\n",
      "\n",
      "\n",
      "t:  70%|██████▉   | 879/1260 [01:22<00:35, 10.86it/s, now=None]\u001b[A\u001b[A\u001b[A\u001b[A"
     ]
    },
    {
     "name": "stdout",
     "output_type": "stream",
     "text": [
      "from memory 326 976\n",
      "\n",
      "310.09701020841686 338.7941336472478\n",
      "all good\n",
      "from memory 329 978\n",
      "\n",
      "314.08147066711683 341.60234317996446\n",
      "all good\n",
      "from memory 325 981\n",
      "\n",
      "319.9432479986283 344.1922164911109\n",
      "all good\n"
     ]
    },
    {
     "name": "stderr",
     "output_type": "stream",
     "text": [
      "\n",
      "\n",
      "\n",
      "\n",
      "t:  70%|██████▉   | 881/1260 [01:22<00:34, 10.83it/s, now=None]\u001b[A\u001b[A\u001b[A\u001b[A"
     ]
    },
    {
     "name": "stdout",
     "output_type": "stream",
     "text": [
      "from memory 320 984\n",
      "\n",
      "317.6473604330316 346.8249778908123\n",
      "all good\n",
      "from memory 322 986\n",
      "\n",
      "321.38571386035335 351.11939278173907\n",
      "all good\n"
     ]
    },
    {
     "name": "stderr",
     "output_type": "stream",
     "text": [
      "\n",
      "\n",
      "\n",
      "\n",
      "t:  70%|███████   | 883/1260 [01:22<00:35, 10.56it/s, now=None]\u001b[A\u001b[A\u001b[A\u001b[A"
     ]
    },
    {
     "name": "stdout",
     "output_type": "stream",
     "text": [
      "from memory 318 991\n",
      "\n",
      "330.2775167975552 371.46963513988067\n",
      "all good\n",
      "from memory 309 1011\n",
      "\n",
      "324.07743152092905 372.3405855436505\n",
      "all good\n",
      "from memory 315 1012\n"
     ]
    },
    {
     "name": "stderr",
     "output_type": "stream",
     "text": [
      "\n",
      "\n",
      "\n",
      "\n",
      "t:  70%|███████   | 885/1260 [01:22<00:35, 10.44it/s, now=None]\u001b[A\u001b[A\u001b[A\u001b[A"
     ]
    },
    {
     "name": "stdout",
     "output_type": "stream",
     "text": [
      "\n",
      "327.5037304182406 372.0043688481743\n",
      "all good\n",
      "from memory 312 1012\n",
      "\n",
      "315.18280268068304 366.43551058438686\n",
      "all good\n",
      "from memory 324 1006\n",
      "\n",
      "313.7400846630773 348.3917595173077\n",
      "all good\n"
     ]
    },
    {
     "name": "stderr",
     "output_type": "stream",
     "text": [
      "\n",
      "\n",
      "\n",
      "\n",
      "t:  70%|███████   | 887/1260 [01:22<00:35, 10.44it/s, now=None]\u001b[A\u001b[A\u001b[A\u001b[A\n",
      "\n",
      "\n",
      "\n",
      "t:  71%|███████   | 889/1260 [01:22<00:35, 10.39it/s, now=None]\u001b[A\u001b[A\u001b[A\u001b[A"
     ]
    },
    {
     "name": "stdout",
     "output_type": "stream",
     "text": [
      "from memory 326 988\n",
      "\n",
      "312.28310781130193 344.90464600704695\n",
      "all good\n",
      "from memory 327 984\n",
      "\n",
      "321.2343038857905 340.0196659749844\n",
      "all good\n",
      "from memory 318 980\n",
      "\n"
     ]
    },
    {
     "name": "stderr",
     "output_type": "stream",
     "text": [
      "\n",
      "\n",
      "\n",
      "\n",
      "t:  71%|███████   | 891/1260 [01:23<00:35, 10.39it/s, now=None]\u001b[A\u001b[A\u001b[A\u001b[A"
     ]
    },
    {
     "name": "stdout",
     "output_type": "stream",
     "text": [
      "322.2922494541298 341.86089870291266\n",
      "all good\n",
      "from memory 317 981\n",
      "\n",
      "326.5969561783347 344.2014886479699\n",
      "all good\n",
      "from memory 313 984\n",
      "\n",
      "326.8017679021622 343.15327614322234\n",
      "all good\n"
     ]
    },
    {
     "name": "stderr",
     "output_type": "stream",
     "text": [
      "\n",
      "\n",
      "\n",
      "\n",
      "t:  71%|███████   | 893/1260 [01:23<00:34, 10.61it/s, now=None]\u001b[A\u001b[A\u001b[A\u001b[A\n",
      "\n",
      "\n",
      "\n"
     ]
    },
    {
     "name": "stdout",
     "output_type": "stream",
     "text": [
      "from memory 313 983\n",
      "\n",
      "319.7962519799215 344.6290269976221\n",
      "all good\n",
      "from memory 320 984\n",
      "\n",
      "317.02191294092444 345.51619673906634\n",
      "all good\n",
      "from memory 322 985\n",
      "\n",
      "312.1365236419924 352.2336978197825\n",
      "all good\n"
     ]
    },
    {
     "name": "stderr",
     "output_type": "stream",
     "text": [
      "t:  71%|███████   | 895/1260 [01:23<00:33, 11.00it/s, now=None]\u001b[A\u001b[A\u001b[A\u001b[A\n",
      "\n",
      "\n",
      "\n",
      "t:  71%|███████   | 897/1260 [01:23<00:32, 11.19it/s, now=None]\u001b[A\u001b[A\u001b[A\u001b[A"
     ]
    },
    {
     "name": "stdout",
     "output_type": "stream",
     "text": [
      "from memory 327 992\n",
      "\n",
      "311.433488818279 368.92516001511626\n",
      "all good\n",
      "from memory 328 1008\n",
      "\n",
      "307.2644946300312 356.7488565776973\n",
      "all good\n",
      "from memory 332 996\n",
      "\n",
      "306.06055582287183 357.4162637563801\n",
      "all good\n"
     ]
    },
    {
     "name": "stderr",
     "output_type": "stream",
     "text": [
      "\n",
      "\n",
      "\n",
      "\n",
      "t:  71%|███████▏  | 899/1260 [01:23<00:31, 11.32it/s, now=None]\u001b[A\u001b[A\u001b[A\u001b[A"
     ]
    },
    {
     "name": "stdout",
     "output_type": "stream",
     "text": [
      "from memory 333 997\n",
      "\n",
      "305.5315751634894 350.6637201187814\n",
      "all good\n",
      "from memory 334 990\n",
      "\n",
      "301.4911346216832 352.37013628359136\n",
      "all good\n",
      "from memory 338 992\n",
      "\n"
     ]
    },
    {
     "name": "stderr",
     "output_type": "stream",
     "text": [
      "\n",
      "\n",
      "\n",
      "\n",
      "t:  72%|███████▏  | 901/1260 [01:24<00:32, 11.15it/s, now=None]\u001b[A\u001b[A\u001b[A\u001b[A\n",
      "\n",
      "\n",
      "\n",
      "t:  72%|███████▏  | 903/1260 [01:24<00:32, 10.95it/s, now=None]"
     ]
    },
    {
     "name": "stdout",
     "output_type": "stream",
     "text": [
      "303.22348105425954 351.2841848589235\n",
      "all good\n",
      "from memory 336 991\n",
      "\n",
      "301.5971421459824 351.20185942051023\n",
      "all good\n",
      "from memory 338 991\n",
      "\n",
      "301.6383864966541 352.5003092467441\n",
      "all good\n"
     ]
    },
    {
     "name": "stderr",
     "output_type": "stream",
     "text": [
      "\u001b[A\u001b[A\u001b[A\u001b[A\n",
      "\n",
      "\n",
      "\n",
      "t:  72%|███████▏  | 905/1260 [01:24<00:31, 11.09it/s, now=None]\u001b[A\u001b[A\u001b[A\u001b[A"
     ]
    },
    {
     "name": "stdout",
     "output_type": "stream",
     "text": [
      "from memory 338 992\n",
      "\n",
      "296.54590565720355 352.5176616944003\n",
      "all good\n",
      "from memory 343 992\n",
      "\n",
      "293.6418157931248 355.05949149274306\n",
      "all good\n",
      "from memory 346 995\n",
      "\n",
      "292.7846771449158 356.4055438602527\n",
      "all good\n"
     ]
    },
    {
     "name": "stderr",
     "output_type": "stream",
     "text": [
      "\n",
      "\n",
      "\n",
      "\n",
      "t:  72%|███████▏  | 907/1260 [01:24<00:31, 11.06it/s, now=None]\u001b[A\u001b[A\u001b[A\u001b[A"
     ]
    },
    {
     "name": "stdout",
     "output_type": "stream",
     "text": [
      "from memory 347 996\n",
      "\n",
      "294.1936317925322 367.51865792369085\n",
      "all good\n",
      "from memory 345 1007\n",
      "\n",
      "302.0898023298213 358.75886095234216\n",
      "all good\n",
      "from memory 337 998\n",
      "\n",
      "300.05820228620735 361.4038627917017\n",
      "all good\n"
     ]
    },
    {
     "name": "stderr",
     "output_type": "stream",
     "text": [
      "\n",
      "\n",
      "\n",
      "\n",
      "t:  72%|███████▏  | 909/1260 [01:24<00:31, 11.15it/s, now=None]\u001b[A\u001b[A\u001b[A\u001b[A\n",
      "\n",
      "\n",
      "\n",
      "t:  72%|███████▏  | 911/1260 [01:24<00:32, 10.58it/s, now=None]\u001b[A\u001b[A\u001b[A\u001b[A"
     ]
    },
    {
     "name": "stdout",
     "output_type": "stream",
     "text": [
      "from memory 339 1001\n",
      "\n",
      "298.8389958243335 360.05653816867914\n",
      "all good\n",
      "from memory 341 1000\n",
      "\n",
      "298.3102722158651 350.166046599118\n",
      "all good\n"
     ]
    },
    {
     "name": "stderr",
     "output_type": "stream",
     "text": [
      "\n",
      "\n",
      "\n",
      "\n",
      "t:  72%|███████▏  | 913/1260 [01:25<00:34,  9.95it/s, now=None]\u001b[A\u001b[A\u001b[A\u001b[A"
     ]
    },
    {
     "name": "stdout",
     "output_type": "stream",
     "text": [
      "from memory 341 990\n",
      "\n",
      "295.54677257731925 348.0952255570859\n",
      "all good\n",
      "from memory 344 988\n",
      "\n",
      "294.81978519551 350.5445332265108\n",
      "all good\n",
      "from memory 345 990\n"
     ]
    },
    {
     "name": "stderr",
     "output_type": "stream",
     "text": [
      "\n",
      "\n",
      "\n",
      "\n",
      "t:  73%|███████▎  | 915/1260 [01:25<00:34, 10.00it/s, now=None]\u001b[A\u001b[A\u001b[A\u001b[A"
     ]
    },
    {
     "name": "stdout",
     "output_type": "stream",
     "text": [
      "\n",
      "298.31496446352696 347.1837788601032\n",
      "all good\n",
      "from memory 341 987\n",
      "\n",
      "291.16196445393086 346.56362424402903\n",
      "all good\n",
      "from memory 348 986\n",
      "\n",
      "301.07014370635767 347.3331885901316\n",
      "all good\n"
     ]
    },
    {
     "name": "stderr",
     "output_type": "stream",
     "text": [
      "\n",
      "\n",
      "\n",
      "\n",
      "t:  73%|███████▎  | 917/1260 [01:25<00:33, 10.30it/s, now=None]\u001b[A\u001b[A\u001b[A\u001b[A"
     ]
    },
    {
     "name": "stdout",
     "output_type": "stream",
     "text": [
      "from memory 338 987\n",
      "\n",
      "298.59847184120855 346.76968983771815\n",
      "all good\n",
      "from memory 341 986\n",
      "\n",
      "297.3801926496639 346.1654666575711\n",
      "all good\n",
      "from memory 342 986\n",
      "\n",
      "299.1220052894393 331.19828599494303\n",
      "all good\n"
     ]
    },
    {
     "name": "stderr",
     "output_type": "stream",
     "text": [
      "\n",
      "\n",
      "\n",
      "\n",
      "t:  73%|███████▎  | 919/1260 [01:25<00:32, 10.59it/s, now=None]\u001b[A\u001b[A\u001b[A\u001b[A\n",
      "\n",
      "\n",
      "\n",
      "t:  73%|███████▎  | 921/1260 [01:25<00:31, 10.79it/s, now=None]\u001b[A\u001b[A\u001b[A\u001b[A"
     ]
    },
    {
     "name": "stdout",
     "output_type": "stream",
     "text": [
      "from memory 340 971\n",
      "\n",
      "303.3548376620349 342.90619058198513\n",
      "all good\n",
      "from memory 336 982\n",
      "\n",
      "301.17604160325016 342.26706964061304\n",
      "all good\n",
      "from memory 338 982\n",
      "\n",
      "310.30293381831217 339.8362771727095\n",
      "all good\n"
     ]
    },
    {
     "name": "stderr",
     "output_type": "stream",
     "text": [
      "\n",
      "\n",
      "\n",
      "\n",
      "t:  73%|███████▎  | 923/1260 [01:26<00:31, 10.62it/s, now=None]\u001b[A\u001b[A\u001b[A\u001b[A\n",
      "\n",
      "\n",
      "\n",
      "t:  73%|███████▎  | 925/1260 [01:26<00:30, 10.92it/s, now=None]\u001b[A\u001b[A\u001b[A\u001b[A"
     ]
    },
    {
     "name": "stdout",
     "output_type": "stream",
     "text": [
      "from memory 329 979\n",
      "\n",
      "307.67543678170364 336.5557810074798\n",
      "all good\n",
      "from memory 332 976\n",
      "\n",
      "310.0992943240221 336.35110389365843\n",
      "all good\n",
      "from memory 329 976\n",
      "\n",
      "313.6550915126118 344.17874824613455\n",
      "all good\n"
     ]
    },
    {
     "name": "stderr",
     "output_type": "stream",
     "text": [
      "\n",
      "\n",
      "\n",
      "\n",
      "t:  74%|███████▎  | 927/1260 [01:26<00:30, 10.92it/s, now=None]\u001b[A\u001b[A\u001b[A\u001b[A"
     ]
    },
    {
     "name": "stdout",
     "output_type": "stream",
     "text": [
      "from memory 326 984\n",
      "\n",
      "316.37178374956017 344.60010435379866\n",
      "all good\n",
      "from memory 323 984\n",
      "\n",
      "314.84961373434254 346.6004163887543\n",
      "all good\n",
      "from memory 325 986\n",
      "\n"
     ]
    },
    {
     "name": "stderr",
     "output_type": "stream",
     "text": [
      "\n",
      "\n",
      "\n",
      "\n",
      "t:  74%|███████▎  | 929/1260 [01:26<00:30, 10.79it/s, now=None]\u001b[A\u001b[A\u001b[A\u001b[A"
     ]
    },
    {
     "name": "stdout",
     "output_type": "stream",
     "text": [
      "320.7179173802645 347.5320469633908\n",
      "all good\n",
      "from memory 319 987\n",
      "\n",
      "318.90177208631934 342.5138569254634\n",
      "all good\n",
      "from memory 321 982\n",
      "\n",
      "319.5050832487463 341.03158127404106\n",
      "all good\n"
     ]
    },
    {
     "name": "stderr",
     "output_type": "stream",
     "text": [
      "\n",
      "\n",
      "\n",
      "\n",
      "t:  74%|███████▍  | 931/1260 [01:26<00:31, 10.52it/s, now=None]\u001b[A\u001b[A\u001b[A\u001b[A"
     ]
    },
    {
     "name": "stdout",
     "output_type": "stream",
     "text": [
      "from memory 320 981\n",
      "\n",
      "319.42155491104455 348.48301327573836\n",
      "all good\n",
      "from memory 320 988\n",
      "\n",
      "319.72438652083406 352.367242983737\n",
      "all good\n"
     ]
    },
    {
     "name": "stderr",
     "output_type": "stream",
     "text": [
      "\n",
      "\n",
      "\n",
      "\n",
      "t:  74%|███████▍  | 933/1260 [01:27<00:31, 10.34it/s, now=None]\u001b[A\u001b[A\u001b[A\u001b[A"
     ]
    },
    {
     "name": "stdout",
     "output_type": "stream",
     "text": [
      "from memory 320 992\n",
      "\n",
      "324.16175058914655 348.13611104448705\n",
      "all good\n",
      "from memory 315 988\n",
      "\n",
      "315.5777527502504 349.1260132524817\n",
      "all good\n",
      "from memory 324 989\n"
     ]
    },
    {
     "name": "stderr",
     "output_type": "stream",
     "text": [
      "\n",
      "\n",
      "\n",
      "\n",
      "t:  74%|███████▍  | 935/1260 [01:27<00:31, 10.26it/s, now=None]\u001b[A\u001b[A\u001b[A\u001b[A"
     ]
    },
    {
     "name": "stdout",
     "output_type": "stream",
     "text": [
      "\n",
      "313.0407346119818 349.7920577758507\n",
      "all good\n",
      "from memory 326 989\n",
      "\n",
      "311.6517643725711 352.7537440591268\n",
      "all good\n"
     ]
    },
    {
     "name": "stderr",
     "output_type": "stream",
     "text": [
      "\n",
      "\n",
      "\n",
      "\n",
      "t:  74%|███████▍  | 937/1260 [01:27<00:32,  9.98it/s, now=None]\u001b[A\u001b[A\u001b[A\u001b[A"
     ]
    },
    {
     "name": "stdout",
     "output_type": "stream",
     "text": [
      "from memory 328 992\n",
      "\n",
      "306.95941144434164 352.400239572706\n",
      "all good\n",
      "from memory 333 992\n",
      "\n",
      "306.04076100791474 352.6121964238117\n",
      "all good\n",
      "from memory 333 992\n",
      "\n"
     ]
    },
    {
     "name": "stderr",
     "output_type": "stream",
     "text": [
      "\n",
      "\n",
      "\n",
      "\n",
      "t:  75%|███████▍  | 939/1260 [01:27<00:31, 10.20it/s, now=None]\u001b[A\u001b[A\u001b[A\u001b[A\n",
      "\n",
      "\n",
      "\n",
      "t:  75%|███████▍  | 941/1260 [01:27<00:30, 10.57it/s, now=None]\u001b[A\u001b[A\u001b[A\u001b[A"
     ]
    },
    {
     "name": "stdout",
     "output_type": "stream",
     "text": [
      "310.66208146844735 351.78803538683667\n",
      "all good\n",
      "from memory 329 991\n",
      "\n",
      "305.75184171718706 350.0128661281491\n",
      "all good\n",
      "from memory 334 990\n",
      "\n",
      "316.3342136800063 347.55640998358797\n",
      "all good\n"
     ]
    },
    {
     "name": "stderr",
     "output_type": "stream",
     "text": [
      "\n",
      "\n",
      "\n",
      "\n",
      "t:  75%|███████▍  | 943/1260 [01:28<00:31, 10.21it/s, now=None]\u001b[A\u001b[A\u001b[A\u001b[A"
     ]
    },
    {
     "name": "stdout",
     "output_type": "stream",
     "text": [
      "from memory 323 987\n",
      "\n",
      "305.84644371879585 351.89080944078455\n",
      "all good\n",
      "from memory 334 991\n",
      "\n",
      "306.6253626146909 355.95210102439546\n",
      "all good\n",
      "from memory 333 995\n",
      "\n",
      "305.01548939884333 342.70151201161207\n",
      "all good\n"
     ]
    },
    {
     "name": "stderr",
     "output_type": "stream",
     "text": [
      "\n",
      "\n",
      "\n",
      "\n",
      "t:  75%|███████▌  | 945/1260 [01:28<00:29, 10.51it/s, now=None]\u001b[A\u001b[A\u001b[A\u001b[A"
     ]
    },
    {
     "name": "stdout",
     "output_type": "stream",
     "text": [
      "from memory 334 982\n",
      "\n",
      "307.6337024548684 342.2106223238701\n",
      "all good\n",
      "from memory 332 982\n",
      "\n",
      "309.13155637018934 340.1090899110102\n",
      "all good\n",
      "from memory 330 980\n",
      "\n",
      "307.35298592262404 340.1348189389943\n",
      "all good\n"
     ]
    },
    {
     "name": "stderr",
     "output_type": "stream",
     "text": [
      "\n",
      "\n",
      "\n",
      "\n",
      "t:  75%|███████▌  | 947/1260 [01:28<00:28, 10.82it/s, now=None]\u001b[A\u001b[A\u001b[A\u001b[A\n",
      "\n",
      "\n",
      "\n",
      "t:  75%|███████▌  | 949/1260 [01:28<00:28, 10.88it/s, now=None]\u001b[A\u001b[A\u001b[A\u001b[A"
     ]
    },
    {
     "name": "stdout",
     "output_type": "stream",
     "text": [
      "from memory 332 980\n",
      "\n",
      "304.5949029954718 341.8304855113015\n",
      "all good\n",
      "from memory 335 981\n",
      "\n",
      "302.04892575493164 343.11558899863985\n",
      "all good\n",
      "from memory 337 983\n",
      "\n"
     ]
    },
    {
     "name": "stderr",
     "output_type": "stream",
     "text": [
      "\n",
      "\n",
      "\n",
      "\n",
      "t:  75%|███████▌  | 951/1260 [01:28<00:29, 10.54it/s, now=None]\u001b[A\u001b[A\u001b[A\u001b[A"
     ]
    },
    {
     "name": "stdout",
     "output_type": "stream",
     "text": [
      "306.71517533852864 345.80777002709146\n",
      "all good\n",
      "from memory 333 985\n",
      "\n",
      "305.7616053308505 344.9584340260798\n",
      "all good\n",
      "from memory 334 984\n",
      "\n",
      "309.2450304694476 345.412478963151\n",
      "all good\n"
     ]
    },
    {
     "name": "stderr",
     "output_type": "stream",
     "text": [
      "\n",
      "\n",
      "\n",
      "\n",
      "t:  76%|███████▌  | 953/1260 [01:29<00:29, 10.52it/s, now=None]\u001b[A\u001b[A\u001b[A\u001b[A"
     ]
    },
    {
     "name": "stdout",
     "output_type": "stream",
     "text": [
      "from memory 330 985\n",
      "\n",
      "312.41025837510523 348.25784534768354\n",
      "all good\n",
      "from memory 327 988\n",
      "\n",
      "313.63723527798555 350.69897286603816\n",
      "all good\n",
      "from memory 326 990\n",
      "\n",
      "312.8252808382951 350.3684123923899\n",
      "all good\n"
     ]
    },
    {
     "name": "stderr",
     "output_type": "stream",
     "text": [
      "\n",
      "\n",
      "\n",
      "\n",
      "t:  76%|███████▌  | 955/1260 [01:29<00:28, 10.83it/s, now=None]\u001b[A\u001b[A\u001b[A\u001b[A\n",
      "\n",
      "\n",
      "\n",
      "t:  76%|███████▌  | 957/1260 [01:29<00:27, 11.03it/s, now=None]\u001b[A\u001b[A\u001b[A\u001b[A"
     ]
    },
    {
     "name": "stdout",
     "output_type": "stream",
     "text": [
      "from memory 327 990\n",
      "\n",
      "310.56144933452885 347.752827438964\n",
      "all good\n",
      "from memory 329 987\n",
      "\n",
      "311.1367858154555 347.48249676182604\n",
      "all good\n",
      "from memory 328 987\n",
      "\n",
      "309.8084602581746 347.17161898142615\n",
      "all good\n"
     ]
    },
    {
     "name": "stderr",
     "output_type": "stream",
     "text": [
      "\n",
      "\n",
      "\n",
      "\n",
      "t:  76%|███████▌  | 959/1260 [01:29<00:28, 10.66it/s, now=None]\u001b[A\u001b[A\u001b[A\u001b[A\n",
      "\n",
      "\n",
      "\n",
      "t:  76%|███████▋  | 961/1260 [01:29<00:26, 11.08it/s, now=None]\u001b[A\u001b[A\u001b[A\u001b[A"
     ]
    },
    {
     "name": "stdout",
     "output_type": "stream",
     "text": [
      "from memory 330 987\n",
      "\n",
      "311.1226086001993 351.09185245375875\n",
      "all good\n",
      "from memory 328 991\n",
      "\n",
      "300.67219592447674 353.8457604401199\n",
      "all good\n",
      "from memory 339 993\n",
      "\n",
      "302.3525011984989 351.8162673041172\n",
      "all good\n"
     ]
    },
    {
     "name": "stderr",
     "output_type": "stream",
     "text": [
      "\n",
      "\n",
      "\n",
      "\n",
      "t:  76%|███████▋  | 963/1260 [01:29<00:26, 11.23it/s, now=None]\u001b[A\u001b[A\u001b[A\u001b[A"
     ]
    },
    {
     "name": "stdout",
     "output_type": "stream",
     "text": [
      "from memory 337 991\n",
      "\n",
      "301.75748888580813 356.566307761625\n",
      "all good\n",
      "from memory 338 996\n",
      "\n",
      "305.8613948008608 359.828381644666\n",
      "all good\n"
     ]
    },
    {
     "name": "stderr",
     "output_type": "stream",
     "text": [
      "\n",
      "\n",
      "\n",
      "\n",
      "t:  77%|███████▋  | 965/1260 [01:30<00:27, 10.81it/s, now=None]\u001b[A\u001b[A\u001b[A\u001b[A"
     ]
    },
    {
     "name": "stdout",
     "output_type": "stream",
     "text": [
      "from memory 334 999\n",
      "\n",
      "302.0059199284066 361.6233516289999\n",
      "all good\n",
      "from memory 337 1001\n",
      "\n",
      "300.0342122473285 365.3252880196743\n",
      "all good\n",
      "from memory 339 1005\n",
      "\n",
      "304.09368870188456 383.44268484659574\n",
      "all good\n"
     ]
    },
    {
     "name": "stderr",
     "output_type": "stream",
     "text": [
      "\n",
      "\n",
      "\n",
      "\n",
      "t:  77%|███████▋  | 967/1260 [01:30<00:27, 10.71it/s, now=None]\u001b[A\u001b[A\u001b[A\u001b[A\n",
      "\n",
      "\n",
      "\n",
      "t:  77%|███████▋  | 969/1260 [01:30<00:26, 11.03it/s, now=None]\u001b[A\u001b[A\u001b[A\u001b[A"
     ]
    },
    {
     "name": "stdout",
     "output_type": "stream",
     "text": [
      "from memory 335 1023\n",
      "\n",
      "302.11464203441136 363.3391878227377\n",
      "all good\n",
      "from memory 337 1003\n",
      "\n",
      "307.1388908242317 345.4241038437068\n",
      "all good\n",
      "from memory 332 985\n",
      "\n",
      "309.3255718179634 334.59535852717215\n",
      "all good\n"
     ]
    },
    {
     "name": "stderr",
     "output_type": "stream",
     "text": [
      "\n",
      "\n",
      "\n",
      "\n",
      "t:  77%|███████▋  | 971/1260 [01:30<00:26, 11.02it/s, now=None]\u001b[A\u001b[A\u001b[A\u001b[A"
     ]
    },
    {
     "name": "stdout",
     "output_type": "stream",
     "text": [
      "from memory 330 974\n",
      "\n",
      "309.380634418516 368.310467577033\n",
      "all good\n",
      "from memory 330 1008\n",
      "\n",
      "307.92961285753336 371.3375771109826\n",
      "all good\n",
      "from memory 332 1011\n",
      "\n"
     ]
    },
    {
     "name": "stderr",
     "output_type": "stream",
     "text": [
      "\n",
      "\n",
      "\n",
      "\n",
      "t:  77%|███████▋  | 973/1260 [01:30<00:26, 10.87it/s, now=None]\u001b[A\u001b[A\u001b[A\u001b[A"
     ]
    },
    {
     "name": "stdout",
     "output_type": "stream",
     "text": [
      "303.773133064848 374.4944352854145\n",
      "all good\n",
      "from memory 336 1014\n",
      "\n",
      "294.57333421642227 375.1462491395638\n",
      "all good\n",
      "from memory 345 1015\n",
      "\n",
      "299.37279412842133 374.4782550857592\n",
      "all good\n"
     ]
    },
    {
     "name": "stderr",
     "output_type": "stream",
     "text": [
      "\n",
      "\n",
      "\n",
      "\n",
      "t:  77%|███████▋  | 975/1260 [01:31<00:27, 10.50it/s, now=None]\u001b[A\u001b[A\u001b[A\u001b[A"
     ]
    },
    {
     "name": "stdout",
     "output_type": "stream",
     "text": [
      "from memory 340 1014\n",
      "\n",
      "296.3953912157402 376.22873913264687\n",
      "all good\n",
      "from memory 343 1016\n",
      "\n",
      "291.2726473599795 374.8325972671356\n",
      "all good\n",
      "from memory 348 1014\n"
     ]
    },
    {
     "name": "stderr",
     "output_type": "stream",
     "text": [
      "\n",
      "\n",
      "\n",
      "\n",
      "t:  78%|███████▊  | 977/1260 [01:31<00:26, 10.54it/s, now=None]\u001b[A\u001b[A\u001b[A\u001b[A"
     ]
    },
    {
     "name": "stdout",
     "output_type": "stream",
     "text": [
      "\n",
      "291.2786890143726 391.50265484739634\n",
      "all good\n",
      "from memory 348 1031\n",
      "\n",
      "288.3416266249118 372.5006499338201\n",
      "all good\n"
     ]
    },
    {
     "name": "stderr",
     "output_type": "stream",
     "text": [
      "\n",
      "\n",
      "\n",
      "\n",
      "t:  78%|███████▊  | 979/1260 [01:31<00:27, 10.07it/s, now=None]\u001b[A\u001b[A\u001b[A\u001b[A"
     ]
    },
    {
     "name": "stdout",
     "output_type": "stream",
     "text": [
      "from memory 351 1012\n",
      "\n",
      "288.8034406451324 372.7479605922674\n",
      "all good\n",
      "from memory 351 1012\n",
      "\n",
      "268.227644833793 347.53840697083456\n",
      "all good\n",
      "from memory 371 987\n"
     ]
    },
    {
     "name": "stderr",
     "output_type": "stream",
     "text": [
      "\n",
      "\n",
      "\n",
      "\n",
      "t:  78%|███████▊  | 981/1260 [01:31<00:27, 10.12it/s, now=None]\u001b[A\u001b[A\u001b[A\u001b[A"
     ]
    },
    {
     "name": "stdout",
     "output_type": "stream",
     "text": [
      "\n",
      "266.3334072107973 324.6710448244253\n",
      "all good\n",
      "from memory 373 964\n",
      "\n",
      "250.25557674718425 323.0010215182417\n",
      "all good\n",
      "from memory 389 963\n"
     ]
    },
    {
     "name": "stderr",
     "output_type": "stream",
     "text": [
      "\n",
      "\n",
      "\n",
      "\n",
      "t:  78%|███████▊  | 983/1260 [01:31<00:27, 10.01it/s, now=None]\u001b[A\u001b[A\u001b[A\u001b[A"
     ]
    },
    {
     "name": "stdout",
     "output_type": "stream",
     "text": [
      "\n",
      "254.4660525922988 330.83046226539125\n",
      "all good\n",
      "from memory 385 970\n",
      "\n",
      "254.2088290708616 345.31987016996413\n",
      "all good\n"
     ]
    },
    {
     "name": "stderr",
     "output_type": "stream",
     "text": [
      "\n",
      "\n",
      "\n",
      "\n",
      "t:  78%|███████▊  | 985/1260 [01:32<00:29,  9.39it/s, now=None]\u001b[A\u001b[A\u001b[A\u001b[A\n",
      "\n",
      "\n",
      "\n",
      "t:  78%|███████▊  | 986/1260 [01:32<00:29,  9.15it/s, now=None]\u001b[A\u001b[A\u001b[A\u001b[A"
     ]
    },
    {
     "name": "stdout",
     "output_type": "stream",
     "text": [
      "from memory 385 985\n",
      "\n",
      "255.000016827374 353.8798978663299\n",
      "all good\n",
      "from memory 384 993\n",
      "\n",
      "255.73955722708 341.28864469813107\n",
      "all good\n"
     ]
    },
    {
     "name": "stderr",
     "output_type": "stream",
     "text": [
      "\n",
      "\n",
      "\n",
      "\n",
      "t:  78%|███████▊  | 987/1260 [01:32<00:33,  8.17it/s, now=None]\u001b[A\u001b[A\u001b[A\u001b[A\n",
      "\n",
      "\n",
      "\n",
      "t:  78%|███████▊  | 988/1260 [01:32<00:32,  8.30it/s, now=None]\u001b[A\u001b[A\u001b[A\u001b[A"
     ]
    },
    {
     "name": "stdout",
     "output_type": "stream",
     "text": [
      "from memory 384 981\n",
      "\n",
      "246.56337317886153 352.1110883934183\n",
      "all good\n",
      "from memory 393 992\n",
      "\n",
      "258.497121282932 370.63935018913105\n",
      "all good\n"
     ]
    },
    {
     "name": "stderr",
     "output_type": "stream",
     "text": [
      "\n",
      "\n",
      "\n",
      "\n",
      "t:  78%|███████▊  | 989/1260 [01:32<00:33,  8.06it/s, now=None]\u001b[A\u001b[A\u001b[A\u001b[A\n",
      "\n",
      "\n",
      "\n",
      "t:  79%|███████▊  | 990/1260 [01:32<00:33,  8.04it/s, now=None]\u001b[A\u001b[A\u001b[A\u001b[A"
     ]
    },
    {
     "name": "stdout",
     "output_type": "stream",
     "text": [
      "from memory 381 1010\n",
      "\n",
      "278.4015567314184 420.4463529291188\n",
      "all good\n",
      "from memory 361 1060\n",
      "\n",
      "302.26827786134356 469.77405758581403\n",
      "all good\n"
     ]
    },
    {
     "name": "stderr",
     "output_type": "stream",
     "text": [
      "\n",
      "\n",
      "\n",
      "\n",
      "t:  79%|███████▊  | 991/1260 [01:32<00:35,  7.55it/s, now=None]\u001b[A\u001b[A\u001b[A\u001b[A"
     ]
    },
    {
     "name": "stdout",
     "output_type": "stream",
     "text": [
      "from memory 337 1109\n",
      "\n",
      "313.6984702081371 462.1310871157373\n",
      "all good\n",
      "from memory 326 1102\n"
     ]
    },
    {
     "name": "stderr",
     "output_type": "stream",
     "text": [
      "\n",
      "\n",
      "\n",
      "\n",
      "t:  79%|███████▊  | 992/1260 [01:33<00:38,  6.97it/s, now=None]\u001b[A\u001b[A\u001b[A\u001b[A\n",
      "\n",
      "\n",
      "\n",
      "t:  79%|███████▉  | 993/1260 [01:33<00:38,  7.02it/s, now=None]\u001b[A\u001b[A\u001b[A\u001b[A"
     ]
    },
    {
     "name": "stdout",
     "output_type": "stream",
     "text": [
      "\n",
      "283.7534183215154 338.0669583927365\n",
      "all good\n",
      "from memory 356 978\n",
      "\n",
      "277.80307482599585 341.21860799016054\n",
      "all good\n"
     ]
    },
    {
     "name": "stderr",
     "output_type": "stream",
     "text": [
      "\n",
      "\n",
      "\n",
      "\n",
      "t:  79%|███████▉  | 994/1260 [01:33<00:37,  7.03it/s, now=None]\u001b[A\u001b[A\u001b[A\u001b[A"
     ]
    },
    {
     "name": "stdout",
     "output_type": "stream",
     "text": [
      "from memory 362 981\n",
      "\n",
      "273.2779049154692 325.6295561515748\n",
      "all good\n",
      "from memory 366 965\n",
      "\n",
      "277.14714608934423 304.4595083936639\n",
      "all good\n"
     ]
    },
    {
     "name": "stderr",
     "output_type": "stream",
     "text": [
      "\n",
      "\n",
      "\n",
      "\n",
      "t:  79%|███████▉  | 995/1260 [01:33<00:36,  7.18it/s, now=None]\u001b[A\u001b[A\u001b[A\u001b[A\n",
      "\n",
      "\n",
      "\n",
      "t:  79%|███████▉  | 996/1260 [01:33<00:39,  6.68it/s, now=None]\u001b[A\u001b[A\u001b[A\u001b[A"
     ]
    },
    {
     "name": "stdout",
     "output_type": "stream",
     "text": [
      "from memory 362 944\n",
      "\n",
      "300.51190987911593 342.1188306000015\n",
      "all good\n",
      "from memory 339 982\n"
     ]
    },
    {
     "name": "stderr",
     "output_type": "stream",
     "text": [
      "\n",
      "\n",
      "\n",
      "\n",
      "t:  79%|███████▉  | 997/1260 [01:33<00:40,  6.42it/s, now=None]\u001b[A\u001b[A\u001b[A\u001b[A"
     ]
    },
    {
     "name": "stdout",
     "output_type": "stream",
     "text": [
      "\n",
      "305.89598224959684 365.32794683040913\n",
      "all good\n",
      "from memory 334 1005\n",
      "\n"
     ]
    },
    {
     "name": "stderr",
     "output_type": "stream",
     "text": [
      "\n",
      "\n",
      "\n",
      "\n",
      "t:  79%|███████▉  | 998/1260 [01:33<00:44,  5.94it/s, now=None]\u001b[A\u001b[A\u001b[A\u001b[A"
     ]
    },
    {
     "name": "stdout",
     "output_type": "stream",
     "text": [
      "304.21067564232237 378.2639761676635\n",
      "all good\n",
      "from memory 335 1018\n",
      "\n"
     ]
    },
    {
     "name": "stderr",
     "output_type": "stream",
     "text": [
      "\n",
      "\n",
      "\n",
      "\n",
      "t:  79%|███████▉  | 999/1260 [01:34<00:46,  5.57it/s, now=None]\u001b[A\u001b[A\u001b[A\u001b[A\n",
      "\n",
      "\n",
      "\n",
      "t:  79%|███████▉  | 1000/1260 [01:34<00:47,  5.49it/s, now=None]\u001b[A\u001b[A\u001b[A\u001b[A"
     ]
    },
    {
     "name": "stdout",
     "output_type": "stream",
     "text": [
      "297.22109780344687 385.14244633723115\n",
      "all good\n",
      "from memory 342 1025\n",
      "\n",
      "286.50508835063897 397.5783675949699\n",
      "all good\n"
     ]
    },
    {
     "name": "stderr",
     "output_type": "stream",
     "text": [
      "\n",
      "\n",
      "\n",
      "\n",
      "t:  79%|███████▉  | 1001/1260 [01:34<00:43,  5.95it/s, now=None]\u001b[A\u001b[A\u001b[A\u001b[A"
     ]
    },
    {
     "name": "stdout",
     "output_type": "stream",
     "text": [
      "from memory 353 1037\n",
      "\n",
      "274.24174301919 433.5963621559804\n",
      "all good\n",
      "from memory 365 1073\n",
      "\n",
      "264.43065908356687 487.8513103822138\n",
      "all good\n"
     ]
    },
    {
     "name": "stderr",
     "output_type": "stream",
     "text": [
      "\n",
      "\n",
      "\n",
      "\n",
      "t:  80%|███████▉  | 1002/1260 [01:34<00:40,  6.32it/s, now=None]\u001b[A\u001b[A\u001b[A\u001b[A\n",
      "\n",
      "\n",
      "\n",
      "t:  80%|███████▉  | 1003/1260 [01:34<00:40,  6.42it/s, now=None]\u001b[A\u001b[A\u001b[A\u001b[A"
     ]
    },
    {
     "name": "stdout",
     "output_type": "stream",
     "text": [
      "from memory 375 1127\n",
      "\n",
      "281.26685075403975 522.8910213094509\n",
      "right _false detection\n",
      "\n"
     ]
    },
    {
     "name": "stderr",
     "output_type": "stream",
     "text": [
      "\n",
      "\n",
      "\n",
      "\n",
      "t:  80%|███████▉  | 1004/1260 [01:34<00:40,  6.39it/s, now=None]\u001b[A\u001b[A\u001b[A\u001b[A\n",
      "\n",
      "\n",
      "\n",
      "t:  80%|███████▉  | 1005/1260 [01:35<00:39,  6.41it/s, now=None]\u001b[A\u001b[A\u001b[A\u001b[A"
     ]
    },
    {
     "name": "stdout",
     "output_type": "stream",
     "text": [
      "330.3090618534698 425.4952496559115\n",
      "all good\n",
      "from memory 309 1065\n",
      "\n",
      "327.76165438285267 438.7504533176609\n",
      "all good\n"
     ]
    },
    {
     "name": "stderr",
     "output_type": "stream",
     "text": [
      "\n",
      "\n",
      "\n",
      "\n",
      "t:  80%|███████▉  | 1006/1260 [01:35<00:38,  6.53it/s, now=None]\u001b[A\u001b[A\u001b[A\u001b[A\n",
      "\n",
      "\n",
      "\n",
      "t:  80%|███████▉  | 1007/1260 [01:35<00:36,  6.96it/s, now=None]\u001b[A\u001b[A\u001b[A\u001b[A"
     ]
    },
    {
     "name": "stdout",
     "output_type": "stream",
     "text": [
      "from memory 312 1078\n",
      "\n",
      "332.56522421604205 426.4172911584278\n",
      "all good\n",
      "from memory 307 1066\n",
      "\n",
      "337.15314842923044 406.99454761828497\n",
      "all good\n"
     ]
    },
    {
     "name": "stderr",
     "output_type": "stream",
     "text": [
      "\n",
      "\n",
      "\n",
      "\n",
      "t:  80%|████████  | 1008/1260 [01:35<00:34,  7.27it/s, now=None]\u001b[A\u001b[A\u001b[A\u001b[A\n",
      "\n",
      "\n",
      "\n",
      "t:  80%|████████  | 1009/1260 [01:35<00:32,  7.72it/s, now=None]\u001b[A\u001b[A\u001b[A\u001b[A"
     ]
    },
    {
     "name": "stdout",
     "output_type": "stream",
     "text": [
      "from memory 302 1046\n",
      "\n",
      "348.5017551115186 384.9123283134836\n",
      "all good\n",
      "from memory 291 1024\n",
      "\n",
      "341.94995360788045 368.700889192962\n",
      "all good\n"
     ]
    },
    {
     "name": "stderr",
     "output_type": "stream",
     "text": [
      "\n",
      "\n",
      "\n",
      "\n",
      "t:  80%|████████  | 1010/1260 [01:35<00:32,  7.59it/s, now=None]\u001b[A\u001b[A\u001b[A\u001b[A\n",
      "\n",
      "\n",
      "\n",
      "t:  80%|████████  | 1011/1260 [01:35<00:31,  7.90it/s, now=None]\u001b[A\u001b[A\u001b[A\u001b[A"
     ]
    },
    {
     "name": "stdout",
     "output_type": "stream",
     "text": [
      "from memory 298 1008\n",
      "\n",
      "336.9213997433452 374.01679073964385\n",
      "all good\n",
      "from memory 303 1014\n",
      "\n",
      "333.3618350880402 384.9840845525164\n",
      "all good\n"
     ]
    },
    {
     "name": "stderr",
     "output_type": "stream",
     "text": [
      "\n",
      "\n",
      "\n",
      "\n",
      "t:  80%|████████  | 1012/1260 [01:35<00:30,  8.12it/s, now=None]\u001b[A\u001b[A\u001b[A\u001b[A\n",
      "\n",
      "\n",
      "\n",
      "t:  80%|████████  | 1013/1260 [01:36<00:29,  8.27it/s, now=None]\u001b[A\u001b[A\u001b[A\u001b[A"
     ]
    },
    {
     "name": "stdout",
     "output_type": "stream",
     "text": [
      "from memory 306 1024\n",
      "\n",
      "324.79356202302426 388.59195304560853\n",
      "all good\n",
      "from memory 315 1028\n",
      "\n",
      "328.27051414982424 387.4540084113139\n",
      "all good\n"
     ]
    },
    {
     "name": "stderr",
     "output_type": "stream",
     "text": [
      "\n",
      "\n",
      "\n",
      "\n",
      "t:  80%|████████  | 1014/1260 [01:36<00:29,  8.35it/s, now=None]\u001b[A\u001b[A\u001b[A\u001b[A\n",
      "\n",
      "\n",
      "\n",
      "t:  81%|████████  | 1015/1260 [01:36<00:31,  7.80it/s, now=None]\u001b[A\u001b[A\u001b[A\u001b[A"
     ]
    },
    {
     "name": "stdout",
     "output_type": "stream",
     "text": [
      "from memory 311 1027\n",
      "\n",
      "322.2464193264101 377.24248481281313\n",
      "all good\n",
      "from memory 317 1017\n",
      "\n",
      "335.1756328707529 358.92942363742986\n",
      "all good\n"
     ]
    },
    {
     "name": "stderr",
     "output_type": "stream",
     "text": [
      "\n",
      "\n",
      "\n",
      "\n",
      "t:  81%|████████  | 1016/1260 [01:36<00:31,  7.66it/s, now=None]\u001b[A\u001b[A\u001b[A\u001b[A\n",
      "\n",
      "\n",
      "\n",
      "t:  81%|████████  | 1017/1260 [01:36<00:29,  8.17it/s, now=None]\u001b[A\u001b[A\u001b[A\u001b[A"
     ]
    },
    {
     "name": "stdout",
     "output_type": "stream",
     "text": [
      "from memory 304 998\n",
      "\n",
      "331.72471211861716 310.4912128370154\n",
      "all good\n",
      "from memory 308 950\n",
      "\n",
      "343.4451384439046 350.0783375655667\n",
      "all good\n",
      "from memory 296 990\n"
     ]
    },
    {
     "name": "stderr",
     "output_type": "stream",
     "text": [
      "\n",
      "\n",
      "\n",
      "\n",
      "t:  81%|████████  | 1018/1260 [01:36<00:28,  8.44it/s, now=None]\u001b[A\u001b[A\u001b[A\u001b[A\n",
      "\n",
      "\n",
      "\n",
      "t:  81%|████████  | 1019/1260 [01:36<00:29,  8.10it/s, now=None]\u001b[A\u001b[A\u001b[A\u001b[A"
     ]
    },
    {
     "name": "stdout",
     "output_type": "stream",
     "text": [
      "\n",
      "340.0950675378856 382.8768888512436\n",
      "all good\n",
      "from memory 299 1022\n",
      "\n",
      "332.90242543008844 367.54948535863275\n",
      "all good\n"
     ]
    },
    {
     "name": "stderr",
     "output_type": "stream",
     "text": [
      "\n",
      "\n",
      "\n",
      "\n",
      "t:  81%|████████  | 1020/1260 [01:36<00:29,  8.04it/s, now=None]\u001b[A\u001b[A\u001b[A\u001b[A"
     ]
    },
    {
     "name": "stdout",
     "output_type": "stream",
     "text": [
      "from memory 307 1007\n",
      "\n",
      "332.3186250459246 346.28769472078045\n",
      "all good\n",
      "from memory 307 986\n",
      "\n",
      "333.18753943936315 382.4828225807918\n",
      "all good\n",
      "from memory 306 1022\n"
     ]
    },
    {
     "name": "stderr",
     "output_type": "stream",
     "text": [
      "\n",
      "\n",
      "\n",
      "\n",
      "t:  81%|████████  | 1022/1260 [01:37<00:27,  8.74it/s, now=None]\u001b[A\u001b[A\u001b[A\u001b[A\n",
      "\n",
      "\n",
      "\n",
      "t:  81%|████████  | 1023/1260 [01:37<00:26,  8.82it/s, now=None]\u001b[A\u001b[A\u001b[A\u001b[A"
     ]
    },
    {
     "name": "stdout",
     "output_type": "stream",
     "text": [
      "\n",
      "346.01157919759754 340.6631658662643\n",
      "all good\n",
      "from memory 293 980\n",
      "\n",
      "335.257066428681 336.8138193925395\n",
      "all good\n"
     ]
    },
    {
     "name": "stderr",
     "output_type": "stream",
     "text": [
      "\n",
      "\n",
      "\n",
      "\n",
      "t:  81%|████████▏ | 1024/1260 [01:37<00:29,  8.06it/s, now=None]\u001b[A\u001b[A\u001b[A\u001b[A\n",
      "\n",
      "\n",
      "\n",
      "t:  81%|████████▏ | 1025/1260 [01:37<00:28,  8.31it/s, now=None]\u001b[A\u001b[A\u001b[A\u001b[A"
     ]
    },
    {
     "name": "stdout",
     "output_type": "stream",
     "text": [
      "from memory 304 976\n",
      "\n",
      "326.82429894840925 338.2915359083297\n",
      "all good\n",
      "from memory 313 978\n",
      "\n",
      "325.64065132497285 346.5195909290745\n",
      "all good\n"
     ]
    },
    {
     "name": "stderr",
     "output_type": "stream",
     "text": [
      "\n",
      "\n",
      "\n",
      "\n",
      "t:  81%|████████▏ | 1026/1260 [01:37<00:27,  8.64it/s, now=None]\u001b[A\u001b[A\u001b[A\u001b[A\n",
      "\n",
      "\n",
      "\n",
      "t:  82%|████████▏ | 1027/1260 [01:37<00:27,  8.43it/s, now=None]\u001b[A\u001b[A\u001b[A\u001b[A"
     ]
    },
    {
     "name": "stdout",
     "output_type": "stream",
     "text": [
      "from memory 314 986\n",
      "\n",
      "327.89287250893653 365.0640560414604\n",
      "all good\n",
      "from memory 312 1005\n",
      "\n",
      "327.1782264008805 394.8998856760977\n",
      "all good\n"
     ]
    },
    {
     "name": "stderr",
     "output_type": "stream",
     "text": [
      "\n",
      "\n",
      "\n",
      "\n",
      "t:  82%|████████▏ | 1028/1260 [01:37<00:26,  8.68it/s, now=None]\u001b[A\u001b[A\u001b[A\u001b[A\n",
      "\n",
      "\n",
      "\n",
      "t:  82%|████████▏ | 1029/1260 [01:37<00:26,  8.82it/s, now=None]\u001b[A\u001b[A\u001b[A\u001b[A"
     ]
    },
    {
     "name": "stdout",
     "output_type": "stream",
     "text": [
      "from memory 312 1034\n",
      "\n",
      "321.79148215740355 444.15480109991404\n",
      "all good\n",
      "from memory 318 1084\n",
      "\n",
      "325.8589047936051 455.42313490033575\n",
      "all good\n"
     ]
    },
    {
     "name": "stderr",
     "output_type": "stream",
     "text": [
      "\n",
      "\n",
      "\n",
      "\n",
      "t:  82%|████████▏ | 1031/1260 [01:38<00:24,  9.26it/s, now=None]\u001b[A\u001b[A\u001b[A\u001b[A"
     ]
    },
    {
     "name": "stdout",
     "output_type": "stream",
     "text": [
      "from memory 314 1095\n",
      "\n",
      "331.081144296357 502.9064473487142\n",
      "right _false detection\n",
      "\n",
      "354.842667702787 391.3625562598677\n",
      "all good\n"
     ]
    },
    {
     "name": "stderr",
     "output_type": "stream",
     "text": [
      "\n",
      "\n",
      "\n",
      "\n",
      "t:  82%|████████▏ | 1032/1260 [01:38<00:24,  9.15it/s, now=None]\u001b[A\u001b[A\u001b[A\u001b[A\n",
      "\n",
      "\n",
      "\n",
      "t:  82%|████████▏ | 1033/1260 [01:38<00:25,  9.06it/s, now=None]\u001b[A\u001b[A\u001b[A\u001b[A"
     ]
    },
    {
     "name": "stdout",
     "output_type": "stream",
     "text": [
      "from memory 285 1031\n",
      "\n",
      "379.35628090663727 460.2679134295313\n",
      "all good\n",
      "from memory 260 1100\n",
      "\n",
      "385.2930718209909 507.3254811777965\n",
      "right _false detection\n"
     ]
    },
    {
     "name": "stderr",
     "output_type": "stream",
     "text": [
      "\n",
      "\n",
      "\n",
      "\n",
      "t:  82%|████████▏ | 1034/1260 [01:38<00:24,  9.27it/s, now=None]\u001b[A\u001b[A\u001b[A\u001b[A\n",
      "\n",
      "\n",
      "\n",
      "t:  82%|████████▏ | 1035/1260 [01:38<00:24,  9.29it/s, now=None]\u001b[A\u001b[A\u001b[A\u001b[A"
     ]
    },
    {
     "name": "stdout",
     "output_type": "stream",
     "text": [
      "\n",
      "380.30204585925725 359.75583594788634\n",
      "all good\n",
      "from memory 259 999\n",
      "\n",
      "385.8957739360841 349.8036573617055\n",
      "all good\n"
     ]
    },
    {
     "name": "stderr",
     "output_type": "stream",
     "text": [
      "\n",
      "\n",
      "\n",
      "\n",
      "t:  82%|████████▏ | 1036/1260 [01:38<00:24,  9.03it/s, now=None]\u001b[A\u001b[A\u001b[A\u001b[A\n",
      "\n",
      "\n",
      "\n",
      "t:  82%|████████▏ | 1037/1260 [01:38<00:25,  8.78it/s, now=None]\u001b[A\u001b[A\u001b[A\u001b[A"
     ]
    },
    {
     "name": "stdout",
     "output_type": "stream",
     "text": [
      "from memory 254 989\n",
      "\n",
      "383.7596376663708 367.1969807342042\n",
      "all good\n",
      "from memory 256 1007\n",
      "\n",
      "365.33981430266545 385.47812884098767\n",
      "all good\n"
     ]
    },
    {
     "name": "stderr",
     "output_type": "stream",
     "text": [
      "\n",
      "\n",
      "\n",
      "\n",
      "t:  82%|████████▏ | 1038/1260 [01:38<00:24,  9.04it/s, now=None]\u001b[A\u001b[A\u001b[A\u001b[A\n",
      "\n",
      "\n",
      "\n",
      "t:  82%|████████▏ | 1039/1260 [01:39<00:25,  8.63it/s, now=None]\u001b[A\u001b[A\u001b[A\u001b[A"
     ]
    },
    {
     "name": "stdout",
     "output_type": "stream",
     "text": [
      "from memory 274 1025\n",
      "\n",
      "363.79817290981396 356.56775817191965\n",
      "all good\n",
      "from memory 276 996\n",
      "\n",
      "373.88673580831085 371.28103874234034\n",
      "all good\n"
     ]
    },
    {
     "name": "stderr",
     "output_type": "stream",
     "text": [
      "\n",
      "\n",
      "\n",
      "\n",
      "t:  83%|████████▎ | 1040/1260 [01:39<00:24,  8.92it/s, now=None]\u001b[A\u001b[A\u001b[A\u001b[A\n",
      "\n",
      "\n",
      "\n",
      "t:  83%|████████▎ | 1041/1260 [01:39<00:24,  8.84it/s, now=None]\u001b[A\u001b[A\u001b[A\u001b[A"
     ]
    },
    {
     "name": "stdout",
     "output_type": "stream",
     "text": [
      "from memory 266 1011\n",
      "\n",
      "375.00841830310173 330.4582388079939\n",
      "all good\n",
      "from memory 264 970\n",
      "\n",
      "351.6610761821497 346.18791682942685\n",
      "all good\n"
     ]
    },
    {
     "name": "stderr",
     "output_type": "stream",
     "text": [
      "\n",
      "\n",
      "\n",
      "\n",
      "t:  83%|████████▎ | 1043/1260 [01:39<00:23,  9.42it/s, now=None]\u001b[A\u001b[A\u001b[A\u001b[A"
     ]
    },
    {
     "name": "stdout",
     "output_type": "stream",
     "text": [
      "from memory 288 986\n",
      "\n",
      "341.09167061066216 330.4560018629403\n",
      "all good\n",
      "from memory 298 970\n",
      "\n",
      "339.7138198678355 315.1831615109037\n",
      "all good\n",
      "from memory 300 955\n",
      "\n"
     ]
    },
    {
     "name": "stderr",
     "output_type": "stream",
     "text": [
      "\n",
      "\n",
      "\n",
      "\n",
      "t:  83%|████████▎ | 1045/1260 [01:39<00:22,  9.62it/s, now=None]\u001b[A\u001b[A\u001b[A\u001b[A"
     ]
    },
    {
     "name": "stdout",
     "output_type": "stream",
     "text": [
      "333.96206183901404 343.09565273292367\n",
      "all good\n",
      "from memory 306 983\n",
      "\n",
      "339.78184587033036 335.43870461192114\n",
      "all good\n",
      "from memory 300 975\n"
     ]
    },
    {
     "name": "stderr",
     "output_type": "stream",
     "text": [
      "\n",
      "\n",
      "\n",
      "\n",
      "t:  83%|████████▎ | 1046/1260 [01:39<00:23,  9.29it/s, now=None]\u001b[A\u001b[A\u001b[A\u001b[A"
     ]
    },
    {
     "name": "stdout",
     "output_type": "stream",
     "text": [
      "\n",
      "345.60180836485995 331.77497325550735\n",
      "all good\n",
      "from memory 294 971\n",
      "\n",
      "349.52377986054995 335.728310181095\n",
      "all good\n",
      "from memory 290 975\n",
      "\n",
      "351.4617788088675 342.34781252587663\n",
      "all good\n"
     ]
    },
    {
     "name": "stderr",
     "output_type": "stream",
     "text": [
      "\n",
      "\n",
      "\n",
      "\n",
      "t:  83%|████████▎ | 1048/1260 [01:39<00:21,  9.67it/s, now=None]\u001b[A\u001b[A\u001b[A\u001b[A\n",
      "\n",
      "\n",
      "\n",
      "t:  83%|████████▎ | 1050/1260 [01:40<00:20, 10.09it/s, now=None]\u001b[A\u001b[A\u001b[A\u001b[A"
     ]
    },
    {
     "name": "stdout",
     "output_type": "stream",
     "text": [
      "from memory 288 982\n",
      "\n",
      "357.85827663314353 361.96444987511904\n",
      "all good\n",
      "from memory 282 1001\n",
      "\n",
      "358.75237577723396 354.1286423290619\n",
      "all good\n",
      "from memory 281 994\n",
      "\n",
      "370.3467766423804 344.68059318092935\n",
      "all good\n"
     ]
    },
    {
     "name": "stderr",
     "output_type": "stream",
     "text": [
      "\n",
      "\n",
      "\n",
      "\n",
      "t:  83%|████████▎ | 1052/1260 [01:40<00:20, 10.37it/s, now=None]\u001b[A\u001b[A\u001b[A\u001b[A"
     ]
    },
    {
     "name": "stdout",
     "output_type": "stream",
     "text": [
      "from memory 269 984\n",
      "\n",
      "363.21267480547385 320.24680984514\n",
      "all good\n",
      "from memory 276 960\n",
      "\n",
      "362.8094990959229 292.0948947577376\n",
      "all good\n",
      "from memory 277 932\n",
      "\n"
     ]
    },
    {
     "name": "stderr",
     "output_type": "stream",
     "text": [
      "\n",
      "\n",
      "\n",
      "\n",
      "t:  84%|████████▎ | 1054/1260 [01:40<00:19, 10.62it/s, now=None]\u001b[A\u001b[A\u001b[A\u001b[A\n",
      "\n",
      "\n",
      "\n",
      "t:  84%|████████▍ | 1056/1260 [01:40<00:18, 10.98it/s, now=None]\u001b[A\u001b[A\u001b[A\u001b[A"
     ]
    },
    {
     "name": "stdout",
     "output_type": "stream",
     "text": [
      "367.57545617293283 287.1096376592179\n",
      "all good\n",
      "from memory 272 927\n",
      "\n",
      "368.77773065984843 322.38807759857013\n",
      "all good\n",
      "from memory 271 962\n",
      "\n",
      "355.3456338302399 331.60788459565765\n",
      "all good\n"
     ]
    },
    {
     "name": "stderr",
     "output_type": "stream",
     "text": [
      "\n",
      "\n",
      "\n",
      "\n",
      "t:  84%|████████▍ | 1058/1260 [01:40<00:18, 10.91it/s, now=None]\u001b[A\u001b[A\u001b[A\u001b[A"
     ]
    },
    {
     "name": "stdout",
     "output_type": "stream",
     "text": [
      "from memory 284 971\n",
      "\n",
      "354.4649354805508 334.2270533003216\n",
      "all good\n",
      "from memory 285 974\n",
      "\n",
      "346.3217160281755 331.1644321705919\n",
      "all good\n",
      "from memory 293 "
     ]
    },
    {
     "name": "stderr",
     "output_type": "stream",
     "text": [
      "\n",
      "\n",
      "\n",
      "\n",
      "t:  84%|████████▍ | 1060/1260 [01:41<00:19, 10.52it/s, now=None]\u001b[A\u001b[A\u001b[A\u001b[A"
     ]
    },
    {
     "name": "stdout",
     "output_type": "stream",
     "text": [
      "971\n",
      "\n",
      "342.35050655345776 331.80652567686377\n",
      "all good\n",
      "from memory 297 971\n",
      "\n",
      "342.4679896782424 336.272102691564\n",
      "all good\n",
      "from memory 297 976\n",
      "\n",
      "329.8207775761269 348.82786224812\n",
      "all good\n"
     ]
    },
    {
     "name": "stderr",
     "output_type": "stream",
     "text": [
      "\n",
      "\n",
      "\n",
      "\n",
      "t:  84%|████████▍ | 1062/1260 [01:41<00:18, 10.76it/s, now=None]\u001b[A\u001b[A\u001b[A\u001b[A\n",
      "\n",
      "\n",
      "\n",
      "t:  84%|████████▍ | 1064/1260 [01:41<00:17, 11.21it/s, now=None]\u001b[A\u001b[A\u001b[A\u001b[A"
     ]
    },
    {
     "name": "stdout",
     "output_type": "stream",
     "text": [
      "from memory 310 988\n",
      "\n",
      "321.9176156882907 343.4570394479101\n",
      "all good\n",
      "from memory 318 983\n",
      "\n",
      "315.04294203575034 341.9610218022232\n",
      "all good\n",
      "from memory 324 981\n",
      "\n",
      "314.7867673301226 343.83660737992614\n",
      "all good\n"
     ]
    },
    {
     "name": "stderr",
     "output_type": "stream",
     "text": [
      "\n",
      "\n",
      "\n",
      "\n",
      "t:  85%|████████▍ | 1066/1260 [01:41<00:17, 11.31it/s, now=None]\u001b[A\u001b[A\u001b[A\u001b[A"
     ]
    },
    {
     "name": "stdout",
     "output_type": "stream",
     "text": [
      "from memory 325 983\n",
      "\n",
      "318.00868289746006 341.93472156134794\n",
      "all good\n",
      "from memory 321 981\n",
      "\n",
      "318.31208619242574 343.8888859181652\n",
      "all good\n",
      "from memory 321 983\n",
      "\n",
      "323.28863310423765 346.1400726753384\n",
      "all good\n"
     ]
    },
    {
     "name": "stderr",
     "output_type": "stream",
     "text": [
      "\n",
      "\n",
      "\n",
      "\n",
      "t:  85%|████████▍ | 1068/1260 [01:41<00:17, 11.15it/s, now=None]\u001b[A\u001b[A\u001b[A\u001b[A"
     ]
    },
    {
     "name": "stdout",
     "output_type": "stream",
     "text": [
      "from memory 316 986\n",
      "\n",
      "319.61909774720453 347.50012420307417\n",
      "all good\n",
      "from memory 320 987\n",
      "\n",
      "320.9823105543765 348.47773741904246\n",
      "all good\n",
      "from memory 319 988\n",
      "\n"
     ]
    },
    {
     "name": "stderr",
     "output_type": "stream",
     "text": [
      "\n",
      "\n",
      "\n",
      "\n",
      "t:  85%|████████▍ | 1070/1260 [01:41<00:17, 10.89it/s, now=None]\u001b[A\u001b[A\u001b[A\u001b[A\n",
      "\n",
      "\n",
      "\n",
      "t:  85%|████████▌ | 1072/1260 [01:42<00:17, 10.89it/s, now=None]\u001b[A\u001b[A\u001b[A\u001b[A"
     ]
    },
    {
     "name": "stdout",
     "output_type": "stream",
     "text": [
      "317.8498656371146 348.36216033084406\n",
      "all good\n",
      "from memory 322 988\n",
      "\n",
      "320.24616789188065 349.1187076537667\n",
      "all good\n",
      "from memory 319 989\n",
      "\n",
      "315.7617696263959 351.150794012304\n",
      "all good\n"
     ]
    },
    {
     "name": "stderr",
     "output_type": "stream",
     "text": [
      "\n",
      "\n",
      "\n",
      "\n",
      "t:  85%|████████▌ | 1074/1260 [01:42<00:17, 10.63it/s, now=None]\u001b[A\u001b[A\u001b[A\u001b[A"
     ]
    },
    {
     "name": "stdout",
     "output_type": "stream",
     "text": [
      "from memory 324 991\n",
      "\n",
      "315.20298570758735 355.5576631568465\n",
      "all good\n",
      "from memory 324 995\n",
      "\n",
      "312.683577669883 357.1041265863621\n",
      "all good\n",
      "from memory 327 997\n",
      "\n",
      "306.8733892793922 358.6213871921626\n",
      "all good\n"
     ]
    },
    {
     "name": "stderr",
     "output_type": "stream",
     "text": [
      "\n",
      "\n",
      "\n",
      "\n",
      "t:  85%|████████▌ | 1076/1260 [01:42<00:17, 10.79it/s, now=None]\u001b[A\u001b[A\u001b[A\u001b[A"
     ]
    },
    {
     "name": "stdout",
     "output_type": "stream",
     "text": [
      "from memory 333 998\n",
      "\n",
      "312.964956123019 347.2114760101895\n",
      "all good\n",
      "from memory 327 987\n",
      "\n",
      "306.4454769787604 345.9898153507628\n",
      "all good\n",
      "from memory 333 985\n",
      "\n"
     ]
    },
    {
     "name": "stderr",
     "output_type": "stream",
     "text": [
      "\n",
      "\n",
      "\n",
      "\n",
      "t:  86%|████████▌ | 1078/1260 [01:42<00:17, 10.70it/s, now=None]\u001b[A\u001b[A\u001b[A\u001b[A\n",
      "\n",
      "\n",
      "\n",
      "t:  86%|████████▌ | 1080/1260 [01:42<00:16, 10.75it/s, now=None]\u001b[A\u001b[A\u001b[A\u001b[A"
     ]
    },
    {
     "name": "stdout",
     "output_type": "stream",
     "text": [
      "301.30424291193697 346.5807097422687\n",
      "all good\n",
      "from memory 338 986\n",
      "\n",
      "290.62968082642567 348.01427196831094\n",
      "all good\n",
      "from memory 349 988\n",
      "\n",
      "293.4717435672868 350.28019435612464\n",
      "all good\n"
     ]
    },
    {
     "name": "stderr",
     "output_type": "stream",
     "text": [
      "\n",
      "\n",
      "\n",
      "\n",
      "t:  86%|████████▌ | 1082/1260 [01:43<00:16, 10.63it/s, now=None]\u001b[A\u001b[A\u001b[A\u001b[A"
     ]
    },
    {
     "name": "stdout",
     "output_type": "stream",
     "text": [
      "from memory 346 990\n",
      "\n",
      "295.8250034997431 352.5495507480397\n",
      "all good\n",
      "from memory 344 992\n",
      "\n",
      "298.17184190401736 355.16709158411857\n",
      "all good\n",
      "from memory 341 995\n",
      "\n",
      "295.4420242109187 356.3146532751143\n",
      "all good\n"
     ]
    },
    {
     "name": "stderr",
     "output_type": "stream",
     "text": [
      "\n",
      "\n",
      "\n",
      "\n",
      "t:  86%|████████▌ | 1084/1260 [01:43<00:16, 10.52it/s, now=None]\u001b[A\u001b[A\u001b[A\u001b[A"
     ]
    },
    {
     "name": "stdout",
     "output_type": "stream",
     "text": [
      "from memory 344 996\n",
      "\n",
      "298.75812756607513 362.34355901935976\n",
      "all good\n",
      "from memory 341 1002\n",
      "\n",
      "295.5318748261035 377.009515511652\n",
      "all good\n",
      "from memory 344 1017\n",
      "\n"
     ]
    },
    {
     "name": "stderr",
     "output_type": "stream",
     "text": [
      "\n",
      "\n",
      "\n",
      "\n",
      "t:  86%|████████▌ | 1086/1260 [01:43<00:16, 10.68it/s, now=None]\u001b[A\u001b[A\u001b[A\u001b[A\n",
      "\n",
      "\n",
      "\n",
      "t:  86%|████████▋ | 1088/1260 [01:43<00:16, 10.64it/s, now=None]\u001b[A\u001b[A\u001b[A\u001b[A"
     ]
    },
    {
     "name": "stdout",
     "output_type": "stream",
     "text": [
      "292.78679473271654 370.1686678749934\n",
      "all good\n",
      "from memory 347 1010\n",
      "\n",
      "293.7174290382289 369.85144994423945\n",
      "all good\n",
      "from memory 346 1009\n",
      "\n",
      "290.89414520377335 366.78562093167125\n",
      "all good\n"
     ]
    },
    {
     "name": "stderr",
     "output_type": "stream",
     "text": [
      "\n",
      "\n",
      "\n",
      "\n",
      "t:  87%|████████▋ | 1090/1260 [01:43<00:15, 10.66it/s, now=None]\u001b[A\u001b[A\u001b[A\u001b[A"
     ]
    },
    {
     "name": "stdout",
     "output_type": "stream",
     "text": [
      "from memory 349 1006\n",
      "\n",
      "294.8566617436951 377.646963143437\n",
      "all good\n",
      "from memory 345 1017\n",
      "\n",
      "296.6886945009804 362.8282622878205\n",
      "all good\n",
      "from memory 343 1002\n",
      "\n"
     ]
    },
    {
     "name": "stderr",
     "output_type": "stream",
     "text": [
      "\n",
      "\n",
      "\n",
      "\n",
      "t:  87%|████████▋ | 1092/1260 [01:44<00:17,  9.80it/s, now=None]\u001b[A\u001b[A\u001b[A\u001b[A"
     ]
    },
    {
     "name": "stdout",
     "output_type": "stream",
     "text": [
      "295.25708735162306 362.796693732707\n",
      "all good\n",
      "from memory 344 1002\n",
      "\n",
      "295.9680836037528 361.4722806126621\n",
      "all good\n",
      "from memory 344 1001\n"
     ]
    },
    {
     "name": "stderr",
     "output_type": "stream",
     "text": [
      "\n",
      "\n",
      "\n",
      "\n",
      "t:  87%|████████▋ | 1094/1260 [01:44<00:16, 10.01it/s, now=None]\u001b[A\u001b[A\u001b[A\u001b[A"
     ]
    },
    {
     "name": "stdout",
     "output_type": "stream",
     "text": [
      "\n",
      "295.4328932058069 363.11734318753133\n",
      "all good\n",
      "from memory 344 1003\n",
      "\n",
      "300.51592034465773 363.87719217697486\n",
      "all good\n",
      "from memory 339 1003\n",
      "\n"
     ]
    },
    {
     "name": "stderr",
     "output_type": "stream",
     "text": [
      "\n",
      "\n",
      "\n",
      "\n",
      "t:  87%|████████▋ | 1096/1260 [01:44<00:16, 10.19it/s, now=None]\u001b[A\u001b[A\u001b[A\u001b[A"
     ]
    },
    {
     "name": "stdout",
     "output_type": "stream",
     "text": [
      "293.32693339899055 363.4392702375426\n",
      "all good\n",
      "from memory 346 1003\n",
      "\n",
      "295.12740105141665 364.0327010227353\n",
      "all good\n",
      "from memory 344 1004\n"
     ]
    },
    {
     "name": "stderr",
     "output_type": "stream",
     "text": [
      "\n",
      "\n",
      "\n",
      "\n",
      "t:  87%|████████▋ | 1098/1260 [01:44<00:16,  9.89it/s, now=None]\u001b[A\u001b[A\u001b[A\u001b[A"
     ]
    },
    {
     "name": "stdout",
     "output_type": "stream",
     "text": [
      "\n",
      "298.2986936281658 364.8379742704759\n",
      "all good\n",
      "from memory 341 1004\n",
      "\n",
      "297.6346899812612 366.1265410429537\n",
      "all good\n",
      "from memory 342 1006\n"
     ]
    },
    {
     "name": "stderr",
     "output_type": "stream",
     "text": [
      "\n",
      "\n",
      "\n",
      "\n",
      "t:  87%|████████▋ | 1099/1260 [01:44<00:17,  9.44it/s, now=None]\u001b[A\u001b[A\u001b[A\u001b[A\n",
      "\n",
      "\n",
      "\n",
      "t:  87%|████████▋ | 1100/1260 [01:44<00:18,  8.52it/s, now=None]\u001b[A\u001b[A\u001b[A\u001b[A"
     ]
    },
    {
     "name": "stdout",
     "output_type": "stream",
     "text": [
      "\n",
      "293.5158626446731 353.4523892000341\n",
      "all good\n",
      "from memory 346 993\n",
      "\n",
      "286.8092645968677 351.7844919398699\n",
      "all good\n"
     ]
    },
    {
     "name": "stderr",
     "output_type": "stream",
     "text": [
      "\n",
      "\n",
      "\n",
      "\n",
      "t:  87%|████████▋ | 1101/1260 [01:45<00:18,  8.39it/s, now=None]\u001b[A\u001b[A\u001b[A\u001b[A\n",
      "\n",
      "\n",
      "\n",
      "t:  87%|████████▋ | 1102/1260 [01:45<00:19,  8.23it/s, now=None]\u001b[A\u001b[A\u001b[A\u001b[A"
     ]
    },
    {
     "name": "stdout",
     "output_type": "stream",
     "text": [
      "from memory 353 991\n",
      "\n",
      "285.0907629729966 354.09618316248634\n",
      "all good\n",
      "from memory 354 994\n",
      "\n",
      "281.30831907185507 357.51114722843204\n",
      "all good\n"
     ]
    },
    {
     "name": "stderr",
     "output_type": "stream",
     "text": [
      "\n",
      "\n",
      "\n",
      "\n",
      "t:  88%|████████▊ | 1103/1260 [01:45<00:22,  7.10it/s, now=None]\u001b[A\u001b[A\u001b[A\u001b[A"
     ]
    },
    {
     "name": "stdout",
     "output_type": "stream",
     "text": [
      "from memory 358 997\n",
      "\n",
      "281.69993583158544 362.7366804130071\n",
      "all good\n"
     ]
    },
    {
     "name": "stderr",
     "output_type": "stream",
     "text": [
      "\n",
      "\n",
      "\n",
      "\n",
      "t:  88%|████████▊ | 1104/1260 [01:45<00:24,  6.27it/s, now=None]\u001b[A\u001b[A\u001b[A\u001b[A\n",
      "\n",
      "\n",
      "\n"
     ]
    },
    {
     "name": "stdout",
     "output_type": "stream",
     "text": [
      "from memory 358 1002\n",
      "\n",
      "275.73868751783533 365.9374066168109\n",
      "all good\n",
      "from memory 364 1005\n",
      "\n",
      "277.96936808421 368.4248782679946\n",
      "all good\n"
     ]
    },
    {
     "name": "stderr",
     "output_type": "stream",
     "text": [
      "t:  88%|████████▊ | 1105/1260 [01:45<00:23,  6.67it/s, now=None]\u001b[A\u001b[A\u001b[A\u001b[A\n",
      "\n",
      "\n",
      "\n",
      "t:  88%|████████▊ | 1106/1260 [01:45<00:21,  7.23it/s, now=None]\u001b[A\u001b[A\u001b[A\u001b[A\n",
      "\n",
      "\n",
      "\n",
      "t:  88%|████████▊ | 1107/1260 [01:45<00:21,  7.20it/s, now=None]\u001b[A\u001b[A\u001b[A\u001b[A"
     ]
    },
    {
     "name": "stdout",
     "output_type": "stream",
     "text": [
      "from memory 362 1008\n",
      "\n",
      "278.8023828832524 371.0595883776317\n",
      "all good\n",
      "from memory 361 1011\n",
      "\n",
      "277.6981821329646 377.7236786313697\n",
      "all good\n"
     ]
    },
    {
     "name": "stderr",
     "output_type": "stream",
     "text": [
      "\n",
      "\n",
      "\n",
      "\n",
      "t:  88%|████████▊ | 1108/1260 [01:46<00:20,  7.27it/s, now=None]\u001b[A\u001b[A\u001b[A\u001b[A\n",
      "\n",
      "\n",
      "\n",
      "t:  88%|████████▊ | 1109/1260 [01:46<00:20,  7.47it/s, now=None]\u001b[A\u001b[A\u001b[A\u001b[A"
     ]
    },
    {
     "name": "stdout",
     "output_type": "stream",
     "text": [
      "from memory 362 1017\n",
      "\n",
      "274.91822701710254 397.85437243301953\n",
      "all good\n",
      "from memory 365 1037\n",
      "\n",
      "279.13981802048465 381.1975412246843\n",
      "all good\n"
     ]
    },
    {
     "name": "stderr",
     "output_type": "stream",
     "text": [
      "\n",
      "\n",
      "\n",
      "\n",
      "t:  88%|████████▊ | 1110/1260 [01:46<00:18,  8.00it/s, now=None]\u001b[A\u001b[A\u001b[A\u001b[A\n",
      "\n",
      "\n",
      "\n",
      "t:  88%|████████▊ | 1111/1260 [01:46<00:18,  8.26it/s, now=None]\u001b[A\u001b[A\u001b[A\u001b[A"
     ]
    },
    {
     "name": "stdout",
     "output_type": "stream",
     "text": [
      "from memory 360 1021\n",
      "\n",
      "279.42478658663447 387.98565099086454\n",
      "all good\n",
      "from memory 360 1027\n",
      "\n",
      "280.76701073572985 381.37488663157706\n",
      "all good\n"
     ]
    },
    {
     "name": "stderr",
     "output_type": "stream",
     "text": [
      "\n",
      "\n",
      "\n",
      "\n",
      "t:  88%|████████▊ | 1112/1260 [01:46<00:17,  8.24it/s, now=None]\u001b[A\u001b[A\u001b[A\u001b[A"
     ]
    },
    {
     "name": "stdout",
     "output_type": "stream",
     "text": [
      "from memory 359 1021\n",
      "\n",
      "278.6228109064832 381.68007101937314\n",
      "all good\n",
      "from memory 361 1021\n",
      "\n",
      "279.4186197137237 378.8805462368566\n",
      "all good\n",
      "from memory 360 1018\n",
      "\n",
      "277.46121206878126 378.77456210727973\n",
      "all good\n"
     ]
    },
    {
     "name": "stderr",
     "output_type": "stream",
     "text": [
      "\n",
      "\n",
      "\n",
      "\n",
      "t:  88%|████████▊ | 1114/1260 [01:46<00:16,  9.01it/s, now=None]\u001b[A\u001b[A\u001b[A\u001b[A\n",
      "\n",
      "\n",
      "\n",
      "t:  88%|████████▊ | 1115/1260 [01:46<00:15,  9.10it/s, now=None]\u001b[A\u001b[A\u001b[A\u001b[A\n",
      "\n",
      "\n",
      "\n",
      "t:  89%|████████▊ | 1116/1260 [01:46<00:15,  9.22it/s, now=None]\u001b[A\u001b[A\u001b[A\u001b[A"
     ]
    },
    {
     "name": "stdout",
     "output_type": "stream",
     "text": [
      "from memory 362 1018\n",
      "\n",
      "279.0886458560014 374.98621530658454\n",
      "all good\n",
      "from memory 360 1014\n",
      "\n",
      "282.2369057618188 373.6258933588589\n",
      "all good\n",
      "from memory 357 1013\n"
     ]
    },
    {
     "name": "stderr",
     "output_type": "stream",
     "text": [
      "\n",
      "\n",
      "\n",
      "\n",
      "t:  89%|████████▊ | 1118/1260 [01:47<00:14,  9.49it/s, now=None]\u001b[A\u001b[A\u001b[A\u001b[A"
     ]
    },
    {
     "name": "stdout",
     "output_type": "stream",
     "text": [
      "\n",
      "281.36461893318585 369.9580543965965\n",
      "all good\n",
      "from memory 358 1009\n",
      "\n",
      "278.0961872708918 366.9177206037049\n",
      "all good\n",
      "from memory 361 1006\n"
     ]
    },
    {
     "name": "stderr",
     "output_type": "stream",
     "text": [
      "\n",
      "\n",
      "\n",
      "\n",
      "t:  89%|████████▉ | 1120/1260 [01:47<00:14,  9.87it/s, now=None]\u001b[A\u001b[A\u001b[A\u001b[A"
     ]
    },
    {
     "name": "stdout",
     "output_type": "stream",
     "text": [
      "\n",
      "277.8392652321377 365.8577655411618\n",
      "all good\n",
      "from memory 362 1005\n",
      "\n",
      "282.02992559260326 369.9781009326588\n",
      "all good\n",
      "from memory 357 1009\n",
      "\n",
      "280.9044373595864 366.3735631006507\n",
      "all good\n"
     ]
    },
    {
     "name": "stderr",
     "output_type": "stream",
     "text": [
      "\n",
      "\n",
      "\n",
      "\n",
      "t:  89%|████████▉ | 1122/1260 [01:47<00:13,  9.97it/s, now=None]\u001b[A\u001b[A\u001b[A\u001b[A"
     ]
    },
    {
     "name": "stdout",
     "output_type": "stream",
     "text": [
      "from memory 359 1006\n",
      "\n",
      "282.7681425126633 366.0558552778441\n",
      "all good\n",
      "from memory 357 1006\n",
      "\n",
      "282.264777638958 362.92579052953545\n",
      "all good\n",
      "from memory 357 1002\n",
      "\n",
      "279.83359056321103 368.5856650962968\n",
      "all good\n"
     ]
    },
    {
     "name": "stderr",
     "output_type": "stream",
     "text": [
      "\n",
      "\n",
      "\n",
      "\n",
      "t:  89%|████████▉ | 1124/1260 [01:47<00:13, 10.27it/s, now=None]\u001b[A\u001b[A\u001b[A\u001b[A\n",
      "\n",
      "\n",
      "\n",
      "t:  89%|████████▉ | 1126/1260 [01:47<00:13, 10.24it/s, now=None]\u001b[A\u001b[A\u001b[A\u001b[A"
     ]
    },
    {
     "name": "stdout",
     "output_type": "stream",
     "text": [
      "from memory 360 1008\n",
      "\n",
      "276.2440623883741 356.73600613295\n",
      "all good\n",
      "from memory 363 996\n",
      "\n",
      "276.4033404387805 359.6464023932813\n",
      "all good\n",
      "from memory 363 999\n",
      "\n"
     ]
    },
    {
     "name": "stderr",
     "output_type": "stream",
     "text": [
      "\n",
      "\n",
      "\n",
      "\n",
      "t:  90%|████████▉ | 1128/1260 [01:48<00:13, 10.11it/s, now=None]\u001b[A\u001b[A\u001b[A\u001b[A"
     ]
    },
    {
     "name": "stdout",
     "output_type": "stream",
     "text": [
      "277.5829582532463 361.299937284517\n",
      "all good\n",
      "from memory 362 1001\n",
      "\n",
      "281.19183039328175 359.9909807196625\n",
      "all good\n",
      "from memory 358 999\n",
      "\n",
      "282.13883730182306 360.1369443553509\n",
      "all good\n"
     ]
    },
    {
     "name": "stderr",
     "output_type": "stream",
     "text": [
      "\n",
      "\n",
      "\n",
      "\n",
      "t:  90%|████████▉ | 1130/1260 [01:48<00:12, 10.05it/s, now=None]\u001b[A\u001b[A\u001b[A\u001b[A"
     ]
    },
    {
     "name": "stdout",
     "output_type": "stream",
     "text": [
      "from memory 357 1000\n",
      "\n",
      "285.91419616412674 362.05994865451703\n",
      "all good\n",
      "from memory 354 1002\n",
      "\n",
      "286.51848867474473 368.2044327034241\n",
      "all good\n",
      "from memory 353 1008\n",
      "\n"
     ]
    },
    {
     "name": "stderr",
     "output_type": "stream",
     "text": [
      "\n",
      "\n",
      "\n",
      "\n",
      "t:  90%|████████▉ | 1132/1260 [01:48<00:12, 10.39it/s, now=None]\u001b[A\u001b[A\u001b[A\u001b[A"
     ]
    },
    {
     "name": "stdout",
     "output_type": "stream",
     "text": [
      "285.67224784675994 367.1519053148505\n",
      "all good\n",
      "from memory 354 1007\n",
      "\n",
      "288.80070884680777 354.8425232789227\n",
      "all good\n",
      "from memory 351 994\n",
      "\n",
      "291.16075884225125 359.0510616302628\n",
      "all good\n"
     ]
    },
    {
     "name": "stderr",
     "output_type": "stream",
     "text": [
      "\n",
      "\n",
      "\n",
      "\n",
      "t:  90%|█████████ | 1134/1260 [01:48<00:12, 10.41it/s, now=None]\u001b[A\u001b[A\u001b[A\u001b[A\n",
      "\n",
      "\n",
      "\n",
      "t:  90%|█████████ | 1136/1260 [01:48<00:11, 10.76it/s, now=None]\u001b[A\u001b[A\u001b[A\u001b[A"
     ]
    },
    {
     "name": "stdout",
     "output_type": "stream",
     "text": [
      "from memory 348 999\n",
      "\n",
      "292.6624594766207 352.96629046759153\n",
      "all good\n",
      "from memory 347 992\n",
      "\n",
      "296.83049189932166 355.0145614924596\n",
      "all good\n",
      "from memory 343 995\n",
      "\n"
     ]
    },
    {
     "name": "stderr",
     "output_type": "stream",
     "text": [
      "\n",
      "\n",
      "\n",
      "\n",
      "t:  90%|█████████ | 1138/1260 [01:49<00:11, 10.39it/s, now=None]\u001b[A\u001b[A\u001b[A\u001b[A"
     ]
    },
    {
     "name": "stdout",
     "output_type": "stream",
     "text": [
      "291.52292275453675 356.3316064441053\n",
      "all good\n",
      "from memory 348 996\n",
      "\n",
      "293.80733605488786 356.6753510126972\n",
      "all good\n",
      "from memory 346 996\n",
      "\n",
      "294.41530481293034 356.7498006766325\n",
      "all good\n"
     ]
    },
    {
     "name": "stderr",
     "output_type": "stream",
     "text": [
      "\n",
      "\n",
      "\n",
      "\n",
      "t:  90%|█████████ | 1140/1260 [01:49<00:11, 10.33it/s, now=None]\u001b[A\u001b[A\u001b[A\u001b[A\n",
      "\n",
      "\n",
      "\n",
      "t:  91%|█████████ | 1142/1260 [01:49<00:10, 10.79it/s, now=None]\u001b[A\u001b[A\u001b[A\u001b[A"
     ]
    },
    {
     "name": "stdout",
     "output_type": "stream",
     "text": [
      "from memory 345 996\n",
      "\n",
      "293.024820767781 357.256257290373\n",
      "all good\n",
      "from memory 346 997\n",
      "\n",
      "292.2699663685592 358.3340812801073\n",
      "all good\n",
      "from memory 347 998\n",
      "\n",
      "291.8779540295199 369.2545279492808\n",
      "all good\n"
     ]
    },
    {
     "name": "stderr",
     "output_type": "stream",
     "text": [
      "\n",
      "\n",
      "\n",
      "\n",
      "t:  91%|█████████ | 1144/1260 [01:49<00:10, 10.85it/s, now=None]\u001b[A\u001b[A\u001b[A\u001b[A"
     ]
    },
    {
     "name": "stdout",
     "output_type": "stream",
     "text": [
      "from memory 348 1009\n",
      "\n",
      "292.6156835635601 364.28845290749837\n",
      "all good\n",
      "from memory 347 1004\n",
      "\n",
      "294.0528232507192 364.7387972217224\n",
      "all good\n",
      "from memory 345 1004\n"
     ]
    },
    {
     "name": "stderr",
     "output_type": "stream",
     "text": [
      "\n",
      "\n",
      "\n",
      "\n",
      "t:  91%|█████████ | 1146/1260 [01:49<00:10, 10.91it/s, now=None]\u001b[A\u001b[A\u001b[A\u001b[A"
     ]
    },
    {
     "name": "stdout",
     "output_type": "stream",
     "text": [
      "\n",
      "294.74304752837975 359.8865489633863\n",
      "all good\n",
      "from memory 345 999\n",
      "\n",
      "281.34309415463173 357.87992271605856\n",
      "all good\n",
      "from memory 358 997\n",
      "\n",
      "281.0120630631946 359.33856362624306\n",
      "all good\n"
     ]
    },
    {
     "name": "stderr",
     "output_type": "stream",
     "text": [
      "\n",
      "\n",
      "\n",
      "\n",
      "t:  91%|█████████ | 1148/1260 [01:49<00:10, 10.50it/s, now=None]\u001b[A\u001b[A\u001b[A\u001b[A\n",
      "\n",
      "\n",
      "\n",
      "t:  91%|█████████▏| 1150/1260 [01:50<00:10, 10.79it/s, now=None]\u001b[A\u001b[A\u001b[A\u001b[A"
     ]
    },
    {
     "name": "stdout",
     "output_type": "stream",
     "text": [
      "from memory 358 999\n",
      "\n",
      "285.54491102713297 360.32583276728406\n",
      "all good\n",
      "from memory 354 1000\n",
      "\n",
      "288.9763158039288 358.875040328139\n",
      "all good\n",
      "from memory 351 998\n",
      "\n",
      "288.3381631993862 360.74113400105034\n",
      "all good\n"
     ]
    },
    {
     "name": "stderr",
     "output_type": "stream",
     "text": [
      "\n",
      "\n",
      "\n",
      "\n",
      "t:  91%|█████████▏| 1152/1260 [01:50<00:09, 10.89it/s, now=None]\u001b[A\u001b[A\u001b[A\u001b[A"
     ]
    },
    {
     "name": "stdout",
     "output_type": "stream",
     "text": [
      "from memory 351 1000\n",
      "\n",
      "285.358260811361 359.8905141659634\n",
      "all good\n",
      "from memory 354 999\n",
      "\n",
      "286.35132374227123 358.1478333161232\n",
      "all good\n",
      "from memory 353 998\n",
      "\n",
      "291.48115890112683 368.3503136689867\n",
      "all good\n"
     ]
    },
    {
     "name": "stderr",
     "output_type": "stream",
     "text": [
      "\n",
      "\n",
      "\n",
      "\n",
      "t:  92%|█████████▏| 1154/1260 [01:50<00:09, 10.92it/s, now=None]\u001b[A\u001b[A\u001b[A\u001b[A\n",
      "\n",
      "\n",
      "\n",
      "t:  92%|█████████▏| 1156/1260 [01:50<00:09, 11.11it/s, now=None]\u001b[A\u001b[A\u001b[A\u001b[A"
     ]
    },
    {
     "name": "stdout",
     "output_type": "stream",
     "text": [
      "from memory 348 1008\n",
      "\n",
      "287.9804551270619 359.13218026780373\n",
      "all good\n",
      "from memory 352 999\n",
      "\n",
      "287.8528399310411 362.13157575279126\n",
      "all good\n",
      "from memory 352 1002\n",
      "\n",
      "287.86552091015216 362.1972778437272\n",
      "all good\n"
     ]
    },
    {
     "name": "stderr",
     "output_type": "stream",
     "text": [
      "\n",
      "\n",
      "\n",
      "\n",
      "t:  92%|█████████▏| 1158/1260 [01:50<00:09, 11.20it/s, now=None]\u001b[A\u001b[A\u001b[A\u001b[A"
     ]
    },
    {
     "name": "stdout",
     "output_type": "stream",
     "text": [
      "from memory 352 1002\n",
      "\n",
      "287.1073406212183 397.26054047802313\n",
      "all good\n",
      "from memory 352 1037\n",
      "\n",
      "289.89135436894435 372.34284027146623\n",
      "all good\n",
      "from memory 350 1012\n"
     ]
    },
    {
     "name": "stderr",
     "output_type": "stream",
     "text": [
      "\n",
      "\n",
      "\n",
      "\n",
      "t:  92%|█████████▏| 1160/1260 [01:51<00:09, 10.53it/s, now=None]\u001b[A\u001b[A\u001b[A\u001b[A"
     ]
    },
    {
     "name": "stdout",
     "output_type": "stream",
     "text": [
      "\n",
      "287.2702403228524 356.79606497785153\n",
      "all good\n",
      "from memory 352 996\n",
      "\n",
      "288.5338463560022 358.661604386461\n",
      "all good\n",
      "from memory 351 998\n",
      "\n",
      "290.9623266034853 358.78843717906864\n",
      "all good\n"
     ]
    },
    {
     "name": "stderr",
     "output_type": "stream",
     "text": [
      "\n",
      "\n",
      "\n",
      "\n",
      "t:  92%|█████████▏| 1162/1260 [01:51<00:09, 10.78it/s, now=None]\u001b[A\u001b[A\u001b[A\u001b[A"
     ]
    },
    {
     "name": "stdout",
     "output_type": "stream",
     "text": [
      "from memory 349 998\n",
      "\n",
      "290.9385790246518 356.9094304460325\n",
      "all good\n",
      "from memory 349 996\n",
      "\n",
      "296.3298171268298 357.96158290689925\n",
      "all good\n",
      "from memory 343 997\n"
     ]
    },
    {
     "name": "stderr",
     "output_type": "stream",
     "text": [
      "\n",
      "\n",
      "\n",
      "\n",
      "t:  92%|█████████▏| 1164/1260 [01:51<00:09, 10.59it/s, now=None]\u001b[A\u001b[A\u001b[A\u001b[A\n",
      "\n",
      "\n",
      "\n",
      "t:  93%|█████████▎| 1166/1260 [01:51<00:08, 10.68it/s, now=None]\u001b[A\u001b[A\u001b[A\u001b[A"
     ]
    },
    {
     "name": "stdout",
     "output_type": "stream",
     "text": [
      "\n",
      "297.6064149056258 365.89763434049814\n",
      "all good\n",
      "from memory 342 1005\n",
      "\n",
      "304.47976261909037 358.7786997385974\n",
      "all good\n",
      "from memory 335 998\n",
      "\n",
      "298.24765977096615 360.36178815966787\n",
      "all good\n"
     ]
    },
    {
     "name": "stderr",
     "output_type": "stream",
     "text": [
      "\n",
      "\n",
      "\n",
      "\n",
      "t:  93%|█████████▎| 1168/1260 [01:51<00:08, 10.97it/s, now=None]\u001b[A\u001b[A\u001b[A\u001b[A"
     ]
    },
    {
     "name": "stdout",
     "output_type": "stream",
     "text": [
      "from memory 341 1000\n",
      "\n",
      "299.3141175387977 360.76115975834387\n",
      "all good\n",
      "from memory 340 1000\n",
      "\n",
      "305.94968010124455 360.72846495260796\n",
      "all good\n",
      "from memory 334 1000\n",
      "\n",
      "305.8543549871806 347.851587152197\n",
      "all good\n"
     ]
    },
    {
     "name": "stderr",
     "output_type": "stream",
     "text": [
      "\n",
      "\n",
      "\n",
      "\n",
      "t:  93%|█████████▎| 1170/1260 [01:52<00:08, 10.67it/s, now=None]\u001b[A\u001b[A\u001b[A\u001b[A"
     ]
    },
    {
     "name": "stdout",
     "output_type": "stream",
     "text": [
      "from memory 334 987\n",
      "\n",
      "302.07514725684223 348.7364532373772\n",
      "all good\n",
      "from memory 337 988\n",
      "\n",
      "306.5138065003905 351.64023718254293\n",
      "all good\n",
      "from memory 333 991\n",
      "\n",
      "307.0257135531916 351.50440109816736\n",
      "all good\n"
     ]
    },
    {
     "name": "stderr",
     "output_type": "stream",
     "text": [
      "\n",
      "\n",
      "\n",
      "\n",
      "t:  93%|█████████▎| 1172/1260 [01:52<00:08, 10.83it/s, now=None]\u001b[A\u001b[A\u001b[A\u001b[A\n",
      "\n",
      "\n",
      "\n",
      "t:  93%|█████████▎| 1174/1260 [01:52<00:07, 10.79it/s, now=None]\u001b[A\u001b[A\u001b[A\u001b[A"
     ]
    },
    {
     "name": "stdout",
     "output_type": "stream",
     "text": [
      "from memory 332 991\n",
      "\n",
      "305.83111058069596 351.0321657218908\n",
      "all good\n",
      "from memory 334 991\n",
      "\n",
      "310.7847010585757 356.5221400163497\n",
      "all good\n",
      "from memory 329 996\n",
      "\n",
      "305.50766432724305 357.46495566393787\n",
      "all good\n"
     ]
    },
    {
     "name": "stderr",
     "output_type": "stream",
     "text": [
      "\n",
      "\n",
      "\n",
      "\n",
      "t:  93%|█████████▎| 1176/1260 [01:52<00:07, 10.82it/s, now=None]\u001b[A\u001b[A\u001b[A\u001b[A\n",
      "\n",
      "\n",
      "\n",
      "t:  93%|█████████▎| 1178/1260 [01:52<00:07, 11.15it/s, now=None]"
     ]
    },
    {
     "name": "stdout",
     "output_type": "stream",
     "text": [
      "from memory 334 997\n",
      "\n",
      "301.3063761149588 358.1866323624041\n",
      "all good\n",
      "from memory 338 998\n",
      "\n",
      "297.49059801892685 355.48290578577974\n",
      "all good\n",
      "from memory 342 995\n",
      "\n",
      "295.66321131845575 354.75204801219184\n",
      "all good\n"
     ]
    },
    {
     "name": "stderr",
     "output_type": "stream",
     "text": [
      "\u001b[A\u001b[A\u001b[A\u001b[A\n",
      "\n",
      "\n",
      "\n",
      "t:  94%|█████████▎| 1180/1260 [01:52<00:07, 11.28it/s, now=None]\u001b[A\u001b[A\u001b[A\u001b[A"
     ]
    },
    {
     "name": "stdout",
     "output_type": "stream",
     "text": [
      "from memory 344 994\n",
      "\n",
      "295.3992556640405 351.2924831563\n",
      "all good\n",
      "from memory 344 991\n",
      "\n",
      "291.75122911040614 350.52405747942396\n",
      "all good\n",
      "from memory 348 990\n"
     ]
    },
    {
     "name": "stderr",
     "output_type": "stream",
     "text": [
      "\n",
      "\n",
      "\n",
      "\n",
      "t:  94%|█████████▍| 1182/1260 [01:53<00:07, 10.79it/s, now=None]\u001b[A\u001b[A\u001b[A\u001b[A"
     ]
    },
    {
     "name": "stdout",
     "output_type": "stream",
     "text": [
      "\n",
      "292.0804053171517 351.324255448985\n",
      "all good\n",
      "from memory 347 991\n",
      "\n",
      "287.6804730838141 355.9158129279109\n",
      "all good\n",
      "from memory 352 995\n",
      "\n",
      "287.56865861678966 359.58038958903876\n",
      "all good\n"
     ]
    },
    {
     "name": "stderr",
     "output_type": "stream",
     "text": [
      "\n",
      "\n",
      "\n",
      "\n",
      "t:  94%|█████████▍| 1184/1260 [01:53<00:07, 10.66it/s, now=None]\u001b[A\u001b[A\u001b[A\u001b[A\n",
      "\n",
      "\n",
      "\n",
      "t:  94%|█████████▍| 1186/1260 [01:53<00:06, 11.05it/s, now=None]\u001b[A\u001b[A\u001b[A\u001b[A"
     ]
    },
    {
     "name": "stdout",
     "output_type": "stream",
     "text": [
      "from memory 352 999\n",
      "\n",
      "285.7555052781664 361.7349441821532\n",
      "all good\n",
      "from memory 354 1001\n",
      "\n",
      "286.4647816905991 364.62236919300994\n",
      "all good\n",
      "from memory 353 1004\n",
      "\n",
      "278.3634154880076 365.62281444899486\n",
      "all good\n"
     ]
    },
    {
     "name": "stderr",
     "output_type": "stream",
     "text": [
      "\n",
      "\n",
      "\n",
      "\n",
      "t:  94%|█████████▍| 1188/1260 [01:53<00:06, 11.31it/s, now=None]\u001b[A\u001b[A\u001b[A\u001b[A"
     ]
    },
    {
     "name": "stdout",
     "output_type": "stream",
     "text": [
      "from memory 361 1005\n",
      "\n",
      "278.238784924857 381.0478440033197\n",
      "all good\n",
      "from memory 361 1021\n",
      "\n",
      "274.8605498218894 370.88190011233917\n",
      "all good\n",
      "from memory 365 1010\n",
      "\n",
      "272.93595636395594 375.5766458753824\n",
      "all good\n"
     ]
    },
    {
     "name": "stderr",
     "output_type": "stream",
     "text": [
      "\n",
      "\n",
      "\n",
      "\n",
      "t:  94%|█████████▍| 1190/1260 [01:53<00:06, 11.32it/s, now=None]\u001b[A\u001b[A\u001b[A\u001b[A"
     ]
    },
    {
     "name": "stdout",
     "output_type": "stream",
     "text": [
      "from memory 367 1015\n",
      "\n",
      "275.4478312207116 375.62970773345626\n",
      "all good\n",
      "from memory 364 1015\n",
      "\n",
      "270.30611051826656 366.3306982472327\n",
      "all good\n",
      "from memory 369 1006\n"
     ]
    },
    {
     "name": "stderr",
     "output_type": "stream",
     "text": [
      "\n",
      "\n",
      "\n",
      "\n",
      "t:  95%|█████████▍| 1192/1260 [01:53<00:06, 11.00it/s, now=None]\u001b[A\u001b[A\u001b[A\u001b[A"
     ]
    },
    {
     "name": "stdout",
     "output_type": "stream",
     "text": [
      "\n",
      "271.94859528986285 365.5652022281338\n",
      "all good\n",
      "from memory 368 1005\n",
      "\n",
      "270.39416424095054 369.0021702747746\n",
      "all good\n",
      "from memory 369 1009\n",
      "\n",
      "269.25645193238336 368.17652295352934\n",
      "all good\n"
     ]
    },
    {
     "name": "stderr",
     "output_type": "stream",
     "text": [
      "\n",
      "\n",
      "\n",
      "\n",
      "t:  95%|█████████▍| 1194/1260 [01:54<00:06, 10.79it/s, now=None]\u001b[A\u001b[A\u001b[A\u001b[A\n",
      "\n",
      "\n",
      "\n",
      "t:  95%|█████████▍| 1196/1260 [01:54<00:05, 10.70it/s, now=None]\u001b[A\u001b[A\u001b[A\u001b[A"
     ]
    },
    {
     "name": "stdout",
     "output_type": "stream",
     "text": [
      "from memory 370 1008\n",
      "\n",
      "273.51850676761535 370.1515864404705\n",
      "all good\n",
      "from memory 366 1010\n",
      "\n",
      "274.60532824055133 368.577058827314\n",
      "all good\n",
      "from memory 365 1008\n",
      "\n",
      "270.2741427545456 365.5099569509456\n",
      "all good\n"
     ]
    },
    {
     "name": "stderr",
     "output_type": "stream",
     "text": [
      "\n",
      "\n",
      "\n",
      "\n",
      "t:  95%|█████████▌| 1198/1260 [01:54<00:05, 10.91it/s, now=None]\u001b[A\u001b[A\u001b[A\u001b[A\n",
      "\n",
      "\n",
      "\n",
      "t:  95%|█████████▌| 1200/1260 [01:54<00:05, 11.20it/s, now=None]\u001b[A\u001b[A\u001b[A\u001b[A"
     ]
    },
    {
     "name": "stdout",
     "output_type": "stream",
     "text": [
      "from memory 369 1005\n",
      "\n",
      "269.82302433757604 365.6978862556889\n",
      "all good\n",
      "from memory 370 1005\n",
      "\n",
      "272.1900326542536 370.48257623060624\n",
      "all good\n",
      "from memory 367 1010\n",
      "\n",
      "275.3232251953358 373.86459825830343\n",
      "all good\n"
     ]
    },
    {
     "name": "stderr",
     "output_type": "stream",
     "text": [
      "\n",
      "\n",
      "\n",
      "\n",
      "t:  95%|█████████▌| 1202/1260 [01:54<00:05, 11.08it/s, now=None]\u001b[A\u001b[A\u001b[A\u001b[A"
     ]
    },
    {
     "name": "stdout",
     "output_type": "stream",
     "text": [
      "from memory 364 1013\n",
      "\n",
      "280.2130837861445 380.16240248330223\n",
      "all good\n",
      "from memory 359 1020\n",
      "\n",
      "279.3184727520077 403.7075703711\n",
      "all good\n"
     ]
    },
    {
     "name": "stderr",
     "output_type": "stream",
     "text": [
      "\n",
      "\n",
      "\n",
      "\n",
      "t:  96%|█████████▌| 1204/1260 [01:55<00:05, 10.26it/s, now=None]\u001b[A\u001b[A\u001b[A\u001b[A"
     ]
    },
    {
     "name": "stdout",
     "output_type": "stream",
     "text": [
      "from memory 360 1043\n",
      "\n",
      "279.0616169492955 404.29366127373214\n",
      "all good\n",
      "from memory 360 1044\n",
      "\n",
      "276.21684969155837 387.8588678922333\n",
      "all good\n",
      "from memory 363 1027\n",
      "\n"
     ]
    },
    {
     "name": "stderr",
     "output_type": "stream",
     "text": [
      "\n",
      "\n",
      "\n",
      "\n",
      "t:  96%|█████████▌| 1206/1260 [01:55<00:05, 10.36it/s, now=None]\u001b[A\u001b[A\u001b[A\u001b[A"
     ]
    },
    {
     "name": "stdout",
     "output_type": "stream",
     "text": [
      "273.7401302599846 385.1705733057554\n",
      "all good\n",
      "from memory 366 1025\n",
      "\n",
      "265.71808274028103 384.3837751965673\n",
      "all good\n",
      "from memory 374 1024\n",
      "\n",
      "265.5355627081573 383.2052476059822\n",
      "all good\n"
     ]
    },
    {
     "name": "stderr",
     "output_type": "stream",
     "text": [
      "\n",
      "\n",
      "\n",
      "\n",
      "t:  96%|█████████▌| 1208/1260 [01:55<00:04, 10.42it/s, now=None]\u001b[A\u001b[A\u001b[A\u001b[A\n",
      "\n",
      "\n",
      "\n",
      "t:  96%|█████████▌| 1210/1260 [01:55<00:04, 10.94it/s, now=None]\u001b[A\u001b[A\u001b[A\u001b[A"
     ]
    },
    {
     "name": "stdout",
     "output_type": "stream",
     "text": [
      "from memory 374 1023\n",
      "\n",
      "262.69717193945525 382.07902152385145\n",
      "all good\n",
      "from memory 377 1022\n",
      "\n",
      "262.9932447420105 376.12902434678233\n",
      "all good\n",
      "from memory 377 1016\n",
      "\n",
      "270.26722190257607 382.9159974466975\n",
      "all good\n"
     ]
    },
    {
     "name": "stderr",
     "output_type": "stream",
     "text": [
      "\n",
      "\n",
      "\n",
      "\n",
      "t:  96%|█████████▌| 1212/1260 [01:55<00:04, 10.96it/s, now=None]\u001b[A\u001b[A\u001b[A\u001b[A"
     ]
    },
    {
     "name": "stdout",
     "output_type": "stream",
     "text": [
      "from memory 369 1022\n",
      "\n",
      "263.0409939898964 366.45503709030174\n",
      "all good\n",
      "from memory 376 1006\n",
      "\n",
      "266.0215998350064 366.0351518292272\n",
      "all good\n",
      "from memory 373 1006\n",
      "\n",
      "265.90470316994504 360.69023831938307\n",
      "all good\n"
     ]
    },
    {
     "name": "stderr",
     "output_type": "stream",
     "text": [
      "\n",
      "\n",
      "\n",
      "\n",
      "t:  96%|█████████▋| 1214/1260 [01:56<00:04, 10.79it/s, now=None]\u001b[A\u001b[A\u001b[A\u001b[A\n",
      "\n",
      "\n",
      "\n",
      "t:  97%|█████████▋| 1216/1260 [01:56<00:03, 11.11it/s, now=None]\u001b[A\u001b[A\u001b[A\u001b[A"
     ]
    },
    {
     "name": "stdout",
     "output_type": "stream",
     "text": [
      "from memory 374 1000\n",
      "\n",
      "261.484386941028 364.55419046141446\n",
      "all good\n",
      "from memory 378 1004\n",
      "\n",
      "260.3659849736139 369.05750240094665\n",
      "all good\n",
      "from memory 379 1009\n",
      "\n",
      "261.49754866489843 373.0806945464574\n",
      "all good\n"
     ]
    },
    {
     "name": "stderr",
     "output_type": "stream",
     "text": [
      "\n",
      "\n",
      "\n",
      "\n",
      "t:  97%|█████████▋| 1218/1260 [01:56<00:03, 11.25it/s, now=None]\u001b[A\u001b[A\u001b[A\u001b[A"
     ]
    },
    {
     "name": "stdout",
     "output_type": "stream",
     "text": [
      "from memory 378 1013\n",
      "\n",
      "263.66666923899845 377.0795379470352\n",
      "all good\n",
      "from memory 376 1017\n",
      "\n",
      "264.62300827001616 377.3657806592662\n",
      "all good\n",
      "from memory 375 1017\n",
      "\n",
      "268.951960176013 378.2404747163109\n",
      "all good\n"
     ]
    },
    {
     "name": "stderr",
     "output_type": "stream",
     "text": [
      "\n",
      "\n",
      "\n",
      "\n",
      "t:  97%|█████████▋| 1220/1260 [01:56<00:03, 10.93it/s, now=None]\u001b[A\u001b[A\u001b[A\u001b[A"
     ]
    },
    {
     "name": "stdout",
     "output_type": "stream",
     "text": [
      "from memory 371 1018\n",
      "\n",
      "269.894100225495 386.0305561945222\n",
      "all good\n",
      "from memory 370 1026\n",
      "\n",
      "268.2684761731742 376.65733375287937\n",
      "all good\n",
      "from memory 371 1016\n",
      "\n",
      "266.47785589841783 385.33892976365496\n",
      "all good\n"
     ]
    },
    {
     "name": "stderr",
     "output_type": "stream",
     "text": [
      "\n",
      "\n",
      "\n",
      "\n",
      "t:  97%|█████████▋| 1222/1260 [01:56<00:03, 11.11it/s, now=None]\u001b[A\u001b[A\u001b[A\u001b[A\n",
      "\n",
      "\n",
      "\n",
      "t:  97%|█████████▋| 1224/1260 [01:56<00:03, 10.60it/s, now=None]\u001b[A\u001b[A\u001b[A\u001b[A"
     ]
    },
    {
     "name": "stdout",
     "output_type": "stream",
     "text": [
      "from memory 373 1025\n",
      "\n",
      "268.60544784421984 394.35238652234693\n",
      "all good\n",
      "from memory 371 1034\n",
      "\n",
      "256.5942931576308 385.55873081665527\n",
      "all good\n"
     ]
    },
    {
     "name": "stderr",
     "output_type": "stream",
     "text": [
      "\n",
      "\n",
      "\n",
      "\n",
      "t:  97%|█████████▋| 1226/1260 [01:57<00:03, 10.36it/s, now=None]\u001b[A\u001b[A\u001b[A\u001b[A"
     ]
    },
    {
     "name": "stdout",
     "output_type": "stream",
     "text": [
      "from memory 383 1025\n",
      "\n",
      "255.3129635115415 377.65686680549425\n",
      "all good\n",
      "from memory 384 1017\n",
      "\n",
      "253.26248638262058 382.9740008480528\n",
      "all good\n",
      "from memory 386 1022\n"
     ]
    },
    {
     "name": "stderr",
     "output_type": "stream",
     "text": [
      "\n",
      "\n",
      "\n",
      "\n",
      "t:  97%|█████████▋| 1228/1260 [01:57<00:03, 10.19it/s, now=None]\u001b[A\u001b[A\u001b[A\u001b[A"
     ]
    },
    {
     "name": "stdout",
     "output_type": "stream",
     "text": [
      "\n",
      "252.87248852978814 383.8398753107979\n",
      "all good\n",
      "from memory 387 1023\n",
      "\n",
      "251.59816814644466 386.7527141502883\n",
      "all good\n",
      "from memory 388 1026\n",
      "\n"
     ]
    },
    {
     "name": "stderr",
     "output_type": "stream",
     "text": [
      "\n",
      "\n",
      "\n",
      "\n",
      "t:  98%|█████████▊| 1230/1260 [01:57<00:02, 10.43it/s, now=None]\u001b[A\u001b[A\u001b[A\u001b[A"
     ]
    },
    {
     "name": "stdout",
     "output_type": "stream",
     "text": [
      "257.9129461927147 387.81495695849003\n",
      "all good\n",
      "from memory 382 1027\n",
      "\n",
      "262.9865801656946 390.16712444281393\n",
      "all good\n",
      "from memory 377 1030\n",
      "\n",
      "262.89857317814085 395.1910827364204\n",
      "all good\n"
     ]
    },
    {
     "name": "stderr",
     "output_type": "stream",
     "text": [
      "\n",
      "\n",
      "\n",
      "\n",
      "t:  98%|█████████▊| 1232/1260 [01:57<00:02, 10.62it/s, now=None]\u001b[A\u001b[A\u001b[A\u001b[A"
     ]
    },
    {
     "name": "stdout",
     "output_type": "stream",
     "text": [
      "from memory 377 1035\n",
      "\n",
      "262.4173081883433 398.2848298159488\n",
      "all good\n",
      "from memory 377 1038\n",
      "\n",
      "263.2485793351826 391.97052472570135\n",
      "all good\n",
      "from memory 376 1031\n"
     ]
    },
    {
     "name": "stderr",
     "output_type": "stream",
     "text": [
      "\n",
      "\n",
      "\n",
      "\n",
      "t:  98%|█████████▊| 1234/1260 [01:57<00:02, 10.54it/s, now=None]\u001b[A\u001b[A\u001b[A\u001b[A"
     ]
    },
    {
     "name": "stdout",
     "output_type": "stream",
     "text": [
      "\n",
      "264.0688810451446 392.7514196265379\n",
      "all good\n",
      "from memory 375 1032\n",
      "\n",
      "256.12241363321414 380.0526759994168\n",
      "all good\n",
      "from memory 383 1020\n"
     ]
    },
    {
     "name": "stderr",
     "output_type": "stream",
     "text": [
      "\n",
      "\n",
      "\n",
      "\n",
      "t:  98%|█████████▊| 1236/1260 [01:58<00:02, 10.43it/s, now=None]\u001b[A\u001b[A\u001b[A\u001b[A"
     ]
    },
    {
     "name": "stdout",
     "output_type": "stream",
     "text": [
      "\n",
      "254.72374745401532 383.1240128811007\n",
      "all good\n",
      "from memory 385 1023\n",
      "\n",
      "251.6253635091128 383.51484180518537\n",
      "all good\n",
      "from memory 388 1023\n"
     ]
    },
    {
     "name": "stderr",
     "output_type": "stream",
     "text": [
      "\n",
      "\n",
      "\n",
      "\n",
      "t:  98%|█████████▊| 1238/1260 [01:58<00:02, 10.10it/s, now=None]\u001b[A\u001b[A\u001b[A\u001b[A"
     ]
    },
    {
     "name": "stdout",
     "output_type": "stream",
     "text": [
      "\n",
      "256.77184039875215 388.6927255823982\n",
      "all good\n",
      "from memory 383 1028\n",
      "\n",
      "255.54804673064638 393.0716117703596\n",
      "all good\n",
      "from memory 384 1033\n"
     ]
    },
    {
     "name": "stderr",
     "output_type": "stream",
     "text": [
      "\n",
      "\n",
      "\n",
      "\n",
      "t:  98%|█████████▊| 1240/1260 [01:58<00:02,  9.97it/s, now=None]\u001b[A\u001b[A\u001b[A\u001b[A"
     ]
    },
    {
     "name": "stdout",
     "output_type": "stream",
     "text": [
      "\n",
      "256.987698334759 391.33326077876245\n",
      "all good\n",
      "from memory 383 1031\n",
      "\n",
      "256.7679763295264 393.5786332550588\n",
      "all good\n",
      "from memory 383 1033\n",
      "\n",
      "254.31150641824854 395.0820013207601\n",
      "all good\n"
     ]
    },
    {
     "name": "stderr",
     "output_type": "stream",
     "text": [
      "\n",
      "\n",
      "\n",
      "\n",
      "t:  99%|█████████▊| 1242/1260 [01:58<00:01, 10.17it/s, now=None]\u001b[A\u001b[A\u001b[A\u001b[A\n",
      "\n",
      "\n",
      "\n",
      "t:  99%|█████████▊| 1244/1260 [01:58<00:01, 10.02it/s, now=None]\u001b[A\u001b[A\u001b[A\u001b[A"
     ]
    },
    {
     "name": "stdout",
     "output_type": "stream",
     "text": [
      "from memory 385 1035\n",
      "\n",
      "256.13489248528475 403.46933369473754\n",
      "all good\n",
      "from memory 383 1043\n",
      "\n",
      "254.77154342310706 416.1039745560138\n",
      "all good\n"
     ]
    },
    {
     "name": "stderr",
     "output_type": "stream",
     "text": [
      "\n",
      "\n",
      "\n",
      "\n",
      "t:  99%|█████████▉| 1246/1260 [01:59<00:01, 10.20it/s, now=None]\u001b[A\u001b[A\u001b[A\u001b[A"
     ]
    },
    {
     "name": "stdout",
     "output_type": "stream",
     "text": [
      "from memory 385 1056\n",
      "\n",
      "248.57935723047513 448.8153681732733\n",
      "all good\n",
      "from memory 391 1088\n",
      "\n",
      "244.62141747176037 446.45463448400596\n",
      "all good\n",
      "from memory 395 1086\n",
      "\n"
     ]
    },
    {
     "name": "stderr",
     "output_type": "stream",
     "text": [
      "\n",
      "\n",
      "\n",
      "\n",
      "t:  99%|█████████▉| 1248/1260 [01:59<00:01, 10.16it/s, now=None]\u001b[A\u001b[A\u001b[A\u001b[A"
     ]
    },
    {
     "name": "stdout",
     "output_type": "stream",
     "text": [
      "244.5475781478779 405.5079836577065\n",
      "all good\n",
      "from memory 395 1045\n",
      "\n",
      "242.18966551767028 401.47427789893663\n",
      "all good\n",
      "from memory 397 1041\n",
      "\n",
      "238.6162736454877 402.84464596608564\n",
      "all good\n"
     ]
    },
    {
     "name": "stderr",
     "output_type": "stream",
     "text": [
      "\n",
      "\n",
      "\n",
      "\n",
      "t:  99%|█████████▉| 1250/1260 [01:59<00:00, 10.44it/s, now=None]\u001b[A\u001b[A\u001b[A\u001b[A"
     ]
    },
    {
     "name": "stdout",
     "output_type": "stream",
     "text": [
      "from memory 401 1042\n",
      "\n",
      "244.73951992322742 403.55648775632926\n",
      "all good\n",
      "from memory 395 1043\n",
      "\n",
      "239.07118184687107 401.128601697917\n",
      "all good\n",
      "from memory 400 1041\n"
     ]
    },
    {
     "name": "stderr",
     "output_type": "stream",
     "text": [
      "\n",
      "\n",
      "\n",
      "\n",
      "t:  99%|█████████▉| 1252/1260 [01:59<00:00, 10.42it/s, now=None]\u001b[A\u001b[A\u001b[A\u001b[A"
     ]
    },
    {
     "name": "stdout",
     "output_type": "stream",
     "text": [
      "\n",
      "243.20416385953547 404.0153124685012\n",
      "all good\n",
      "from memory 396 1044\n",
      "\n",
      "247.8756902181193 403.16337429339274\n",
      "all good\n",
      "from memory 392 1043\n",
      "\n"
     ]
    },
    {
     "name": "stderr",
     "output_type": "stream",
     "text": [
      "\n",
      "\n",
      "\n",
      "\n",
      "t: 100%|█████████▉| 1254/1260 [01:59<00:00, 10.31it/s, now=None]\u001b[A\u001b[A\u001b[A\u001b[A"
     ]
    },
    {
     "name": "stdout",
     "output_type": "stream",
     "text": [
      "244.2420039733089 466.005303603853\n",
      "all good\n",
      "from memory 395 1106\n",
      "\n",
      "247.7187782432801 465.79233577446166\n",
      "all good\n",
      "from memory 392 1105\n",
      "\n",
      "254.27032060947488 471.987926490458\n",
      "all good\n"
     ]
    },
    {
     "name": "stderr",
     "output_type": "stream",
     "text": [
      "\n",
      "\n",
      "\n",
      "\n",
      "t: 100%|█████████▉| 1256/1260 [02:00<00:00, 10.20it/s, now=None]\u001b[A\u001b[A\u001b[A\u001b[A\n",
      "\n",
      "\n",
      "\n",
      "t: 100%|█████████▉| 1258/1260 [02:00<00:00, 10.40it/s, now=None]\u001b[A\u001b[A\u001b[A\u001b[A"
     ]
    },
    {
     "name": "stdout",
     "output_type": "stream",
     "text": [
      "from memory 385 1111\n",
      "\n",
      "255.7675505068981 416.67900051111496\n",
      "all good\n",
      "from memory 384 1056\n",
      "\n",
      "256.90929569822964 411.71587597115695\n",
      "all good\n",
      "from memory 383 1051\n",
      "\n",
      "253.68991578916535 407.64494536600137\n",
      "all good\n"
     ]
    },
    {
     "name": "stderr",
     "output_type": "stream",
     "text": [
      "\n",
      "\n",
      "\n",
      "\n",
      "t: 100%|██████████| 1260/1260 [02:00<00:00, 10.55it/s, now=None]\u001b[A\u001b[A\u001b[A\u001b[A\n",
      "\n",
      "\n",
      "\n",
      "                                                                \u001b[A\u001b[A\u001b[A\u001b[A"
     ]
    },
    {
     "name": "stdout",
     "output_type": "stream",
     "text": [
      "from memory 386 1047\n",
      "\n",
      "256.3108526722044 403.83294457870716\n",
      "all good\n",
      "from memory 383 1043\n",
      "\n",
      "256.9835071792553 401.6481554029606\n",
      "all good\n"
     ]
    },
    {
     "name": "stderr",
     "output_type": "stream",
     "text": [
      "                                                              \n",
      "\n",
      "\n",
      "\u001b[A\u001b[A\u001b[A                                                     \n",
      "\u001b[A                                                           \n",
      "\n",
      "t:  31%|███       | 151/485 [49:49<00:27, 12.37it/s, now=None]\n",
      "\n",
      "\n",
      "t:  31%|███       | 151/485 [34:19<00:26, 12.82it/s, now=None]\u001b[A\u001b[A\u001b[A\n",
      "t:  31%|███       | 151/485 [40:26<00:27, 12.00it/s, now=None]\u001b[A\n",
      "\n",
      "                                                              \u001b[A\u001b[A\n",
      "\n",
      "\n",
      "\u001b[A\u001b[A\u001b[A                                                     \n",
      "\u001b[A                                                           \n",
      "\n",
      "t:  31%|███       | 151/485 [49:49<00:27, 12.37it/s, now=None]\n",
      "\n",
      "\n",
      "t:  31%|███       | 151/485 [34:19<00:26, 12.82it/s, now=None]\u001b[A\u001b[A\u001b[A\n",
      "t:  31%|███       | 151/485 [40:26<00:27, 12.00it/s, now=None]\u001b[A\n",
      "\n",
      "t:  31%|███       | 151/485 [39:08<00:31, 10.46it/s, now=None]\u001b[A\u001b[A"
     ]
    },
    {
     "name": "stdout",
     "output_type": "stream",
     "text": [
      "Moviepy - Done !\n",
      "Moviepy - video ready project_video_output.mp4\n",
      "CPU times: user 2min 32s, sys: 11.6 s, total: 2min 44s\n",
      "Wall time: 2min 1s\n"
     ]
    }
   ],
   "source": [
    "from moviepy.editor import VideoFileClip\n",
    "from IPython.display import HTML\n",
    "\n",
    "white_output = 'project_video_output.mp4'\n",
    "\n",
    "#readign the first 5 seconds of the video\n",
    "clip1 = VideoFileClip(\"project_video.mp4\")#.subclip(20,30) \n",
    "white_clip = clip1.fl_image(process_image) \n",
    "%time white_clip.write_videofile(white_output, audio=False)"
   ]
  },
  {
   "cell_type": "code",
   "execution_count": null,
   "metadata": {},
   "outputs": [],
   "source": []
  }
 ],
 "metadata": {
  "kernelspec": {
   "display_name": "Python 3",
   "language": "python",
   "name": "python3"
  },
  "language_info": {
   "codemirror_mode": {
    "name": "ipython",
    "version": 3
   },
   "file_extension": ".py",
   "mimetype": "text/x-python",
   "name": "python",
   "nbconvert_exporter": "python",
   "pygments_lexer": "ipython3",
   "version": "3.6.9"
  }
 },
 "nbformat": 4,
 "nbformat_minor": 4
}
