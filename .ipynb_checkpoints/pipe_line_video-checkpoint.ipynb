{
 "cells": [
  {
   "cell_type": "code",
   "execution_count": null,
   "metadata": {},
   "outputs": [],
   "source": [
    "\n"
   ]
  },
  {
   "cell_type": "code",
   "execution_count": 3,
   "metadata": {},
   "outputs": [],
   "source": [
    "import cv2\n",
    "import os\n",
    "import pickle\n",
    "import numpy as np\n",
    "import matplotlib.image as mpimg\n",
    "import matplotlib.pyplot as plt \n",
    "\n",
    "\n",
    "# Define a class to receive the characteristics of each line detection\n",
    "class Line():\n",
    "    def __init__(self):\n",
    "        # was the line detected in the last iteration?\n",
    "        self.detected = False  \n",
    "        # x values of the last n fits of the line\n",
    "        self.recent_xfitted = [] \n",
    "        #average x values of the fitted line over the last n iterations\n",
    "        self.bestx = None     \n",
    "        #base\n",
    "        self.base = None\n",
    "        #polynomial coefficients averaged over the last n iterations\n",
    "        self.best_fit = None  \n",
    "        #polynomial coefficients for the most recent fit\n",
    "        self.current_fit = [np.array([False])]  \n",
    "        #radius of curvature of the line in some units\n",
    "        self.radius_of_curvature = None \n",
    "        #distance in pixels of vehicle center from the line\n",
    "        self.line_base_pos = None \n",
    "        #difference in fit coefficients between last and new fits\n",
    "        self.diffs = np.array([0,0,0], dtype='float') \n",
    "        #x values for detected line pixels\n",
    "        self.allx = None  \n",
    "        #y values for detected line pixels\n",
    "        self.ally = None  "
   ]
  },
  {
   "cell_type": "code",
   "execution_count": 15,
   "metadata": {},
   "outputs": [],
   "source": [
    "# Creating objects for left and right lines\n",
    "left_line = Line()\n",
    "right_line = Line()\n",
    "\n",
    "# Reading the saved camera matrix and distortion coefficients\n",
    "cam_pickle = pickle.load( open( \"camera_parameters.pickle\", \"rb\") ) \n",
    "mtx = cam_pickle[0]\n",
    "dist = cam_pickle[1]\n",
    "\n",
    "# Reading perspective transformation\n",
    "M_pickle = pickle.load( open( \"p_transformation.pickle\", \"rb\") ) \n",
    "M = M_pickle[0]\n",
    "Minv = M_pickle[1]\n",
    "\n",
    "def extract_lanes (img, lightness_th = 210, hue_th = (20, 30), sobelx_th=(30, 100)): \n",
    "    \n",
    "    # Convert to HLS color space and separate the S and H channel \n",
    "    hls = cv2.cvtColor(img, cv2.COLOR_RGB2HLS)\n",
    "    l_channel = hls[:,:,1]\n",
    "    h_channel = hls[:,:,0]\n",
    "    s_channel = hls[:,:,2]\n",
    "    \n",
    "    # white color has a very high saturation\n",
    "    binary_l = np.zeros_like(l_channel)\n",
    "    binary_l[(l_channel >= lightness_th)] = 1\n",
    "    \n",
    "    # yellow color has a H between 20 and 30 \n",
    "    binary_h = np.zeros_like(h_channel)\n",
    "    binary_h[(h_channel <= hue_th[1]) & (h_channel >= hue_th[0])] = 1   #30-20\n",
    "           \n",
    "    # checking for gradient in x and y in the saturation channel  \n",
    "    sobel_x = cv2.Sobel(s_channel, cv2.CV_64F, 1, 0, 5) # x direction\n",
    "    sobel_y = cv2.Sobel(s_channel, cv2.CV_64F, 0, 1, 5) # y direction \n",
    "    \n",
    "    # scalating the gradients\n",
    "    abs_sobel_x = np.absolute(sobel_x)\n",
    "    scaled_sobel_x = np.uint8(255*abs_sobel_x/np.max(abs_sobel_x))   \n",
    "    abs_sobel_y = np.absolute(sobel_y)\n",
    "    scaled_sobel_y = np.uint8(255*abs_sobel_y/np.max(abs_sobel_y))\n",
    "    \n",
    "    # applying threshold in x direction \n",
    "    binary_x = np.zeros_like(scaled_sobel_x)\n",
    "    binary_x[(scaled_sobel_x > sobelx_th[0]) & (scaled_sobel_x < sobelx_th[1])] = 1\n",
    "        \n",
    "    # Combine the three binary thresholds\n",
    "    combined_binary = np.zeros_like(binary_l)\n",
    "    combined_binary[(binary_l == 1) | (binary_h == 1) | (binary_x ==1)] = 1\n",
    "       \n",
    "    return combined_binary\n",
    "\n",
    "\n",
    "\n",
    "def find_lane_pixels(binary_warped):\n",
    "    # Create an output image to draw on and visualize the result\n",
    "    out_img = np.dstack((binary_warped, binary_warped, binary_warped))\n",
    "    \n",
    "    #ask if any of the lines hasn't been detected to look for the base points again\n",
    "    if not (left_line.detected and right_line.detected):\n",
    "    # Take a histogram of the bottom half of the image\n",
    "        histogram = np.sum(binary_warped[binary_warped.shape[0]//3:,:], axis=0)        \n",
    "        # Find the peak of the left and right halves of the histogram\n",
    "        # These will be the starting point for the left and right lines\n",
    "        midpoint = np.int(histogram.shape[0]//2)\n",
    "        leftx_base = np.argmax(histogram[:midpoint])\n",
    "        rightx_base = np.argmax(histogram[midpoint:]) + midpoint\n",
    "        \n",
    "        print('from histo', leftx_base, rightx_base)\n",
    "        \n",
    "        \n",
    "        if (leftx_base < 200.0 or leftx_base > 500.0 or rightx_base < 700 or rightx_base > 1170 ):\n",
    "            leftx_base = np.int(left_line.base) \n",
    "            rightx_base = np.int(right_line.base) \n",
    "               \n",
    "       # if (rightx_base - leftx_base > 800):\n",
    "        #    rightx_base = leftx_base + 800\n",
    "      \n",
    "    else : \n",
    "        leftx_base = np.int(left_line.base) \n",
    "        rightx_base = np.int(right_line.base) \n",
    "        \n",
    "        print('from memory', leftx_base, rightx_base)\n",
    "            \n",
    "\n",
    "    # HYPERPARAMETERS\n",
    "    # Choose the number of sliding windows\n",
    "    nwindows = 9\n",
    "    # Set the width of the windows +/- margin\n",
    "    margin = 100\n",
    "    # Set minimum number of pixels found to recenter window\n",
    "    minpix = 50\n",
    "\n",
    "    # Set height of windows - based on nwindows above and image shape\n",
    "    window_height = np.int(binary_warped.shape[0]//nwindows)\n",
    "    # Identify the x and y positions of all nonzero pixels in the image\n",
    "    nonzero = binary_warped.nonzero()\n",
    "    nonzeroy = np.array(nonzero[0])\n",
    "    nonzerox = np.array(nonzero[1])\n",
    "    # Current positions to be updated later for each window in nwindows\n",
    "    leftx_current = leftx_base\n",
    "    rightx_current = rightx_base\n",
    "\n",
    "    # Create empty lists to receive left and right lane pixel indices\n",
    "    left_lane_inds = []\n",
    "    right_lane_inds = []\n",
    "\n",
    "    # Step through the windows one by one\n",
    "    for window in range(nwindows):\n",
    "        # Identify window boundaries in x and y (and right and left)\n",
    "        win_y_low = binary_warped.shape[0] - (window+1)*window_height\n",
    "        win_y_high = binary_warped.shape[0] - window*window_height\n",
    "        win_xleft_low = leftx_current - margin\n",
    "        win_xleft_high = leftx_current + margin\n",
    "        win_xright_low = rightx_current - margin\n",
    "        win_xright_high = rightx_current + margin\n",
    "        \n",
    "        # Draw the windows on the visualization image\n",
    "        cv2.rectangle(out_img,(win_xleft_low,win_y_low),\n",
    "        (win_xleft_high,win_y_high),(0,255,0), 2) \n",
    "        cv2.rectangle(out_img,(win_xright_low,win_y_low),\n",
    "        (win_xright_high,win_y_high),(0,255,0), 2) \n",
    "        \n",
    "        # Identify the nonzero pixels in x and y within the window #\n",
    "        good_left_inds = ((nonzeroy >= win_y_low) & (nonzeroy < win_y_high) & \n",
    "        (nonzerox >= win_xleft_low) &  (nonzerox < win_xleft_high)).nonzero()[0]\n",
    "        good_right_inds = ((nonzeroy >= win_y_low) & (nonzeroy < win_y_high) & \n",
    "        (nonzerox >= win_xright_low) &  (nonzerox < win_xright_high)).nonzero()[0]\n",
    "        \n",
    "        # Append these indices to the lists\n",
    "        left_lane_inds.append(good_left_inds)\n",
    "        right_lane_inds.append(good_right_inds)\n",
    "        \n",
    "        # If you found > minpix pixels, recenter next window on their mean position\n",
    "        if len(good_left_inds) > minpix:\n",
    "            leftx_current = np.int(np.mean(nonzerox[good_left_inds]))\n",
    "        if len(good_right_inds) > minpix:        \n",
    "            rightx_current = np.int(np.mean(nonzerox[good_right_inds]))\n",
    "\n",
    "    # Concatenate the arrays of indices (previously was a list of lists of pixels)\n",
    "    try:\n",
    "        left_lane_inds = np.concatenate(left_lane_inds)\n",
    "        right_lane_inds = np.concatenate(right_lane_inds)\n",
    "    except ValueError:\n",
    "        # Avoids an error if the above is not implemented fully\n",
    "        pass\n",
    "\n",
    "    # Extract left and right line pixel positions\n",
    "    leftx = nonzerox[left_lane_inds]\n",
    "    lefty = nonzeroy[left_lane_inds] \n",
    "    rightx = nonzerox[right_lane_inds]\n",
    "    righty = nonzeroy[right_lane_inds]\n",
    "    \n",
    "    print()\n",
    "\n",
    "    return leftx, lefty, rightx, righty, out_img\n",
    "\n",
    "\n",
    "def fit_polynomial(binary_warped):\n",
    "    \n",
    "    # Find our lane pixels first\n",
    "    leftx, lefty, rightx, righty, out_img = find_lane_pixels(binary_warped)\n",
    "\n",
    "    ym_per_pix = 35/700 # meters per pixel in y dimension\n",
    "    xm_per_pix = 3.7/660 # meters per pixel in x dimension\n",
    "    \n",
    "    # Fit a second order polynomial to each using `np.polyfit`\n",
    "    left_fit = np.polyfit(lefty, leftx, 2)\n",
    "    right_fit = np.polyfit(righty, rightx, 2)\n",
    "    \n",
    "    \n",
    "    left_fit_rw = np.polyfit(lefty*ym_per_pix, leftx*xm_per_pix, 2)\n",
    "    right_fit_rw = np.polyfit(righty*ym_per_pix, rightx*xm_per_pix, 2)\n",
    "    \n",
    "    \n",
    "    # Generate x and y values for plotting\n",
    "    ploty = np.linspace(0, binary_warped.shape[0]-1, binary_warped.shape[0] )\n",
    "    try:\n",
    "        \n",
    "        left_fitx = left_fit[0]*ploty**2 + left_fit[1]*ploty + left_fit[2]\n",
    "        right_fitx = right_fit[0]*ploty**2 + right_fit[1]*ploty + right_fit[2]\n",
    "        left_line.detected = True\n",
    "        right_line.detected = True\n",
    "    except TypeError:\n",
    "        # Avoids an error if `left` and `right_fit` are still none or incorrect\n",
    "        print('The function failed to fit a line!')\n",
    "        left_fitx = left_line.recent_xfitted\n",
    "        right_fitx = right_line.recent_xfitted\n",
    "        left_line.detected = False\n",
    "        right_line.detected = False\n",
    "        \n",
    "    \n",
    "    \n",
    "    #saving x values of the last n fits of the line\n",
    "    left_line.allx =  left_fitx.copy() \n",
    "    right_line.ally = right_fitx.copy()\n",
    "    \n",
    "    # measuring the curvature\n",
    "    y_eval = np.max(ploty)*ym_per_pix\n",
    "    left_curverad = ((1 + (2*left_fit_rw[0]*y_eval+left_fit_rw[1])**2)**(3/2))/(2*left_fit_rw[0])  \n",
    "    right_curverad = ((1 + (2*right_fit_rw[0]*y_eval+right_fit_rw[1])**2)**(3/2))/(2*right_fit_rw[0])    \n",
    "    left_line.radius_of_curvature =  left_curverad \n",
    "    right_line.radius_of_curvature = right_curverad\n",
    "    \n",
    "    # measuring how centered the vehicle is \n",
    "    mploty = np.max(ploty)\n",
    "    left_x = left_fit[0]*mploty**2 + left_fit[1]*mploty + left_fit[2]\n",
    "    right_x = right_fit[0]*mploty**2 + right_fit[1]*mploty + right_fit[2]\n",
    "    deviation = (640 - (0.5 * left_x + 0.5 * right_x)) * xm_per_pix \n",
    "    \n",
    "    #saving distance in pixels of vehicle center from the line and checking for starting position in the image\n",
    "    left_line.line_base_pos =  (640 - left_x)  \n",
    "    right_line.line_base_pos = (right_x - 640)\n",
    "    \n",
    "    print(left_line.line_base_pos, right_line.line_base_pos ) \n",
    "    \n",
    "    if (left_line.line_base_pos < 200.0 or left_line.line_base_pos > 500.0 ):\n",
    "        left_line.detected = False      \n",
    "        \n",
    "    if (right_line.line_base_pos < 200.0 or right_line.line_base_pos > 500.0 ):\n",
    "        right_line.detected = False  \n",
    "        print('right _false detection')\n",
    "     \n",
    "    # good fit, I'm defining a good fit \n",
    "    if (left_line.detected and right_line.detected):\n",
    "        print('all good')\n",
    "        left_line.base = left_x\n",
    "        right_line.base = right_x\n",
    "        left_line.recent_xfitted = left_fitx.copy()\n",
    "        right_line.recent_xfitted = right_fitx.copy()\n",
    "        \n",
    "        \n",
    "                     \n",
    "    # Create an image to draw the lines on\n",
    "    warp_zero = np.zeros_like(binary_warped).astype(np.uint8)\n",
    "    color_warp = np.dstack((warp_zero, warp_zero, warp_zero))\n",
    "    \n",
    "    # Recast the x and y points into usable format for cv2.fillPoly()\n",
    "    pts_left = np.array([np.transpose(np.vstack([left_fitx, ploty]))])\n",
    "    pts_right = np.array([np.flipud(np.transpose(np.vstack([right_fitx, ploty])))])\n",
    "    pts = np.hstack((pts_left, pts_right))\n",
    "    \n",
    "    # Draw the lane onto the warped blank image\n",
    "    cv2.fillPoly(color_warp, np.int_([pts]), (0,255, 0))\n",
    "    \n",
    "    # Colors in the left and right lane regions\n",
    "    color_warp[lefty, leftx] = [255, 0, 0]\n",
    "    color_warp[righty, rightx] = [0, 0, 255]\n",
    "    \n",
    "    return color_warp, left_curverad, right_curverad, deviation\n",
    "    \n",
    "    \n",
    "def process_image(image) : \n",
    "        \n",
    "    #correcting distortion \n",
    "    dst = cv2.undistort(image, mtx, dist, None, mtx)\n",
    "\n",
    "    #extracting lines\n",
    "    lanes = extract_lanes(dst)\n",
    "    \n",
    "    #applying perspective transformation\n",
    "    bird_eye = cv2.warpPerspective(lanes, M,(image.shape[1], image.shape[0]), flags = cv2.INTER_LINEAR)   \n",
    "    \n",
    "    #obtaining the image with the lanes\n",
    "    color_warp, left_curverad, right_curverad, deviation = fit_polynomial(bird_eye)\n",
    "    \n",
    "    # Warp the blank back to original image space using inverse perspective matrix (Minv)\n",
    "    newwarp = cv2.warpPerspective(color_warp, Minv, (image.shape[1], image.shape[0])) \n",
    "    \n",
    "    # Combine the result with the original image\n",
    "    result = cv2.addWeighted(dst, 1, newwarp, 0.3, 0)\n",
    "    \n",
    "    # mean of the curvature\n",
    "    curvature = np.mean ([np.abs(left_curverad), np.abs(right_curverad)])\n",
    "    \n",
    "    # direction left/right\n",
    "    direction = ''\n",
    "    if deviation > 0 : \n",
    "        direction = 'left'\n",
    "    else :\n",
    "        direction = 'right'\n",
    "    \n",
    "    # printing on top of the image\n",
    "    cv2.putText(result,'Radius of Curvature = {:.1f}(m)'.format(curvature),(30,50), cv2.FONT_HERSHEY_SIMPLEX, 2,(255,255,255),2)\n",
    "    cv2.putText(result,'Vehicle is {:.3f} {} of the center'.format(deviation, direction),(30,100), cv2.FONT_HERSHEY_SIMPLEX, 2,(255,255,255),2)\n",
    "    \n",
    "    # saving the image\n",
    "    return result\n",
    "\n"
   ]
  },
  {
   "cell_type": "code",
   "execution_count": 16,
   "metadata": {},
   "outputs": [
    {
     "name": "stderr",
     "output_type": "stream",
     "text": [
      "\r",
      "t:   0%|          | 0/485 [00:00<?, ?it/s, now=None]"
     ]
    },
    {
     "name": "stdout",
     "output_type": "stream",
     "text": [
      "from histo 444 966\n",
      "\n",
      "221.35818364432032 363.945567570433\n",
      "all good\n",
      "Moviepy - Building video challegenge_video_output.mp4.\n",
      "Moviepy - Writing video challegenge_video_output.mp4\n",
      "\n",
      "from memory 418 1003\n",
      "\n",
      "228.28410852900265 390.64797407541437\n",
      "all good\n",
      "from memory 411 1030\n",
      "\n"
     ]
    },
    {
     "name": "stderr",
     "output_type": "stream",
     "text": [
      "t:   1%|          | 4/485 [00:00<00:36, 13.27it/s, now=None]"
     ]
    },
    {
     "name": "stdout",
     "output_type": "stream",
     "text": [
      "242.2957697762115 393.28450326122766\n",
      "all good\n",
      "from memory 397 1033\n",
      "\n",
      "250.62676792305672 383.4570271747584\n",
      "all good\n",
      "from memory 389 1023\n",
      "\n",
      "251.91206996011886 382.8252933910561\n",
      "all good\n"
     ]
    },
    {
     "name": "stderr",
     "output_type": "stream",
     "text": [
      "t:   1%|▏         | 7/485 [00:00<00:42, 11.37it/s, now=None]"
     ]
    },
    {
     "name": "stdout",
     "output_type": "stream",
     "text": [
      "from memory 388 1022\n",
      "\n",
      "254.3433382979929 377.5105564019959\n",
      "all good\n",
      "from memory 385 1017\n",
      "\n",
      "259.867377376773 388.44306686112805\n",
      "all good\n"
     ]
    },
    {
     "name": "stderr",
     "output_type": "stream",
     "text": [
      "t:   2%|▏         | 9/485 [00:00<00:48,  9.73it/s, now=None]"
     ]
    },
    {
     "name": "stdout",
     "output_type": "stream",
     "text": [
      "from memory 380 1028\n",
      "\n",
      "263.04045081369316 390.21915698073417\n",
      "all good\n",
      "from memory 376 1030\n",
      "\n",
      "264.2433980488671 395.0078098482918\n",
      "all good\n"
     ]
    },
    {
     "name": "stderr",
     "output_type": "stream",
     "text": [
      "t:   2%|▏         | 11/485 [00:01<00:54,  8.75it/s, now=None]"
     ]
    },
    {
     "name": "stdout",
     "output_type": "stream",
     "text": [
      "from memory 375 1035\n",
      "\n",
      "263.75196220957673 402.62681847179647\n",
      "all good\n",
      "from memory 376 1042\n",
      "\n",
      "272.9185878696516 402.67279619988767\n",
      "all good\n"
     ]
    },
    {
     "name": "stderr",
     "output_type": "stream",
     "text": [
      "\r",
      "t:   3%|▎         | 13/485 [00:01<00:49,  9.47it/s, now=None]"
     ]
    },
    {
     "name": "stdout",
     "output_type": "stream",
     "text": [
      "from memory 367 1042\n",
      "\n",
      "261.1127709422326 420.81766598581066\n",
      "all good\n",
      "from memory 378 1060\n",
      "\n",
      "253.21462454686178 441.2677773491855\n",
      "all good\n",
      "from memory 386 1081\n",
      "\n",
      "257.2725647817346 453.63950547483455\n",
      "all good\n"
     ]
    },
    {
     "name": "stderr",
     "output_type": "stream",
     "text": [
      "\r",
      "t:   3%|▎         | 15/485 [00:01<00:47,  9.97it/s, now=None]"
     ]
    },
    {
     "name": "stdout",
     "output_type": "stream",
     "text": [
      "from memory 382 1093\n",
      "\n",
      "266.8128803005693 459.2170348977422\n",
      "all good\n"
     ]
    },
    {
     "name": "stderr",
     "output_type": "stream",
     "text": [
      "t:   4%|▎         | 17/485 [00:01<01:06,  7.02it/s, now=None]"
     ]
    },
    {
     "name": "stdout",
     "output_type": "stream",
     "text": [
      "from memory 373 1099\n",
      "\n",
      "253.01978177013132 447.4548484666411\n",
      "all good\n",
      "from memory 386 1087\n",
      "\n",
      "247.20838879930125 466.66703277007014\n",
      "all good\n"
     ]
    },
    {
     "name": "stderr",
     "output_type": "stream",
     "text": [
      "\r",
      "t:   4%|▍         | 19/485 [00:01<00:58,  7.94it/s, now=None]"
     ]
    },
    {
     "name": "stdout",
     "output_type": "stream",
     "text": [
      "from memory 392 1106\n",
      "\n",
      "235.17407089628705 464.2578916316911\n",
      "all good\n",
      "from memory 404 1104\n",
      "\n",
      "227.64794202671987 455.3909664675748\n",
      "all good\n",
      "from memory 412 1095\n",
      "\n",
      "234.23015240188232 433.58533042364616\n",
      "all good\n"
     ]
    },
    {
     "name": "stderr",
     "output_type": "stream",
     "text": [
      "t:   5%|▍         | 22/485 [00:02<00:53,  8.68it/s, now=None]"
     ]
    },
    {
     "name": "stdout",
     "output_type": "stream",
     "text": [
      "from memory 405 1073\n",
      "\n",
      "239.4753921394577 442.9107862281817\n",
      "all good\n",
      "from memory 400 1082\n",
      "\n",
      "231.56676517047072 443.4165292814357\n",
      "all good\n",
      "from memory 408 1083\n",
      "\n"
     ]
    },
    {
     "name": "stderr",
     "output_type": "stream",
     "text": [
      "\r",
      "t:   5%|▍         | 24/485 [00:02<00:48,  9.51it/s, now=None]"
     ]
    },
    {
     "name": "stdout",
     "output_type": "stream",
     "text": [
      "227.7538152020026 444.1699488747695\n",
      "all good\n",
      "from memory 412 1084\n",
      "\n",
      "250.87801713260615 433.13827288350694\n",
      "all good\n",
      "from memory 389 1073\n",
      "\n",
      "239.8877848706216 413.86804702490053\n",
      "all good\n"
     ]
    },
    {
     "name": "stderr",
     "output_type": "stream",
     "text": [
      "t:   6%|▌         | 28/485 [00:02<00:42, 10.83it/s, now=None]"
     ]
    },
    {
     "name": "stdout",
     "output_type": "stream",
     "text": [
      "from memory 400 1053\n",
      "\n",
      "234.35764275039736 431.44895201674035\n",
      "all good\n",
      "from memory 405 1071\n",
      "\n",
      "227.80378681212733 451.2371046172607\n",
      "all good\n",
      "from memory 412 1091\n",
      "\n",
      "227.5615695493832 420.3409288364239\n",
      "all good\n"
     ]
    },
    {
     "name": "stderr",
     "output_type": "stream",
     "text": [
      "\r",
      "t:   6%|▌         | 30/485 [00:02<00:40, 11.16it/s, now=None]"
     ]
    },
    {
     "name": "stdout",
     "output_type": "stream",
     "text": [
      "from memory 412 1060\n",
      "\n",
      "231.3180189138809 428.0038305837079\n",
      "all good\n",
      "from memory 408 1068\n",
      "\n",
      "238.18658584100376 418.9307120550566\n",
      "all good\n",
      "from memory 401 1058\n",
      "\n",
      "232.92865610763351 419.57671877822577\n",
      "all good\n"
     ]
    },
    {
     "name": "stderr",
     "output_type": "stream",
     "text": [
      "t:   7%|▋         | 34/485 [00:03<00:37, 11.90it/s, now=None]"
     ]
    },
    {
     "name": "stdout",
     "output_type": "stream",
     "text": [
      "from memory 407 1059\n",
      "\n",
      "236.41964280813926 415.5940195299195\n",
      "all good\n",
      "from memory 403 1055\n",
      "\n",
      "241.7287732157905 475.3523410723144\n",
      "all good\n",
      "from memory 398 1115\n",
      "\n",
      "247.3636722169271 466.4447833441659\n",
      "all good\n"
     ]
    },
    {
     "name": "stderr",
     "output_type": "stream",
     "text": [
      "\r",
      "t:   7%|▋         | 36/485 [00:03<00:37, 12.05it/s, now=None]"
     ]
    },
    {
     "name": "stdout",
     "output_type": "stream",
     "text": [
      "from memory 392 1106\n",
      "\n",
      "248.50222499267647 458.1751518400815\n",
      "all good\n",
      "from memory 391 1098\n",
      "\n",
      "238.54004586631441 491.3988915086777\n",
      "all good\n",
      "from memory 401 1131\n",
      "\n",
      "244.15310688900354 521.5190640861961\n",
      "right _false detection\n"
     ]
    },
    {
     "name": "stderr",
     "output_type": "stream",
     "text": [
      "t:   8%|▊         | 40/485 [00:03<00:35, 12.52it/s, now=None]"
     ]
    },
    {
     "name": "stdout",
     "output_type": "stream",
     "text": [
      "from histo 437 689\n",
      "\n",
      "248.3175673832577 493.37207199669524\n",
      "all good\n",
      "from memory 391 1133\n",
      "\n",
      "234.5646987698072 506.0868851437717\n",
      "right _false detection\n",
      "from histo 412 640\n",
      "\n",
      "236.60555358014727 503.48511227444124\n",
      "right _false detection\n"
     ]
    },
    {
     "name": "stderr",
     "output_type": "stream",
     "text": [
      "\r",
      "t:   9%|▊         | 42/485 [00:03<00:35, 12.66it/s, now=None]"
     ]
    },
    {
     "name": "stdout",
     "output_type": "stream",
     "text": [
      "from histo 639 641\n",
      "\n",
      "242.69323338856475 510.8052889538942\n",
      "right _false detection\n",
      "from histo 397 668\n",
      "\n",
      "234.99872464958491 475.69857327480895\n",
      "all good\n",
      "from memory 405 1115\n",
      "\n",
      "228.9051930405966 488.1277078975254\n",
      "all good\n"
     ]
    },
    {
     "name": "stderr",
     "output_type": "stream",
     "text": [
      "t:   9%|▉         | 46/485 [00:04<00:34, 12.65it/s, now=None]"
     ]
    },
    {
     "name": "stdout",
     "output_type": "stream",
     "text": [
      "from memory 411 1128\n",
      "\n",
      "242.98268445138513 495.9485987329531\n",
      "all good\n",
      "from memory 397 1135\n",
      "\n",
      "245.95706421989456 494.2511188469821\n",
      "all good\n",
      "from memory 394 1134\n",
      "\n",
      "248.55063426119534 484.9213134583392\n",
      "all good\n"
     ]
    },
    {
     "name": "stderr",
     "output_type": "stream",
     "text": [
      "\r",
      "t:  10%|▉         | 48/485 [00:04<00:34, 12.57it/s, now=None]"
     ]
    },
    {
     "name": "stdout",
     "output_type": "stream",
     "text": [
      "from memory 391 1124\n",
      "\n",
      "269.8833387486493 472.069551818666\n",
      "all good\n",
      "from memory 370 1112\n",
      "\n",
      "261.14241901458854 476.90805810548613\n",
      "all good\n",
      "from memory 378 1116\n",
      "\n",
      "260.76507615784243 483.7077068105275\n",
      "all good\n"
     ]
    },
    {
     "name": "stderr",
     "output_type": "stream",
     "text": [
      "t:  11%|█         | 52/485 [00:04<00:34, 12.58it/s, now=None]"
     ]
    },
    {
     "name": "stdout",
     "output_type": "stream",
     "text": [
      "from memory 379 1123\n",
      "\n",
      "255.3923711888903 470.9222150302501\n",
      "all good\n",
      "from memory 384 1110\n",
      "\n",
      "242.40258359077836 468.81646837131984\n",
      "all good\n",
      "from memory 397 1108\n",
      "\n",
      "245.28283163171272 478.79841206467427\n",
      "all good\n"
     ]
    },
    {
     "name": "stderr",
     "output_type": "stream",
     "text": [
      "\r",
      "t:  11%|█         | 54/485 [00:04<00:35, 12.27it/s, now=None]"
     ]
    },
    {
     "name": "stdout",
     "output_type": "stream",
     "text": [
      "from memory 394 1118\n",
      "\n",
      "257.97220705144105 465.4189652685309\n",
      "all good\n",
      "from memory 382 1105\n",
      "\n",
      "275.14073225529273 476.32194883218335\n",
      "all good\n",
      "from memory 364 1116\n",
      "\n",
      "273.1185651798605 481.17439595657174\n",
      "all good\n"
     ]
    },
    {
     "name": "stderr",
     "output_type": "stream",
     "text": [
      "t:  12%|█▏        | 58/485 [00:05<00:34, 12.26it/s, now=None]"
     ]
    },
    {
     "name": "stdout",
     "output_type": "stream",
     "text": [
      "from memory 366 1121\n",
      "\n",
      "282.0728691064469 501.2105870771229\n",
      "right _false detection\n",
      "from histo 598 1277\n",
      "\n",
      "286.0765199114444 475.4867062777819\n",
      "all good\n",
      "from memory 353 1115\n",
      "\n",
      "291.0126997870733 506.0755053225705\n",
      "right _false detection\n"
     ]
    },
    {
     "name": "stderr",
     "output_type": "stream",
     "text": [
      "\r",
      "t:  12%|█▏        | 60/485 [00:05<00:35, 12.13it/s, now=None]"
     ]
    },
    {
     "name": "stdout",
     "output_type": "stream",
     "text": [
      "from histo 584 889\n",
      "\n",
      "290.12558895307984 473.1601426976813\n",
      "all good\n",
      "from memory 349 1113\n",
      "\n",
      "293.36196190640567 487.86605918095984\n",
      "all good\n",
      "from memory 346 1127\n",
      "\n",
      "291.5241506809298 510.31700666575443\n",
      "right _false detection\n"
     ]
    },
    {
     "name": "stderr",
     "output_type": "stream",
     "text": [
      "t:  13%|█▎        | 64/485 [00:05<00:34, 12.28it/s, now=None]"
     ]
    },
    {
     "name": "stdout",
     "output_type": "stream",
     "text": [
      "from histo 561 688\n",
      "\n",
      "284.230490576575 492.04427376653507\n",
      "all good\n",
      "from memory 355 1132\n",
      "\n",
      "284.92991291546457 479.5190543152585\n",
      "all good\n",
      "from memory 355 1119\n",
      "\n",
      "289.0342607100242 421.6506714999557\n",
      "all good\n"
     ]
    },
    {
     "name": "stderr",
     "output_type": "stream",
     "text": [
      "\r",
      "t:  14%|█▎        | 66/485 [00:05<00:34, 11.98it/s, now=None]"
     ]
    },
    {
     "name": "stdout",
     "output_type": "stream",
     "text": [
      "from memory 350 1061\n",
      "\n",
      "295.2968814290082 386.4277838536475\n",
      "all good\n",
      "from memory 344 1026\n",
      "\n",
      "303.5621017937003 368.30217276670896\n",
      "all good\n",
      "from memory 336 1008\n",
      "\n",
      "288.0033376289033 367.57431144825387\n",
      "all good\n"
     ]
    },
    {
     "name": "stderr",
     "output_type": "stream",
     "text": [
      "t:  14%|█▍        | 70/485 [00:06<00:34, 12.01it/s, now=None]"
     ]
    },
    {
     "name": "stdout",
     "output_type": "stream",
     "text": [
      "from memory 351 1007\n",
      "\n",
      "273.4392416106209 358.99022219226333\n",
      "all good\n",
      "from memory 366 998\n",
      "\n",
      "273.6219372564748 344.8612349624623\n",
      "all good\n",
      "from memory 366 984\n",
      "\n",
      "281.85361141936596 378.9197229994288\n",
      "all good\n"
     ]
    },
    {
     "name": "stderr",
     "output_type": "stream",
     "text": [
      "\r",
      "t:  15%|█▍        | 72/485 [00:06<00:36, 11.34it/s, now=None]"
     ]
    },
    {
     "name": "stdout",
     "output_type": "stream",
     "text": [
      "from memory 358 1018\n",
      "\n",
      "281.67220875227406 385.7995942749244\n",
      "all good\n",
      "from memory 358 1025\n",
      "\n",
      "276.24738202758067 380.9572184403544\n",
      "all good\n",
      "from memory 363 1020\n"
     ]
    },
    {
     "name": "stderr",
     "output_type": "stream",
     "text": [
      "\r",
      "t:  15%|█▌        | 74/485 [00:06<00:38, 10.74it/s, now=None]"
     ]
    },
    {
     "name": "stdout",
     "output_type": "stream",
     "text": [
      "\n",
      "275.1248608875767 384.23511716772964\n",
      "all good\n",
      "from memory 364 1024\n",
      "\n",
      "269.83597381405923 384.57544398485265\n",
      "all good\n",
      "from memory 370 1024\n"
     ]
    },
    {
     "name": "stderr",
     "output_type": "stream",
     "text": [
      "\r",
      "t:  16%|█▌        | 76/485 [00:06<00:37, 10.94it/s, now=None]"
     ]
    },
    {
     "name": "stdout",
     "output_type": "stream",
     "text": [
      "\n",
      "278.7958321591426 401.8560447669129\n",
      "all good\n",
      "from memory 361 1041\n",
      "\n",
      "278.7647086411632 421.1908125515961\n",
      "all good\n",
      "from memory 361 1061\n",
      "\n",
      "290.2066845009899 457.29812380885164\n",
      "all good\n"
     ]
    },
    {
     "name": "stderr",
     "output_type": "stream",
     "text": [
      "t:  16%|█▋        | 80/485 [00:07<00:34, 11.72it/s, now=None]"
     ]
    },
    {
     "name": "stdout",
     "output_type": "stream",
     "text": [
      "from memory 349 1097\n",
      "\n",
      "288.04950406245393 460.10407790979025\n",
      "all good\n",
      "from memory 351 1100\n",
      "\n",
      "287.66423251831566 465.14729697268035\n",
      "all good\n",
      "from memory 352 1105\n",
      "\n",
      "286.92327163498123 459.75502072103563\n",
      "all good\n"
     ]
    },
    {
     "name": "stderr",
     "output_type": "stream",
     "text": [
      "\r",
      "t:  17%|█▋        | 82/485 [00:07<00:34, 11.61it/s, now=None]"
     ]
    },
    {
     "name": "stdout",
     "output_type": "stream",
     "text": [
      "from memory 353 1099\n",
      "\n",
      "270.40253462013993 471.05667932022016\n",
      "all good\n",
      "from memory 369 1111\n",
      "\n",
      "271.4161920842686 419.00295336079057\n",
      "all good\n",
      "from memory 368 1059\n",
      "\n",
      "266.58211878869395 415.53170219798085\n",
      "all good\n"
     ]
    },
    {
     "name": "stderr",
     "output_type": "stream",
     "text": [
      "\r",
      "t:  17%|█▋        | 84/485 [00:07<00:41,  9.71it/s, now=None]"
     ]
    },
    {
     "name": "stdout",
     "output_type": "stream",
     "text": [
      "from memory 373 1055\n",
      "\n",
      "262.13872721589405 400.72768706688566\n",
      "all good\n"
     ]
    },
    {
     "name": "stderr",
     "output_type": "stream",
     "text": [
      "\r",
      "t:  18%|█▊        | 86/485 [00:07<00:48,  8.24it/s, now=None]"
     ]
    },
    {
     "name": "stdout",
     "output_type": "stream",
     "text": [
      "from memory 377 1040\n",
      "\n",
      "266.2566474496721 442.6309488874617\n",
      "all good\n",
      "from memory 373 1082\n",
      "\n",
      "276.0023802239741 411.78446653751826\n",
      "all good\n"
     ]
    },
    {
     "name": "stderr",
     "output_type": "stream",
     "text": [
      "\r",
      "t:  18%|█▊        | 88/485 [00:08<00:46,  8.57it/s, now=None]"
     ]
    },
    {
     "name": "stdout",
     "output_type": "stream",
     "text": [
      "from memory 363 1051\n",
      "\n",
      "265.0593649008789 463.3137405107068\n",
      "all good\n",
      "from memory 374 1103\n",
      "\n",
      "263.1309949080902 455.3667494192307\n",
      "all good\n"
     ]
    },
    {
     "name": "stderr",
     "output_type": "stream",
     "text": [
      "\r",
      "t:  19%|█▊        | 90/485 [00:08<00:44,  8.80it/s, now=None]"
     ]
    },
    {
     "name": "stdout",
     "output_type": "stream",
     "text": [
      "from memory 376 1095\n",
      "\n",
      "264.78640989841415 499.96428914593\n",
      "all good\n",
      "from memory 375 1139\n",
      "\n",
      "278.51684957846885 465.04458079126516\n",
      "all good\n"
     ]
    },
    {
     "name": "stderr",
     "output_type": "stream",
     "text": [
      "t:  19%|█▉        | 92/485 [00:08<00:45,  8.63it/s, now=None]"
     ]
    },
    {
     "name": "stdout",
     "output_type": "stream",
     "text": [
      "from memory 361 1105\n",
      "\n",
      "291.3070200478518 470.7931754446695\n",
      "all good\n",
      "from memory 348 1110\n",
      "\n",
      "285.7427984789007 458.20884392736525\n",
      "all good\n"
     ]
    },
    {
     "name": "stderr",
     "output_type": "stream",
     "text": [
      "\r",
      "t:  19%|█▉        | 94/485 [00:08<00:42,  9.21it/s, now=None]"
     ]
    },
    {
     "name": "stdout",
     "output_type": "stream",
     "text": [
      "from memory 354 1098\n",
      "\n",
      "279.5573006642164 444.01254308934335\n",
      "all good\n",
      "from memory 360 1084\n",
      "\n",
      "278.09686701872226 439.9221508390474\n",
      "all good\n"
     ]
    },
    {
     "name": "stderr",
     "output_type": "stream",
     "text": [
      "\r",
      "t:  20%|█▉        | 95/485 [00:08<00:48,  8.01it/s, now=None]"
     ]
    },
    {
     "name": "stdout",
     "output_type": "stream",
     "text": [
      "from memory 361 1079\n",
      "\n",
      "287.0139560811326 446.09791987817516\n",
      "all good\n",
      "from memory 352 1086\n",
      "\n",
      "275.3039187124207 433.91414605685486\n",
      "all good\n"
     ]
    },
    {
     "name": "stderr",
     "output_type": "stream",
     "text": [
      "t:  20%|██        | 97/485 [00:09<01:05,  5.88it/s, now=None]"
     ]
    },
    {
     "name": "stdout",
     "output_type": "stream",
     "text": [
      "from memory 364 1073\n",
      "\n",
      "271.5836438762457 450.00810435383255\n",
      "all good\n",
      "from memory 368 1090\n",
      "\n"
     ]
    },
    {
     "name": "stderr",
     "output_type": "stream",
     "text": [
      "\r",
      "t:  20%|██        | 98/485 [00:09<01:07,  5.72it/s, now=None]"
     ]
    },
    {
     "name": "stdout",
     "output_type": "stream",
     "text": [
      "263.23923025826684 439.3277805180178\n",
      "all good\n",
      "from memory 376 1079\n",
      "\n",
      "257.4926900487137 443.4075417298186\n",
      "all good\n"
     ]
    },
    {
     "name": "stderr",
     "output_type": "stream",
     "text": [
      "t:  21%|██        | 101/485 [00:09<01:05,  5.86it/s, now=None]"
     ]
    },
    {
     "name": "stdout",
     "output_type": "stream",
     "text": [
      "from memory 382 1083\n",
      "\n",
      "254.998333910244 466.73384233951697\n",
      "all good\n",
      "from memory 385 1106\n",
      "\n",
      "240.34030750305817 503.011616900372\n",
      "right _false detection\n"
     ]
    },
    {
     "name": "stderr",
     "output_type": "stream",
     "text": [
      "\r",
      "t:  21%|██        | 103/485 [00:10<00:55,  6.88it/s, now=None]"
     ]
    },
    {
     "name": "stdout",
     "output_type": "stream",
     "text": [
      "from histo 567 907\n",
      "\n",
      "248.52056307003352 537.0114511806314\n",
      "right _false detection\n",
      "from histo 564 669\n",
      "\n",
      "257.621991259973 429.3794607569437\n",
      "all good\n",
      "from memory 382 1069\n",
      "\n",
      "255.28746246552453 448.26055673336873\n",
      "all good\n"
     ]
    },
    {
     "name": "stderr",
     "output_type": "stream",
     "text": [
      "t:  22%|██▏       | 107/485 [00:10<00:43,  8.76it/s, now=None]"
     ]
    },
    {
     "name": "stdout",
     "output_type": "stream",
     "text": [
      "from memory 384 1088\n",
      "\n",
      "253.09478870853536 462.27004259357545\n",
      "all good\n",
      "from memory 386 1102\n",
      "\n",
      "258.7460133049865 503.95656201790393\n",
      "right _false detection\n",
      "from histo 541 944\n",
      "\n",
      "281.55681726557 472.44373417071483\n",
      "all good\n"
     ]
    },
    {
     "name": "stderr",
     "output_type": "stream",
     "text": [
      "\r",
      "t:  22%|██▏       | 109/485 [00:10<00:40,  9.35it/s, now=None]"
     ]
    },
    {
     "name": "stdout",
     "output_type": "stream",
     "text": [
      "from memory 358 1112\n",
      "\n",
      "269.8548880008375 557.4430949439104\n",
      "right _false detection\n",
      "from histo 493 936\n",
      "\n",
      "219.6694201825402 263.08003344870826\n",
      "all good\n",
      "from memory 420 903\n",
      "\n",
      "240.20832838905767 260.0833187137308\n",
      "all good\n"
     ]
    },
    {
     "name": "stderr",
     "output_type": "stream",
     "text": [
      "\r",
      "t:  23%|██▎       | 111/485 [00:10<00:37,  9.91it/s, now=None]"
     ]
    },
    {
     "name": "stdout",
     "output_type": "stream",
     "text": [
      "from memory 399 900\n",
      "\n",
      "252.0890092198647 255.97587780267565\n",
      "all good\n",
      "from memory 387 895\n",
      "\n",
      "255.12956145618432 269.9100870306795\n",
      "all good\n"
     ]
    },
    {
     "name": "stderr",
     "output_type": "stream",
     "text": [
      "\r",
      "t:  23%|██▎       | 113/485 [00:11<00:44,  8.31it/s, now=None]"
     ]
    },
    {
     "name": "stdout",
     "output_type": "stream",
     "text": [
      "from memory 384 909\n",
      "\n",
      "276.86241786919334 276.8109944091716\n",
      "all good\n",
      "from memory 363 916\n"
     ]
    },
    {
     "name": "stderr",
     "output_type": "stream",
     "text": [
      "\r",
      "t:  24%|██▎       | 114/485 [00:11<00:53,  6.99it/s, now=None]"
     ]
    },
    {
     "name": "stdout",
     "output_type": "stream",
     "text": [
      "\n",
      "257.1429681968342 271.4754428368309\n",
      "all good\n",
      "from memory 382 911\n",
      "\n",
      "258.40576688790145 296.50376514943036\n",
      "all good\n"
     ]
    },
    {
     "name": "stderr",
     "output_type": "stream",
     "text": [
      "t:  24%|██▍       | 117/485 [00:11<01:05,  5.66it/s, now=None]"
     ]
    },
    {
     "name": "stdout",
     "output_type": "stream",
     "text": [
      "from memory 381 936\n",
      "\n",
      "257.6543046752553 297.2251699319745\n",
      "all good\n",
      "from memory 382 937\n",
      "\n",
      "258.11602560354675 298.51581414380144\n",
      "all good\n"
     ]
    },
    {
     "name": "stderr",
     "output_type": "stream",
     "text": [
      "\r",
      "t:  25%|██▍       | 119/485 [00:12<00:54,  6.75it/s, now=None]"
     ]
    },
    {
     "name": "stdout",
     "output_type": "stream",
     "text": [
      "from memory 381 938\n",
      "\n",
      "247.52938335208108 283.2339395435898\n",
      "all good\n",
      "from memory 392 923\n",
      "\n",
      "246.65355809396306 269.85500630827505\n",
      "all good\n",
      "from memory 393 909\n",
      "\n",
      "244.53733250360574 255.34711037769557\n",
      "all good\n"
     ]
    },
    {
     "name": "stderr",
     "output_type": "stream",
     "text": [
      "t:  25%|██▌       | 123/485 [00:12<00:41,  8.81it/s, now=None]"
     ]
    },
    {
     "name": "stdout",
     "output_type": "stream",
     "text": [
      "from memory 395 895\n",
      "\n",
      "241.39302173488534 298.92486878740453\n",
      "all good\n",
      "from memory 398 938\n",
      "\n",
      "254.5471190736991 354.13696880741463\n",
      "all good\n",
      "from memory 385 994\n",
      "\n",
      "253.16241978477274 352.3197018221563\n",
      "all good\n"
     ]
    },
    {
     "name": "stderr",
     "output_type": "stream",
     "text": [
      "\r",
      "t:  26%|██▌       | 125/485 [00:12<00:36,  9.73it/s, now=None]"
     ]
    },
    {
     "name": "stdout",
     "output_type": "stream",
     "text": [
      "from memory 386 992\n",
      "\n",
      "249.47730800197917 367.7063911477826\n",
      "all good\n",
      "from memory 390 1007\n",
      "\n",
      "244.94629629566828 395.9648697243824\n",
      "all good\n",
      "from memory 395 1035\n",
      "\n",
      "249.61456831119744 407.33207024071\n",
      "all good\n"
     ]
    },
    {
     "name": "stderr",
     "output_type": "stream",
     "text": [
      "t:  27%|██▋       | 129/485 [00:12<00:31, 11.28it/s, now=None]"
     ]
    },
    {
     "name": "stdout",
     "output_type": "stream",
     "text": [
      "from memory 390 1047\n",
      "\n",
      "244.8810023096189 404.53148970869734\n",
      "all good\n",
      "from memory 395 1044\n",
      "\n",
      "247.84754294963182 407.4926681224597\n",
      "all good\n",
      "from memory 392 1047\n",
      "\n",
      "254.45403630193982 408.22363263605257\n",
      "all good\n"
     ]
    },
    {
     "name": "stderr",
     "output_type": "stream",
     "text": [
      "\r",
      "t:  27%|██▋       | 131/485 [00:13<00:30, 11.58it/s, now=None]"
     ]
    },
    {
     "name": "stdout",
     "output_type": "stream",
     "text": [
      "from memory 385 1048\n",
      "\n",
      "256.3694559540744 388.33128922687683\n",
      "all good\n",
      "from memory 383 1028\n",
      "\n",
      "249.15561328743888 395.25341674372294\n",
      "all good\n",
      "from memory 390 1035\n",
      "\n",
      "259.17244932536926 391.74323808781196\n",
      "all good\n"
     ]
    },
    {
     "name": "stderr",
     "output_type": "stream",
     "text": [
      "t:  28%|██▊       | 135/485 [00:13<00:28, 12.16it/s, now=None]"
     ]
    },
    {
     "name": "stdout",
     "output_type": "stream",
     "text": [
      "from memory 380 1031\n",
      "\n",
      "268.3397615196585 380.66108019224134\n",
      "all good\n",
      "from memory 371 1020\n",
      "\n",
      "290.24102734177177 321.6497498779944\n",
      "all good\n",
      "from memory 349 961\n",
      "\n",
      "329.1883383014581 257.55059688670553\n",
      "all good\n"
     ]
    },
    {
     "name": "stderr",
     "output_type": "stream",
     "text": [
      "\r",
      "t:  28%|██▊       | 137/485 [00:13<00:28, 12.12it/s, now=None]"
     ]
    },
    {
     "name": "stdout",
     "output_type": "stream",
     "text": [
      "from memory 310 897\n",
      "\n",
      "364.0741836943689 158.79690625669025\n",
      "right _false detection\n",
      "from histo 587 640\n",
      "\n",
      "361.06409855440506 269.1842905405716\n",
      "all good\n",
      "from memory 278 909\n",
      "\n",
      "369.4632910233413 276.48439104460886\n",
      "all good\n"
     ]
    },
    {
     "name": "stderr",
     "output_type": "stream",
     "text": [
      "t:  29%|██▉       | 141/485 [00:13<00:27, 12.39it/s, now=None]"
     ]
    },
    {
     "name": "stdout",
     "output_type": "stream",
     "text": [
      "from memory 270 916\n",
      "\n",
      "364.28607952265156 282.42322428900206\n",
      "all good\n",
      "from memory 275 922\n",
      "\n",
      "360.26618959608277 278.4396135136317\n",
      "all good\n",
      "from memory 279 918\n",
      "\n",
      "378.13327055128184 122.70319637905868\n",
      "right _false detection\n"
     ]
    },
    {
     "name": "stderr",
     "output_type": "stream",
     "text": [
      "\r",
      "t:  29%|██▉       | 143/485 [00:14<00:27, 12.28it/s, now=None]"
     ]
    },
    {
     "name": "stdout",
     "output_type": "stream",
     "text": [
      "from histo 626 643\n",
      "\n",
      "366.736687112596 332.337461240018\n",
      "all good\n",
      "from memory 273 972\n",
      "\n",
      "391.3182664908136 404.4430504908087\n",
      "all good\n",
      "from memory 248 1044\n",
      "\n",
      "466.0587348409699 754.9322051552001\n",
      "right _false detection\n"
     ]
    },
    {
     "name": "stderr",
     "output_type": "stream",
     "text": [
      "t:  30%|███       | 147/485 [00:14<00:26, 12.68it/s, now=None]"
     ]
    },
    {
     "name": "stdout",
     "output_type": "stream",
     "text": [
      "from histo 626 696\n",
      "\n",
      "466.59248533066057 835.840819904588\n",
      "right _false detection\n",
      "from histo 629 696\n",
      "\n",
      "442.8166443586015 819.2587593803569\n",
      "right _false detection\n",
      "from histo 617 698\n",
      "\n",
      "430.9999999925494 305.5639314091669\n",
      "all good\n"
     ]
    },
    {
     "name": "stderr",
     "output_type": "stream",
     "text": [
      "\r",
      "t:  31%|███       | 149/485 [00:14<00:27, 12.28it/s, now=None]"
     ]
    },
    {
     "name": "stdout",
     "output_type": "stream",
     "text": [
      "from memory 209 945\n",
      "\n",
      "465.970995719284 284.77971382535213\n",
      "all good\n",
      "from memory 174 924\n",
      "\n",
      "297.48617275530705 262.6557641682108\n",
      "all good\n",
      "from memory 342 902\n",
      "\n",
      "485.9109988161012 274.8876494934864\n",
      "all good\n"
     ]
    },
    {
     "name": "stderr",
     "output_type": "stream",
     "text": [
      "\r",
      "t:  31%|███       | 151/485 [00:14<00:27, 12.37it/s, now=None]"
     ]
    },
    {
     "name": "stdout",
     "output_type": "stream",
     "text": [
      "from memory 154 914\n",
      "\n",
      "480.7752026964748 228.17573758836056\n",
      "all good\n",
      "from memory 159 868\n",
      "\n"
     ]
    },
    {
     "ename": "TypeError",
     "evalue": "expected non-empty vector for x",
     "output_type": "error",
     "traceback": [
      "\u001b[0;31m---------------------------------------------------------------------------\u001b[0m",
      "\u001b[0;31mTypeError\u001b[0m                                 Traceback (most recent call last)",
      "\u001b[0;32m<timed eval>\u001b[0m in \u001b[0;36m<module>\u001b[0;34m\u001b[0m\n",
      "\u001b[0;32m<decorator-gen-180>\u001b[0m in \u001b[0;36mwrite_videofile\u001b[0;34m(self, filename, fps, codec, bitrate, audio, audio_fps, preset, audio_nbytes, audio_codec, audio_bitrate, audio_bufsize, temp_audiofile, rewrite_audio, remove_temp, write_logfile, verbose, threads, ffmpeg_params, logger)\u001b[0m\n",
      "\u001b[0;32m~/.local/lib/python3.6/site-packages/moviepy/decorators.py\u001b[0m in \u001b[0;36mrequires_duration\u001b[0;34m(f, clip, *a, **k)\u001b[0m\n\u001b[1;32m     52\u001b[0m         \u001b[0;32mraise\u001b[0m \u001b[0mValueError\u001b[0m\u001b[0;34m(\u001b[0m\u001b[0;34m\"Attribute 'duration' not set\"\u001b[0m\u001b[0;34m)\u001b[0m\u001b[0;34m\u001b[0m\u001b[0;34m\u001b[0m\u001b[0m\n\u001b[1;32m     53\u001b[0m     \u001b[0;32melse\u001b[0m\u001b[0;34m:\u001b[0m\u001b[0;34m\u001b[0m\u001b[0;34m\u001b[0m\u001b[0m\n\u001b[0;32m---> 54\u001b[0;31m         \u001b[0;32mreturn\u001b[0m \u001b[0mf\u001b[0m\u001b[0;34m(\u001b[0m\u001b[0mclip\u001b[0m\u001b[0;34m,\u001b[0m \u001b[0;34m*\u001b[0m\u001b[0ma\u001b[0m\u001b[0;34m,\u001b[0m \u001b[0;34m**\u001b[0m\u001b[0mk\u001b[0m\u001b[0;34m)\u001b[0m\u001b[0;34m\u001b[0m\u001b[0;34m\u001b[0m\u001b[0m\n\u001b[0m\u001b[1;32m     55\u001b[0m \u001b[0;34m\u001b[0m\u001b[0m\n\u001b[1;32m     56\u001b[0m \u001b[0;34m\u001b[0m\u001b[0m\n",
      "\u001b[0;32m<decorator-gen-179>\u001b[0m in \u001b[0;36mwrite_videofile\u001b[0;34m(self, filename, fps, codec, bitrate, audio, audio_fps, preset, audio_nbytes, audio_codec, audio_bitrate, audio_bufsize, temp_audiofile, rewrite_audio, remove_temp, write_logfile, verbose, threads, ffmpeg_params, logger)\u001b[0m\n",
      "\u001b[0;32m~/.local/lib/python3.6/site-packages/moviepy/decorators.py\u001b[0m in \u001b[0;36muse_clip_fps_by_default\u001b[0;34m(f, clip, *a, **k)\u001b[0m\n\u001b[1;32m    133\u001b[0m              for (k,v) in k.items()}\n\u001b[1;32m    134\u001b[0m \u001b[0;34m\u001b[0m\u001b[0m\n\u001b[0;32m--> 135\u001b[0;31m     \u001b[0;32mreturn\u001b[0m \u001b[0mf\u001b[0m\u001b[0;34m(\u001b[0m\u001b[0mclip\u001b[0m\u001b[0;34m,\u001b[0m \u001b[0;34m*\u001b[0m\u001b[0mnew_a\u001b[0m\u001b[0;34m,\u001b[0m \u001b[0;34m**\u001b[0m\u001b[0mnew_kw\u001b[0m\u001b[0;34m)\u001b[0m\u001b[0;34m\u001b[0m\u001b[0;34m\u001b[0m\u001b[0m\n\u001b[0m",
      "\u001b[0;32m<decorator-gen-178>\u001b[0m in \u001b[0;36mwrite_videofile\u001b[0;34m(self, filename, fps, codec, bitrate, audio, audio_fps, preset, audio_nbytes, audio_codec, audio_bitrate, audio_bufsize, temp_audiofile, rewrite_audio, remove_temp, write_logfile, verbose, threads, ffmpeg_params, logger)\u001b[0m\n",
      "\u001b[0;32m~/.local/lib/python3.6/site-packages/moviepy/decorators.py\u001b[0m in \u001b[0;36mconvert_masks_to_RGB\u001b[0;34m(f, clip, *a, **k)\u001b[0m\n\u001b[1;32m     20\u001b[0m     \u001b[0;32mif\u001b[0m \u001b[0mclip\u001b[0m\u001b[0;34m.\u001b[0m\u001b[0mismask\u001b[0m\u001b[0;34m:\u001b[0m\u001b[0;34m\u001b[0m\u001b[0;34m\u001b[0m\u001b[0m\n\u001b[1;32m     21\u001b[0m         \u001b[0mclip\u001b[0m \u001b[0;34m=\u001b[0m \u001b[0mclip\u001b[0m\u001b[0;34m.\u001b[0m\u001b[0mto_RGB\u001b[0m\u001b[0;34m(\u001b[0m\u001b[0;34m)\u001b[0m\u001b[0;34m\u001b[0m\u001b[0;34m\u001b[0m\u001b[0m\n\u001b[0;32m---> 22\u001b[0;31m     \u001b[0;32mreturn\u001b[0m \u001b[0mf\u001b[0m\u001b[0;34m(\u001b[0m\u001b[0mclip\u001b[0m\u001b[0;34m,\u001b[0m \u001b[0;34m*\u001b[0m\u001b[0ma\u001b[0m\u001b[0;34m,\u001b[0m \u001b[0;34m**\u001b[0m\u001b[0mk\u001b[0m\u001b[0;34m)\u001b[0m\u001b[0;34m\u001b[0m\u001b[0;34m\u001b[0m\u001b[0m\n\u001b[0m\u001b[1;32m     23\u001b[0m \u001b[0;34m\u001b[0m\u001b[0m\n\u001b[1;32m     24\u001b[0m \u001b[0;34m@\u001b[0m\u001b[0mdecorator\u001b[0m\u001b[0;34m.\u001b[0m\u001b[0mdecorator\u001b[0m\u001b[0;34m\u001b[0m\u001b[0;34m\u001b[0m\u001b[0m\n",
      "\u001b[0;32m~/.local/lib/python3.6/site-packages/moviepy/video/VideoClip.py\u001b[0m in \u001b[0;36mwrite_videofile\u001b[0;34m(self, filename, fps, codec, bitrate, audio, audio_fps, preset, audio_nbytes, audio_codec, audio_bitrate, audio_bufsize, temp_audiofile, rewrite_audio, remove_temp, write_logfile, verbose, threads, ffmpeg_params, logger)\u001b[0m\n\u001b[1;32m    305\u001b[0m                            \u001b[0mverbose\u001b[0m\u001b[0;34m=\u001b[0m\u001b[0mverbose\u001b[0m\u001b[0;34m,\u001b[0m \u001b[0mthreads\u001b[0m\u001b[0;34m=\u001b[0m\u001b[0mthreads\u001b[0m\u001b[0;34m,\u001b[0m\u001b[0;34m\u001b[0m\u001b[0;34m\u001b[0m\u001b[0m\n\u001b[1;32m    306\u001b[0m                            \u001b[0mffmpeg_params\u001b[0m\u001b[0;34m=\u001b[0m\u001b[0mffmpeg_params\u001b[0m\u001b[0;34m,\u001b[0m\u001b[0;34m\u001b[0m\u001b[0;34m\u001b[0m\u001b[0m\n\u001b[0;32m--> 307\u001b[0;31m                            logger=logger)\n\u001b[0m\u001b[1;32m    308\u001b[0m \u001b[0;34m\u001b[0m\u001b[0m\n\u001b[1;32m    309\u001b[0m         \u001b[0;32mif\u001b[0m \u001b[0mremove_temp\u001b[0m \u001b[0;32mand\u001b[0m \u001b[0mmake_audio\u001b[0m\u001b[0;34m:\u001b[0m\u001b[0;34m\u001b[0m\u001b[0;34m\u001b[0m\u001b[0m\n",
      "\u001b[0;32m~/.local/lib/python3.6/site-packages/moviepy/video/io/ffmpeg_writer.py\u001b[0m in \u001b[0;36mffmpeg_write_video\u001b[0;34m(clip, filename, fps, codec, bitrate, preset, withmask, write_logfile, audiofile, verbose, threads, ffmpeg_params, logger)\u001b[0m\n\u001b[1;32m    219\u001b[0m \u001b[0;34m\u001b[0m\u001b[0m\n\u001b[1;32m    220\u001b[0m         for t,frame in clip.iter_frames(logger=logger, with_times=True,\n\u001b[0;32m--> 221\u001b[0;31m                                         fps=fps, dtype=\"uint8\"):\n\u001b[0m\u001b[1;32m    222\u001b[0m             \u001b[0;32mif\u001b[0m \u001b[0mwithmask\u001b[0m\u001b[0;34m:\u001b[0m\u001b[0;34m\u001b[0m\u001b[0;34m\u001b[0m\u001b[0m\n\u001b[1;32m    223\u001b[0m                 \u001b[0mmask\u001b[0m \u001b[0;34m=\u001b[0m \u001b[0;34m(\u001b[0m\u001b[0;36m255\u001b[0m\u001b[0;34m*\u001b[0m\u001b[0mclip\u001b[0m\u001b[0;34m.\u001b[0m\u001b[0mmask\u001b[0m\u001b[0;34m.\u001b[0m\u001b[0mget_frame\u001b[0m\u001b[0;34m(\u001b[0m\u001b[0mt\u001b[0m\u001b[0;34m)\u001b[0m\u001b[0;34m)\u001b[0m\u001b[0;34m\u001b[0m\u001b[0;34m\u001b[0m\u001b[0m\n",
      "\u001b[0;32m~/.local/lib/python3.6/site-packages/moviepy/Clip.py\u001b[0m in \u001b[0;36miter_frames\u001b[0;34m(self, fps, with_times, logger, dtype)\u001b[0m\n\u001b[1;32m    470\u001b[0m         \u001b[0mlogger\u001b[0m \u001b[0;34m=\u001b[0m \u001b[0mproglog\u001b[0m\u001b[0;34m.\u001b[0m\u001b[0mdefault_bar_logger\u001b[0m\u001b[0;34m(\u001b[0m\u001b[0mlogger\u001b[0m\u001b[0;34m)\u001b[0m\u001b[0;34m\u001b[0m\u001b[0;34m\u001b[0m\u001b[0m\n\u001b[1;32m    471\u001b[0m         \u001b[0;32mfor\u001b[0m \u001b[0mt\u001b[0m \u001b[0;32min\u001b[0m \u001b[0mlogger\u001b[0m\u001b[0;34m.\u001b[0m\u001b[0miter_bar\u001b[0m\u001b[0;34m(\u001b[0m\u001b[0mt\u001b[0m\u001b[0;34m=\u001b[0m\u001b[0mnp\u001b[0m\u001b[0;34m.\u001b[0m\u001b[0marange\u001b[0m\u001b[0;34m(\u001b[0m\u001b[0;36m0\u001b[0m\u001b[0;34m,\u001b[0m \u001b[0mself\u001b[0m\u001b[0;34m.\u001b[0m\u001b[0mduration\u001b[0m\u001b[0;34m,\u001b[0m \u001b[0;36m1.0\u001b[0m\u001b[0;34m/\u001b[0m\u001b[0mfps\u001b[0m\u001b[0;34m)\u001b[0m\u001b[0;34m)\u001b[0m\u001b[0;34m:\u001b[0m\u001b[0;34m\u001b[0m\u001b[0;34m\u001b[0m\u001b[0m\n\u001b[0;32m--> 472\u001b[0;31m             \u001b[0mframe\u001b[0m \u001b[0;34m=\u001b[0m \u001b[0mself\u001b[0m\u001b[0;34m.\u001b[0m\u001b[0mget_frame\u001b[0m\u001b[0;34m(\u001b[0m\u001b[0mt\u001b[0m\u001b[0;34m)\u001b[0m\u001b[0;34m\u001b[0m\u001b[0;34m\u001b[0m\u001b[0m\n\u001b[0m\u001b[1;32m    473\u001b[0m             \u001b[0;32mif\u001b[0m \u001b[0;34m(\u001b[0m\u001b[0mdtype\u001b[0m \u001b[0;32mis\u001b[0m \u001b[0;32mnot\u001b[0m \u001b[0;32mNone\u001b[0m\u001b[0;34m)\u001b[0m \u001b[0;32mand\u001b[0m \u001b[0;34m(\u001b[0m\u001b[0mframe\u001b[0m\u001b[0;34m.\u001b[0m\u001b[0mdtype\u001b[0m \u001b[0;34m!=\u001b[0m \u001b[0mdtype\u001b[0m\u001b[0;34m)\u001b[0m\u001b[0;34m:\u001b[0m\u001b[0;34m\u001b[0m\u001b[0;34m\u001b[0m\u001b[0m\n\u001b[1;32m    474\u001b[0m                 \u001b[0mframe\u001b[0m \u001b[0;34m=\u001b[0m \u001b[0mframe\u001b[0m\u001b[0;34m.\u001b[0m\u001b[0mastype\u001b[0m\u001b[0;34m(\u001b[0m\u001b[0mdtype\u001b[0m\u001b[0;34m)\u001b[0m\u001b[0;34m\u001b[0m\u001b[0;34m\u001b[0m\u001b[0m\n",
      "\u001b[0;32m<decorator-gen-136>\u001b[0m in \u001b[0;36mget_frame\u001b[0;34m(self, t)\u001b[0m\n",
      "\u001b[0;32m~/.local/lib/python3.6/site-packages/moviepy/decorators.py\u001b[0m in \u001b[0;36mwrapper\u001b[0;34m(f, *a, **kw)\u001b[0m\n\u001b[1;32m     87\u001b[0m         new_kw = {k: fun(v) if k in varnames else v\n\u001b[1;32m     88\u001b[0m                  for (k,v) in kw.items()}\n\u001b[0;32m---> 89\u001b[0;31m         \u001b[0;32mreturn\u001b[0m \u001b[0mf\u001b[0m\u001b[0;34m(\u001b[0m\u001b[0;34m*\u001b[0m\u001b[0mnew_a\u001b[0m\u001b[0;34m,\u001b[0m \u001b[0;34m**\u001b[0m\u001b[0mnew_kw\u001b[0m\u001b[0;34m)\u001b[0m\u001b[0;34m\u001b[0m\u001b[0;34m\u001b[0m\u001b[0m\n\u001b[0m\u001b[1;32m     90\u001b[0m     \u001b[0;32mreturn\u001b[0m \u001b[0mdecorator\u001b[0m\u001b[0;34m.\u001b[0m\u001b[0mdecorator\u001b[0m\u001b[0;34m(\u001b[0m\u001b[0mwrapper\u001b[0m\u001b[0;34m)\u001b[0m\u001b[0;34m\u001b[0m\u001b[0;34m\u001b[0m\u001b[0m\n\u001b[1;32m     91\u001b[0m \u001b[0;34m\u001b[0m\u001b[0m\n",
      "\u001b[0;32m~/.local/lib/python3.6/site-packages/moviepy/Clip.py\u001b[0m in \u001b[0;36mget_frame\u001b[0;34m(self, t)\u001b[0m\n\u001b[1;32m     91\u001b[0m                 \u001b[0;32mreturn\u001b[0m \u001b[0mframe\u001b[0m\u001b[0;34m\u001b[0m\u001b[0;34m\u001b[0m\u001b[0m\n\u001b[1;32m     92\u001b[0m         \u001b[0;32melse\u001b[0m\u001b[0;34m:\u001b[0m\u001b[0;34m\u001b[0m\u001b[0;34m\u001b[0m\u001b[0m\n\u001b[0;32m---> 93\u001b[0;31m             \u001b[0;32mreturn\u001b[0m \u001b[0mself\u001b[0m\u001b[0;34m.\u001b[0m\u001b[0mmake_frame\u001b[0m\u001b[0;34m(\u001b[0m\u001b[0mt\u001b[0m\u001b[0;34m)\u001b[0m\u001b[0;34m\u001b[0m\u001b[0;34m\u001b[0m\u001b[0m\n\u001b[0m\u001b[1;32m     94\u001b[0m \u001b[0;34m\u001b[0m\u001b[0m\n\u001b[1;32m     95\u001b[0m     \u001b[0;32mdef\u001b[0m \u001b[0mfl\u001b[0m\u001b[0;34m(\u001b[0m\u001b[0mself\u001b[0m\u001b[0;34m,\u001b[0m \u001b[0mfun\u001b[0m\u001b[0;34m,\u001b[0m \u001b[0mapply_to\u001b[0m\u001b[0;34m=\u001b[0m\u001b[0;32mNone\u001b[0m\u001b[0;34m,\u001b[0m \u001b[0mkeep_duration\u001b[0m\u001b[0;34m=\u001b[0m\u001b[0;32mTrue\u001b[0m\u001b[0;34m)\u001b[0m\u001b[0;34m:\u001b[0m\u001b[0;34m\u001b[0m\u001b[0;34m\u001b[0m\u001b[0m\n",
      "\u001b[0;32m~/.local/lib/python3.6/site-packages/moviepy/Clip.py\u001b[0m in \u001b[0;36m<lambda>\u001b[0;34m(t)\u001b[0m\n\u001b[1;32m    134\u001b[0m \u001b[0;34m\u001b[0m\u001b[0m\n\u001b[1;32m    135\u001b[0m         \u001b[0;31m#mf = copy(self.make_frame)\u001b[0m\u001b[0;34m\u001b[0m\u001b[0;34m\u001b[0m\u001b[0;34m\u001b[0m\u001b[0m\n\u001b[0;32m--> 136\u001b[0;31m         \u001b[0mnewclip\u001b[0m \u001b[0;34m=\u001b[0m \u001b[0mself\u001b[0m\u001b[0;34m.\u001b[0m\u001b[0mset_make_frame\u001b[0m\u001b[0;34m(\u001b[0m\u001b[0;32mlambda\u001b[0m \u001b[0mt\u001b[0m\u001b[0;34m:\u001b[0m \u001b[0mfun\u001b[0m\u001b[0;34m(\u001b[0m\u001b[0mself\u001b[0m\u001b[0;34m.\u001b[0m\u001b[0mget_frame\u001b[0m\u001b[0;34m,\u001b[0m \u001b[0mt\u001b[0m\u001b[0;34m)\u001b[0m\u001b[0;34m)\u001b[0m\u001b[0;34m\u001b[0m\u001b[0;34m\u001b[0m\u001b[0m\n\u001b[0m\u001b[1;32m    137\u001b[0m \u001b[0;34m\u001b[0m\u001b[0m\n\u001b[1;32m    138\u001b[0m         \u001b[0;32mif\u001b[0m \u001b[0;32mnot\u001b[0m \u001b[0mkeep_duration\u001b[0m\u001b[0;34m:\u001b[0m\u001b[0;34m\u001b[0m\u001b[0;34m\u001b[0m\u001b[0m\n",
      "\u001b[0;32m~/.local/lib/python3.6/site-packages/moviepy/video/VideoClip.py\u001b[0m in \u001b[0;36m<lambda>\u001b[0;34m(gf, t)\u001b[0m\n\u001b[1;32m    488\u001b[0m         \"\"\"\n\u001b[1;32m    489\u001b[0m         \u001b[0mapply_to\u001b[0m \u001b[0;34m=\u001b[0m \u001b[0mapply_to\u001b[0m \u001b[0;32mor\u001b[0m \u001b[0;34m[\u001b[0m\u001b[0;34m]\u001b[0m\u001b[0;34m\u001b[0m\u001b[0;34m\u001b[0m\u001b[0m\n\u001b[0;32m--> 490\u001b[0;31m         \u001b[0;32mreturn\u001b[0m \u001b[0mself\u001b[0m\u001b[0;34m.\u001b[0m\u001b[0mfl\u001b[0m\u001b[0;34m(\u001b[0m\u001b[0;32mlambda\u001b[0m \u001b[0mgf\u001b[0m\u001b[0;34m,\u001b[0m \u001b[0mt\u001b[0m\u001b[0;34m:\u001b[0m \u001b[0mimage_func\u001b[0m\u001b[0;34m(\u001b[0m\u001b[0mgf\u001b[0m\u001b[0;34m(\u001b[0m\u001b[0mt\u001b[0m\u001b[0;34m)\u001b[0m\u001b[0;34m)\u001b[0m\u001b[0;34m,\u001b[0m \u001b[0mapply_to\u001b[0m\u001b[0;34m)\u001b[0m\u001b[0;34m\u001b[0m\u001b[0;34m\u001b[0m\u001b[0m\n\u001b[0m\u001b[1;32m    491\u001b[0m \u001b[0;34m\u001b[0m\u001b[0m\n\u001b[1;32m    492\u001b[0m     \u001b[0;31m# --------------------------------------------------------------\u001b[0m\u001b[0;34m\u001b[0m\u001b[0;34m\u001b[0m\u001b[0;34m\u001b[0m\u001b[0m\n",
      "\u001b[0;32m<ipython-input-15-4c762705244a>\u001b[0m in \u001b[0;36mprocess_image\u001b[0;34m(image)\u001b[0m\n\u001b[1;32m    254\u001b[0m \u001b[0;34m\u001b[0m\u001b[0m\n\u001b[1;32m    255\u001b[0m     \u001b[0;31m#obtaining the image with the lanes\u001b[0m\u001b[0;34m\u001b[0m\u001b[0;34m\u001b[0m\u001b[0;34m\u001b[0m\u001b[0m\n\u001b[0;32m--> 256\u001b[0;31m     \u001b[0mcolor_warp\u001b[0m\u001b[0;34m,\u001b[0m \u001b[0mleft_curverad\u001b[0m\u001b[0;34m,\u001b[0m \u001b[0mright_curverad\u001b[0m\u001b[0;34m,\u001b[0m \u001b[0mdeviation\u001b[0m \u001b[0;34m=\u001b[0m \u001b[0mfit_polynomial\u001b[0m\u001b[0;34m(\u001b[0m\u001b[0mbird_eye\u001b[0m\u001b[0;34m)\u001b[0m\u001b[0;34m\u001b[0m\u001b[0;34m\u001b[0m\u001b[0m\n\u001b[0m\u001b[1;32m    257\u001b[0m \u001b[0;34m\u001b[0m\u001b[0m\n\u001b[1;32m    258\u001b[0m     \u001b[0;31m# Warp the blank back to original image space using inverse perspective matrix (Minv)\u001b[0m\u001b[0;34m\u001b[0m\u001b[0;34m\u001b[0m\u001b[0;34m\u001b[0m\u001b[0m\n",
      "\u001b[0;32m<ipython-input-15-4c762705244a>\u001b[0m in \u001b[0;36mfit_polynomial\u001b[0;34m(binary_warped)\u001b[0m\n\u001b[1;32m    164\u001b[0m \u001b[0;34m\u001b[0m\u001b[0m\n\u001b[1;32m    165\u001b[0m     \u001b[0;31m# Fit a second order polynomial to each using `np.polyfit`\u001b[0m\u001b[0;34m\u001b[0m\u001b[0;34m\u001b[0m\u001b[0;34m\u001b[0m\u001b[0m\n\u001b[0;32m--> 166\u001b[0;31m     \u001b[0mleft_fit\u001b[0m \u001b[0;34m=\u001b[0m \u001b[0mnp\u001b[0m\u001b[0;34m.\u001b[0m\u001b[0mpolyfit\u001b[0m\u001b[0;34m(\u001b[0m\u001b[0mlefty\u001b[0m\u001b[0;34m,\u001b[0m \u001b[0mleftx\u001b[0m\u001b[0;34m,\u001b[0m \u001b[0;36m2\u001b[0m\u001b[0;34m)\u001b[0m\u001b[0;34m\u001b[0m\u001b[0;34m\u001b[0m\u001b[0m\n\u001b[0m\u001b[1;32m    167\u001b[0m     \u001b[0mright_fit\u001b[0m \u001b[0;34m=\u001b[0m \u001b[0mnp\u001b[0m\u001b[0;34m.\u001b[0m\u001b[0mpolyfit\u001b[0m\u001b[0;34m(\u001b[0m\u001b[0mrighty\u001b[0m\u001b[0;34m,\u001b[0m \u001b[0mrightx\u001b[0m\u001b[0;34m,\u001b[0m \u001b[0;36m2\u001b[0m\u001b[0;34m)\u001b[0m\u001b[0;34m\u001b[0m\u001b[0;34m\u001b[0m\u001b[0m\n\u001b[1;32m    168\u001b[0m \u001b[0;34m\u001b[0m\u001b[0m\n",
      "\u001b[0;32m<__array_function__ internals>\u001b[0m in \u001b[0;36mpolyfit\u001b[0;34m(*args, **kwargs)\u001b[0m\n",
      "\u001b[0;32m~/.local/lib/python3.6/site-packages/numpy/lib/polynomial.py\u001b[0m in \u001b[0;36mpolyfit\u001b[0;34m(x, y, deg, rcond, full, w, cov)\u001b[0m\n\u001b[1;32m    597\u001b[0m         \u001b[0;32mraise\u001b[0m \u001b[0mTypeError\u001b[0m\u001b[0;34m(\u001b[0m\u001b[0;34m\"expected 1D vector for x\"\u001b[0m\u001b[0;34m)\u001b[0m\u001b[0;34m\u001b[0m\u001b[0;34m\u001b[0m\u001b[0m\n\u001b[1;32m    598\u001b[0m     \u001b[0;32mif\u001b[0m \u001b[0mx\u001b[0m\u001b[0;34m.\u001b[0m\u001b[0msize\u001b[0m \u001b[0;34m==\u001b[0m \u001b[0;36m0\u001b[0m\u001b[0;34m:\u001b[0m\u001b[0;34m\u001b[0m\u001b[0;34m\u001b[0m\u001b[0m\n\u001b[0;32m--> 599\u001b[0;31m         \u001b[0;32mraise\u001b[0m \u001b[0mTypeError\u001b[0m\u001b[0;34m(\u001b[0m\u001b[0;34m\"expected non-empty vector for x\"\u001b[0m\u001b[0;34m)\u001b[0m\u001b[0;34m\u001b[0m\u001b[0;34m\u001b[0m\u001b[0m\n\u001b[0m\u001b[1;32m    600\u001b[0m     \u001b[0;32mif\u001b[0m \u001b[0my\u001b[0m\u001b[0;34m.\u001b[0m\u001b[0mndim\u001b[0m \u001b[0;34m<\u001b[0m \u001b[0;36m1\u001b[0m \u001b[0;32mor\u001b[0m \u001b[0my\u001b[0m\u001b[0;34m.\u001b[0m\u001b[0mndim\u001b[0m \u001b[0;34m>\u001b[0m \u001b[0;36m2\u001b[0m\u001b[0;34m:\u001b[0m\u001b[0;34m\u001b[0m\u001b[0;34m\u001b[0m\u001b[0m\n\u001b[1;32m    601\u001b[0m         \u001b[0;32mraise\u001b[0m \u001b[0mTypeError\u001b[0m\u001b[0;34m(\u001b[0m\u001b[0;34m\"expected 1D or 2D array for y\"\u001b[0m\u001b[0;34m)\u001b[0m\u001b[0;34m\u001b[0m\u001b[0;34m\u001b[0m\u001b[0m\n",
      "\u001b[0;31mTypeError\u001b[0m: expected non-empty vector for x"
     ]
    },
    {
     "name": "stderr",
     "output_type": "stream",
     "text": [
      "\r",
      "t:  31%|███       | 151/485 [00:29<00:27, 12.37it/s, now=None]"
     ]
    }
   ],
   "source": [
    "from moviepy.editor import VideoFileClip\n",
    "from IPython.display import HTML\n",
    "\n",
    "white_output = 'challegenge_video_output.mp4'\n",
    "\n",
    "#readign the first 5 seconds of the video\n",
    "clip1 = VideoFileClip(\"challenge_video.mp4\")#.subclip(20,30) \n",
    "white_clip = clip1.fl_image(process_image) \n",
    "%time white_clip.write_videofile(white_output, audio=False)"
   ]
  },
  {
   "cell_type": "code",
   "execution_count": null,
   "metadata": {},
   "outputs": [],
   "source": []
  }
 ],
 "metadata": {
  "kernelspec": {
   "display_name": "Python 3",
   "language": "python",
   "name": "python3"
  },
  "language_info": {
   "codemirror_mode": {
    "name": "ipython",
    "version": 3
   },
   "file_extension": ".py",
   "mimetype": "text/x-python",
   "name": "python",
   "nbconvert_exporter": "python",
   "pygments_lexer": "ipython3",
   "version": "3.6.9"
  }
 },
 "nbformat": 4,
 "nbformat_minor": 4
}
